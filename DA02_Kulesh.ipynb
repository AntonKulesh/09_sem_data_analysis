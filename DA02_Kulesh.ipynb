{
 "cells": [
  {
   "cell_type": "markdown",
   "metadata": {},
   "source": [
    "# Lab 02. Linear regression, Pandas\n",
    "\n",
    "*Лаба взята из курса по машинному обучению ФКН ВШЭ за 2016 год.*\n",
    "\n",
    "\n",
    "### Сроки сдачи лабы\n",
    "\n",
    "Дата выдачи: 21.09.2016\n",
    "\n",
    "Крайняя дата сдачи: 05.10.2016\n",
    "\n",
    "### О задании\n",
    "\n",
    "Практическое задание 1 посвящено изучению основных библиотек для анализа данных, а также линейных моделей и методов их обучения. Вы научитесь:\n",
    " * применять библиотеки NumPy и Pandas для осуществления желаемых преобразований;\n",
    " * подготавливать данные для обучения линейных моделей;\n",
    " * обучать линейную, Lasso и Ridge-регрессии при помощи модуля scikit-learn;\n",
    " * реализовывать обычный и стохастический градиентные спуски;\n",
    " * обучать линейную регрессию для произвольного функционала качества.\n",
    " \n",
    "\n",
    "\n",
    "### Материалы\n",
    "* [Learn Pandas](https://bitbucket.org/hrojas/learn-pandas)\n",
    "* [Data Exploration using Pandas](https://drive.google.com/file/d/0B8JWjGrFNNkHdzJzVHlfODJQbFk/view)\n"
   ]
  },
  {
   "cell_type": "markdown",
   "metadata": {},
   "source": [
    "## Библиотеки для анализа данных\n",
    "\n",
    "### NumPy\n",
    "\n",
    "Во всех заданиях данного раздела запрещено использовать циклы  и list comprehensions. Под вектором и матрицей в данных заданиях понимается одномерный и двумерный numpy.array соответственно."
   ]
  },
  {
   "cell_type": "code",
   "execution_count": 1,
   "metadata": {
    "collapsed": true
   },
   "outputs": [],
   "source": [
    "import time\n",
    "import numpy as np"
   ]
  },
  {
   "cell_type": "markdown",
   "metadata": {},
   "source": [
    "**1. (0.2 балла)** Реализуйте функцию, возвращающую максимальный элемент в векторе x среди элементов, перед которыми стоит нулевой. Для x = np.array([6, 2, 0, 3, 0, 0, 5, 7, 0]) ответом является 5. Если нулевых элементов нет, функция должна возвращать None.\n"
   ]
  },
  {
   "cell_type": "code",
   "execution_count": 2,
   "metadata": {
    "collapsed": false
   },
   "outputs": [
    {
     "name": "stdout",
     "output_type": "stream",
     "text": [
      "5\n"
     ]
    }
   ],
   "source": [
    "def max_element(arr):\n",
    "    pos_zero = (arr == 0) # Позиции нулей\n",
    "    pos_elem = np.concatenate(([False], pos_zero))[:-1] # Маска выделяющая элементы, перед которыми стоит 0\n",
    "    max_elem = arr[pos_elem].max()\n",
    "    return max_elem\n",
    "    \n",
    "arr = np.array([6, 2, 0, 3, 0, 0, 5, 7, 0])\n",
    "print(max_element(arr))"
   ]
  },
  {
   "cell_type": "markdown",
   "metadata": {},
   "source": [
    "**2. (0.2 балла)** Реализуйте функцию, принимающую на вход матрицу и некоторое число и возвращающую ближайший к числу элемент матрицы. Например: для X = np.arange(0,10).reshape((2, 5)) и v = 3.6 ответом будет 4."
   ]
  },
  {
   "cell_type": "code",
   "execution_count": 3,
   "metadata": {
    "collapsed": false
   },
   "outputs": [
    {
     "name": "stdout",
     "output_type": "stream",
     "text": [
      "7\n"
     ]
    }
   ],
   "source": [
    "def nearest_value(X, v):\n",
    "    X_flat = X.flatten() # Распрямляем матрицу\n",
    "    pos_closest = abs(X_flat - v).argmin() # Находим позицию ближайшего элемента к v\n",
    "    return X_flat[pos_closest]\n",
    "\n",
    "X = np.arange(0,10).reshape((2, 5))\n",
    "v = 7.1\n",
    "print(nearest_value(X, v))"
   ]
  },
  {
   "cell_type": "markdown",
   "metadata": {},
   "source": [
    "**3. (0.2 балла)** Реализуйте функцию scale(X), которая принимает на вход матрицу и масштабирует каждый ее столбец (вычитает выборочное среднее и делит на стандартное отклонение). Убедитесь, что в функции не будет происходить деления на ноль. Протестируйте на случайной матрице (для её генерации можно использовать, например, функцию [numpy.random.randint](http://docs.scipy.org/doc/numpy/reference/generated/numpy.random.randint.html))."
   ]
  },
  {
   "cell_type": "code",
   "execution_count": 4,
   "metadata": {
    "collapsed": false
   },
   "outputs": [
    {
     "data": {
      "text/plain": [
       "array([[ 1.1234064 , -0.24299023, -0.26568609,  0.80178981, -0.46639925],\n",
       "       [ 0.02277175,  0.84061484,  0.7627762 , -0.23144448,  0.02627601],\n",
       "       [-0.05313409,  1.00479743,  0.7199236 ,  1.21508353,  1.76706196],\n",
       "       [ 0.70592429, -1.78630654,  0.63421841, -1.67797249, -1.2875247 ],\n",
       "       [-1.79896836,  0.1838845 , -1.85123212, -0.10745637, -0.03941402]])"
      ]
     },
     "execution_count": 4,
     "metadata": {},
     "output_type": "execute_result"
    }
   ],
   "source": [
    "def scale(X):\n",
    "    mean = np.mean(X, axis=0)\n",
    "    std = np.std(X, axis=0)\n",
    "    assert 0.0 not in std # Проверяем чтобы не было нулевых стандартных отклонений\n",
    "    return (X - mean) / std\n",
    "\n",
    "X = np.random.randint(1, 100, size=(5,5))\n",
    "scale(X)"
   ]
  },
  {
   "cell_type": "markdown",
   "metadata": {},
   "source": [
    "**4. (0.2 балла)** Реализуйте функцию, которая для заданной матрицы находит:\n",
    " - определитель\n",
    " - след\n",
    " - наименьший и наибольший элементы\n",
    " - норму Фробениуса\n",
    " - собственные числа\n",
    " - обратную матрицу\n",
    "\n",
    "Для тестирования сгенерируйте матрицу с элементами из нормального распределения $\\mathcal{N}$(10,1)"
   ]
  },
  {
   "cell_type": "code",
   "execution_count": 5,
   "metadata": {
    "collapsed": false
   },
   "outputs": [
    {
     "name": "stdout",
     "output_type": "stream",
     "text": [
      "186.478587559\n",
      "\n",
      "49.8729200757\n",
      "\n",
      "8.26193812986\n",
      "\n",
      "12.2073625731\n",
      "\n",
      "51.2016640358\n",
      "\n",
      "[ 50.98527034+0.j          -0.14798158+1.6728554j   -0.14798158-1.6728554j\n",
      "  -0.40819356+1.06311123j  -0.40819356-1.06311123j]\n",
      "\n",
      "[[ -1.04309340e-01  -7.35963930e-04   6.40065344e-01  -6.81493195e-01\n",
      "    1.87591962e-01]\n",
      " [ -2.83272590e-01   9.72371568e-02   2.95129386e-01   6.71542242e-02\n",
      "   -1.42225161e-01]\n",
      " [  1.40038222e-01  -3.92520714e-01   2.12000437e-01  -1.53169547e-01\n",
      "    2.04767950e-01]\n",
      " [  4.82247267e-02   2.04380191e-01   1.31513800e+00  -1.11454919e+00\n",
      "   -4.18142673e-01]\n",
      " [  2.15376850e-01   1.16348120e-01  -2.57248481e+00   2.02098048e+00\n",
      "    1.94769380e-01]]\n"
     ]
    }
   ],
   "source": [
    "def get_stats(X):\n",
    "    det = np.linalg.det(X) # Определитель\n",
    "    tr = np.trace(X) # След\n",
    "    min_elem = np.min(X) # Минимальный элемент\n",
    "    max_elem = np.max(X) # Максимальный элемент\n",
    "    norm = np.linalg.norm(X, ord='fro') # Норма Фробениуса\n",
    "    eigenvalues = np.linalg.eigvals(X) # Собственные числа\n",
    "    inv = np.linalg.inv(X) # Обратная матрица\n",
    "    stats = [det, tr, min_elem, max_elem, norm, eigenvalues, inv]\n",
    "    return stats\n",
    "\n",
    "mu, sigma = 10, 1\n",
    "X = np.random.normal(mu, sigma, size=(5, 5))\n",
    "print(*get_stats(X), sep='\\n\\n')"
   ]
  },
  {
   "cell_type": "markdown",
   "metadata": {},
   "source": [
    "**5. (0.2 балла)** Повторите 100 раз следующий эксперимент: сгенерируйте две матрицы размера 10×10 из стандартного нормального распределения, перемножьте их (как матрицы) и найдите максимальный элемент. Какое среднее значение по экспериментам у максимальных элементов? 95-процентная квантиль?"
   ]
  },
  {
   "cell_type": "code",
   "execution_count": 6,
   "metadata": {
    "collapsed": false
   },
   "outputs": [
    {
     "name": "stdout",
     "output_type": "stream",
     "text": [
      "Cреднее значение по экспериментам у максимальных элементов: 8.362620\n",
      "95-процентная квантиль: 11.375448\n"
     ]
    }
   ],
   "source": [
    "max_elem = [] # Список максимальных элементов\n",
    "for exp_num in range(100):\n",
    "    A = np.random.normal(size=(10,10))\n",
    "    B = np.random.normal(size=(10,10))\n",
    "    C = np.dot(A, B)\n",
    "    max_elem.append(C.max())\n",
    "    \n",
    "print(\"Cреднее значение по экспериментам у максимальных элементов: %f\" % np.mean(max_elem))\n",
    "print(\"95-процентная квантиль: %f\" % np.percentile(max_elem, 95))"
   ]
  },
  {
   "cell_type": "markdown",
   "metadata": {},
   "source": [
    "### Pandas\n",
    "\n",
    "#### Ответьте на вопросы о данных по авиарейсам в США за январь-апрель 2008 года.\n",
    "\n",
    "[Данные](https://www.dropbox.com/s/dvfitn93obn0rql/2008.csv?dl=0) и их [описание](http://stat-computing.org/dataexpo/2009/the-data.html)\n",
    "\n",
    "При отсылке лабы сами данные отправлять не нужно."
   ]
  },
  {
   "cell_type": "code",
   "execution_count": 7,
   "metadata": {
    "collapsed": true
   },
   "outputs": [],
   "source": [
    "import pandas as pd\n",
    "%matplotlib inline"
   ]
  },
  {
   "cell_type": "code",
   "execution_count": 8,
   "metadata": {
    "collapsed": false
   },
   "outputs": [
    {
     "data": {
      "text/html": [
       "<div>\n",
       "<table border=\"1\" class=\"dataframe\">\n",
       "  <thead>\n",
       "    <tr style=\"text-align: right;\">\n",
       "      <th></th>\n",
       "      <th>Year</th>\n",
       "      <th>Month</th>\n",
       "      <th>DayofMonth</th>\n",
       "      <th>DayOfWeek</th>\n",
       "      <th>DepTime</th>\n",
       "      <th>CRSDepTime</th>\n",
       "      <th>ArrTime</th>\n",
       "      <th>CRSArrTime</th>\n",
       "      <th>UniqueCarrier</th>\n",
       "      <th>FlightNum</th>\n",
       "      <th>...</th>\n",
       "      <th>TaxiIn</th>\n",
       "      <th>TaxiOut</th>\n",
       "      <th>Cancelled</th>\n",
       "      <th>CancellationCode</th>\n",
       "      <th>Diverted</th>\n",
       "      <th>CarrierDelay</th>\n",
       "      <th>WeatherDelay</th>\n",
       "      <th>NASDelay</th>\n",
       "      <th>SecurityDelay</th>\n",
       "      <th>LateAircraftDelay</th>\n",
       "    </tr>\n",
       "  </thead>\n",
       "  <tbody>\n",
       "    <tr>\n",
       "      <th>0</th>\n",
       "      <td>2008</td>\n",
       "      <td>6</td>\n",
       "      <td>18</td>\n",
       "      <td>3</td>\n",
       "      <td>2111.0</td>\n",
       "      <td>2055</td>\n",
       "      <td>2308.0</td>\n",
       "      <td>2300</td>\n",
       "      <td>WN</td>\n",
       "      <td>242</td>\n",
       "      <td>...</td>\n",
       "      <td>3.0</td>\n",
       "      <td>8.0</td>\n",
       "      <td>0</td>\n",
       "      <td>NaN</td>\n",
       "      <td>0</td>\n",
       "      <td>NaN</td>\n",
       "      <td>NaN</td>\n",
       "      <td>NaN</td>\n",
       "      <td>NaN</td>\n",
       "      <td>NaN</td>\n",
       "    </tr>\n",
       "    <tr>\n",
       "      <th>1</th>\n",
       "      <td>2008</td>\n",
       "      <td>6</td>\n",
       "      <td>4</td>\n",
       "      <td>3</td>\n",
       "      <td>1426.0</td>\n",
       "      <td>1410</td>\n",
       "      <td>1730.0</td>\n",
       "      <td>1728</td>\n",
       "      <td>XE</td>\n",
       "      <td>2380</td>\n",
       "      <td>...</td>\n",
       "      <td>4.0</td>\n",
       "      <td>12.0</td>\n",
       "      <td>0</td>\n",
       "      <td>NaN</td>\n",
       "      <td>0</td>\n",
       "      <td>NaN</td>\n",
       "      <td>NaN</td>\n",
       "      <td>NaN</td>\n",
       "      <td>NaN</td>\n",
       "      <td>NaN</td>\n",
       "    </tr>\n",
       "    <tr>\n",
       "      <th>2</th>\n",
       "      <td>2008</td>\n",
       "      <td>8</td>\n",
       "      <td>3</td>\n",
       "      <td>7</td>\n",
       "      <td>1143.0</td>\n",
       "      <td>1145</td>\n",
       "      <td>1501.0</td>\n",
       "      <td>1520</td>\n",
       "      <td>WN</td>\n",
       "      <td>1769</td>\n",
       "      <td>...</td>\n",
       "      <td>4.0</td>\n",
       "      <td>9.0</td>\n",
       "      <td>0</td>\n",
       "      <td>NaN</td>\n",
       "      <td>0</td>\n",
       "      <td>NaN</td>\n",
       "      <td>NaN</td>\n",
       "      <td>NaN</td>\n",
       "      <td>NaN</td>\n",
       "      <td>NaN</td>\n",
       "    </tr>\n",
       "    <tr>\n",
       "      <th>3</th>\n",
       "      <td>2008</td>\n",
       "      <td>1</td>\n",
       "      <td>23</td>\n",
       "      <td>3</td>\n",
       "      <td>1141.0</td>\n",
       "      <td>1144</td>\n",
       "      <td>1323.0</td>\n",
       "      <td>1335</td>\n",
       "      <td>OO</td>\n",
       "      <td>3802</td>\n",
       "      <td>...</td>\n",
       "      <td>4.0</td>\n",
       "      <td>19.0</td>\n",
       "      <td>0</td>\n",
       "      <td>NaN</td>\n",
       "      <td>0</td>\n",
       "      <td>NaN</td>\n",
       "      <td>NaN</td>\n",
       "      <td>NaN</td>\n",
       "      <td>NaN</td>\n",
       "      <td>NaN</td>\n",
       "    </tr>\n",
       "    <tr>\n",
       "      <th>4</th>\n",
       "      <td>2008</td>\n",
       "      <td>5</td>\n",
       "      <td>4</td>\n",
       "      <td>7</td>\n",
       "      <td>815.0</td>\n",
       "      <td>820</td>\n",
       "      <td>1243.0</td>\n",
       "      <td>1300</td>\n",
       "      <td>WN</td>\n",
       "      <td>399</td>\n",
       "      <td>...</td>\n",
       "      <td>4.0</td>\n",
       "      <td>8.0</td>\n",
       "      <td>0</td>\n",
       "      <td>NaN</td>\n",
       "      <td>0</td>\n",
       "      <td>NaN</td>\n",
       "      <td>NaN</td>\n",
       "      <td>NaN</td>\n",
       "      <td>NaN</td>\n",
       "      <td>NaN</td>\n",
       "    </tr>\n",
       "  </tbody>\n",
       "</table>\n",
       "<p>5 rows × 29 columns</p>\n",
       "</div>"
      ],
      "text/plain": [
       "   Year  Month  DayofMonth  DayOfWeek  DepTime  CRSDepTime  ArrTime  \\\n",
       "0  2008      6          18          3   2111.0        2055   2308.0   \n",
       "1  2008      6           4          3   1426.0        1410   1730.0   \n",
       "2  2008      8           3          7   1143.0        1145   1501.0   \n",
       "3  2008      1          23          3   1141.0        1144   1323.0   \n",
       "4  2008      5           4          7    815.0         820   1243.0   \n",
       "\n",
       "   CRSArrTime UniqueCarrier  FlightNum        ...         TaxiIn  TaxiOut  \\\n",
       "0        2300            WN        242        ...            3.0      8.0   \n",
       "1        1728            XE       2380        ...            4.0     12.0   \n",
       "2        1520            WN       1769        ...            4.0      9.0   \n",
       "3        1335            OO       3802        ...            4.0     19.0   \n",
       "4        1300            WN        399        ...            4.0      8.0   \n",
       "\n",
       "   Cancelled  CancellationCode  Diverted  CarrierDelay WeatherDelay NASDelay  \\\n",
       "0          0               NaN         0           NaN          NaN      NaN   \n",
       "1          0               NaN         0           NaN          NaN      NaN   \n",
       "2          0               NaN         0           NaN          NaN      NaN   \n",
       "3          0               NaN         0           NaN          NaN      NaN   \n",
       "4          0               NaN         0           NaN          NaN      NaN   \n",
       "\n",
       "   SecurityDelay  LateAircraftDelay  \n",
       "0            NaN                NaN  \n",
       "1            NaN                NaN  \n",
       "2            NaN                NaN  \n",
       "3            NaN                NaN  \n",
       "4            NaN                NaN  \n",
       "\n",
       "[5 rows x 29 columns]"
      ]
     },
     "execution_count": 8,
     "metadata": {},
     "output_type": "execute_result"
    }
   ],
   "source": [
    "data = pd.read_csv('2008.csv')\n",
    "data.head()"
   ]
  },
  {
   "cell_type": "markdown",
   "metadata": {},
   "source": [
    "**6. (0.3 балла)** Какая из причин отмены рейса (`CancellationCode`) была самой частой? (расшифровки кодов можно найти в описании данных)"
   ]
  },
  {
   "cell_type": "code",
   "execution_count": 9,
   "metadata": {
    "collapsed": false
   },
   "outputs": [
    {
     "data": {
      "text/plain": [
       "count     1411\n",
       "unique       3\n",
       "top          A\n",
       "freq       563\n",
       "Name: CancellationCode, dtype: object"
      ]
     },
     "execution_count": 9,
     "metadata": {},
     "output_type": "execute_result"
    }
   ],
   "source": [
    "data.CancellationCode.describe()"
   ]
  },
  {
   "cell_type": "markdown",
   "metadata": {},
   "source": [
    "Самой частой причиной отмены рейса была A = carrier"
   ]
  },
  {
   "cell_type": "markdown",
   "metadata": {},
   "source": [
    "**7. (0.3 балла)** Найдите среднее, минимальное и максимальное расстояние, пройденное самолетом."
   ]
  },
  {
   "cell_type": "code",
   "execution_count": 10,
   "metadata": {
    "collapsed": false
   },
   "outputs": [
    {
     "name": "stdout",
     "output_type": "stream",
     "text": [
      "Среднее расстояние: 724.508257\n",
      "Минимальное расстояние: 31.000000\n",
      "Максимальное расстояние: 4962.000000\n"
     ]
    }
   ],
   "source": [
    "print(\"Среднее расстояние: %f\" % data['Distance'].mean())\n",
    "print(\"Минимальное расстояние: %f\" % data['Distance'].min())\n",
    "print(\"Максимальное расстояние: %f\" % data['Distance'].max())"
   ]
  },
  {
   "cell_type": "markdown",
   "metadata": {},
   "source": [
    "**8. (0.3 балла)** Не выглядит ли подозрительным минимальное пройденное расстояние? В какие дни и на каких рейсах оно было? Какое расстояние было пройдено этими же рейсами в другие дни?"
   ]
  },
  {
   "cell_type": "code",
   "execution_count": 11,
   "metadata": {
    "collapsed": false
   },
   "outputs": [
    {
     "data": {
      "text/html": [
       "<div>\n",
       "<table border=\"1\" class=\"dataframe\">\n",
       "  <thead>\n",
       "    <tr style=\"text-align: right;\">\n",
       "      <th></th>\n",
       "      <th>Year</th>\n",
       "      <th>Month</th>\n",
       "      <th>DayofMonth</th>\n",
       "      <th>DayOfWeek</th>\n",
       "      <th>DepTime</th>\n",
       "      <th>CRSDepTime</th>\n",
       "      <th>ArrTime</th>\n",
       "      <th>CRSArrTime</th>\n",
       "      <th>UniqueCarrier</th>\n",
       "      <th>FlightNum</th>\n",
       "      <th>...</th>\n",
       "      <th>TaxiIn</th>\n",
       "      <th>TaxiOut</th>\n",
       "      <th>Cancelled</th>\n",
       "      <th>CancellationCode</th>\n",
       "      <th>Diverted</th>\n",
       "      <th>CarrierDelay</th>\n",
       "      <th>WeatherDelay</th>\n",
       "      <th>NASDelay</th>\n",
       "      <th>SecurityDelay</th>\n",
       "      <th>LateAircraftDelay</th>\n",
       "    </tr>\n",
       "  </thead>\n",
       "  <tbody>\n",
       "    <tr>\n",
       "      <th>1116</th>\n",
       "      <td>2008</td>\n",
       "      <td>12</td>\n",
       "      <td>30</td>\n",
       "      <td>2</td>\n",
       "      <td>1123.0</td>\n",
       "      <td>1007</td>\n",
       "      <td>1148.0</td>\n",
       "      <td>1033</td>\n",
       "      <td>AS</td>\n",
       "      <td>65</td>\n",
       "      <td>...</td>\n",
       "      <td>6.0</td>\n",
       "      <td>6.0</td>\n",
       "      <td>0</td>\n",
       "      <td>NaN</td>\n",
       "      <td>0</td>\n",
       "      <td>0.0</td>\n",
       "      <td>75.0</td>\n",
       "      <td>0.0</td>\n",
       "      <td>0.0</td>\n",
       "      <td>0.0</td>\n",
       "    </tr>\n",
       "    <tr>\n",
       "      <th>6958</th>\n",
       "      <td>2008</td>\n",
       "      <td>12</td>\n",
       "      <td>26</td>\n",
       "      <td>5</td>\n",
       "      <td>NaN</td>\n",
       "      <td>1007</td>\n",
       "      <td>NaN</td>\n",
       "      <td>1033</td>\n",
       "      <td>AS</td>\n",
       "      <td>65</td>\n",
       "      <td>...</td>\n",
       "      <td>NaN</td>\n",
       "      <td>NaN</td>\n",
       "      <td>1</td>\n",
       "      <td>B</td>\n",
       "      <td>0</td>\n",
       "      <td>NaN</td>\n",
       "      <td>NaN</td>\n",
       "      <td>NaN</td>\n",
       "      <td>NaN</td>\n",
       "      <td>NaN</td>\n",
       "    </tr>\n",
       "    <tr>\n",
       "      <th>17349</th>\n",
       "      <td>2008</td>\n",
       "      <td>8</td>\n",
       "      <td>18</td>\n",
       "      <td>1</td>\n",
       "      <td>NaN</td>\n",
       "      <td>1737</td>\n",
       "      <td>NaN</td>\n",
       "      <td>1801</td>\n",
       "      <td>AS</td>\n",
       "      <td>64</td>\n",
       "      <td>...</td>\n",
       "      <td>NaN</td>\n",
       "      <td>NaN</td>\n",
       "      <td>1</td>\n",
       "      <td>B</td>\n",
       "      <td>0</td>\n",
       "      <td>NaN</td>\n",
       "      <td>NaN</td>\n",
       "      <td>NaN</td>\n",
       "      <td>NaN</td>\n",
       "      <td>NaN</td>\n",
       "    </tr>\n",
       "    <tr>\n",
       "      <th>27534</th>\n",
       "      <td>2008</td>\n",
       "      <td>3</td>\n",
       "      <td>11</td>\n",
       "      <td>2</td>\n",
       "      <td>1611.0</td>\n",
       "      <td>1537</td>\n",
       "      <td>1630.0</td>\n",
       "      <td>1605</td>\n",
       "      <td>AS</td>\n",
       "      <td>64</td>\n",
       "      <td>...</td>\n",
       "      <td>4.0</td>\n",
       "      <td>5.0</td>\n",
       "      <td>0</td>\n",
       "      <td>NaN</td>\n",
       "      <td>0</td>\n",
       "      <td>0.0</td>\n",
       "      <td>25.0</td>\n",
       "      <td>0.0</td>\n",
       "      <td>0.0</td>\n",
       "      <td>0.0</td>\n",
       "    </tr>\n",
       "    <tr>\n",
       "      <th>46082</th>\n",
       "      <td>2008</td>\n",
       "      <td>8</td>\n",
       "      <td>9</td>\n",
       "      <td>6</td>\n",
       "      <td>1103.0</td>\n",
       "      <td>1036</td>\n",
       "      <td>1139.0</td>\n",
       "      <td>1100</td>\n",
       "      <td>AS</td>\n",
       "      <td>65</td>\n",
       "      <td>...</td>\n",
       "      <td>4.0</td>\n",
       "      <td>24.0</td>\n",
       "      <td>0</td>\n",
       "      <td>NaN</td>\n",
       "      <td>0</td>\n",
       "      <td>0.0</td>\n",
       "      <td>0.0</td>\n",
       "      <td>12.0</td>\n",
       "      <td>0.0</td>\n",
       "      <td>27.0</td>\n",
       "    </tr>\n",
       "  </tbody>\n",
       "</table>\n",
       "<p>5 rows × 29 columns</p>\n",
       "</div>"
      ],
      "text/plain": [
       "       Year  Month  DayofMonth  DayOfWeek  DepTime  CRSDepTime  ArrTime  \\\n",
       "1116   2008     12          30          2   1123.0        1007   1148.0   \n",
       "6958   2008     12          26          5      NaN        1007      NaN   \n",
       "17349  2008      8          18          1      NaN        1737      NaN   \n",
       "27534  2008      3          11          2   1611.0        1537   1630.0   \n",
       "46082  2008      8           9          6   1103.0        1036   1139.0   \n",
       "\n",
       "       CRSArrTime UniqueCarrier  FlightNum        ...         TaxiIn  TaxiOut  \\\n",
       "1116         1033            AS         65        ...            6.0      6.0   \n",
       "6958         1033            AS         65        ...            NaN      NaN   \n",
       "17349        1801            AS         64        ...            NaN      NaN   \n",
       "27534        1605            AS         64        ...            4.0      5.0   \n",
       "46082        1100            AS         65        ...            4.0     24.0   \n",
       "\n",
       "       Cancelled  CancellationCode  Diverted  CarrierDelay WeatherDelay  \\\n",
       "1116           0               NaN         0           0.0         75.0   \n",
       "6958           1                 B         0           NaN          NaN   \n",
       "17349          1                 B         0           NaN          NaN   \n",
       "27534          0               NaN         0           0.0         25.0   \n",
       "46082          0               NaN         0           0.0          0.0   \n",
       "\n",
       "      NASDelay  SecurityDelay  LateAircraftDelay  \n",
       "1116       0.0            0.0                0.0  \n",
       "6958       NaN            NaN                NaN  \n",
       "17349      NaN            NaN                NaN  \n",
       "27534      0.0            0.0                0.0  \n",
       "46082     12.0            0.0               27.0  \n",
       "\n",
       "[5 rows x 29 columns]"
      ]
     },
     "execution_count": 11,
     "metadata": {},
     "output_type": "execute_result"
    }
   ],
   "source": [
    "# Рейсы, для которых зафиксировано минимальное расстояние\n",
    "\n",
    "min_dist = data[data['Distance'] == data['Distance'].min()]\n",
    "min_dist.head()"
   ]
  },
  {
   "cell_type": "code",
   "execution_count": 12,
   "metadata": {
    "collapsed": false
   },
   "outputs": [
    {
     "data": {
      "text/html": [
       "<div>\n",
       "<table border=\"1\" class=\"dataframe\">\n",
       "  <thead>\n",
       "    <tr style=\"text-align: right;\">\n",
       "      <th></th>\n",
       "      <th>DayofMonth</th>\n",
       "      <th>FlightNum</th>\n",
       "    </tr>\n",
       "  </thead>\n",
       "  <tbody>\n",
       "    <tr>\n",
       "      <th>1116</th>\n",
       "      <td>30</td>\n",
       "      <td>65</td>\n",
       "    </tr>\n",
       "    <tr>\n",
       "      <th>6958</th>\n",
       "      <td>26</td>\n",
       "      <td>65</td>\n",
       "    </tr>\n",
       "    <tr>\n",
       "      <th>17349</th>\n",
       "      <td>18</td>\n",
       "      <td>64</td>\n",
       "    </tr>\n",
       "    <tr>\n",
       "      <th>27534</th>\n",
       "      <td>11</td>\n",
       "      <td>64</td>\n",
       "    </tr>\n",
       "    <tr>\n",
       "      <th>46082</th>\n",
       "      <td>9</td>\n",
       "      <td>65</td>\n",
       "    </tr>\n",
       "    <tr>\n",
       "      <th>48112</th>\n",
       "      <td>28</td>\n",
       "      <td>64</td>\n",
       "    </tr>\n",
       "  </tbody>\n",
       "</table>\n",
       "</div>"
      ],
      "text/plain": [
       "       DayofMonth  FlightNum\n",
       "1116           30         65\n",
       "6958           26         65\n",
       "17349          18         64\n",
       "27534          11         64\n",
       "46082           9         65\n",
       "48112          28         64"
      ]
     },
     "execution_count": 12,
     "metadata": {},
     "output_type": "execute_result"
    }
   ],
   "source": [
    "# Дни и рейсы\n",
    "\n",
    "min_dist[['DayofMonth', 'FlightNum']]"
   ]
  },
  {
   "cell_type": "code",
   "execution_count": 13,
   "metadata": {
    "collapsed": false
   },
   "outputs": [
    {
     "data": {
      "text/plain": [
       "array([ 533,   31,  680, 2381,   82, 1005,  123,  359, 1747,  571,  372,\n",
       "       2454,  581,  883,  281,  682,  414,  386], dtype=int64)"
      ]
     },
     "execution_count": 13,
     "metadata": {},
     "output_type": "execute_result"
    }
   ],
   "source": [
    "# Расстояния, которые были пройдены на рейсах 64 и 65\n",
    "\n",
    "data[(data['FlightNum'] == 64) | (data['FlightNum'] == 65)].Distance.unique()"
   ]
  },
  {
   "cell_type": "markdown",
   "metadata": {},
   "source": [
    "**9. (0.3 балла)** Из какого аэропорта было произведено больше всего вылетов? В каком городе он находится?"
   ]
  },
  {
   "cell_type": "code",
   "execution_count": 14,
   "metadata": {
    "collapsed": false
   },
   "outputs": [
    {
     "data": {
      "text/plain": [
       "count     70000\n",
       "unique      297\n",
       "top         ATL\n",
       "freq       4134\n",
       "Name: Origin, dtype: object"
      ]
     },
     "execution_count": 14,
     "metadata": {},
     "output_type": "execute_result"
    }
   ],
   "source": [
    "data['Origin'].describe()"
   ]
  },
  {
   "cell_type": "code",
   "execution_count": 15,
   "metadata": {
    "collapsed": false
   },
   "outputs": [
    {
     "data": {
      "text/html": [
       "<div>\n",
       "<table border=\"1\" class=\"dataframe\">\n",
       "  <thead>\n",
       "    <tr style=\"text-align: right;\">\n",
       "      <th></th>\n",
       "      <th>airport</th>\n",
       "      <th>city</th>\n",
       "    </tr>\n",
       "  </thead>\n",
       "  <tbody>\n",
       "    <tr>\n",
       "      <th>880</th>\n",
       "      <td>William B Hartsfield-Atlanta Intl</td>\n",
       "      <td>Atlanta</td>\n",
       "    </tr>\n",
       "  </tbody>\n",
       "</table>\n",
       "</div>"
      ],
      "text/plain": [
       "                               airport     city\n",
       "880  William B Hartsfield-Atlanta Intl  Atlanta"
      ]
     },
     "execution_count": 15,
     "metadata": {},
     "output_type": "execute_result"
    }
   ],
   "source": [
    "# Больше всего вылетов произведено из аэропорта \"William B Hartsfield-Atlanta Intl\", который расположен городе Атланта\n",
    "\n",
    "airports = pd.read_csv('airports.csv')\n",
    "airports[airports['iata'] == \"ATL\"][['airport', 'city']]"
   ]
  },
  {
   "cell_type": "markdown",
   "metadata": {},
   "source": [
    "**10. (0.3 балла)** Найдите для каждого аэропорта среднее время полета (`AirTime`) по всем вылетевшим из него рейсам. Какой аэропорт имеет наибольшее значение этого показателя?"
   ]
  },
  {
   "cell_type": "code",
   "execution_count": 16,
   "metadata": {
    "collapsed": false
   },
   "outputs": [
    {
     "data": {
      "text/plain": [
       "Origin\n",
       "ABE     88.266667\n",
       "ABI     36.400000\n",
       "ABQ     93.454321\n",
       "ABY     35.714286\n",
       "ACK     50.800000\n",
       "ACT     28.521739\n",
       "ACV     55.606061\n",
       "ACY    113.500000\n",
       "ADK    142.000000\n",
       "ADQ     42.666667\n",
       "AEX     69.314286\n",
       "AGS     35.000000\n",
       "AKN     48.000000\n",
       "ALB    102.347826\n",
       "ALO     34.666667\n",
       "AMA     56.474359\n",
       "ANC    165.415094\n",
       "ASE     46.234043\n",
       "ATL     93.010084\n",
       "ATW     56.571429\n",
       "AUS    102.662921\n",
       "AVL     75.487805\n",
       "AVP     96.413793\n",
       "AZO     34.703704\n",
       "BDL    115.602837\n",
       "BET     56.583333\n",
       "BFL     57.040816\n",
       "BGM     67.888889\n",
       "BGR     84.176471\n",
       "BHM     79.177215\n",
       "          ...    \n",
       "SNA    107.233333\n",
       "SPI     56.454545\n",
       "SPS     30.000000\n",
       "SRQ    105.213333\n",
       "STL     99.070400\n",
       "STT    185.029412\n",
       "STX    153.000000\n",
       "SUN     47.230769\n",
       "SUX     45.750000\n",
       "SWF    139.636364\n",
       "SYR     89.701389\n",
       "TEX     97.500000\n",
       "TLH     57.121212\n",
       "TOL     50.733333\n",
       "TPA    116.484472\n",
       "TRI     49.200000\n",
       "TUL     82.910256\n",
       "TUS     90.564854\n",
       "TVC     50.636364\n",
       "TWF     39.708333\n",
       "TXK     45.333333\n",
       "TYR     30.000000\n",
       "TYS     70.660131\n",
       "VLD     48.181818\n",
       "VPS     69.885714\n",
       "WRG     18.000000\n",
       "XNA     85.945736\n",
       "YAK     35.900000\n",
       "YKM     79.000000\n",
       "YUM     47.470588\n",
       "Name: AirTime, dtype: float64"
      ]
     },
     "execution_count": 16,
     "metadata": {},
     "output_type": "execute_result"
    }
   ],
   "source": [
    "good_flight = data[data['Cancelled'] == 0] # Вылетевшие рейсы\n",
    "\n",
    "# Среднее время полета для каждого аэропорта по всем вылетевшим рейсам\n",
    "av_time = good_flight.groupby('Origin').mean()['AirTime'] \n",
    "av_time"
   ]
  },
  {
   "cell_type": "code",
   "execution_count": 17,
   "metadata": {
    "collapsed": false
   },
   "outputs": [
    {
     "data": {
      "text/plain": [
       "Origin\n",
       "SJU    205.2\n",
       "Name: AirTime, dtype: float64"
      ]
     },
     "execution_count": 17,
     "metadata": {},
     "output_type": "execute_result"
    }
   ],
   "source": [
    "# Наибольшее значение этого показателя имеет аэропорт EWR\n",
    "\n",
    "av_time.sort_values().dropna().tail(1)"
   ]
  },
  {
   "cell_type": "code",
   "execution_count": 18,
   "metadata": {
    "collapsed": false
   },
   "outputs": [
    {
     "data": {
      "text/html": [
       "<div>\n",
       "<table border=\"1\" class=\"dataframe\">\n",
       "  <thead>\n",
       "    <tr style=\"text-align: right;\">\n",
       "      <th></th>\n",
       "      <th>airport</th>\n",
       "      <th>city</th>\n",
       "    </tr>\n",
       "  </thead>\n",
       "  <tbody>\n",
       "    <tr>\n",
       "      <th>1436</th>\n",
       "      <td>Newark Intl</td>\n",
       "      <td>Newark</td>\n",
       "    </tr>\n",
       "  </tbody>\n",
       "</table>\n",
       "</div>"
      ],
      "text/plain": [
       "          airport    city\n",
       "1436  Newark Intl  Newark"
      ]
     },
     "execution_count": 18,
     "metadata": {},
     "output_type": "execute_result"
    }
   ],
   "source": [
    "airports[airports['iata'] == \"EWR\"][['airport', 'city']]"
   ]
  },
  {
   "cell_type": "markdown",
   "metadata": {},
   "source": [
    "**11. (0.5 балла)** Найдите аэропорт, у которого наибольшая доля задержанных (`DepDelay > 0`) рейсов. Исключите при этом из рассмотрения аэропорты, из которых было отправлено меньше 1000 рейсов (используйте функцию `filter` после `groupby`)."
   ]
  },
  {
   "cell_type": "code",
   "execution_count": 24,
   "metadata": {
    "collapsed": false
   },
   "outputs": [
    {
     "data": {
      "text/plain": [
       "Origin\n",
       "EWR    710\n",
       "Name: FlightNum, dtype: int64"
      ]
     },
     "execution_count": 24,
     "metadata": {},
     "output_type": "execute_result"
    }
   ],
   "source": [
    "good_data = data.groupby('Origin').filter(lambda x: x['FlightNum'].count() > 1000) # Исключим аэропорты, которые совершили менее 1000 рейсов\n",
    "all_flights = good_data.groupby('Origin').count().FlightNum # Аэропорты и количество рейсов, которые они совершили\n",
    "dep_data = good_data[(good_data.DepDelay > 0)].groupby('Origin').count().FlightNum # Рейсы с задержкой\n",
    "ratio = dep_data / all_flights # Доли задержаных рейсов по аэропортам\n",
    "max_dep = ratio.max() # Максимальная доля задержанных рейсов\n",
    "dep_data[ratio == max_dep]"
   ]
  },
  {
   "cell_type": "code",
   "execution_count": 25,
   "metadata": {
    "collapsed": false
   },
   "outputs": [
    {
     "data": {
      "text/html": [
       "<div>\n",
       "<table border=\"1\" class=\"dataframe\">\n",
       "  <thead>\n",
       "    <tr style=\"text-align: right;\">\n",
       "      <th></th>\n",
       "      <th>airport</th>\n",
       "      <th>city</th>\n",
       "    </tr>\n",
       "  </thead>\n",
       "  <tbody>\n",
       "    <tr>\n",
       "      <th>1436</th>\n",
       "      <td>Newark Intl</td>\n",
       "      <td>Newark</td>\n",
       "    </tr>\n",
       "  </tbody>\n",
       "</table>\n",
       "</div>"
      ],
      "text/plain": [
       "          airport    city\n",
       "1436  Newark Intl  Newark"
      ]
     },
     "execution_count": 25,
     "metadata": {},
     "output_type": "execute_result"
    }
   ],
   "source": [
    "# Аэропорт, у которого наибольшая доля задержек\n",
    "\n",
    "airports[airports['iata'] == \"EWR\"][['airport', 'city']]"
   ]
  },
  {
   "cell_type": "markdown",
   "metadata": {},
   "source": [
    "## Линейная регрессия\n",
    "\n",
    "В этой части мы разберемся с линейной регрессией, способами её обучения и измерением качества ее прогнозов. \n",
    "\n",
    "Будем рассматривать датасет из предыдущей части задания для предсказания времени задержки отправления рейса в минутах (DepDelay). Отметим, что под задержкой подразумевается не только опоздание рейса относительно планируемого времени вылета, но и отправление до планируемого времени.\n",
    "\n",
    "### Подготовка данных\n",
    "\n",
    "**12. (0.5 балла)** Считайте выборку из файла при помощи функции pd.read_csv и ответьте на следующие вопросы:\n",
    "   - Имеются ли в данных пропущенные значения?\n",
    "   - Сколько всего пропущенных элементов в таблице \"объект-признак\"?\n",
    "   - Сколько объектов имеют хотя бы один пропуск?\n",
    "   - Сколько признаков имеют хотя бы одно пропущенное значение?"
   ]
  },
  {
   "cell_type": "code",
   "execution_count": 26,
   "metadata": {
    "collapsed": false,
    "scrolled": true
   },
   "outputs": [
    {
     "data": {
      "text/plain": [
       "Year                 False\n",
       "Month                False\n",
       "DayofMonth           False\n",
       "DayOfWeek            False\n",
       "DepTime               True\n",
       "CRSDepTime           False\n",
       "ArrTime               True\n",
       "CRSArrTime           False\n",
       "UniqueCarrier        False\n",
       "FlightNum            False\n",
       "TailNum               True\n",
       "ActualElapsedTime     True\n",
       "CRSElapsedTime        True\n",
       "AirTime               True\n",
       "ArrDelay              True\n",
       "DepDelay              True\n",
       "Origin               False\n",
       "Dest                 False\n",
       "Distance             False\n",
       "TaxiIn                True\n",
       "TaxiOut               True\n",
       "Cancelled            False\n",
       "CancellationCode      True\n",
       "Diverted             False\n",
       "CarrierDelay          True\n",
       "WeatherDelay          True\n",
       "NASDelay              True\n",
       "SecurityDelay         True\n",
       "LateAircraftDelay     True\n",
       "dtype: bool"
      ]
     },
     "execution_count": 26,
     "metadata": {},
     "output_type": "execute_result"
    }
   ],
   "source": [
    "# Посмотрим в каких столбцах есть NaN\n",
    "\n",
    "pd.isnull(data).any()"
   ]
  },
  {
   "cell_type": "code",
   "execution_count": 27,
   "metadata": {
    "collapsed": false
   },
   "outputs": [
    {
     "name": "stdout",
     "output_type": "stream",
     "text": [
      "Всего пропущенных знаений: 355215\n"
     ]
    }
   ],
   "source": [
    "print(\"Всего пропущенных знаений: %d\" %(len(data) - data.count()).sum())"
   ]
  },
  {
   "cell_type": "code",
   "execution_count": 28,
   "metadata": {
    "collapsed": false
   },
   "outputs": [
    {
     "name": "stdout",
     "output_type": "stream",
     "text": [
      "70000 объектов имеют хотя бы один пропуск\n"
     ]
    }
   ],
   "source": [
    "print('%d объектов имеют хотя бы один пропуск' %pd.isnull(data).any(1).sum())"
   ]
  },
  {
   "cell_type": "code",
   "execution_count": 29,
   "metadata": {
    "collapsed": false
   },
   "outputs": [
    {
     "name": "stdout",
     "output_type": "stream",
     "text": [
      "16 признаков имеют хотя бы одно пропущенное значение\n"
     ]
    }
   ],
   "source": [
    "print('%d признаков имеют хотя бы одно пропущенное значение' %(pd.isnull(data).any().sum()))"
   ]
  },
  {
   "cell_type": "markdown",
   "metadata": {},
   "source": [
    "Как вы понимаете, также не имеет смысла рассматривать при решении поставленной задачи объекты с пропущенным значением целевой переменной. В связи с этим ответьте на следующие вопросы и выполните соответствующие действия:\n",
    "- Имеются ли пропущенные значения в целевой переменной?\n",
    "- Проанализируйте объекты с пропущенными значениями целевой переменной. Чем вызвано это явление? Что их объединяет? Можно ли в связи с этим, на ваш взгляд, исключить какие-то признаки из рассмотрения? Обоснуйте свою точку зрения.\n",
    "\n",
    "Исключите из выборки объекты **с пропущенным значением целевой переменной и со значением целевой переменной, равным 0**, а также при необходимости исключите признаки в соответствии с вашим ответом на последний вопрос из списка и выделите целевую переменную в отдельный вектор, исключив её из матрицы \"объект-признак\"."
   ]
  },
  {
   "cell_type": "code",
   "execution_count": 30,
   "metadata": {
    "collapsed": false
   },
   "outputs": [
    {
     "data": {
      "text/plain": [
       "True"
      ]
     },
     "execution_count": 30,
     "metadata": {},
     "output_type": "execute_result"
    }
   ],
   "source": [
    "# Наличие пропусков в целевой переменной\n",
    "\n",
    "data.DepDelay.isnull().any()"
   ]
  },
  {
   "cell_type": "code",
   "execution_count": 31,
   "metadata": {
    "collapsed": false
   },
   "outputs": [
    {
     "data": {
      "text/html": [
       "<div>\n",
       "<table border=\"1\" class=\"dataframe\">\n",
       "  <thead>\n",
       "    <tr style=\"text-align: right;\">\n",
       "      <th></th>\n",
       "      <th>Year</th>\n",
       "      <th>Month</th>\n",
       "      <th>DayofMonth</th>\n",
       "      <th>DayOfWeek</th>\n",
       "      <th>DepTime</th>\n",
       "      <th>CRSDepTime</th>\n",
       "      <th>ArrTime</th>\n",
       "      <th>CRSArrTime</th>\n",
       "      <th>UniqueCarrier</th>\n",
       "      <th>FlightNum</th>\n",
       "      <th>...</th>\n",
       "      <th>TaxiIn</th>\n",
       "      <th>TaxiOut</th>\n",
       "      <th>Cancelled</th>\n",
       "      <th>CancellationCode</th>\n",
       "      <th>Diverted</th>\n",
       "      <th>CarrierDelay</th>\n",
       "      <th>WeatherDelay</th>\n",
       "      <th>NASDelay</th>\n",
       "      <th>SecurityDelay</th>\n",
       "      <th>LateAircraftDelay</th>\n",
       "    </tr>\n",
       "  </thead>\n",
       "  <tbody>\n",
       "    <tr>\n",
       "      <th>11</th>\n",
       "      <td>2008</td>\n",
       "      <td>3</td>\n",
       "      <td>6</td>\n",
       "      <td>4</td>\n",
       "      <td>NaN</td>\n",
       "      <td>1605</td>\n",
       "      <td>NaN</td>\n",
       "      <td>1940</td>\n",
       "      <td>AA</td>\n",
       "      <td>484</td>\n",
       "      <td>...</td>\n",
       "      <td>NaN</td>\n",
       "      <td>NaN</td>\n",
       "      <td>1</td>\n",
       "      <td>B</td>\n",
       "      <td>0</td>\n",
       "      <td>NaN</td>\n",
       "      <td>NaN</td>\n",
       "      <td>NaN</td>\n",
       "      <td>NaN</td>\n",
       "      <td>NaN</td>\n",
       "    </tr>\n",
       "    <tr>\n",
       "      <th>78</th>\n",
       "      <td>2008</td>\n",
       "      <td>1</td>\n",
       "      <td>19</td>\n",
       "      <td>6</td>\n",
       "      <td>NaN</td>\n",
       "      <td>750</td>\n",
       "      <td>NaN</td>\n",
       "      <td>930</td>\n",
       "      <td>EV</td>\n",
       "      <td>4772</td>\n",
       "      <td>...</td>\n",
       "      <td>NaN</td>\n",
       "      <td>NaN</td>\n",
       "      <td>1</td>\n",
       "      <td>B</td>\n",
       "      <td>0</td>\n",
       "      <td>NaN</td>\n",
       "      <td>NaN</td>\n",
       "      <td>NaN</td>\n",
       "      <td>NaN</td>\n",
       "      <td>NaN</td>\n",
       "    </tr>\n",
       "    <tr>\n",
       "      <th>103</th>\n",
       "      <td>2008</td>\n",
       "      <td>7</td>\n",
       "      <td>24</td>\n",
       "      <td>4</td>\n",
       "      <td>NaN</td>\n",
       "      <td>1230</td>\n",
       "      <td>NaN</td>\n",
       "      <td>1355</td>\n",
       "      <td>FL</td>\n",
       "      <td>816</td>\n",
       "      <td>...</td>\n",
       "      <td>NaN</td>\n",
       "      <td>NaN</td>\n",
       "      <td>1</td>\n",
       "      <td>A</td>\n",
       "      <td>0</td>\n",
       "      <td>NaN</td>\n",
       "      <td>NaN</td>\n",
       "      <td>NaN</td>\n",
       "      <td>NaN</td>\n",
       "      <td>NaN</td>\n",
       "    </tr>\n",
       "    <tr>\n",
       "      <th>112</th>\n",
       "      <td>2008</td>\n",
       "      <td>2</td>\n",
       "      <td>4</td>\n",
       "      <td>1</td>\n",
       "      <td>NaN</td>\n",
       "      <td>620</td>\n",
       "      <td>NaN</td>\n",
       "      <td>758</td>\n",
       "      <td>NW</td>\n",
       "      <td>1281</td>\n",
       "      <td>...</td>\n",
       "      <td>NaN</td>\n",
       "      <td>NaN</td>\n",
       "      <td>1</td>\n",
       "      <td>B</td>\n",
       "      <td>0</td>\n",
       "      <td>NaN</td>\n",
       "      <td>NaN</td>\n",
       "      <td>NaN</td>\n",
       "      <td>NaN</td>\n",
       "      <td>NaN</td>\n",
       "    </tr>\n",
       "    <tr>\n",
       "      <th>128</th>\n",
       "      <td>2008</td>\n",
       "      <td>1</td>\n",
       "      <td>21</td>\n",
       "      <td>1</td>\n",
       "      <td>NaN</td>\n",
       "      <td>1838</td>\n",
       "      <td>NaN</td>\n",
       "      <td>2005</td>\n",
       "      <td>UA</td>\n",
       "      <td>1251</td>\n",
       "      <td>...</td>\n",
       "      <td>NaN</td>\n",
       "      <td>NaN</td>\n",
       "      <td>1</td>\n",
       "      <td>A</td>\n",
       "      <td>0</td>\n",
       "      <td>NaN</td>\n",
       "      <td>NaN</td>\n",
       "      <td>NaN</td>\n",
       "      <td>NaN</td>\n",
       "      <td>NaN</td>\n",
       "    </tr>\n",
       "    <tr>\n",
       "      <th>194</th>\n",
       "      <td>2008</td>\n",
       "      <td>1</td>\n",
       "      <td>28</td>\n",
       "      <td>1</td>\n",
       "      <td>NaN</td>\n",
       "      <td>1640</td>\n",
       "      <td>NaN</td>\n",
       "      <td>1719</td>\n",
       "      <td>UA</td>\n",
       "      <td>753</td>\n",
       "      <td>...</td>\n",
       "      <td>NaN</td>\n",
       "      <td>NaN</td>\n",
       "      <td>1</td>\n",
       "      <td>C</td>\n",
       "      <td>0</td>\n",
       "      <td>NaN</td>\n",
       "      <td>NaN</td>\n",
       "      <td>NaN</td>\n",
       "      <td>NaN</td>\n",
       "      <td>NaN</td>\n",
       "    </tr>\n",
       "    <tr>\n",
       "      <th>204</th>\n",
       "      <td>2008</td>\n",
       "      <td>6</td>\n",
       "      <td>13</td>\n",
       "      <td>5</td>\n",
       "      <td>NaN</td>\n",
       "      <td>1229</td>\n",
       "      <td>NaN</td>\n",
       "      <td>1421</td>\n",
       "      <td>OH</td>\n",
       "      <td>5765</td>\n",
       "      <td>...</td>\n",
       "      <td>NaN</td>\n",
       "      <td>NaN</td>\n",
       "      <td>1</td>\n",
       "      <td>A</td>\n",
       "      <td>0</td>\n",
       "      <td>NaN</td>\n",
       "      <td>NaN</td>\n",
       "      <td>NaN</td>\n",
       "      <td>NaN</td>\n",
       "      <td>NaN</td>\n",
       "    </tr>\n",
       "    <tr>\n",
       "      <th>236</th>\n",
       "      <td>2008</td>\n",
       "      <td>7</td>\n",
       "      <td>19</td>\n",
       "      <td>6</td>\n",
       "      <td>NaN</td>\n",
       "      <td>544</td>\n",
       "      <td>NaN</td>\n",
       "      <td>917</td>\n",
       "      <td>OO</td>\n",
       "      <td>6151</td>\n",
       "      <td>...</td>\n",
       "      <td>NaN</td>\n",
       "      <td>NaN</td>\n",
       "      <td>1</td>\n",
       "      <td>A</td>\n",
       "      <td>0</td>\n",
       "      <td>NaN</td>\n",
       "      <td>NaN</td>\n",
       "      <td>NaN</td>\n",
       "      <td>NaN</td>\n",
       "      <td>NaN</td>\n",
       "    </tr>\n",
       "    <tr>\n",
       "      <th>257</th>\n",
       "      <td>2008</td>\n",
       "      <td>4</td>\n",
       "      <td>19</td>\n",
       "      <td>6</td>\n",
       "      <td>NaN</td>\n",
       "      <td>1345</td>\n",
       "      <td>NaN</td>\n",
       "      <td>1435</td>\n",
       "      <td>AA</td>\n",
       "      <td>1853</td>\n",
       "      <td>...</td>\n",
       "      <td>NaN</td>\n",
       "      <td>NaN</td>\n",
       "      <td>1</td>\n",
       "      <td>A</td>\n",
       "      <td>0</td>\n",
       "      <td>NaN</td>\n",
       "      <td>NaN</td>\n",
       "      <td>NaN</td>\n",
       "      <td>NaN</td>\n",
       "      <td>NaN</td>\n",
       "    </tr>\n",
       "    <tr>\n",
       "      <th>267</th>\n",
       "      <td>2008</td>\n",
       "      <td>9</td>\n",
       "      <td>23</td>\n",
       "      <td>2</td>\n",
       "      <td>NaN</td>\n",
       "      <td>1400</td>\n",
       "      <td>NaN</td>\n",
       "      <td>1515</td>\n",
       "      <td>WN</td>\n",
       "      <td>2049</td>\n",
       "      <td>...</td>\n",
       "      <td>NaN</td>\n",
       "      <td>NaN</td>\n",
       "      <td>1</td>\n",
       "      <td>A</td>\n",
       "      <td>0</td>\n",
       "      <td>NaN</td>\n",
       "      <td>NaN</td>\n",
       "      <td>NaN</td>\n",
       "      <td>NaN</td>\n",
       "      <td>NaN</td>\n",
       "    </tr>\n",
       "  </tbody>\n",
       "</table>\n",
       "<p>10 rows × 29 columns</p>\n",
       "</div>"
      ],
      "text/plain": [
       "     Year  Month  DayofMonth  DayOfWeek  DepTime  CRSDepTime  ArrTime  \\\n",
       "11   2008      3           6          4      NaN        1605      NaN   \n",
       "78   2008      1          19          6      NaN         750      NaN   \n",
       "103  2008      7          24          4      NaN        1230      NaN   \n",
       "112  2008      2           4          1      NaN         620      NaN   \n",
       "128  2008      1          21          1      NaN        1838      NaN   \n",
       "194  2008      1          28          1      NaN        1640      NaN   \n",
       "204  2008      6          13          5      NaN        1229      NaN   \n",
       "236  2008      7          19          6      NaN         544      NaN   \n",
       "257  2008      4          19          6      NaN        1345      NaN   \n",
       "267  2008      9          23          2      NaN        1400      NaN   \n",
       "\n",
       "     CRSArrTime UniqueCarrier  FlightNum        ...         TaxiIn  TaxiOut  \\\n",
       "11         1940            AA        484        ...            NaN      NaN   \n",
       "78          930            EV       4772        ...            NaN      NaN   \n",
       "103        1355            FL        816        ...            NaN      NaN   \n",
       "112         758            NW       1281        ...            NaN      NaN   \n",
       "128        2005            UA       1251        ...            NaN      NaN   \n",
       "194        1719            UA        753        ...            NaN      NaN   \n",
       "204        1421            OH       5765        ...            NaN      NaN   \n",
       "236         917            OO       6151        ...            NaN      NaN   \n",
       "257        1435            AA       1853        ...            NaN      NaN   \n",
       "267        1515            WN       2049        ...            NaN      NaN   \n",
       "\n",
       "     Cancelled  CancellationCode  Diverted  CarrierDelay WeatherDelay  \\\n",
       "11           1                 B         0           NaN          NaN   \n",
       "78           1                 B         0           NaN          NaN   \n",
       "103          1                 A         0           NaN          NaN   \n",
       "112          1                 B         0           NaN          NaN   \n",
       "128          1                 A         0           NaN          NaN   \n",
       "194          1                 C         0           NaN          NaN   \n",
       "204          1                 A         0           NaN          NaN   \n",
       "236          1                 A         0           NaN          NaN   \n",
       "257          1                 A         0           NaN          NaN   \n",
       "267          1                 A         0           NaN          NaN   \n",
       "\n",
       "    NASDelay  SecurityDelay  LateAircraftDelay  \n",
       "11       NaN            NaN                NaN  \n",
       "78       NaN            NaN                NaN  \n",
       "103      NaN            NaN                NaN  \n",
       "112      NaN            NaN                NaN  \n",
       "128      NaN            NaN                NaN  \n",
       "194      NaN            NaN                NaN  \n",
       "204      NaN            NaN                NaN  \n",
       "236      NaN            NaN                NaN  \n",
       "257      NaN            NaN                NaN  \n",
       "267      NaN            NaN                NaN  \n",
       "\n",
       "[10 rows x 29 columns]"
      ]
     },
     "execution_count": 31,
     "metadata": {},
     "output_type": "execute_result"
    }
   ],
   "source": [
    "data[data.DepDelay.isnull()].head(10)"
   ]
  },
  {
   "cell_type": "markdown",
   "metadata": {},
   "source": [
    "Отметим, что все рейсы, которые отменялись (Cancelled=1) в поле DepDelay имеют пропущенные значения, поэтому это поле можно удалить."
   ]
  },
  {
   "cell_type": "code",
   "execution_count": 95,
   "metadata": {
    "collapsed": false
   },
   "outputs": [
    {
     "data": {
      "text/plain": [
       "array([1], dtype=int64)"
      ]
     },
     "execution_count": 95,
     "metadata": {},
     "output_type": "execute_result"
    }
   ],
   "source": [
    "data[data.DepDelay.isnull()].Cancelled.unique()"
   ]
  },
  {
   "cell_type": "markdown",
   "metadata": {},
   "source": [
    "Также можно удалить поля, у которых больше половины значений пропущены"
   ]
  },
  {
   "cell_type": "code",
   "execution_count": 32,
   "metadata": {
    "collapsed": false
   },
   "outputs": [
    {
     "data": {
      "text/plain": [
       "Year                  True\n",
       "Month                 True\n",
       "DayofMonth            True\n",
       "DayOfWeek             True\n",
       "DepTime               True\n",
       "CRSDepTime            True\n",
       "ArrTime               True\n",
       "CRSArrTime            True\n",
       "UniqueCarrier         True\n",
       "FlightNum             True\n",
       "TailNum               True\n",
       "ActualElapsedTime     True\n",
       "CRSElapsedTime        True\n",
       "AirTime               True\n",
       "ArrDelay              True\n",
       "DepDelay              True\n",
       "Origin                True\n",
       "Dest                  True\n",
       "Distance              True\n",
       "TaxiIn                True\n",
       "TaxiOut               True\n",
       "Cancelled             True\n",
       "CancellationCode     False\n",
       "Diverted              True\n",
       "CarrierDelay         False\n",
       "WeatherDelay         False\n",
       "NASDelay             False\n",
       "SecurityDelay        False\n",
       "LateAircraftDelay    False\n",
       "dtype: bool"
      ]
     },
     "execution_count": 32,
     "metadata": {},
     "output_type": "execute_result"
    }
   ],
   "source": [
    "data.count() > 35000"
   ]
  },
  {
   "cell_type": "code",
   "execution_count": 33,
   "metadata": {
    "collapsed": false
   },
   "outputs": [
    {
     "data": {
      "text/html": [
       "<div>\n",
       "<table border=\"1\" class=\"dataframe\">\n",
       "  <thead>\n",
       "    <tr style=\"text-align: right;\">\n",
       "      <th></th>\n",
       "      <th>Year</th>\n",
       "      <th>Month</th>\n",
       "      <th>DayofMonth</th>\n",
       "      <th>DayOfWeek</th>\n",
       "      <th>DepTime</th>\n",
       "      <th>CRSDepTime</th>\n",
       "      <th>ArrTime</th>\n",
       "      <th>CRSArrTime</th>\n",
       "      <th>UniqueCarrier</th>\n",
       "      <th>FlightNum</th>\n",
       "      <th>...</th>\n",
       "      <th>CRSElapsedTime</th>\n",
       "      <th>AirTime</th>\n",
       "      <th>ArrDelay</th>\n",
       "      <th>DepDelay</th>\n",
       "      <th>Origin</th>\n",
       "      <th>Dest</th>\n",
       "      <th>Distance</th>\n",
       "      <th>TaxiIn</th>\n",
       "      <th>TaxiOut</th>\n",
       "      <th>Diverted</th>\n",
       "    </tr>\n",
       "  </thead>\n",
       "  <tbody>\n",
       "    <tr>\n",
       "      <th>0</th>\n",
       "      <td>2008</td>\n",
       "      <td>6</td>\n",
       "      <td>18</td>\n",
       "      <td>3</td>\n",
       "      <td>2111.0</td>\n",
       "      <td>2055</td>\n",
       "      <td>2308.0</td>\n",
       "      <td>2300</td>\n",
       "      <td>WN</td>\n",
       "      <td>242</td>\n",
       "      <td>...</td>\n",
       "      <td>65.0</td>\n",
       "      <td>46.0</td>\n",
       "      <td>8.0</td>\n",
       "      <td>16.0</td>\n",
       "      <td>MDW</td>\n",
       "      <td>CLE</td>\n",
       "      <td>307</td>\n",
       "      <td>3.0</td>\n",
       "      <td>8.0</td>\n",
       "      <td>0</td>\n",
       "    </tr>\n",
       "    <tr>\n",
       "      <th>1</th>\n",
       "      <td>2008</td>\n",
       "      <td>6</td>\n",
       "      <td>4</td>\n",
       "      <td>3</td>\n",
       "      <td>1426.0</td>\n",
       "      <td>1410</td>\n",
       "      <td>1730.0</td>\n",
       "      <td>1728</td>\n",
       "      <td>XE</td>\n",
       "      <td>2380</td>\n",
       "      <td>...</td>\n",
       "      <td>138.0</td>\n",
       "      <td>108.0</td>\n",
       "      <td>2.0</td>\n",
       "      <td>16.0</td>\n",
       "      <td>IAH</td>\n",
       "      <td>AVL</td>\n",
       "      <td>834</td>\n",
       "      <td>4.0</td>\n",
       "      <td>12.0</td>\n",
       "      <td>0</td>\n",
       "    </tr>\n",
       "    <tr>\n",
       "      <th>2</th>\n",
       "      <td>2008</td>\n",
       "      <td>8</td>\n",
       "      <td>3</td>\n",
       "      <td>7</td>\n",
       "      <td>1143.0</td>\n",
       "      <td>1145</td>\n",
       "      <td>1501.0</td>\n",
       "      <td>1520</td>\n",
       "      <td>WN</td>\n",
       "      <td>1769</td>\n",
       "      <td>...</td>\n",
       "      <td>155.0</td>\n",
       "      <td>125.0</td>\n",
       "      <td>-19.0</td>\n",
       "      <td>-2.0</td>\n",
       "      <td>MDW</td>\n",
       "      <td>TPA</td>\n",
       "      <td>997</td>\n",
       "      <td>4.0</td>\n",
       "      <td>9.0</td>\n",
       "      <td>0</td>\n",
       "    </tr>\n",
       "    <tr>\n",
       "      <th>3</th>\n",
       "      <td>2008</td>\n",
       "      <td>1</td>\n",
       "      <td>23</td>\n",
       "      <td>3</td>\n",
       "      <td>1141.0</td>\n",
       "      <td>1144</td>\n",
       "      <td>1323.0</td>\n",
       "      <td>1335</td>\n",
       "      <td>OO</td>\n",
       "      <td>3802</td>\n",
       "      <td>...</td>\n",
       "      <td>111.0</td>\n",
       "      <td>79.0</td>\n",
       "      <td>-12.0</td>\n",
       "      <td>-3.0</td>\n",
       "      <td>SLC</td>\n",
       "      <td>FCA</td>\n",
       "      <td>532</td>\n",
       "      <td>4.0</td>\n",
       "      <td>19.0</td>\n",
       "      <td>0</td>\n",
       "    </tr>\n",
       "    <tr>\n",
       "      <th>4</th>\n",
       "      <td>2008</td>\n",
       "      <td>5</td>\n",
       "      <td>4</td>\n",
       "      <td>7</td>\n",
       "      <td>815.0</td>\n",
       "      <td>820</td>\n",
       "      <td>1243.0</td>\n",
       "      <td>1300</td>\n",
       "      <td>WN</td>\n",
       "      <td>399</td>\n",
       "      <td>...</td>\n",
       "      <td>160.0</td>\n",
       "      <td>136.0</td>\n",
       "      <td>-17.0</td>\n",
       "      <td>-5.0</td>\n",
       "      <td>LAS</td>\n",
       "      <td>AUS</td>\n",
       "      <td>1090</td>\n",
       "      <td>4.0</td>\n",
       "      <td>8.0</td>\n",
       "      <td>0</td>\n",
       "    </tr>\n",
       "  </tbody>\n",
       "</table>\n",
       "<p>5 rows × 22 columns</p>\n",
       "</div>"
      ],
      "text/plain": [
       "   Year  Month  DayofMonth  DayOfWeek  DepTime  CRSDepTime  ArrTime  \\\n",
       "0  2008      6          18          3   2111.0        2055   2308.0   \n",
       "1  2008      6           4          3   1426.0        1410   1730.0   \n",
       "2  2008      8           3          7   1143.0        1145   1501.0   \n",
       "3  2008      1          23          3   1141.0        1144   1323.0   \n",
       "4  2008      5           4          7    815.0         820   1243.0   \n",
       "\n",
       "   CRSArrTime UniqueCarrier  FlightNum    ...    CRSElapsedTime  AirTime  \\\n",
       "0        2300            WN        242    ...              65.0     46.0   \n",
       "1        1728            XE       2380    ...             138.0    108.0   \n",
       "2        1520            WN       1769    ...             155.0    125.0   \n",
       "3        1335            OO       3802    ...             111.0     79.0   \n",
       "4        1300            WN        399    ...             160.0    136.0   \n",
       "\n",
       "   ArrDelay  DepDelay  Origin  Dest Distance TaxiIn  TaxiOut  Diverted  \n",
       "0       8.0      16.0     MDW   CLE      307    3.0      8.0         0  \n",
       "1       2.0      16.0     IAH   AVL      834    4.0     12.0         0  \n",
       "2     -19.0      -2.0     MDW   TPA      997    4.0      9.0         0  \n",
       "3     -12.0      -3.0     SLC   FCA      532    4.0     19.0         0  \n",
       "4     -17.0      -5.0     LAS   AUS     1090    4.0      8.0         0  \n",
       "\n",
       "[5 rows x 22 columns]"
      ]
     },
     "execution_count": 33,
     "metadata": {},
     "output_type": "execute_result"
    }
   ],
   "source": [
    "drop_col = ['Cancelled', 'CancellationCode', 'WeatherDelay', 'NASDelay', 'SecurityDelay', 'LateAircraftDelay', 'CarrierDelay']\n",
    "\n",
    "data = data.drop(drop_col, 1)\n",
    "data.head()"
   ]
  },
  {
   "cell_type": "markdown",
   "metadata": {},
   "source": [
    "Удалим объекты, у которых значение целевой переменной NaN или 0"
   ]
  },
  {
   "cell_type": "code",
   "execution_count": 34,
   "metadata": {
    "collapsed": false
   },
   "outputs": [
    {
     "data": {
      "text/plain": [
       "63404"
      ]
     },
     "execution_count": 34,
     "metadata": {},
     "output_type": "execute_result"
    }
   ],
   "source": [
    "len(data[(~data.DepDelay.isnull()) & (data.DepDelay != 0.0)])"
   ]
  },
  {
   "cell_type": "markdown",
   "metadata": {},
   "source": [
    "Преобразуем данные: целевую переменную выносим из фрейма"
   ]
  },
  {
   "cell_type": "code",
   "execution_count": 35,
   "metadata": {
    "collapsed": false
   },
   "outputs": [
    {
     "data": {
      "text/html": [
       "<div>\n",
       "<table border=\"1\" class=\"dataframe\">\n",
       "  <thead>\n",
       "    <tr style=\"text-align: right;\">\n",
       "      <th></th>\n",
       "      <th>Year</th>\n",
       "      <th>Month</th>\n",
       "      <th>DayofMonth</th>\n",
       "      <th>DayOfWeek</th>\n",
       "      <th>DepTime</th>\n",
       "      <th>CRSDepTime</th>\n",
       "      <th>ArrTime</th>\n",
       "      <th>CRSArrTime</th>\n",
       "      <th>UniqueCarrier</th>\n",
       "      <th>FlightNum</th>\n",
       "      <th>...</th>\n",
       "      <th>ActualElapsedTime</th>\n",
       "      <th>CRSElapsedTime</th>\n",
       "      <th>AirTime</th>\n",
       "      <th>ArrDelay</th>\n",
       "      <th>Origin</th>\n",
       "      <th>Dest</th>\n",
       "      <th>Distance</th>\n",
       "      <th>TaxiIn</th>\n",
       "      <th>TaxiOut</th>\n",
       "      <th>Diverted</th>\n",
       "    </tr>\n",
       "  </thead>\n",
       "  <tbody>\n",
       "    <tr>\n",
       "      <th>0</th>\n",
       "      <td>2008</td>\n",
       "      <td>6</td>\n",
       "      <td>18</td>\n",
       "      <td>3</td>\n",
       "      <td>2111.0</td>\n",
       "      <td>2055</td>\n",
       "      <td>2308.0</td>\n",
       "      <td>2300</td>\n",
       "      <td>WN</td>\n",
       "      <td>242</td>\n",
       "      <td>...</td>\n",
       "      <td>57.0</td>\n",
       "      <td>65.0</td>\n",
       "      <td>46.0</td>\n",
       "      <td>8.0</td>\n",
       "      <td>MDW</td>\n",
       "      <td>CLE</td>\n",
       "      <td>307</td>\n",
       "      <td>3.0</td>\n",
       "      <td>8.0</td>\n",
       "      <td>0</td>\n",
       "    </tr>\n",
       "    <tr>\n",
       "      <th>1</th>\n",
       "      <td>2008</td>\n",
       "      <td>6</td>\n",
       "      <td>4</td>\n",
       "      <td>3</td>\n",
       "      <td>1426.0</td>\n",
       "      <td>1410</td>\n",
       "      <td>1730.0</td>\n",
       "      <td>1728</td>\n",
       "      <td>XE</td>\n",
       "      <td>2380</td>\n",
       "      <td>...</td>\n",
       "      <td>124.0</td>\n",
       "      <td>138.0</td>\n",
       "      <td>108.0</td>\n",
       "      <td>2.0</td>\n",
       "      <td>IAH</td>\n",
       "      <td>AVL</td>\n",
       "      <td>834</td>\n",
       "      <td>4.0</td>\n",
       "      <td>12.0</td>\n",
       "      <td>0</td>\n",
       "    </tr>\n",
       "    <tr>\n",
       "      <th>2</th>\n",
       "      <td>2008</td>\n",
       "      <td>8</td>\n",
       "      <td>3</td>\n",
       "      <td>7</td>\n",
       "      <td>1143.0</td>\n",
       "      <td>1145</td>\n",
       "      <td>1501.0</td>\n",
       "      <td>1520</td>\n",
       "      <td>WN</td>\n",
       "      <td>1769</td>\n",
       "      <td>...</td>\n",
       "      <td>138.0</td>\n",
       "      <td>155.0</td>\n",
       "      <td>125.0</td>\n",
       "      <td>-19.0</td>\n",
       "      <td>MDW</td>\n",
       "      <td>TPA</td>\n",
       "      <td>997</td>\n",
       "      <td>4.0</td>\n",
       "      <td>9.0</td>\n",
       "      <td>0</td>\n",
       "    </tr>\n",
       "    <tr>\n",
       "      <th>3</th>\n",
       "      <td>2008</td>\n",
       "      <td>1</td>\n",
       "      <td>23</td>\n",
       "      <td>3</td>\n",
       "      <td>1141.0</td>\n",
       "      <td>1144</td>\n",
       "      <td>1323.0</td>\n",
       "      <td>1335</td>\n",
       "      <td>OO</td>\n",
       "      <td>3802</td>\n",
       "      <td>...</td>\n",
       "      <td>102.0</td>\n",
       "      <td>111.0</td>\n",
       "      <td>79.0</td>\n",
       "      <td>-12.0</td>\n",
       "      <td>SLC</td>\n",
       "      <td>FCA</td>\n",
       "      <td>532</td>\n",
       "      <td>4.0</td>\n",
       "      <td>19.0</td>\n",
       "      <td>0</td>\n",
       "    </tr>\n",
       "    <tr>\n",
       "      <th>4</th>\n",
       "      <td>2008</td>\n",
       "      <td>5</td>\n",
       "      <td>4</td>\n",
       "      <td>7</td>\n",
       "      <td>815.0</td>\n",
       "      <td>820</td>\n",
       "      <td>1243.0</td>\n",
       "      <td>1300</td>\n",
       "      <td>WN</td>\n",
       "      <td>399</td>\n",
       "      <td>...</td>\n",
       "      <td>148.0</td>\n",
       "      <td>160.0</td>\n",
       "      <td>136.0</td>\n",
       "      <td>-17.0</td>\n",
       "      <td>LAS</td>\n",
       "      <td>AUS</td>\n",
       "      <td>1090</td>\n",
       "      <td>4.0</td>\n",
       "      <td>8.0</td>\n",
       "      <td>0</td>\n",
       "    </tr>\n",
       "  </tbody>\n",
       "</table>\n",
       "<p>5 rows × 21 columns</p>\n",
       "</div>"
      ],
      "text/plain": [
       "   Year  Month  DayofMonth  DayOfWeek  DepTime  CRSDepTime  ArrTime  \\\n",
       "0  2008      6          18          3   2111.0        2055   2308.0   \n",
       "1  2008      6           4          3   1426.0        1410   1730.0   \n",
       "2  2008      8           3          7   1143.0        1145   1501.0   \n",
       "3  2008      1          23          3   1141.0        1144   1323.0   \n",
       "4  2008      5           4          7    815.0         820   1243.0   \n",
       "\n",
       "   CRSArrTime UniqueCarrier  FlightNum    ...    ActualElapsedTime  \\\n",
       "0        2300            WN        242    ...                 57.0   \n",
       "1        1728            XE       2380    ...                124.0   \n",
       "2        1520            WN       1769    ...                138.0   \n",
       "3        1335            OO       3802    ...                102.0   \n",
       "4        1300            WN        399    ...                148.0   \n",
       "\n",
       "   CRSElapsedTime  AirTime  ArrDelay  Origin Dest Distance  TaxiIn  TaxiOut  \\\n",
       "0            65.0     46.0       8.0     MDW  CLE      307     3.0      8.0   \n",
       "1           138.0    108.0       2.0     IAH  AVL      834     4.0     12.0   \n",
       "2           155.0    125.0     -19.0     MDW  TPA      997     4.0      9.0   \n",
       "3           111.0     79.0     -12.0     SLC  FCA      532     4.0     19.0   \n",
       "4           160.0    136.0     -17.0     LAS  AUS     1090     4.0      8.0   \n",
       "\n",
       "   Diverted  \n",
       "0         0  \n",
       "1         0  \n",
       "2         0  \n",
       "3         0  \n",
       "4         0  \n",
       "\n",
       "[5 rows x 21 columns]"
      ]
     },
     "execution_count": 35,
     "metadata": {},
     "output_type": "execute_result"
    }
   ],
   "source": [
    "data = data[(~data.DepDelay.isnull()) & (data.DepDelay != 0.0)]\n",
    "target = data.DepDelay\n",
    "data = data.drop('DepDelay', 1)\n",
    "data.head()"
   ]
  },
  {
   "cell_type": "markdown",
   "metadata": {},
   "source": [
    "**13. (0.5 балла)** Обратите внимание, что признаки DepTime, CRSDepTime, ArrTime, CRSArrTime приведены в формате hhmm, в связи с чем будет не вполне корректно рассматривать их как вещественные.\n",
    "\n",
    "Преобразуйте каждый признак FeatureName из указанных в пару новых признаков FeatureName\\_Hour, FeatureName\\_Minute, разделив каждое из значений на часы и минуты. Не забудьте при этом исключить исходный признак из выборки. В случае, если значение признака отсутствует, значения двух новых признаков, его заменяющих, также должны отсутствовать. \n",
    "\n",
    "Например, признак DepTime необходимо заменить на пару признаков DepTime_Hour, DepTime_Minute. При этом, например, значение 155 исходного признака будет преобразовано в значения 1 и 55 признаков DepTime_Hour, DepTime_Minute соответственно."
   ]
  },
  {
   "cell_type": "code",
   "execution_count": 36,
   "metadata": {
    "collapsed": false
   },
   "outputs": [],
   "source": [
    "# Напополнение нанов значением np.nan\n",
    "\n",
    "data = data.fillna(value=np.nan)"
   ]
  },
  {
   "cell_type": "code",
   "execution_count": 37,
   "metadata": {
    "collapsed": false
   },
   "outputs": [],
   "source": [
    "def time_features(data, columns):\n",
    "    '''\n",
    "    Date splitting by hours and minutes\n",
    "    '''\n",
    "    features = pd.DataFrame() # Создаем датафрейм для новых признаков\n",
    "    for col in columns:\n",
    "        date = data[col].apply(lambda x: np.nan if str(x) == 'nan' \n",
    "                                           else (4 - len(str(round(x)))) * '0' + str(round(x))) # Добиваем нулями\n",
    "        minute = date.apply(lambda x: np.nan if str(x) == 'nan' else int(x[2:])) # Столбец с минутами\n",
    "        hour = date.apply(lambda x: np.nan if str(x) == 'nan' else int(x[:2])) # Столбец с часами\n",
    "        # Заполняем датафрейм полученными признаками\n",
    "        features[col + '_Hour'] = hour\n",
    "        features[col + '_Minute'] = minute\n",
    "    return features"
   ]
  },
  {
   "cell_type": "markdown",
   "metadata": {},
   "source": [
    "Преобразуем временные признаки"
   ]
  },
  {
   "cell_type": "code",
   "execution_count": 38,
   "metadata": {
    "collapsed": false
   },
   "outputs": [
    {
     "data": {
      "text/html": [
       "<div>\n",
       "<table border=\"1\" class=\"dataframe\">\n",
       "  <thead>\n",
       "    <tr style=\"text-align: right;\">\n",
       "      <th></th>\n",
       "      <th>DepTime_Hour</th>\n",
       "      <th>DepTime_Minute</th>\n",
       "      <th>CRSDepTime_Hour</th>\n",
       "      <th>CRSDepTime_Minute</th>\n",
       "      <th>ArrTime_Hour</th>\n",
       "      <th>ArrTime_Minute</th>\n",
       "      <th>CRSArrTime_Hour</th>\n",
       "      <th>CRSArrTime_Minute</th>\n",
       "    </tr>\n",
       "  </thead>\n",
       "  <tbody>\n",
       "    <tr>\n",
       "      <th>0</th>\n",
       "      <td>21</td>\n",
       "      <td>11</td>\n",
       "      <td>20</td>\n",
       "      <td>55</td>\n",
       "      <td>23.0</td>\n",
       "      <td>8.0</td>\n",
       "      <td>23</td>\n",
       "      <td>0</td>\n",
       "    </tr>\n",
       "    <tr>\n",
       "      <th>1</th>\n",
       "      <td>14</td>\n",
       "      <td>26</td>\n",
       "      <td>14</td>\n",
       "      <td>10</td>\n",
       "      <td>17.0</td>\n",
       "      <td>30.0</td>\n",
       "      <td>17</td>\n",
       "      <td>28</td>\n",
       "    </tr>\n",
       "    <tr>\n",
       "      <th>2</th>\n",
       "      <td>11</td>\n",
       "      <td>43</td>\n",
       "      <td>11</td>\n",
       "      <td>45</td>\n",
       "      <td>15.0</td>\n",
       "      <td>1.0</td>\n",
       "      <td>15</td>\n",
       "      <td>20</td>\n",
       "    </tr>\n",
       "    <tr>\n",
       "      <th>3</th>\n",
       "      <td>11</td>\n",
       "      <td>41</td>\n",
       "      <td>11</td>\n",
       "      <td>44</td>\n",
       "      <td>13.0</td>\n",
       "      <td>23.0</td>\n",
       "      <td>13</td>\n",
       "      <td>35</td>\n",
       "    </tr>\n",
       "    <tr>\n",
       "      <th>4</th>\n",
       "      <td>8</td>\n",
       "      <td>15</td>\n",
       "      <td>8</td>\n",
       "      <td>20</td>\n",
       "      <td>12.0</td>\n",
       "      <td>43.0</td>\n",
       "      <td>13</td>\n",
       "      <td>0</td>\n",
       "    </tr>\n",
       "  </tbody>\n",
       "</table>\n",
       "</div>"
      ],
      "text/plain": [
       "   DepTime_Hour  DepTime_Minute  CRSDepTime_Hour  CRSDepTime_Minute  \\\n",
       "0            21              11               20                 55   \n",
       "1            14              26               14                 10   \n",
       "2            11              43               11                 45   \n",
       "3            11              41               11                 44   \n",
       "4             8              15                8                 20   \n",
       "\n",
       "   ArrTime_Hour  ArrTime_Minute  CRSArrTime_Hour  CRSArrTime_Minute  \n",
       "0          23.0             8.0               23                  0  \n",
       "1          17.0            30.0               17                 28  \n",
       "2          15.0             1.0               15                 20  \n",
       "3          13.0            23.0               13                 35  \n",
       "4          12.0            43.0               13                  0  "
      ]
     },
     "execution_count": 38,
     "metadata": {},
     "output_type": "execute_result"
    }
   ],
   "source": [
    "columns = ['DepTime', 'CRSDepTime', 'ArrTime', 'CRSArrTime']\n",
    "f = time_features(data, columns)\n",
    "f.head()"
   ]
  },
  {
   "cell_type": "markdown",
   "metadata": {},
   "source": [
    "Заменим старые признаки ['DepTime', 'CRSDepTime', 'ArrTime', 'CRSArrTime'] на полученные после разделения"
   ]
  },
  {
   "cell_type": "code",
   "execution_count": 39,
   "metadata": {
    "collapsed": false
   },
   "outputs": [],
   "source": [
    "data = data.drop(columns, 1)\n",
    "data = pd.concat((data, f), axis=1)"
   ]
  },
  {
   "cell_type": "code",
   "execution_count": 40,
   "metadata": {
    "collapsed": false
   },
   "outputs": [
    {
     "data": {
      "text/html": [
       "<div>\n",
       "<table border=\"1\" class=\"dataframe\">\n",
       "  <thead>\n",
       "    <tr style=\"text-align: right;\">\n",
       "      <th></th>\n",
       "      <th>Year</th>\n",
       "      <th>Month</th>\n",
       "      <th>DayofMonth</th>\n",
       "      <th>DayOfWeek</th>\n",
       "      <th>UniqueCarrier</th>\n",
       "      <th>FlightNum</th>\n",
       "      <th>TailNum</th>\n",
       "      <th>ActualElapsedTime</th>\n",
       "      <th>CRSElapsedTime</th>\n",
       "      <th>AirTime</th>\n",
       "      <th>...</th>\n",
       "      <th>TaxiOut</th>\n",
       "      <th>Diverted</th>\n",
       "      <th>DepTime_Hour</th>\n",
       "      <th>DepTime_Minute</th>\n",
       "      <th>CRSDepTime_Hour</th>\n",
       "      <th>CRSDepTime_Minute</th>\n",
       "      <th>ArrTime_Hour</th>\n",
       "      <th>ArrTime_Minute</th>\n",
       "      <th>CRSArrTime_Hour</th>\n",
       "      <th>CRSArrTime_Minute</th>\n",
       "    </tr>\n",
       "  </thead>\n",
       "  <tbody>\n",
       "    <tr>\n",
       "      <th>0</th>\n",
       "      <td>2008</td>\n",
       "      <td>6</td>\n",
       "      <td>18</td>\n",
       "      <td>3</td>\n",
       "      <td>WN</td>\n",
       "      <td>242</td>\n",
       "      <td>N699SW</td>\n",
       "      <td>57.0</td>\n",
       "      <td>65.0</td>\n",
       "      <td>46.0</td>\n",
       "      <td>...</td>\n",
       "      <td>8.0</td>\n",
       "      <td>0</td>\n",
       "      <td>21</td>\n",
       "      <td>11</td>\n",
       "      <td>20</td>\n",
       "      <td>55</td>\n",
       "      <td>23.0</td>\n",
       "      <td>8.0</td>\n",
       "      <td>23</td>\n",
       "      <td>0</td>\n",
       "    </tr>\n",
       "    <tr>\n",
       "      <th>1</th>\n",
       "      <td>2008</td>\n",
       "      <td>6</td>\n",
       "      <td>4</td>\n",
       "      <td>3</td>\n",
       "      <td>XE</td>\n",
       "      <td>2380</td>\n",
       "      <td>N15980</td>\n",
       "      <td>124.0</td>\n",
       "      <td>138.0</td>\n",
       "      <td>108.0</td>\n",
       "      <td>...</td>\n",
       "      <td>12.0</td>\n",
       "      <td>0</td>\n",
       "      <td>14</td>\n",
       "      <td>26</td>\n",
       "      <td>14</td>\n",
       "      <td>10</td>\n",
       "      <td>17.0</td>\n",
       "      <td>30.0</td>\n",
       "      <td>17</td>\n",
       "      <td>28</td>\n",
       "    </tr>\n",
       "    <tr>\n",
       "      <th>2</th>\n",
       "      <td>2008</td>\n",
       "      <td>8</td>\n",
       "      <td>3</td>\n",
       "      <td>7</td>\n",
       "      <td>WN</td>\n",
       "      <td>1769</td>\n",
       "      <td>N464WN</td>\n",
       "      <td>138.0</td>\n",
       "      <td>155.0</td>\n",
       "      <td>125.0</td>\n",
       "      <td>...</td>\n",
       "      <td>9.0</td>\n",
       "      <td>0</td>\n",
       "      <td>11</td>\n",
       "      <td>43</td>\n",
       "      <td>11</td>\n",
       "      <td>45</td>\n",
       "      <td>15.0</td>\n",
       "      <td>1.0</td>\n",
       "      <td>15</td>\n",
       "      <td>20</td>\n",
       "    </tr>\n",
       "    <tr>\n",
       "      <th>3</th>\n",
       "      <td>2008</td>\n",
       "      <td>1</td>\n",
       "      <td>23</td>\n",
       "      <td>3</td>\n",
       "      <td>OO</td>\n",
       "      <td>3802</td>\n",
       "      <td>N465SW</td>\n",
       "      <td>102.0</td>\n",
       "      <td>111.0</td>\n",
       "      <td>79.0</td>\n",
       "      <td>...</td>\n",
       "      <td>19.0</td>\n",
       "      <td>0</td>\n",
       "      <td>11</td>\n",
       "      <td>41</td>\n",
       "      <td>11</td>\n",
       "      <td>44</td>\n",
       "      <td>13.0</td>\n",
       "      <td>23.0</td>\n",
       "      <td>13</td>\n",
       "      <td>35</td>\n",
       "    </tr>\n",
       "    <tr>\n",
       "      <th>4</th>\n",
       "      <td>2008</td>\n",
       "      <td>5</td>\n",
       "      <td>4</td>\n",
       "      <td>7</td>\n",
       "      <td>WN</td>\n",
       "      <td>399</td>\n",
       "      <td>N489WN</td>\n",
       "      <td>148.0</td>\n",
       "      <td>160.0</td>\n",
       "      <td>136.0</td>\n",
       "      <td>...</td>\n",
       "      <td>8.0</td>\n",
       "      <td>0</td>\n",
       "      <td>8</td>\n",
       "      <td>15</td>\n",
       "      <td>8</td>\n",
       "      <td>20</td>\n",
       "      <td>12.0</td>\n",
       "      <td>43.0</td>\n",
       "      <td>13</td>\n",
       "      <td>0</td>\n",
       "    </tr>\n",
       "  </tbody>\n",
       "</table>\n",
       "<p>5 rows × 25 columns</p>\n",
       "</div>"
      ],
      "text/plain": [
       "   Year  Month  DayofMonth  DayOfWeek UniqueCarrier  FlightNum TailNum  \\\n",
       "0  2008      6          18          3            WN        242  N699SW   \n",
       "1  2008      6           4          3            XE       2380  N15980   \n",
       "2  2008      8           3          7            WN       1769  N464WN   \n",
       "3  2008      1          23          3            OO       3802  N465SW   \n",
       "4  2008      5           4          7            WN        399  N489WN   \n",
       "\n",
       "   ActualElapsedTime  CRSElapsedTime  AirTime        ...          TaxiOut  \\\n",
       "0               57.0            65.0     46.0        ...              8.0   \n",
       "1              124.0           138.0    108.0        ...             12.0   \n",
       "2              138.0           155.0    125.0        ...              9.0   \n",
       "3              102.0           111.0     79.0        ...             19.0   \n",
       "4              148.0           160.0    136.0        ...              8.0   \n",
       "\n",
       "  Diverted DepTime_Hour  DepTime_Minute  CRSDepTime_Hour  CRSDepTime_Minute  \\\n",
       "0        0           21              11               20                 55   \n",
       "1        0           14              26               14                 10   \n",
       "2        0           11              43               11                 45   \n",
       "3        0           11              41               11                 44   \n",
       "4        0            8              15                8                 20   \n",
       "\n",
       "   ArrTime_Hour  ArrTime_Minute  CRSArrTime_Hour  CRSArrTime_Minute  \n",
       "0          23.0             8.0               23                  0  \n",
       "1          17.0            30.0               17                 28  \n",
       "2          15.0             1.0               15                 20  \n",
       "3          13.0            23.0               13                 35  \n",
       "4          12.0            43.0               13                  0  \n",
       "\n",
       "[5 rows x 25 columns]"
      ]
     },
     "execution_count": 40,
     "metadata": {},
     "output_type": "execute_result"
    }
   ],
   "source": [
    "data.head()"
   ]
  },
  {
   "cell_type": "markdown",
   "metadata": {},
   "source": [
    "**14. (0.5 балла)** Некоторые из признаков, отличных от целевой переменной, могут оказывать чересчур значимое влияние на прогноз, поскольку по своему смыслу содержат большую долю информации о значении целевой переменной. Изучите описание датасета и исключите признаки, сильно коррелирующие с ответами. Ваш выбор признаков для исключения из выборки обоснуйте. Кроме того, исключите признаки TailNum и Year."
   ]
  },
  {
   "cell_type": "markdown",
   "metadata": {},
   "source": [
    "Вычислим корреляцию признаков с целевой переменной"
   ]
  },
  {
   "cell_type": "code",
   "execution_count": 41,
   "metadata": {
    "collapsed": false
   },
   "outputs": [
    {
     "name": "stdout",
     "output_type": "stream",
     "text": [
      "Корреляция DepDelay с признаком Year: nan\n",
      "Корреляция DepDelay с признаком Month: -0.029528\n",
      "Корреляция DepDelay с признаком DayofMonth: 0.008574\n",
      "Корреляция DepDelay с признаком DayOfWeek: 0.008530\n",
      "Корреляция DepDelay с признаком FlightNum: 0.021166\n",
      "Корреляция DepDelay с признаком ActualElapsedTime: 0.039257\n",
      "Корреляция DepDelay с признаком CRSElapsedTime: 0.034212\n",
      "Корреляция DepDelay с признаком AirTime: 0.023060\n",
      "Корреляция DepDelay с признаком ArrDelay: 0.929827\n",
      "Корреляция DepDelay с признаком Distance: 0.024252\n",
      "Корреляция DepDelay с признаком TaxiIn: 0.018613\n",
      "Корреляция DepDelay с признаком TaxiOut: 0.101287\n",
      "Корреляция DepDelay с признаком Diverted: 0.027166\n",
      "Корреляция DepDelay с признаком DepTime_Hour: 0.203125\n",
      "Корреляция DepDelay с признаком DepTime_Minute: -0.017055\n",
      "Корреляция DepDelay с признаком CRSDepTime_Hour: 0.140084\n",
      "Корреляция DepDelay с признаком CRSDepTime_Minute: 0.022437\n",
      "Корреляция DepDelay с признаком ArrTime_Hour: 0.065438\n",
      "Корреляция DepDelay с признаком ArrTime_Minute: 0.003818\n",
      "Корреляция DepDelay с признаком CRSArrTime_Hour: 0.135561\n",
      "Корреляция DepDelay с признаком CRSArrTime_Minute: 0.008609\n"
     ]
    }
   ],
   "source": [
    "for col in data.columns:\n",
    "    try:\n",
    "        corr = np.corrcoef(data[col].fillna(value=0),target)[0,1]\n",
    "    except TypeError:\n",
    "        continue\n",
    "    print(\"Корреляция DepDelay с признаком %s: %f\" %(col, corr))"
   ]
  },
  {
   "cell_type": "markdown",
   "metadata": {},
   "source": [
    "Как видно, целевая переменная сильно кореллирует (~0.93) с признаком ArrDelay (задержка прибытия).\n",
    "С каждым из признаков DepTime_Hour, DepTime_Minute, CRSDepTime_Hour, CRSDepTime_Minute (фактическое время отправления и по расписанию) целевая переменная слабо коррелируюет. Однако, очевидно, что зная эти признаки можно точно восстановить значения целевой переменной. Поэтому, кроме ArrDelay, исключим из выборки и эти признаки, а также признаки, которые упоминаются в задании."
   ]
  },
  {
   "cell_type": "code",
   "execution_count": 42,
   "metadata": {
    "collapsed": false
   },
   "outputs": [],
   "source": [
    "drop_feat = ['ArrDelay', 'DepTime_Hour', 'DepTime_Minute', 'CRSDepTime_Hour', 'CRSDepTime_Minute', 'TailNum', 'Year']\n",
    "#drop_feat = ['ArrDelay', 'TailNum', 'Year']\n",
    "\n",
    "data = data.drop(drop_feat, 1)"
   ]
  },
  {
   "cell_type": "code",
   "execution_count": 43,
   "metadata": {
    "collapsed": false
   },
   "outputs": [
    {
     "data": {
      "text/html": [
       "<div>\n",
       "<table border=\"1\" class=\"dataframe\">\n",
       "  <thead>\n",
       "    <tr style=\"text-align: right;\">\n",
       "      <th></th>\n",
       "      <th>Month</th>\n",
       "      <th>DayofMonth</th>\n",
       "      <th>DayOfWeek</th>\n",
       "      <th>UniqueCarrier</th>\n",
       "      <th>FlightNum</th>\n",
       "      <th>ActualElapsedTime</th>\n",
       "      <th>CRSElapsedTime</th>\n",
       "      <th>AirTime</th>\n",
       "      <th>Origin</th>\n",
       "      <th>Dest</th>\n",
       "      <th>Distance</th>\n",
       "      <th>TaxiIn</th>\n",
       "      <th>TaxiOut</th>\n",
       "      <th>Diverted</th>\n",
       "      <th>ArrTime_Hour</th>\n",
       "      <th>ArrTime_Minute</th>\n",
       "      <th>CRSArrTime_Hour</th>\n",
       "      <th>CRSArrTime_Minute</th>\n",
       "    </tr>\n",
       "  </thead>\n",
       "  <tbody>\n",
       "    <tr>\n",
       "      <th>0</th>\n",
       "      <td>6</td>\n",
       "      <td>18</td>\n",
       "      <td>3</td>\n",
       "      <td>WN</td>\n",
       "      <td>242</td>\n",
       "      <td>57.0</td>\n",
       "      <td>65.0</td>\n",
       "      <td>46.0</td>\n",
       "      <td>MDW</td>\n",
       "      <td>CLE</td>\n",
       "      <td>307</td>\n",
       "      <td>3.0</td>\n",
       "      <td>8.0</td>\n",
       "      <td>0</td>\n",
       "      <td>23.0</td>\n",
       "      <td>8.0</td>\n",
       "      <td>23</td>\n",
       "      <td>0</td>\n",
       "    </tr>\n",
       "    <tr>\n",
       "      <th>1</th>\n",
       "      <td>6</td>\n",
       "      <td>4</td>\n",
       "      <td>3</td>\n",
       "      <td>XE</td>\n",
       "      <td>2380</td>\n",
       "      <td>124.0</td>\n",
       "      <td>138.0</td>\n",
       "      <td>108.0</td>\n",
       "      <td>IAH</td>\n",
       "      <td>AVL</td>\n",
       "      <td>834</td>\n",
       "      <td>4.0</td>\n",
       "      <td>12.0</td>\n",
       "      <td>0</td>\n",
       "      <td>17.0</td>\n",
       "      <td>30.0</td>\n",
       "      <td>17</td>\n",
       "      <td>28</td>\n",
       "    </tr>\n",
       "    <tr>\n",
       "      <th>2</th>\n",
       "      <td>8</td>\n",
       "      <td>3</td>\n",
       "      <td>7</td>\n",
       "      <td>WN</td>\n",
       "      <td>1769</td>\n",
       "      <td>138.0</td>\n",
       "      <td>155.0</td>\n",
       "      <td>125.0</td>\n",
       "      <td>MDW</td>\n",
       "      <td>TPA</td>\n",
       "      <td>997</td>\n",
       "      <td>4.0</td>\n",
       "      <td>9.0</td>\n",
       "      <td>0</td>\n",
       "      <td>15.0</td>\n",
       "      <td>1.0</td>\n",
       "      <td>15</td>\n",
       "      <td>20</td>\n",
       "    </tr>\n",
       "    <tr>\n",
       "      <th>3</th>\n",
       "      <td>1</td>\n",
       "      <td>23</td>\n",
       "      <td>3</td>\n",
       "      <td>OO</td>\n",
       "      <td>3802</td>\n",
       "      <td>102.0</td>\n",
       "      <td>111.0</td>\n",
       "      <td>79.0</td>\n",
       "      <td>SLC</td>\n",
       "      <td>FCA</td>\n",
       "      <td>532</td>\n",
       "      <td>4.0</td>\n",
       "      <td>19.0</td>\n",
       "      <td>0</td>\n",
       "      <td>13.0</td>\n",
       "      <td>23.0</td>\n",
       "      <td>13</td>\n",
       "      <td>35</td>\n",
       "    </tr>\n",
       "    <tr>\n",
       "      <th>4</th>\n",
       "      <td>5</td>\n",
       "      <td>4</td>\n",
       "      <td>7</td>\n",
       "      <td>WN</td>\n",
       "      <td>399</td>\n",
       "      <td>148.0</td>\n",
       "      <td>160.0</td>\n",
       "      <td>136.0</td>\n",
       "      <td>LAS</td>\n",
       "      <td>AUS</td>\n",
       "      <td>1090</td>\n",
       "      <td>4.0</td>\n",
       "      <td>8.0</td>\n",
       "      <td>0</td>\n",
       "      <td>12.0</td>\n",
       "      <td>43.0</td>\n",
       "      <td>13</td>\n",
       "      <td>0</td>\n",
       "    </tr>\n",
       "  </tbody>\n",
       "</table>\n",
       "</div>"
      ],
      "text/plain": [
       "   Month  DayofMonth  DayOfWeek UniqueCarrier  FlightNum  ActualElapsedTime  \\\n",
       "0      6          18          3            WN        242               57.0   \n",
       "1      6           4          3            XE       2380              124.0   \n",
       "2      8           3          7            WN       1769              138.0   \n",
       "3      1          23          3            OO       3802              102.0   \n",
       "4      5           4          7            WN        399              148.0   \n",
       "\n",
       "   CRSElapsedTime  AirTime Origin Dest  Distance  TaxiIn  TaxiOut  Diverted  \\\n",
       "0            65.0     46.0    MDW  CLE       307     3.0      8.0         0   \n",
       "1           138.0    108.0    IAH  AVL       834     4.0     12.0         0   \n",
       "2           155.0    125.0    MDW  TPA       997     4.0      9.0         0   \n",
       "3           111.0     79.0    SLC  FCA       532     4.0     19.0         0   \n",
       "4           160.0    136.0    LAS  AUS      1090     4.0      8.0         0   \n",
       "\n",
       "   ArrTime_Hour  ArrTime_Minute  CRSArrTime_Hour  CRSArrTime_Minute  \n",
       "0          23.0             8.0               23                  0  \n",
       "1          17.0            30.0               17                 28  \n",
       "2          15.0             1.0               15                 20  \n",
       "3          13.0            23.0               13                 35  \n",
       "4          12.0            43.0               13                  0  "
      ]
     },
     "execution_count": 43,
     "metadata": {},
     "output_type": "execute_result"
    }
   ],
   "source": [
    "data.head()"
   ]
  },
  {
   "cell_type": "markdown",
   "metadata": {},
   "source": [
    "**15. (1 балл)** Приведем данные к виду, пригодному для обучения линейных моделей. Для этого вещественные признаки надо отмасштабировать, а категориальные — привести к числовому виду. Также надо устранить пропуски в данных."
   ]
  },
  {
   "cell_type": "markdown",
   "metadata": {},
   "source": [
    "В первую очередь поймем, зачем необходимо применять масштабирование. Следующие ячейки с кодом построят гистограммы для 3 вещественных признаков выборки."
   ]
  },
  {
   "cell_type": "code",
   "execution_count": 44,
   "metadata": {
    "collapsed": false
   },
   "outputs": [
    {
     "data": {
      "text/plain": [
       "<matplotlib.axes._subplots.AxesSubplot at 0xd4d0991400>"
      ]
     },
     "execution_count": 44,
     "metadata": {},
     "output_type": "execute_result"
    },
    {
     "data": {
      "image/png": "[encoded data removed]",
      "text/plain": [
       "<matplotlib.figure.Figure at 0xd4d0984978>"
      ]
     },
     "metadata": {},
     "output_type": "display_data"
    }
   ],
   "source": [
    "data['TaxiIn'].hist(bins=20)"
   ]
  },
  {
   "cell_type": "code",
   "execution_count": 45,
   "metadata": {
    "collapsed": false
   },
   "outputs": [
    {
     "data": {
      "text/plain": [
       "<matplotlib.axes._subplots.AxesSubplot at 0xd4dd214400>"
      ]
     },
     "execution_count": 45,
     "metadata": {},
     "output_type": "execute_result"
    },
    {
     "data": {
      "image/png": "[encoded data removed]",
      "text/plain": [
       "<matplotlib.figure.Figure at 0xd4d09840f0>"
      ]
     },
     "metadata": {},
     "output_type": "display_data"
    }
   ],
   "source": [
    "data['FlightNum'].hist(bins=20)"
   ]
  },
  {
   "cell_type": "markdown",
   "metadata": {},
   "source": [
    "Какую проблему вы наблюдаете на этих графиках? Как масштабирование поможет её исправить?"
   ]
  },
  {
   "cell_type": "markdown",
   "metadata": {},
   "source": [
    "Данные имеют \"скошенное\" распределение, поэтому масштабирование позволит снизить данную ассиметрию в данных."
   ]
  },
  {
   "cell_type": "markdown",
   "metadata": {},
   "source": [
    "Некоторые из признаков в нашем датасете являются категориальными. Типичным подходом к работе с ними является бинарное, или [one-hot-кодирование](https://en.wikipedia.org/wiki/One-hot).\n",
    "\n",
    "Реализуйте функцию transform_data, которая принимает на вход DataFrame с признаками и выполняет следующие шаги:\n",
    "1. Замена пропущенных значений на нули для вещественных признаков и на строки 'nan' для категориальных.\n",
    "2. Масштабирование вещественных признаков с помощью [StandardScaler](http://scikit-learn.org/stable/modules/generated/sklearn.preprocessing.StandardScaler.html).\n",
    "3. One-hot-кодирование категориальных признаков с помощью [DictVectorizer](http://scikit-learn.org/stable/modules/generated/sklearn.feature_extraction.DictVectorizer.html) или функции [pd.get_dummies](http://pandas.pydata.org/pandas-docs/stable/generated/pandas.get_dummies.html).\n",
    "\n",
    "Метод должен возвращать преобразованный DataFrame, который должна состоять из масштабированных вещественных признаков и закодированных категориальных (исходные признаки должны быть исключены из выборки)."
   ]
  },
  {
   "cell_type": "code",
   "execution_count": 49,
   "metadata": {
    "collapsed": true
   },
   "outputs": [],
   "source": [
    "# Для подавления предупреждений\n",
    "import warnings\n",
    "warnings.filterwarnings('ignore')\n",
    "\n",
    "# Для масштабирования\n",
    "from sklearn.preprocessing import StandardScaler"
   ]
  },
  {
   "cell_type": "code",
   "execution_count": 47,
   "metadata": {
    "collapsed": true
   },
   "outputs": [],
   "source": [
    "def transform_data(data):\n",
    "    X = data\n",
    "    numerical_columns = [c for c in X.columns if X[c].dtype.name != 'object']\n",
    "    categorical_columns = [c for c in X.columns if X[c].dtype.name == 'object']\n",
    "    \n",
    "    # Заполнение пропущенных значений\n",
    "    for c in numerical_columns:\n",
    "        X[c] = X[c].fillna(value=0)   \n",
    "    for c in categorical_columns:\n",
    "        X[c] = X[c].fillna(value='nan')\n",
    "    \n",
    "    # Масштабирование вещественных признаков\n",
    "    for c in numerical_columns:\n",
    "        X[c] = StandardScaler().fit_transform(X[c])\n",
    "       \n",
    "    # One-hot кодирование категориальных признаков\n",
    "    categorical_data = pd.get_dummies(X[categorical_columns])\n",
    "    \n",
    "    # Объединяем всё в одну таблицу\n",
    "    X = X.drop(categorical_columns, axis=1)\n",
    "    X = pd.concat((X, categorical_data), axis=1)\n",
    "    \n",
    "    # Возвращаем полученный датасет\n",
    "    return X"
   ]
  },
  {
   "cell_type": "markdown",
   "metadata": {},
   "source": [
    "Примените функцию transform_data к данным. Сколько признаков получилось после преобразования?"
   ]
  },
  {
   "cell_type": "code",
   "execution_count": 50,
   "metadata": {
    "collapsed": false
   },
   "outputs": [
    {
     "data": {
      "text/html": [
       "<div>\n",
       "<table border=\"1\" class=\"dataframe\">\n",
       "  <thead>\n",
       "    <tr style=\"text-align: right;\">\n",
       "      <th></th>\n",
       "      <th>Month</th>\n",
       "      <th>DayofMonth</th>\n",
       "      <th>DayOfWeek</th>\n",
       "      <th>FlightNum</th>\n",
       "      <th>ActualElapsedTime</th>\n",
       "      <th>CRSElapsedTime</th>\n",
       "      <th>AirTime</th>\n",
       "      <th>Distance</th>\n",
       "      <th>TaxiIn</th>\n",
       "      <th>TaxiOut</th>\n",
       "      <th>...</th>\n",
       "      <th>Dest_TYR</th>\n",
       "      <th>Dest_TYS</th>\n",
       "      <th>Dest_VLD</th>\n",
       "      <th>Dest_VPS</th>\n",
       "      <th>Dest_WRG</th>\n",
       "      <th>Dest_WYS</th>\n",
       "      <th>Dest_XNA</th>\n",
       "      <th>Dest_YAK</th>\n",
       "      <th>Dest_YKM</th>\n",
       "      <th>Dest_YUM</th>\n",
       "    </tr>\n",
       "  </thead>\n",
       "  <tbody>\n",
       "    <tr>\n",
       "      <th>0</th>\n",
       "      <td>-0.118281</td>\n",
       "      <td>0.256485</td>\n",
       "      <td>-0.462767</td>\n",
       "      <td>-0.991600</td>\n",
       "      <td>-0.988979</td>\n",
       "      <td>-0.916826</td>\n",
       "      <td>-0.849307</td>\n",
       "      <td>-0.744130</td>\n",
       "      <td>-0.786908</td>\n",
       "      <td>-0.741204</td>\n",
       "      <td>...</td>\n",
       "      <td>0.0</td>\n",
       "      <td>0.0</td>\n",
       "      <td>0.0</td>\n",
       "      <td>0.0</td>\n",
       "      <td>0.0</td>\n",
       "      <td>0.0</td>\n",
       "      <td>0.0</td>\n",
       "      <td>0.0</td>\n",
       "      <td>0.0</td>\n",
       "      <td>0.0</td>\n",
       "    </tr>\n",
       "    <tr>\n",
       "      <th>1</th>\n",
       "      <td>-0.118281</td>\n",
       "      <td>-1.332050</td>\n",
       "      <td>-0.462767</td>\n",
       "      <td>0.106546</td>\n",
       "      <td>-0.040552</td>\n",
       "      <td>0.127377</td>\n",
       "      <td>0.064301</td>\n",
       "      <td>0.183961</td>\n",
       "      <td>-0.582387</td>\n",
       "      <td>-0.389769</td>\n",
       "      <td>...</td>\n",
       "      <td>0.0</td>\n",
       "      <td>0.0</td>\n",
       "      <td>0.0</td>\n",
       "      <td>0.0</td>\n",
       "      <td>0.0</td>\n",
       "      <td>0.0</td>\n",
       "      <td>0.0</td>\n",
       "      <td>0.0</td>\n",
       "      <td>0.0</td>\n",
       "      <td>0.0</td>\n",
       "    </tr>\n",
       "    <tr>\n",
       "      <th>2</th>\n",
       "      <td>0.467662</td>\n",
       "      <td>-1.445517</td>\n",
       "      <td>1.541454</td>\n",
       "      <td>-0.207284</td>\n",
       "      <td>0.157627</td>\n",
       "      <td>0.370547</td>\n",
       "      <td>0.314806</td>\n",
       "      <td>0.471018</td>\n",
       "      <td>-0.582387</td>\n",
       "      <td>-0.653345</td>\n",
       "      <td>...</td>\n",
       "      <td>0.0</td>\n",
       "      <td>0.0</td>\n",
       "      <td>0.0</td>\n",
       "      <td>0.0</td>\n",
       "      <td>0.0</td>\n",
       "      <td>0.0</td>\n",
       "      <td>0.0</td>\n",
       "      <td>0.0</td>\n",
       "      <td>0.0</td>\n",
       "      <td>0.0</td>\n",
       "    </tr>\n",
       "    <tr>\n",
       "      <th>3</th>\n",
       "      <td>-1.583137</td>\n",
       "      <td>0.823819</td>\n",
       "      <td>-0.462767</td>\n",
       "      <td>0.836931</td>\n",
       "      <td>-0.351976</td>\n",
       "      <td>-0.258835</td>\n",
       "      <td>-0.363032</td>\n",
       "      <td>-0.347886</td>\n",
       "      <td>-0.582387</td>\n",
       "      <td>0.225242</td>\n",
       "      <td>...</td>\n",
       "      <td>0.0</td>\n",
       "      <td>0.0</td>\n",
       "      <td>0.0</td>\n",
       "      <td>0.0</td>\n",
       "      <td>0.0</td>\n",
       "      <td>0.0</td>\n",
       "      <td>0.0</td>\n",
       "      <td>0.0</td>\n",
       "      <td>0.0</td>\n",
       "      <td>0.0</td>\n",
       "    </tr>\n",
       "    <tr>\n",
       "      <th>4</th>\n",
       "      <td>-0.411252</td>\n",
       "      <td>-1.332050</td>\n",
       "      <td>1.541454</td>\n",
       "      <td>-0.910960</td>\n",
       "      <td>0.299183</td>\n",
       "      <td>0.442068</td>\n",
       "      <td>0.476898</td>\n",
       "      <td>0.634799</td>\n",
       "      <td>-0.582387</td>\n",
       "      <td>-0.741204</td>\n",
       "      <td>...</td>\n",
       "      <td>0.0</td>\n",
       "      <td>0.0</td>\n",
       "      <td>0.0</td>\n",
       "      <td>0.0</td>\n",
       "      <td>0.0</td>\n",
       "      <td>0.0</td>\n",
       "      <td>0.0</td>\n",
       "      <td>0.0</td>\n",
       "      <td>0.0</td>\n",
       "      <td>0.0</td>\n",
       "    </tr>\n",
       "  </tbody>\n",
       "</table>\n",
       "<p>5 rows × 629 columns</p>\n",
       "</div>"
      ],
      "text/plain": [
       "      Month  DayofMonth  DayOfWeek  FlightNum  ActualElapsedTime  \\\n",
       "0 -0.118281    0.256485  -0.462767  -0.991600          -0.988979   \n",
       "1 -0.118281   -1.332050  -0.462767   0.106546          -0.040552   \n",
       "2  0.467662   -1.445517   1.541454  -0.207284           0.157627   \n",
       "3 -1.583137    0.823819  -0.462767   0.836931          -0.351976   \n",
       "4 -0.411252   -1.332050   1.541454  -0.910960           0.299183   \n",
       "\n",
       "   CRSElapsedTime   AirTime  Distance    TaxiIn   TaxiOut    ...     Dest_TYR  \\\n",
       "0       -0.916826 -0.849307 -0.744130 -0.786908 -0.741204    ...          0.0   \n",
       "1        0.127377  0.064301  0.183961 -0.582387 -0.389769    ...          0.0   \n",
       "2        0.370547  0.314806  0.471018 -0.582387 -0.653345    ...          0.0   \n",
       "3       -0.258835 -0.363032 -0.347886 -0.582387  0.225242    ...          0.0   \n",
       "4        0.442068  0.476898  0.634799 -0.582387 -0.741204    ...          0.0   \n",
       "\n",
       "   Dest_TYS  Dest_VLD  Dest_VPS  Dest_WRG  Dest_WYS  Dest_XNA  Dest_YAK  \\\n",
       "0       0.0       0.0       0.0       0.0       0.0       0.0       0.0   \n",
       "1       0.0       0.0       0.0       0.0       0.0       0.0       0.0   \n",
       "2       0.0       0.0       0.0       0.0       0.0       0.0       0.0   \n",
       "3       0.0       0.0       0.0       0.0       0.0       0.0       0.0   \n",
       "4       0.0       0.0       0.0       0.0       0.0       0.0       0.0   \n",
       "\n",
       "   Dest_YKM  Dest_YUM  \n",
       "0       0.0       0.0  \n",
       "1       0.0       0.0  \n",
       "2       0.0       0.0  \n",
       "3       0.0       0.0  \n",
       "4       0.0       0.0  \n",
       "\n",
       "[5 rows x 629 columns]"
      ]
     },
     "execution_count": 50,
     "metadata": {},
     "output_type": "execute_result"
    }
   ],
   "source": [
    "X = transform_data(data)\n",
    "X.head()"
   ]
  },
  {
   "cell_type": "markdown",
   "metadata": {},
   "source": [
    "После преобразования получаем 629 признаков"
   ]
  },
  {
   "cell_type": "code",
   "execution_count": 51,
   "metadata": {
    "collapsed": false
   },
   "outputs": [
    {
     "data": {
      "text/plain": [
       "(63404, 629)"
      ]
     },
     "execution_count": 51,
     "metadata": {},
     "output_type": "execute_result"
    }
   ],
   "source": [
    "X.shape"
   ]
  },
  {
   "cell_type": "markdown",
   "metadata": {},
   "source": [
    "Такое увеличение числа признаков обусловлено тем, что категориальные признаки имеют большое количество уникальных значений. Например, в результате кодирования признака Dest получаем 298 новых признаков."
   ]
  },
  {
   "cell_type": "code",
   "execution_count": 52,
   "metadata": {
    "collapsed": false
   },
   "outputs": [
    {
     "data": {
      "text/plain": [
       "298"
      ]
     },
     "execution_count": 52,
     "metadata": {},
     "output_type": "execute_result"
    }
   ],
   "source": [
    "len(data.Dest.unique())"
   ]
  },
  {
   "cell_type": "markdown",
   "metadata": {},
   "source": [
    "**16. (0.5 балла)** Разбейте выборку и вектор целевой переменной на обучение и контроль в отношении 70/30 (для этого можно использовать, например, функцию [train_test_split](http://scikit-learn.org/stable/modules/generated/sklearn.cross_validation.train_test_split.html)). "
   ]
  },
  {
   "cell_type": "code",
   "execution_count": 54,
   "metadata": {
    "collapsed": false
   },
   "outputs": [],
   "source": [
    "from sklearn.cross_validation import train_test_split"
   ]
  },
  {
   "cell_type": "markdown",
   "metadata": {},
   "source": [
    "Случайно разбиваем выборку с random_state=2016."
   ]
  },
  {
   "cell_type": "code",
   "execution_count": 55,
   "metadata": {
    "collapsed": false
   },
   "outputs": [
    {
     "data": {
      "text/plain": [
       "((44382, 629), (19022, 629))"
      ]
     },
     "execution_count": 55,
     "metadata": {},
     "output_type": "execute_result"
    }
   ],
   "source": [
    "X_train, X_test, y_train, y_test = train_test_split(X, target, test_size=0.30, random_state=2016)\n",
    "X_train.shape, X_test.shape"
   ]
  },
  {
   "cell_type": "code",
   "execution_count": 56,
   "metadata": {
    "collapsed": false
   },
   "outputs": [
    {
     "data": {
      "text/html": [
       "<div>\n",
       "<table border=\"1\" class=\"dataframe\">\n",
       "  <thead>\n",
       "    <tr style=\"text-align: right;\">\n",
       "      <th></th>\n",
       "      <th>Month</th>\n",
       "      <th>DayofMonth</th>\n",
       "      <th>DayOfWeek</th>\n",
       "      <th>FlightNum</th>\n",
       "      <th>ActualElapsedTime</th>\n",
       "      <th>CRSElapsedTime</th>\n",
       "      <th>AirTime</th>\n",
       "      <th>Distance</th>\n",
       "      <th>TaxiIn</th>\n",
       "      <th>TaxiOut</th>\n",
       "      <th>...</th>\n",
       "      <th>Dest_TYR</th>\n",
       "      <th>Dest_TYS</th>\n",
       "      <th>Dest_VLD</th>\n",
       "      <th>Dest_VPS</th>\n",
       "      <th>Dest_WRG</th>\n",
       "      <th>Dest_WYS</th>\n",
       "      <th>Dest_XNA</th>\n",
       "      <th>Dest_YAK</th>\n",
       "      <th>Dest_YKM</th>\n",
       "      <th>Dest_YUM</th>\n",
       "    </tr>\n",
       "  </thead>\n",
       "  <tbody>\n",
       "    <tr>\n",
       "      <th>6834</th>\n",
       "      <td>-1.583137</td>\n",
       "      <td>1.050753</td>\n",
       "      <td>0.539343</td>\n",
       "      <td>0.340248</td>\n",
       "      <td>-0.734178</td>\n",
       "      <td>-0.745177</td>\n",
       "      <td>-0.613537</td>\n",
       "      <td>-0.707147</td>\n",
       "      <td>-0.582387</td>\n",
       "      <td>-0.653345</td>\n",
       "      <td>...</td>\n",
       "      <td>0.0</td>\n",
       "      <td>0.0</td>\n",
       "      <td>0.0</td>\n",
       "      <td>0.0</td>\n",
       "      <td>0.0</td>\n",
       "      <td>0.0</td>\n",
       "      <td>0.0</td>\n",
       "      <td>0.0</td>\n",
       "      <td>0.0</td>\n",
       "      <td>0.0</td>\n",
       "    </tr>\n",
       "    <tr>\n",
       "      <th>46238</th>\n",
       "      <td>1.346576</td>\n",
       "      <td>0.710352</td>\n",
       "      <td>1.040399</td>\n",
       "      <td>-0.420955</td>\n",
       "      <td>0.016071</td>\n",
       "      <td>0.155985</td>\n",
       "      <td>0.137979</td>\n",
       "      <td>0.134651</td>\n",
       "      <td>-0.377866</td>\n",
       "      <td>-0.565486</td>\n",
       "      <td>...</td>\n",
       "      <td>0.0</td>\n",
       "      <td>0.0</td>\n",
       "      <td>0.0</td>\n",
       "      <td>0.0</td>\n",
       "      <td>0.0</td>\n",
       "      <td>0.0</td>\n",
       "      <td>0.0</td>\n",
       "      <td>0.0</td>\n",
       "      <td>0.0</td>\n",
       "      <td>0.0</td>\n",
       "    </tr>\n",
       "    <tr>\n",
       "      <th>3554</th>\n",
       "      <td>-1.583137</td>\n",
       "      <td>-0.197382</td>\n",
       "      <td>-1.464878</td>\n",
       "      <td>-1.086109</td>\n",
       "      <td>-0.351976</td>\n",
       "      <td>-0.487702</td>\n",
       "      <td>-0.598801</td>\n",
       "      <td>-0.575066</td>\n",
       "      <td>3.712557</td>\n",
       "      <td>-0.214051</td>\n",
       "      <td>...</td>\n",
       "      <td>0.0</td>\n",
       "      <td>0.0</td>\n",
       "      <td>0.0</td>\n",
       "      <td>0.0</td>\n",
       "      <td>0.0</td>\n",
       "      <td>0.0</td>\n",
       "      <td>0.0</td>\n",
       "      <td>0.0</td>\n",
       "      <td>0.0</td>\n",
       "      <td>0.0</td>\n",
       "    </tr>\n",
       "    <tr>\n",
       "      <th>37224</th>\n",
       "      <td>-1.583137</td>\n",
       "      <td>-1.332050</td>\n",
       "      <td>0.539343</td>\n",
       "      <td>-0.154380</td>\n",
       "      <td>-0.875734</td>\n",
       "      <td>-0.859610</td>\n",
       "      <td>-0.878778</td>\n",
       "      <td>-0.747652</td>\n",
       "      <td>-0.786908</td>\n",
       "      <td>0.137384</td>\n",
       "      <td>...</td>\n",
       "      <td>0.0</td>\n",
       "      <td>0.0</td>\n",
       "      <td>0.0</td>\n",
       "      <td>0.0</td>\n",
       "      <td>0.0</td>\n",
       "      <td>0.0</td>\n",
       "      <td>0.0</td>\n",
       "      <td>0.0</td>\n",
       "      <td>0.0</td>\n",
       "      <td>0.0</td>\n",
       "    </tr>\n",
       "    <tr>\n",
       "      <th>13625</th>\n",
       "      <td>0.174690</td>\n",
       "      <td>0.029551</td>\n",
       "      <td>-0.462767</td>\n",
       "      <td>0.225708</td>\n",
       "      <td>-0.224575</td>\n",
       "      <td>-0.173010</td>\n",
       "      <td>-0.510388</td>\n",
       "      <td>-0.222849</td>\n",
       "      <td>-0.582387</td>\n",
       "      <td>1.894558</td>\n",
       "      <td>...</td>\n",
       "      <td>0.0</td>\n",
       "      <td>0.0</td>\n",
       "      <td>0.0</td>\n",
       "      <td>0.0</td>\n",
       "      <td>0.0</td>\n",
       "      <td>0.0</td>\n",
       "      <td>0.0</td>\n",
       "      <td>0.0</td>\n",
       "      <td>0.0</td>\n",
       "      <td>0.0</td>\n",
       "    </tr>\n",
       "  </tbody>\n",
       "</table>\n",
       "<p>5 rows × 629 columns</p>\n",
       "</div>"
      ],
      "text/plain": [
       "          Month  DayofMonth  DayOfWeek  FlightNum  ActualElapsedTime  \\\n",
       "6834  -1.583137    1.050753   0.539343   0.340248          -0.734178   \n",
       "46238  1.346576    0.710352   1.040399  -0.420955           0.016071   \n",
       "3554  -1.583137   -0.197382  -1.464878  -1.086109          -0.351976   \n",
       "37224 -1.583137   -1.332050   0.539343  -0.154380          -0.875734   \n",
       "13625  0.174690    0.029551  -0.462767   0.225708          -0.224575   \n",
       "\n",
       "       CRSElapsedTime   AirTime  Distance    TaxiIn   TaxiOut    ...     \\\n",
       "6834        -0.745177 -0.613537 -0.707147 -0.582387 -0.653345    ...      \n",
       "46238        0.155985  0.137979  0.134651 -0.377866 -0.565486    ...      \n",
       "3554        -0.487702 -0.598801 -0.575066  3.712557 -0.214051    ...      \n",
       "37224       -0.859610 -0.878778 -0.747652 -0.786908  0.137384    ...      \n",
       "13625       -0.173010 -0.510388 -0.222849 -0.582387  1.894558    ...      \n",
       "\n",
       "       Dest_TYR  Dest_TYS  Dest_VLD  Dest_VPS  Dest_WRG  Dest_WYS  Dest_XNA  \\\n",
       "6834        0.0       0.0       0.0       0.0       0.0       0.0       0.0   \n",
       "46238       0.0       0.0       0.0       0.0       0.0       0.0       0.0   \n",
       "3554        0.0       0.0       0.0       0.0       0.0       0.0       0.0   \n",
       "37224       0.0       0.0       0.0       0.0       0.0       0.0       0.0   \n",
       "13625       0.0       0.0       0.0       0.0       0.0       0.0       0.0   \n",
       "\n",
       "       Dest_YAK  Dest_YKM  Dest_YUM  \n",
       "6834        0.0       0.0       0.0  \n",
       "46238       0.0       0.0       0.0  \n",
       "3554        0.0       0.0       0.0  \n",
       "37224       0.0       0.0       0.0  \n",
       "13625       0.0       0.0       0.0  \n",
       "\n",
       "[5 rows x 629 columns]"
      ]
     },
     "execution_count": 56,
     "metadata": {},
     "output_type": "execute_result"
    }
   ],
   "source": [
    "X_train.head()"
   ]
  },
  {
   "cell_type": "markdown",
   "metadata": {},
   "source": [
    "### Scikit-learn\n",
    "\n",
    "<img src = \"https://pp.vk.me/c4534/u35727827/93547647/x_d31c4463.jpg\">\n",
    "Теперь, когда мы привели данные к пригодному виду, попробуем решить задачу при помощи метода наименьших квадратов. Напомним, что данный метод заключается в оптимизации функционала $MSE$:\n",
    "\n",
    "$$MSE(X, y) = \\frac{1}{l} \\sum_{i=1}^l (<w, x_i> - y_i)^2 \\to \\min_{w},$$\n",
    "\n",
    "где $\\{ (x_i, y_i ) \\}_{i=1}^l$ — обучающая выборка, состоящая из $l$ пар объект-ответ.\n",
    "\n",
    "Заметим, что решение данной задачи уже реализовано в модуле sklearn в виде класса [LinearRegression](http://scikit-learn.org/stable/modules/generated/sklearn.linear_model.LinearRegression.html#sklearn.linear_model.LinearRegression).\n",
    "\n",
    "**17. (0.5 балла)** Обучите линейную регрессию на 1000 объектах из обучающей выборки и выведите значения $MSE$ и $R^2$ на этой подвыборке и контрольной выборке (итого 4 различных числа). Проинтерпретируйте полученный результат — насколько качественные прогнозы строит полученная модель? Какие проблемы наблюдаются в модели?\n",
    "\n",
    "**Подсказка**: изучите значения полученных коэффициентов $w$, сохраненных в атрибуте coef_ объекта LinearRegression."
   ]
  },
  {
   "cell_type": "markdown",
   "metadata": {},
   "source": [
    "Строим модель и обучаем ее на 1000 объектах исходной выборки"
   ]
  },
  {
   "cell_type": "code",
   "execution_count": 61,
   "metadata": {
    "collapsed": false
   },
   "outputs": [
    {
     "data": {
      "text/plain": [
       "LinearRegression(copy_X=True, fit_intercept=True, n_jobs=1, normalize=False)"
      ]
     },
     "execution_count": 61,
     "metadata": {},
     "output_type": "execute_result"
    }
   ],
   "source": [
    "from sklearn.linear_model import LinearRegression\n",
    "\n",
    "lr = LinearRegression()\n",
    "lr.fit(X_train[:1000], y_train[:1000])"
   ]
  },
  {
   "cell_type": "code",
   "execution_count": null,
   "metadata": {
    "collapsed": true
   },
   "outputs": [],
   "source": []
  },
  {
   "cell_type": "code",
   "execution_count": 63,
   "metadata": {
    "collapsed": false
   },
   "outputs": [
    {
     "name": "stdout",
     "output_type": "stream",
     "text": [
      "Коэффициент дерминации на подвыборке: 0.103924\n",
      "Среднеквадратичная ошибка на подвыборке: 1125.354523\n",
      "Коэффициент дерминации на обучающей выборке: 0.072701\n",
      "Среднеквадратичная ошибка на обучающей выборке: 1186.524550\n"
     ]
    }
   ],
   "source": [
    "from sklearn.metrics import r2_score, mean_squared_error\n",
    "\n",
    "y_pred_1000 = lr.predict(X_train[:1000])\n",
    "y_pred = lr.predict(X_train)\n",
    "print(\"Коэффициент дерминации на подвыборке: %f\" %r2_score(y_train[:1000], y_pred_1000))\n",
    "print(\"Среднеквадратичная ошибка на подвыборке: %f\" %mean_squared_error(y_train[:1000], y_pred_1000))\n",
    "print(\"Коэффициент дерминации на обучающей выборке: %f\" %r2_score(y_train, y_pred))\n",
    "print(\"Среднеквадратичная ошибка на обучающей выборке: %f\" %mean_squared_error(y_train, y_pred))"
   ]
  },
  {
   "cell_type": "markdown",
   "metadata": {},
   "source": [
    "Как видно, модель показывает низкое качество обучения. По полученым коэффициентам детерминации можно сделать вывод, что модель не является приемлемой (модель можно считать приемлемой при коэффиценте детерминации >0.5. [ссылка](https://ru.wikipedia.org/wiki/Коэффициент_детерминации))"
   ]
  },
  {
   "cell_type": "code",
   "execution_count": 64,
   "metadata": {
    "collapsed": false
   },
   "outputs": [
    {
     "data": {
      "text/plain": [
       "array([ -1.28309133e+00,   2.99694644e-01,   2.28212029e-01,\n",
       "         1.06224170e+00,   1.58719141e+01,   6.88931720e+00,\n",
       "        -1.64881180e+01,  -5.22811121e+00,  -4.61277169e-01,\n",
       "         9.02908800e-01,   2.54026419e-01,  -5.97915679e+00,\n",
       "         4.87539382e-02,   9.77674191e+00,   4.39119302e-01,\n",
       "         6.50066463e+10,   6.50066463e+10,   6.50066463e+10,\n",
       "         6.50066463e+10,   6.50066463e+10,   6.50066463e+10,\n",
       "         6.50066463e+10,   6.50066463e+10,   6.50066463e+10,\n",
       "         6.50066463e+10,   6.50066463e+10,   6.50066463e+10,\n",
       "         6.50066463e+10,   6.50066463e+10,   6.50066463e+10,\n",
       "         6.50066463e+10,   6.50066463e+10,   6.50066463e+10,\n",
       "         6.50066463e+10,   6.50066463e+10,   8.12379453e+10,\n",
       "         8.12379453e+10,   8.12379453e+10,   8.12379453e+10,\n",
       "         8.12379453e+10,   8.12379453e+10,   8.12379453e+10,\n",
       "         8.12379453e+10,   4.48158519e+12,   8.12379453e+10,\n",
       "         8.12379453e+10,   8.12379454e+10,   5.92943330e+12,\n",
       "         8.12379453e+10,   8.12379453e+10,   8.12379453e+10,\n",
       "         8.12379453e+10,   8.12379453e+10,   8.12379453e+10,\n",
       "         8.12379453e+10,   8.12379453e+10,   8.12379453e+10,\n",
       "         8.12379453e+10,   8.12379453e+10,   8.12379453e+10,\n",
       "         8.12379454e+10,   8.12379453e+10,   8.12379454e+10,\n",
       "         8.12379453e+10,   8.12379453e+10,   8.12379453e+10,\n",
       "         8.12379453e+10,  -6.06594398e+11,   8.12379453e+10,\n",
       "         8.12379453e+10,   8.12379453e+10,   8.12379453e+10,\n",
       "         8.12379453e+10,   8.12379453e+10,   8.12379453e+10,\n",
       "         8.12379454e+10,   8.12379453e+10,   8.12379453e+10,\n",
       "         8.12379453e+10,   8.12379453e+10,   8.12379453e+10,\n",
       "         8.12379453e+10,   8.12379453e+10,   8.12379453e+10,\n",
       "         8.12379453e+10,   8.12379453e+10,   8.12379453e+10,\n",
       "         8.12379454e+10,   8.12379453e+10,   8.12379453e+10,\n",
       "         8.12379453e+10,   8.12379453e+10,   8.12379453e+10,\n",
       "         8.12379453e+10,   8.12379453e+10,   8.12379453e+10,\n",
       "         8.12379453e+10,   8.12379453e+10,   8.12379453e+10,\n",
       "         8.12379453e+10,   8.12379453e+10,   8.12379453e+10,\n",
       "         8.12379453e+10,   8.12379453e+10,   8.12379453e+10,\n",
       "         8.12379454e+10,   8.12379453e+10,   8.12379453e+10,\n",
       "         8.12379453e+10,   8.12379453e+10,   8.12379453e+10,\n",
       "         8.12379453e+10,   8.12379453e+10,   8.12379453e+10,\n",
       "         8.12379453e+10,   8.12379453e+10,   8.12379453e+10,\n",
       "         8.12379453e+10,   8.12379453e+10,   8.12379453e+10,\n",
       "         8.12379453e+10,   8.12379453e+10,   8.12379453e+10,\n",
       "         8.12379453e+10,   8.12379453e+10,   8.12379453e+10,\n",
       "         8.12379453e+10,   8.12379454e+10,   8.12379453e+10,\n",
       "         8.12379453e+10,   8.12379453e+10,   8.12379453e+10,\n",
       "         8.12379453e+10,   8.12379454e+10,   8.12379453e+10,\n",
       "         8.12379453e+10,   8.12379453e+10,   8.12379453e+10,\n",
       "         8.12379453e+10,   8.12379454e+10,   8.12379453e+10,\n",
       "         8.12379453e+10,   8.12379453e+10,   8.12379453e+10,\n",
       "         8.12379453e+10,   8.12379453e+10,   8.12379453e+10,\n",
       "         8.12379453e+10,   8.12379453e+10,   8.12379453e+10,\n",
       "         8.12379453e+10,   8.12379453e+10,   8.12379453e+10,\n",
       "         8.12379453e+10,   1.99348840e+12,   8.12379453e+10,\n",
       "         8.12379453e+10,   8.12379453e+10,   8.12379453e+10,\n",
       "         8.12379454e+10,   8.12379453e+10,   8.12379453e+10,\n",
       "         8.12379453e+10,   8.12379453e+10,   8.12379453e+10,\n",
       "         8.12379453e+10,   8.12379453e+10,   8.12379453e+10,\n",
       "         8.12379453e+10,   8.12379453e+10,   8.12379453e+10,\n",
       "         8.12379453e+10,   8.12379453e+10,  -4.04719856e+10,\n",
       "         8.12379453e+10,   8.12379453e+10,   8.12379453e+10,\n",
       "         8.12379453e+10,   8.12379453e+10,   8.12379453e+10,\n",
       "         8.12379453e+10,   8.12379453e+10,   8.12379453e+10,\n",
       "         8.12379453e+10,   8.12379453e+10,   8.12379453e+10,\n",
       "         8.12379453e+10,   8.12379453e+10,   8.12379453e+10,\n",
       "         8.12379453e+10,   8.12379453e+10,   8.12379454e+10,\n",
       "         8.12379453e+10,   8.12379453e+10,   8.12379453e+10,\n",
       "         8.12379453e+10,   8.12379453e+10,   8.12379453e+10,\n",
       "         8.12379453e+10,   8.12379453e+10,   8.12379453e+10,\n",
       "         8.12379453e+10,   8.12379453e+10,   8.12379453e+10,\n",
       "         8.12379453e+10,   8.12379453e+10,   8.12379454e+10,\n",
       "         8.12379453e+10,   8.12379453e+10,   8.12379453e+10,\n",
       "         8.12379453e+10,   8.12379453e+10,   8.12379453e+10,\n",
       "         8.12379453e+10,   8.12379453e+10,   8.12379453e+10,\n",
       "         8.12379453e+10,   8.12379453e+10,   8.12379453e+10,\n",
       "         8.12379453e+10,   8.12379453e+10,   8.12379453e+10,\n",
       "         8.12379453e+10,   8.12379453e+10,   8.12379453e+10,\n",
       "         8.12379453e+10,   8.12379453e+10,   8.12379453e+10,\n",
       "         8.12379453e+10,   8.12379453e+10,   8.12379453e+10,\n",
       "         8.12379453e+10,   8.12379453e+10,   8.12379453e+10,\n",
       "         8.12379453e+10,   8.12379453e+10,   8.12379453e+10,\n",
       "         8.12379453e+10,   8.12379453e+10,   8.12379453e+10,\n",
       "         8.12379453e+10,   8.12379453e+10,   8.12379453e+10,\n",
       "         8.12379453e+10,   8.12379453e+10,   8.12379454e+10,\n",
       "         8.12379453e+10,   8.12379453e+10,   8.12379453e+10,\n",
       "         8.12379453e+10,   8.12379453e+10,   8.12379453e+10,\n",
       "         8.12379453e+10,   8.12379453e+10,   8.12379453e+10,\n",
       "         8.12379453e+10,   8.12379453e+10,   8.12379454e+10,\n",
       "         8.12379453e+10,   8.12379453e+10,   8.12379453e+10,\n",
       "         8.12379453e+10,   8.12379453e+10,   8.12379453e+10,\n",
       "         8.12379453e+10,   8.12379453e+10,   8.12379453e+10,\n",
       "         8.12379453e+10,   8.12379453e+10,   8.12379453e+10,\n",
       "         8.12379454e+10,   8.12379453e+10,   8.12379453e+10,\n",
       "         8.12379453e+10,   8.12379453e+10,   8.12379453e+10,\n",
       "         8.12379453e+10,   8.12379453e+10,   8.12379453e+10,\n",
       "         8.12379453e+10,   8.12379453e+10,   8.12379453e+10,\n",
       "         8.12379453e+10,   8.12379454e+10,   8.12379453e+10,\n",
       "         8.12379453e+10,   8.12379454e+10,   8.12379453e+10,\n",
       "         8.12379453e+10,   8.12379453e+10,   8.12379453e+10,\n",
       "         8.12379453e+10,   8.12379453e+10,   8.12379454e+10,\n",
       "         8.12379453e+10,   8.12379453e+10,   8.12379453e+10,\n",
       "         8.12379453e+10,   8.12379453e+10,   8.12379453e+10,\n",
       "         8.12379453e+10,   8.12379453e+10,   8.12379453e+10,\n",
       "         8.12379453e+10,   8.12379453e+10,   8.12379453e+10,\n",
       "         8.12379453e+10,   8.12379453e+10,   8.12379453e+10,\n",
       "         8.12379453e+10,   8.12379453e+10,   8.12379453e+10,\n",
       "        -6.53085912e+11,   8.12379453e+10,   8.12379453e+10,\n",
       "         8.12379453e+10,   8.12379453e+10,   8.12379453e+10,\n",
       "         8.12379453e+10,   8.12379453e+10,   8.12379453e+10,\n",
       "         8.12379453e+10,   8.12379453e+10,   8.12379453e+10,\n",
       "         8.12379453e+10,   8.12379453e+10,   8.12379453e+10,\n",
       "         8.12379453e+10,   8.12379453e+10,   8.12379453e+10,\n",
       "         8.12379453e+10,   4.04869028e+11,   4.04869028e+11,\n",
       "         4.04869028e+11,   4.04869028e+11,   4.04869028e+11,\n",
       "         4.04869028e+11,   4.04869028e+11,  -3.96596697e+11,\n",
       "         4.04869028e+11,   4.04869028e+11,   4.04869028e+11,\n",
       "         4.04869028e+11,   4.04869028e+11,   4.04869028e+11,\n",
       "         4.04869028e+11,   4.04869028e+11,   4.04869028e+11,\n",
       "         4.04869028e+11,   4.04869028e+11,   4.04869028e+11,\n",
       "         4.04869028e+11,   4.04869028e+11,   4.04869028e+11,\n",
       "         4.04869028e+11,   4.04869028e+11,   4.04869028e+11,\n",
       "         4.04869028e+11,   4.04869028e+11,   4.04869028e+11,\n",
       "         4.04869028e+11,   4.04869028e+11,   3.42129429e+11,\n",
       "        -3.72324103e+11,   4.04869028e+11,   4.04869028e+11,\n",
       "         4.04869028e+11,   4.04869028e+11,   4.04869028e+11,\n",
       "         4.04869028e+11,   4.04869028e+11,   4.04869028e+11,\n",
       "         4.04869028e+11,   4.04869028e+11,   4.04869028e+11,\n",
       "         4.04869028e+11,   4.04869028e+11,   4.04869028e+11,\n",
       "         4.04869028e+11,   4.04869028e+11,   4.04869028e+11,\n",
       "         4.04869028e+11,   4.04869028e+11,   4.04869028e+11,\n",
       "         4.04869028e+11,   4.04869028e+11,   4.04869028e+11,\n",
       "         4.04869028e+11,   4.04869028e+11,   4.04869028e+11,\n",
       "         4.04869028e+11,   4.04869028e+11,   4.04869028e+11,\n",
       "         4.04869028e+11,   4.04869028e+11,   4.04869028e+11,\n",
       "         4.04869028e+11,   4.04869028e+11,   4.04869028e+11,\n",
       "         4.04869028e+11,   4.04869028e+11,   4.04869028e+11,\n",
       "         4.04869028e+11,   4.04869028e+11,   4.04869028e+11,\n",
       "         4.04869028e+11,   4.04869028e+11,   4.04869028e+11,\n",
       "         4.04869028e+11,   4.04869028e+11,   4.04869028e+11,\n",
       "         4.04869028e+11,   4.04869028e+11,   4.04869028e+11,\n",
       "         4.04869028e+11,   4.04869028e+11,   4.04869028e+11,\n",
       "         4.04869028e+11,   4.04869028e+11,   4.04869028e+11,\n",
       "         4.04869028e+11,   4.04869028e+11,   4.04869028e+11,\n",
       "         4.04869028e+11,   4.04869028e+11,   4.04869028e+11,\n",
       "         4.04869028e+11,   4.04869028e+11,   4.04869028e+11,\n",
       "         4.04869028e+11,   4.04869028e+11,   4.04869028e+11,\n",
       "         4.04869028e+11,   4.04869028e+11,   4.04869028e+11,\n",
       "         4.04869028e+11,   4.04869028e+11,   4.04869028e+11,\n",
       "         4.04869028e+11,   4.04869028e+11,   4.04869028e+11,\n",
       "         4.04869028e+11,   4.04869028e+11,   4.04869028e+11,\n",
       "         4.04869028e+11,   4.04869028e+11,   4.04869028e+11,\n",
       "         4.04869028e+11,   4.04869028e+11,   4.04869028e+11,\n",
       "         4.04869028e+11,   4.04869028e+11,   4.04869028e+11,\n",
       "         4.04869028e+11,   4.04869028e+11,   4.04869028e+11,\n",
       "         4.04869028e+11,   4.04869028e+11,   4.04869028e+11,\n",
       "         4.04869028e+11,   4.04869028e+11,   4.04869028e+11,\n",
       "         4.04869028e+11,   4.04869028e+11,   4.04869028e+11,\n",
       "         4.04869028e+11,   4.04869028e+11,   4.04869028e+11,\n",
       "         4.04869028e+11,   4.04869028e+11,   4.04869028e+11,\n",
       "         4.04869028e+11,   4.04869028e+11,   4.04869028e+11,\n",
       "         4.04869028e+11,   4.04869028e+11,   4.04869028e+11,\n",
       "         4.04869028e+11,   4.04869028e+11,   4.04869028e+11,\n",
       "         4.04869028e+11,   4.04869028e+11,   4.04869028e+11,\n",
       "         4.04869028e+11,   4.04869028e+11,   4.04869028e+11,\n",
       "         4.04869028e+11,   4.04869028e+11,   4.04869028e+11,\n",
       "         4.04869028e+11,   4.04869028e+11,   4.04869028e+11,\n",
       "         4.04869028e+11,   4.04869028e+11,   4.04869028e+11,\n",
       "         4.04869028e+11,   4.04869028e+11,   4.04869028e+11,\n",
       "         4.04869028e+11,   4.04869028e+11,   4.04869028e+11,\n",
       "         4.04869028e+11,   4.04869028e+11,   4.04869028e+11,\n",
       "         4.04869028e+11,   4.04869028e+11,   4.04869028e+11,\n",
       "         4.04869028e+11,   4.04869028e+11,   4.04869028e+11,\n",
       "         4.04869028e+11,   4.04869028e+11,   4.04869028e+11,\n",
       "         4.04869028e+11,   4.04869028e+11,   4.04869028e+11,\n",
       "         4.04869028e+11,   4.04869028e+11,   4.04869028e+11,\n",
       "         4.04869028e+11,   4.04869028e+11,   4.04869028e+11,\n",
       "         4.04869028e+11,   4.04869028e+11,   4.04869028e+11,\n",
       "         4.04869028e+11,   4.04869028e+11,   4.04869028e+11,\n",
       "         4.04869028e+11,   4.04869028e+11,   4.04869028e+11,\n",
       "         4.04869028e+11,   4.04869028e+11,   4.04869028e+11,\n",
       "         4.04869028e+11,   4.04869028e+11,   4.04869028e+11,\n",
       "         4.04869028e+11,   4.04869028e+11,   4.04869028e+11,\n",
       "         4.04869028e+11,   4.04869028e+11,   4.04869028e+11,\n",
       "         4.04869028e+11,   4.04869028e+11,   4.04869028e+11,\n",
       "         4.04869028e+11,   4.04869028e+11,   4.04869028e+11,\n",
       "         4.04869028e+11,   4.04869028e+11,   4.04869028e+11,\n",
       "         4.04869028e+11,   4.04869028e+11,   4.04869028e+11,\n",
       "         4.04869028e+11,   4.04869028e+11,   4.04869028e+11,\n",
       "         4.04869028e+11,   4.04869028e+11,   4.04869028e+11,\n",
       "         4.04869028e+11,   4.04869028e+11,   4.04869028e+11,\n",
       "         4.04869028e+11,   4.04869028e+11,   4.04869028e+11,\n",
       "         4.04869028e+11,   4.04869028e+11,   4.04869028e+11,\n",
       "         4.04869028e+11,   4.04869028e+11,   4.04869028e+11,\n",
       "         4.04869028e+11,   4.04869028e+11,   4.04869028e+11,\n",
       "         4.04869028e+11,   4.04869028e+11,   4.04869028e+11,\n",
       "         4.04869028e+11,   4.04869028e+11,   4.04869028e+11,\n",
       "         4.04869028e+11,   4.04869028e+11,   4.04869028e+11,\n",
       "         4.04869028e+11,   4.04869028e+11,   4.04869028e+11,\n",
       "         4.04869028e+11,   4.04869028e+11,   4.04869028e+11,\n",
       "         4.04869028e+11,   4.04869028e+11,   4.04869028e+11,\n",
       "         4.04869028e+11,   4.04869028e+11,   4.04869028e+11,\n",
       "         4.04869028e+11,   4.04869028e+11,   4.04869028e+11,\n",
       "         4.04869028e+11,   4.04869028e+11,   4.04869028e+11,\n",
       "         4.04869028e+11,   4.04869028e+11,   4.04869028e+11,\n",
       "         4.04869028e+11,   4.04869028e+11,   4.04869028e+11,\n",
       "         4.04869028e+11,   4.04869028e+11,   4.04869028e+11,\n",
       "         4.04869028e+11,   4.04869028e+11,   4.04869028e+11,\n",
       "         4.04869028e+11,   4.04869028e+11,   4.04869028e+11,\n",
       "         4.04869028e+11,   4.04869028e+11,   4.04869028e+11,\n",
       "         4.04869028e+11,   4.04869028e+11,   4.04869028e+11,\n",
       "         4.04869028e+11,   4.04869028e+11,   4.04869028e+11,\n",
       "         4.04869028e+11,   4.04869028e+11])"
      ]
     },
     "execution_count": 64,
     "metadata": {},
     "output_type": "execute_result"
    }
   ],
   "source": [
    "lr.coef_"
   ]
  },
  {
   "cell_type": "markdown",
   "metadata": {},
   "source": [
    "Модел даже на обучающих данных дает низкое качество прогноза. Коэффициенты регрессии принимают слишком большие значения, поэтому их можно попробовать ограничивать, чтобы получить более устойчивую модель."
   ]
  },
  {
   "cell_type": "markdown",
   "metadata": {
    "collapsed": true
   },
   "source": [
    "Для решения описанных вами в предыдущем пункте проблем используем L1- или L2-регуляризацию, тем самым получив Lasso и Ridge регрессии соответственно и изменив оптимизационную задачу одним из следующих образов:\n",
    "$$MSE_{L1}(X, y) = \\frac{1}{l} \\sum_{i=1}^l (<w, x_i> - y_i)^2 + \\alpha ||w||_1 \\to \\min_{w},$$\n",
    "$$MSE_{L2}(X, y) = \\frac{1}{l} \\sum_{i=1}^l (<w, x_i> - y_i)^2 + \\alpha ||w||_2^2 \\to \\min_{w},$$\n",
    "\n",
    "где $\\alpha$ — коэффициент регуляризации. Один из способов его подбора заключается в переборе некоторого количества значений и оценке качества на кросс-валидации для каждого из них, после чего выбирается значение, для которого было получено наилучшее качество.\n",
    "\n",
    "**18. (0.5 балла)** Обучите линейные регрессии с L1- и L2-регуляризатором, подобрав лучшее значение параметра регуляризации из списка alpha_grid при помощи кросс-валидации c 5 фолдами на тех же 1000 объектах, что и в п.17. Выведите значения $MSE$ и $R^2$ на обучающей и контрольной выборках. Удалось ли решить указанные вами ранее проблемы?\n",
    "\n",
    "Для выполнения данного задания вам могут понадобиться реализованные в библиотеке объекты [LassoCV](http://scikit-learn.org/stable/modules/generated/sklearn.linear_model.LassoCV.html), [RidgeCV](http://scikit-learn.org/stable/modules/generated/sklearn.linear_model.RidgeCV.html) и [KFold](http://scikit-learn.org/stable/modules/generated/sklearn.cross_validation.KFold.html).\n"
   ]
  },
  {
   "cell_type": "code",
   "execution_count": 73,
   "metadata": {
    "collapsed": false
   },
   "outputs": [
    {
     "data": {
      "text/plain": [
       "RidgeCV(alphas=array([ 0.01,  0.02, ...,  0.98,  0.99]),\n",
       "    cv=sklearn.cross_validation.KFold(n=1000, n_folds=5, shuffle=False, random_state=None),\n",
       "    fit_intercept=True, gcv_mode=None, normalize=False, scoring=None,\n",
       "    store_cv_values=False)"
      ]
     },
     "execution_count": 73,
     "metadata": {},
     "output_type": "execute_result"
    }
   ],
   "source": [
    "from sklearn.linear_model import LassoCV, RidgeCV\n",
    "from sklearn.cross_validation import KFold\n",
    "\n",
    "kf = KFold(1000, n_folds=5)\n",
    "alphas = np.arange(0.01, 1, 0.01)\n",
    "lasso = LassoCV(cv=kf, alphas=alphas)\n",
    "ridge = RidgeCV(cv=kf, alphas=alphas)\n",
    "\n",
    "# Обучение\n",
    "lasso.fit(X_train[:1000], y_train[:1000])\n",
    "ridge.fit(X_train[:1000], y_train[:1000])"
   ]
  },
  {
   "cell_type": "markdown",
   "metadata": {},
   "source": [
    "**На обучающей выборке**"
   ]
  },
  {
   "cell_type": "code",
   "execution_count": 77,
   "metadata": {
    "collapsed": false
   },
   "outputs": [
    {
     "name": "stdout",
     "output_type": "stream",
     "text": [
      "Коэффициент дерминации, Lasso: 0.033660\n",
      "Среднеквадратичная ошибка, Lasso: 1236.479282\n",
      "Коэффициент дерминации, Ridge: -0.084907\n",
      "Среднеквадратичная ошибка, Ridge: 1388.191666\n"
     ]
    }
   ],
   "source": [
    "y_pred_lasso = lasso.predict(X_train)\n",
    "y_pred_ridge = ridge.predict(X_train)\n",
    "print(\"Коэффициент дерминации, Lasso: %f\" %r2_score(y_train, y_pred_lasso))\n",
    "print(\"Среднеквадратичная ошибка, Lasso: %f\" %mean_squared_error(y_train, y_pred_lasso))\n",
    "print(\"Коэффициент дерминации, Ridge: %f\" %r2_score(y_train, y_pred_ridge))\n",
    "print(\"Среднеквадратичная ошибка, Ridge: %f\" %mean_squared_error(y_train, y_pred_ridge))"
   ]
  },
  {
   "cell_type": "markdown",
   "metadata": {},
   "source": [
    "**На тестовой выборке**"
   ]
  },
  {
   "cell_type": "code",
   "execution_count": 78,
   "metadata": {
    "collapsed": false
   },
   "outputs": [
    {
     "name": "stdout",
     "output_type": "stream",
     "text": [
      "Коэффициент дерминации, Lasso: 0.029156\n",
      "Среднеквадратичная ошибка, Lasso: 1306.163869\n",
      "Коэффициент дерминации, Ridge: -0.087891\n",
      "Среднеквадратичная ошибка, Ridge: 1463.637507\n"
     ]
    }
   ],
   "source": [
    "y_pred_lasso = lasso.predict(X_test)\n",
    "y_pred_ridge = ridge.predict(X_test)\n",
    "print(\"Коэффициент дерминации, Lasso: %f\" %r2_score(y_test, y_pred_lasso))\n",
    "print(\"Среднеквадратичная ошибка, Lasso: %f\" %mean_squared_error(y_test, y_pred_lasso))\n",
    "print(\"Коэффициент дерминации, Ridge: %f\" %r2_score(y_test, y_pred_ridge))\n",
    "print(\"Среднеквадратичная ошибка, Ridge: %f\" %mean_squared_error(y_test, y_pred_ridge))"
   ]
  },
  {
   "cell_type": "code",
   "execution_count": 80,
   "metadata": {
    "collapsed": false
   },
   "outputs": [
    {
     "data": {
      "text/plain": [
       "array([ -1.36341363,  -0.89735981,   0.43772836,   1.50145102,\n",
       "         1.29345334,   0.04448383,   0.        ,   0.        ,\n",
       "        -0.61855742,   2.57994728,  -0.70778518,  -9.4621712 ,\n",
       "         0.29951036,  13.61927336,  -0.78501454,  -0.        ,\n",
       "         0.49601646,   0.        ,   0.        ,   0.        ,\n",
       "        -0.        ,  -0.        ,   0.        ,   0.        ,\n",
       "        -0.        ,  -0.        ,   0.        ,  -0.        ,\n",
       "         0.        ,  -0.        ,   4.69523651,  -0.        ,\n",
       "        -0.        ,   0.        ,   0.        ,   0.        ,\n",
       "         0.        ,  -0.        ,   0.        ,   0.        ,\n",
       "         0.        ,  -0.        ,   0.        ,   0.        ,\n",
       "         0.        ,   0.        ,   0.        ,   0.        ,\n",
       "        -0.        ,   0.        ,   0.        ,   0.        ,\n",
       "        -0.        ,  -0.        ,  -0.        ,  -0.        ,\n",
       "         0.        ,   0.        ,   0.        ,  -0.        ,\n",
       "         0.        ,  -0.        ,   0.        ,   0.        ,\n",
       "        -0.        ,  -0.        ,   0.        ,   0.        ,\n",
       "         0.        ,  -0.        ,   0.        ,   0.        ,\n",
       "         0.        ,   0.        ,   0.        ,   0.        ,\n",
       "        -0.        ,  -0.        ,   0.        ,  -0.        ,\n",
       "         0.        ,  -0.        ,  -0.        ,   0.        ,\n",
       "        -0.        ,  -0.        ,   0.        ,   0.        ,\n",
       "         0.        ,   0.        ,   0.        ,   0.        ,\n",
       "        -0.        ,   0.        ,  -0.        ,  -0.        ,\n",
       "        -0.        ,   0.        ,   0.        ,   0.        ,\n",
       "         0.        ,  -0.        ,  -0.        ,   0.        ,\n",
       "         0.        ,   0.        ,  -0.        ,   0.        ,\n",
       "         0.        ,  -0.        ,  -0.        ,   0.        ,\n",
       "        -0.        ,   0.        ,   0.        ,  -0.        ,\n",
       "         0.        ,   0.        ,  -0.        ,  -0.        ,\n",
       "         0.        ,   0.        ,  -0.        ,   0.        ,\n",
       "         0.        ,   0.        ,   0.        ,   0.        ,\n",
       "         0.        ,   0.        ,   0.        ,   0.        ,\n",
       "         0.        ,   0.        ,  -0.        ,   0.        ,\n",
       "        -0.        ,   0.        ,   0.        ,   0.        ,\n",
       "         0.        ,   0.        ,   0.        ,  -0.        ,\n",
       "        -0.        ,   0.        ,   0.        ,  -0.        ,\n",
       "         0.        ,   0.        ,  -0.        ,   0.        ,\n",
       "        -0.        ,  -0.        ,   0.        ,   0.        ,\n",
       "         0.        ,   0.        ,  -0.        ,   0.        ,\n",
       "         0.        ,  -0.        ,  -0.        ,   0.        ,\n",
       "        -0.        ,  -0.        ,   0.        ,   0.        ,\n",
       "        -0.        ,   0.        ,   0.        ,   0.        ,\n",
       "         0.        ,   0.        ,  -0.        ,   0.        ,\n",
       "         0.        ,   0.        ,   0.        ,  -0.        ,\n",
       "        -0.        ,   0.        ,  -0.        ,   0.        ,\n",
       "        -0.        ,   0.        ,   0.        ,   0.        ,\n",
       "        -0.        ,  -0.        ,   0.        ,   0.        ,\n",
       "         0.        ,   0.        ,  -0.        ,  -0.        ,\n",
       "        -0.        ,   0.        ,   0.        ,   0.        ,\n",
       "         0.        ,  -0.        ,   0.        ,   0.        ,\n",
       "         0.        ,  -0.        ,   0.        ,   0.        ,\n",
       "         0.        ,   0.        ,   0.        ,   0.        ,\n",
       "         0.        ,  -0.        ,   0.        ,  -0.        ,\n",
       "         0.        ,  -0.        ,  -0.        ,   0.        ,\n",
       "         0.        ,   0.        ,   0.        ,   0.        ,\n",
       "         0.        ,   0.        ,   0.        ,   0.        ,\n",
       "        -0.        ,   0.        ,   0.        ,  -0.        ,\n",
       "        -0.        ,   0.        ,  -0.        ,   0.        ,\n",
       "        -0.        ,  -0.        ,  -0.        ,  -0.        ,\n",
       "         0.        ,  -0.        ,   5.42222188,  -0.        ,\n",
       "         0.        ,   0.        ,   0.        ,   0.        ,\n",
       "         0.        ,   0.        ,  -0.        ,  -0.        ,\n",
       "        -0.        ,   0.        ,   0.        ,  -0.        ,\n",
       "         0.        ,   0.        ,  -0.        ,   0.        ,\n",
       "         0.        ,   0.        ,  -0.        ,  -0.        ,\n",
       "        -0.        ,  -0.        ,   0.        ,   0.        ,\n",
       "        -0.        ,   0.        ,   0.        ,  -0.        ,\n",
       "         0.        ,   0.        ,   0.        ,   0.        ,\n",
       "         0.        ,   0.        ,  -0.        ,  -0.        ,\n",
       "         0.        ,   0.        ,   0.        ,   0.        ,\n",
       "         0.        ,   0.        ,   0.        ,  -0.        ,\n",
       "         0.        ,  -0.        ,  -0.        ,   0.        ,\n",
       "        -0.        ,   0.        ,  -0.        ,   0.        ,\n",
       "         0.        ,  -0.        ,   0.        ,  -0.        ,\n",
       "        -0.        ,   0.        ,  -0.        ,   0.        ,\n",
       "         0.        ,  -0.        ,   0.        ,   0.        ,\n",
       "         0.        ,   0.        ,  -0.        ,   0.        ,\n",
       "         0.        ,  -0.        ,   0.        ,  -0.        ,\n",
       "         0.        ,   0.        ,  -0.        ,   0.        ,\n",
       "         0.        ,   0.        ,   0.        ,   0.        ,\n",
       "         0.        ,   0.        ,   0.        ,   0.        ,\n",
       "         0.        ,   0.        ,   0.        ,   0.        ,\n",
       "         0.        ,  -0.        ,   0.        ,   0.        ,\n",
       "         0.        ,   0.        ,   0.        ,   0.        ,\n",
       "         0.        ,   0.        ,   0.        ,   0.        ,\n",
       "         0.        ,   0.        ,  -0.        ,   0.        ,\n",
       "         4.26108651,   0.        ,  -0.        ,  -0.        ,\n",
       "         0.        ,   0.        ,  -0.        ,   0.        ,\n",
       "         0.        ,   0.        ,   0.        ,  -0.        ,\n",
       "         0.        ,   0.        ,   0.        ,   0.        ,\n",
       "         0.        ,  -0.        ,  -0.        ,  -0.        ,\n",
       "         0.        ,   0.        ,   0.        ,   0.        ,\n",
       "         0.        ,   0.        ,  -0.        ,   0.        ,\n",
       "         0.        ,  -0.        ,   0.        ,  -0.        ,\n",
       "         0.        ,   0.        ,  -0.        ,   0.        ,\n",
       "        -0.        ,   0.        ,   0.        ,  -0.        ,\n",
       "        -0.        ,  -0.        ,  -0.        ,   0.        ,\n",
       "         0.        ,  -0.        ,   0.        ,   0.        ,\n",
       "         0.        ,  -0.        ,   0.        ,   0.        ,\n",
       "         0.        ,   0.        ,   0.        ,  -0.        ,\n",
       "         0.        ,   0.        ,  -0.        ,   0.        ,\n",
       "         0.        ,  -0.        ,   0.        ,   0.        ,\n",
       "         0.        ,   0.        ,   0.        ,   0.        ,\n",
       "         0.        ,  -0.        ,   0.        ,   0.        ,\n",
       "         0.        ,  -0.        ,   0.        ,  -0.        ,\n",
       "        -0.        ,   0.        ,   0.        ,   0.        ,\n",
       "        -0.        ,  -0.        ,   0.        ,   0.        ,\n",
       "        -0.        ,   0.        ,  -0.        ,   0.        ,\n",
       "         0.        ,  -0.        ,   0.        ,   0.        ,\n",
       "         0.        ,   0.        ,   0.        ,   0.        ,\n",
       "        -0.        ,   0.        ,  -0.        ,  -0.        ,\n",
       "        -0.        ,  -0.        ,   0.        ,  -0.        ,\n",
       "         0.        ,   0.        ,   0.        ,   0.        ,\n",
       "         0.        ,   0.        ,   0.        ,   0.        ,\n",
       "        -0.        ,  -0.        ,   0.        ,  -0.        ,\n",
       "         0.        ,   0.        ,   0.        ,  -0.        ,\n",
       "        -0.        ,   0.        ,  -0.        ,   0.        ,\n",
       "         0.        ,  -0.        ,   0.        ,   0.        ,\n",
       "         0.        ,   0.        ,  -0.        ,  -0.        ,\n",
       "         0.        ,   0.        ,   0.        ,   0.        ,\n",
       "        -0.        ,  -0.        ,   0.        ,  -0.        ,\n",
       "         0.        ,   0.        ,   0.        ,   0.        ,\n",
       "        -0.        ,  -0.        ,  -0.        ,  -0.        ,\n",
       "         0.        ,  -0.        ,   0.        ,   0.        ,\n",
       "         0.        ,   0.        ,   0.        ,  -0.        ,\n",
       "         0.        ,   0.        ,   0.        ,  -0.        ,\n",
       "         0.        ,  -0.        ,   0.        ,  -0.        ,\n",
       "         0.        ,   0.        ,   0.        ,  -0.        ,\n",
       "         0.        ,  -0.        ,   0.        ,  -0.        ,\n",
       "         0.        ,   0.        ,   0.        ,  -0.        ,\n",
       "         0.        ,   0.        ,  -0.        ,   0.        ,\n",
       "        -0.        ,   0.        ,   0.        ,   0.        ,\n",
       "         0.        ,  -0.        ,   0.        ,  -0.        ,\n",
       "         0.        ,  -0.        ,   0.        ,   0.        ,\n",
       "         0.        ,   0.        ,   0.        ,   0.        ,\n",
       "         0.        ,   0.        ,  -0.        ,   0.        ,\n",
       "         0.        ,   0.        ,  -0.        ,  -0.        ,\n",
       "        -0.        ,  -0.        ,   0.        ,   0.        ,\n",
       "         0.        ,   0.        ,   0.        ,  -0.        ,\n",
       "        -0.        ,   0.        ,  -0.        ,   0.        ,\n",
       "         0.        ,   0.        ,  -0.        ,   0.        ,\n",
       "         0.        ,   0.        ,   0.        ,  -0.        ,\n",
       "         0.        ,  -0.        ,   0.        ,   0.        ,\n",
       "        -0.        ,  -0.        ,  -0.        ,  -0.        ,\n",
       "        -0.        ,  -0.        ,  -0.        ,   0.        ,\n",
       "         0.        ,  -0.        ,  -0.        ,   0.        ,\n",
       "         0.        ,   0.        ,  -0.        ,   0.        ,\n",
       "        -0.        ,   0.        ,  -0.        ,  -0.        ,\n",
       "         0.        ,  -0.        ,  -0.        ,  -0.        ,\n",
       "         0.        ,   0.        ,  -0.        ,   0.        ,\n",
       "         0.        ,   0.        ,  -0.        ,   0.        ,\n",
       "        -0.        ,   0.        ,   0.        ,   0.        ,\n",
       "        -0.        ,   0.        ,  -0.        ,   0.        ,\n",
       "         0.        ,   0.        ,   0.        ,   0.        ,\n",
       "         0.        ,   0.        ,   0.        ,   0.        ,\n",
       "         0.        ,  -0.        ,   0.        ,   0.        ,   0.        ])"
      ]
     },
     "execution_count": 80,
     "metadata": {},
     "output_type": "execute_result"
    }
   ],
   "source": [
    "lasso.coef_"
   ]
  },
  {
   "cell_type": "code",
   "execution_count": 81,
   "metadata": {
    "collapsed": false
   },
   "outputs": [
    {
     "data": {
      "text/plain": [
       "array([ -1.52782185e+00,  -9.65164342e-01,   4.99928010e-01,\n",
       "         3.10398764e+00,  -2.42007499e+00,   1.12079461e+01,\n",
       "         1.53742557e+00,  -8.04128066e+00,  -2.05010338e+00,\n",
       "         3.75673885e+00,  -1.65296970e+00,  -1.06424599e+01,\n",
       "         1.23906848e+00,   1.47038738e+01,  -1.86902215e+00,\n",
       "        -1.05952302e+01,   4.31558073e+00,  -6.23954454e-01,\n",
       "        -1.92295373e+00,   4.92110102e+00,  -3.08654622e+00,\n",
       "        -3.48013531e+00,   6.90809409e+00,   9.46586861e-01,\n",
       "        -7.94350192e-01,  -3.34615132e+00,  -3.32965726e-01,\n",
       "        -6.59003882e+00,   1.24108747e+01,  -3.74046163e+00,\n",
       "         1.24601033e+01,  -1.53681402e+00,  -6.26788729e-01,\n",
       "        -5.73696378e+00,   4.51013494e-01,   0.00000000e+00,\n",
       "         0.00000000e+00,  -3.15109699e+00,   0.00000000e+00,\n",
       "         0.00000000e+00,   0.00000000e+00,  -1.39641668e+01,\n",
       "         0.00000000e+00,   0.00000000e+00,   0.00000000e+00,\n",
       "         0.00000000e+00,   0.00000000e+00,   0.00000000e+00,\n",
       "        -1.82207983e+01,   0.00000000e+00,   0.00000000e+00,\n",
       "         1.05845909e+01,  -3.91973163e-01,  -7.80725660e+00,\n",
       "        -6.16399809e+00,  -6.20881507e+00,   0.00000000e+00,\n",
       "         0.00000000e+00,   0.00000000e+00,  -1.01648407e+01,\n",
       "         0.00000000e+00,  -1.56462730e+01,   0.00000000e+00,\n",
       "         0.00000000e+00,  -1.10204927e+01,  -9.22764392e+00,\n",
       "         0.00000000e+00,   0.00000000e+00,   0.00000000e+00,\n",
       "        -9.86977978e+00,   0.00000000e+00,   3.58275661e-01,\n",
       "         0.00000000e+00,   0.00000000e+00,   0.00000000e+00,\n",
       "         0.00000000e+00,  -1.15196916e+01,  -6.76060875e+00,\n",
       "         0.00000000e+00,  -1.04265661e+01,  -2.02082784e-01,\n",
       "        -1.07370734e+00,  -7.55589381e+00,   7.24071857e+01,\n",
       "        -5.98592606e+00,  -1.62705964e+01,   0.00000000e+00,\n",
       "         0.00000000e+00,   0.00000000e+00,   0.00000000e+00,\n",
       "         4.34190712e+00,   0.00000000e+00,  -4.38917324e+00,\n",
       "         0.00000000e+00,  -1.06633518e+01,  -9.94856702e+00,\n",
       "        -7.62340008e+00,  -1.59506696e+00,   0.00000000e+00,\n",
       "         0.00000000e+00,   0.00000000e+00,  -8.48540154e+00,\n",
       "        -6.47171038e+00,   0.00000000e+00,   0.00000000e+00,\n",
       "         0.00000000e+00,  -6.04890120e+00,   0.00000000e+00,\n",
       "         0.00000000e+00,  -5.96785122e+00,  -6.49649001e+00,\n",
       "         0.00000000e+00,  -7.61065050e+00,   4.74009257e-01,\n",
       "         9.26634818e+00,  -8.85499273e+00,   0.00000000e+00,\n",
       "         0.00000000e+00,  -4.70913738e+00,  -3.48533934e-01,\n",
       "         0.00000000e+00,   0.00000000e+00,  -2.69191235e+00,\n",
       "        -1.13193628e+00,   0.00000000e+00,   0.00000000e+00,\n",
       "         3.42466927e+01,   0.00000000e+00,  -2.27455167e+00,\n",
       "         0.00000000e+00,   0.00000000e+00,   0.00000000e+00,\n",
       "         0.00000000e+00,   0.00000000e+00,  -1.07143395e+00,\n",
       "         0.00000000e+00,  -1.50878088e+01,   0.00000000e+00,\n",
       "         0.00000000e+00,   0.00000000e+00,   0.00000000e+00,\n",
       "         0.00000000e+00,   0.00000000e+00,  -5.31116905e-01,\n",
       "        -1.10428879e+01,   0.00000000e+00,   1.44187647e+01,\n",
       "        -1.26521572e+01,   0.00000000e+00,   8.18247983e+00,\n",
       "        -1.38444553e-01,   2.83861539e+00,  -6.30806886e+00,\n",
       "        -9.68647701e+00,   0.00000000e+00,   3.98302077e+00,\n",
       "         0.00000000e+00,   0.00000000e+00,  -1.62517064e+01,\n",
       "         0.00000000e+00,   0.00000000e+00,  -2.51317343e+00,\n",
       "        -1.55366442e-01,   0.00000000e+00,   1.55689010e+00,\n",
       "        -5.19144133e+00,   0.00000000e+00,  -6.61473512e+00,\n",
       "        -4.62821801e+00,   9.94152254e+00,   0.00000000e+00,\n",
       "         1.23475106e+01,   5.92522705e+00,   0.00000000e+00,\n",
       "         6.95303458e-01,   0.00000000e+00,   0.00000000e+00,\n",
       "         0.00000000e+00,   0.00000000e+00,  -1.28991206e+01,\n",
       "        -1.19777162e+01,   1.58549657e+00,  -1.69635280e+01,\n",
       "         1.86433923e+01,  -2.30249361e+01,   0.00000000e+00,\n",
       "         0.00000000e+00,   2.36034991e+00,  -8.52073712e+00,\n",
       "        -7.10657235e+00,   2.54755934e+01,   0.00000000e+00,\n",
       "         4.47609439e+01,   0.00000000e+00,  -1.47751498e+01,\n",
       "        -1.98877998e+01,  -1.45957165e+01,   7.59171938e+01,\n",
       "         0.00000000e+00,   0.00000000e+00,   0.00000000e+00,\n",
       "        -8.66279306e+00,   0.00000000e+00,   0.00000000e+00,\n",
       "         0.00000000e+00,  -3.55739687e+00,   0.00000000e+00,\n",
       "         1.19396145e+01,   0.00000000e+00,  -5.69640379e-01,\n",
       "         0.00000000e+00,   4.62642659e+00,   0.00000000e+00,\n",
       "        -3.48622146e+00,   0.00000000e+00,  -2.42407398e+01,\n",
       "         0.00000000e+00,  -1.61357670e+01,  -7.94897642e+00,\n",
       "         2.13133764e+01,   0.00000000e+00,   0.00000000e+00,\n",
       "         8.85124732e+01,   0.00000000e+00,   0.00000000e+00,\n",
       "         0.00000000e+00,   0.00000000e+00,   0.00000000e+00,\n",
       "        -1.07710280e+01,   0.00000000e+00,   0.00000000e+00,\n",
       "        -3.39327638e+00,  -1.14068128e+01,   0.00000000e+00,\n",
       "        -1.19459777e+01,   0.00000000e+00,   1.16432557e+00,\n",
       "        -1.14937158e+01,  -5.53984752e+00,  -3.26225282e+00,\n",
       "         0.00000000e+00,  -2.08347065e+00,   6.23065518e+00,\n",
       "        -9.91300603e+00,   0.00000000e+00,   0.00000000e+00,\n",
       "         0.00000000e+00,  -2.62678685e+00,   9.08600927e+00,\n",
       "         0.00000000e+00,  -3.94247572e+00,  -1.22345549e+01,\n",
       "        -9.98582912e-01,   0.00000000e+00,   0.00000000e+00,\n",
       "        -5.84535344e+00,   0.00000000e+00,   0.00000000e+00,\n",
       "        -8.03714271e+00,   0.00000000e+00,   0.00000000e+00,\n",
       "         0.00000000e+00,  -1.24109223e+01,  -1.27515009e+01,\n",
       "        -1.87707221e+01,  -6.08843837e+00,   0.00000000e+00,\n",
       "         0.00000000e+00,  -9.01721270e+00,   0.00000000e+00,\n",
       "         0.00000000e+00,  -3.22122730e-01,   0.00000000e+00,\n",
       "         1.26270013e+01,   0.00000000e+00,   7.73126470e+00,\n",
       "         0.00000000e+00,   0.00000000e+00,  -5.12738804e+00,\n",
       "         1.26290494e+00,   1.34760964e+01,   0.00000000e+00,\n",
       "         0.00000000e+00,   0.00000000e+00,   9.32664800e+00,\n",
       "         0.00000000e+00,   0.00000000e+00,  -3.65959078e+00,\n",
       "         1.32582030e+00,  -1.36232442e+01,  -1.27607511e+01,\n",
       "         0.00000000e+00,  -6.03349210e+00,   1.00329885e+02,\n",
       "        -1.12590427e+01,   0.00000000e+00,   1.36917236e+01,\n",
       "        -1.56021462e+00,   0.00000000e+00,  -9.59338828e+00,\n",
       "        -3.35120358e+00,   8.15832238e+00,  -4.08173906e+00,\n",
       "         0.00000000e+00,   8.93886995e+01,  -2.31815351e+00,\n",
       "         0.00000000e+00,   0.00000000e+00,   0.00000000e+00,\n",
       "         0.00000000e+00,  -2.88463485e+00,   1.79060725e+00,\n",
       "         0.00000000e+00,  -1.18152707e+01,   0.00000000e+00,\n",
       "        -8.17571723e+00,   0.00000000e+00,   1.87065286e+01,\n",
       "        -2.53618874e+00,   0.00000000e+00,   0.00000000e+00,\n",
       "         0.00000000e+00,   0.00000000e+00,   2.06421859e+01,\n",
       "         0.00000000e+00,   0.00000000e+00,   0.00000000e+00,\n",
       "         1.31630241e+01,   0.00000000e+00,   0.00000000e+00,\n",
       "         0.00000000e+00,   1.55022501e+01,   0.00000000e+00,\n",
       "        -3.34892966e+00,   0.00000000e+00,   0.00000000e+00,\n",
       "         0.00000000e+00,   0.00000000e+00,   0.00000000e+00,\n",
       "         0.00000000e+00,   0.00000000e+00,   0.00000000e+00,\n",
       "         0.00000000e+00,   0.00000000e+00,   5.19315432e+00,\n",
       "        -3.34338257e+00,  -8.86737490e+00,   0.00000000e+00,\n",
       "         1.06758351e+01,   0.00000000e+00,  -9.18494681e+00,\n",
       "         3.66197279e+00,   0.00000000e+00,   0.00000000e+00,\n",
       "         3.00851903e+00,   0.00000000e+00,   0.00000000e+00,\n",
       "         0.00000000e+00,   0.00000000e+00,   4.24521125e+00,\n",
       "         0.00000000e+00,   0.00000000e+00,   0.00000000e+00,\n",
       "         0.00000000e+00,   7.18630531e+00,   2.44983296e+00,\n",
       "        -3.93768454e+00,  -2.49455396e-01,   0.00000000e+00,\n",
       "         1.42883837e+01,   0.00000000e+00,   0.00000000e+00,\n",
       "         0.00000000e+00,   0.00000000e+00,  -8.60167181e+00,\n",
       "         0.00000000e+00,   1.22736252e+01,  -1.17113324e+00,\n",
       "         1.09053645e+01,  -9.11533992e+00,   9.54726490e+00,\n",
       "        -1.22556263e+00,  -3.44935475e+00,   0.00000000e+00,\n",
       "         3.25976436e+00,   0.00000000e+00,   0.00000000e+00,\n",
       "        -5.17587655e+00,  -2.20514689e+00,  -8.57908516e+00,\n",
       "        -8.34253182e-01,   7.87148964e+00,   0.00000000e+00,\n",
       "         2.24769394e+00,   3.06222566e+00,   0.00000000e+00,\n",
       "         0.00000000e+00,  -4.92423169e+00,   0.00000000e+00,\n",
       "        -3.90061945e+00,   0.00000000e+00,   0.00000000e+00,\n",
       "         0.00000000e+00,  -5.97254658e+00,   0.00000000e+00,\n",
       "         0.00000000e+00,  -1.40525357e+01,   6.49986935e+00,\n",
       "         1.25163934e+01,  -5.84198750e+00,   3.83135251e+00,\n",
       "         1.62814647e+00,   0.00000000e+00,   0.00000000e+00,\n",
       "         1.43351730e+01,   0.00000000e+00,   2.51539148e+01,\n",
       "        -2.04421610e-01,   0.00000000e+00,   0.00000000e+00,\n",
       "         0.00000000e+00,  -6.76548615e+00,   0.00000000e+00,\n",
       "        -4.87561049e+00,  -4.19460540e+00,   0.00000000e+00,\n",
       "         3.42756827e+00,   0.00000000e+00,  -1.24826957e+01,\n",
       "        -1.01742313e+01,   0.00000000e+00,   0.00000000e+00,\n",
       "        -8.87333936e+00,   0.00000000e+00,  -3.43048329e+00,\n",
       "         0.00000000e+00,   0.00000000e+00,   2.03106934e+00,\n",
       "         0.00000000e+00,   0.00000000e+00,   0.00000000e+00,\n",
       "         2.74471830e+00,   0.00000000e+00,   0.00000000e+00,\n",
       "        -1.12111406e+01,   0.00000000e+00,  -1.14774087e+00,\n",
       "         2.16427277e-01,  -1.35144896e+01,  -1.26236429e+00,\n",
       "         0.00000000e+00,  -5.89434130e-01,   0.00000000e+00,\n",
       "         0.00000000e+00,   0.00000000e+00,   0.00000000e+00,\n",
       "         2.62596547e+00,   0.00000000e+00,   0.00000000e+00,\n",
       "         2.04817809e+01,  -5.66316004e+00,  -1.24713840e+01,\n",
       "         0.00000000e+00,  -1.57725446e+01,   0.00000000e+00,\n",
       "         1.54392597e+01,   6.64301387e+00,  -6.27244295e+00,\n",
       "        -6.50411707e+00,   0.00000000e+00,  -5.30140874e+00,\n",
       "         0.00000000e+00,   0.00000000e+00,  -5.80984291e+00,\n",
       "         0.00000000e+00,   0.00000000e+00,   0.00000000e+00,\n",
       "         0.00000000e+00,  -8.41489341e+00,  -4.31859444e+00,\n",
       "         3.92857705e+00,   1.00329885e+02,   0.00000000e+00,\n",
       "         0.00000000e+00,  -1.10898243e+01,  -2.33359054e+00,\n",
       "        -5.46206514e+00,  -4.54539963e+00,   2.32565733e+00,\n",
       "         0.00000000e+00,   0.00000000e+00,   0.00000000e+00,\n",
       "         2.98525087e-01,  -1.08720477e+01,  -3.85112850e+00,\n",
       "        -1.17888611e+01,   0.00000000e+00,  -6.28897637e+00,\n",
       "         0.00000000e+00,   0.00000000e+00,   0.00000000e+00,\n",
       "         0.00000000e+00,   0.00000000e+00,  -2.12843764e+00,\n",
       "         0.00000000e+00,   6.55984428e+00,   0.00000000e+00,\n",
       "         2.24328026e+00,   0.00000000e+00,   2.72783039e+00,\n",
       "         0.00000000e+00,   2.85064838e+00,   0.00000000e+00,\n",
       "         0.00000000e+00,   0.00000000e+00,  -7.19259023e+00,\n",
       "         6.58550148e+00,   8.75850492e-01,   0.00000000e+00,\n",
       "        -6.86856357e+00,   0.00000000e+00,   0.00000000e+00,\n",
       "         0.00000000e+00,  -1.21097814e+00,   0.00000000e+00,\n",
       "         8.18247983e+00,  -6.73483859e+00,   0.00000000e+00,\n",
       "        -2.29700278e+00,   1.25734491e+01,   1.89225603e+01,\n",
       "         0.00000000e+00,   0.00000000e+00,  -1.21973626e+01,\n",
       "         4.32187145e+00,  -2.51995222e+00,   7.44991084e+00,\n",
       "        -1.60716923e+01,   0.00000000e+00,   2.67927076e+01,\n",
       "        -2.64214925e+00,   3.56812346e+00,   0.00000000e+00,\n",
       "         0.00000000e+00,   0.00000000e+00,   5.38299739e+00,\n",
       "        -4.01577794e+00,   0.00000000e+00,   0.00000000e+00,\n",
       "         9.00965116e+00,   6.50667111e-01,  -1.29832693e+01,\n",
       "        -6.04936451e+00,  -4.87917919e+00,   0.00000000e+00,\n",
       "         0.00000000e+00,   0.00000000e+00,   0.00000000e+00,\n",
       "         0.00000000e+00,  -8.12337778e+00,  -7.18913845e+00,\n",
       "         7.18922232e+00,   3.15185062e+00,   0.00000000e+00,\n",
       "         0.00000000e+00,   0.00000000e+00,  -5.08795876e+00,\n",
       "         0.00000000e+00,   0.00000000e+00,   0.00000000e+00,\n",
       "         0.00000000e+00,  -8.28502881e+00,   1.79838729e-01,\n",
       "        -1.45908690e+01,   0.00000000e+00,   0.00000000e+00,\n",
       "        -6.15567022e-01,  -5.57488531e+00,   2.28809125e+00,\n",
       "        -2.77835670e+00,  -3.26928028e+00,  -7.87031857e+00,\n",
       "         7.71222309e-02,   0.00000000e+00,   0.00000000e+00,\n",
       "        -4.45490027e+00,  -3.24257501e+00,   1.86585423e+01,\n",
       "         0.00000000e+00,   0.00000000e+00,  -1.58387782e+01,\n",
       "         0.00000000e+00,  -1.44096120e+00,   0.00000000e+00,\n",
       "         6.43000149e-01,   2.39523520e+00,   0.00000000e+00,\n",
       "        -7.31513042e+00,  -8.74002212e-01,  -9.96346995e+00,\n",
       "         0.00000000e+00,   0.00000000e+00,  -7.28333164e+00,\n",
       "         3.29952644e+00,   0.00000000e+00,   0.00000000e+00,\n",
       "        -6.50712771e+00,   0.00000000e+00,  -4.89716848e+00,\n",
       "         3.21611028e+01,   0.00000000e+00,   0.00000000e+00,\n",
       "        -5.73439797e+00,   0.00000000e+00,  -9.23232179e+00,\n",
       "        -4.72800367e+00,   0.00000000e+00,   0.00000000e+00,\n",
       "         0.00000000e+00,   0.00000000e+00,   0.00000000e+00,\n",
       "         0.00000000e+00,   1.47295779e+00,   0.00000000e+00,\n",
       "         0.00000000e+00,  -8.10068481e+00,   0.00000000e+00,\n",
       "         0.00000000e+00,   2.02061822e+01])"
      ]
     },
     "execution_count": 81,
     "metadata": {},
     "output_type": "execute_result"
    }
   ],
   "source": [
    "ridge.coef_"
   ]
  },
  {
   "cell_type": "markdown",
   "metadata": {},
   "source": [
    "При использовании регуляризации качество прогноза только ухудшилось, хоть и пропала проблема с большимим значениями коэффициентов. \n",
    "\n",
    "Отметим, что модель Lasso зануляет большую часть коэффициентов, выполняя так называемую селекцию признаков."
   ]
  },
  {
   "cell_type": "markdown",
   "metadata": {},
   "source": [
    "Посмотрим как справится с данной задачей регрессии нелинейная модель."
   ]
  },
  {
   "cell_type": "markdown",
   "metadata": {},
   "source": [
    "**Случайный лес**"
   ]
  },
  {
   "cell_type": "code",
   "execution_count": 82,
   "metadata": {
    "collapsed": false
   },
   "outputs": [
    {
     "name": "stdout",
     "output_type": "stream",
     "text": [
      "Коэффициент дерминации на тестовой выборке, RF: 0.842013\n",
      "Среднеквадратичная ошибка на тестовой выборке, RF: 212.553840\n"
     ]
    }
   ],
   "source": [
    "from sklearn.ensemble import RandomForestRegressor\n",
    "\n",
    "forest = RandomForestRegressor(n_estimators=10)\n",
    "forest.fit(X_train, y_train)\n",
    "pred = forest.predict(X_test)\n",
    "print(\"Коэффициент дерминации на тестовой выборке, RF: %f\" %r2_score(y_test, pred))\n",
    "print(\"Среднеквадратичная ошибка на тестовой выборке, RF: %f\" %mean_squared_error(y_test, pred))"
   ]
  },
  {
   "cell_type": "markdown",
   "metadata": {},
   "source": [
    "### Градиентный спуск\n",
    "\n",
    "В предыдущем разделе мы использовали существующие реализации методов обучения линейной регрессии с регуляризацией и без. Тем не менее, подобные реализации, как правило, имеются лишь для ограниченного набора стандартных методов. В частности, при выходе функционала качества за пределы стандартного множества необходимо самостоятельно реализовывать составляющие процесса решения оптимизационной задачи. Именно этому и посвящен данный раздел задания.\n",
    "\n",
    "Пусть необходимо минимизировать следующий функционал (Mean Square Percentage Error — модифицированный [RMSPE](https://www.kaggle.com/c/rossmann-store-sales/details/evaluation)):\n",
    "$$MSPE(\\{x_i, y_i\\}_{i=1}^l, \\, w) = \\frac{1}{l}\\sum_{i=1}^l \\left( \\frac{y_i - \\langle w, x_i \\rangle }{y_i} \\right)^2,$$\n",
    "\n",
    "где $\\{x_i, y_i\\}_{i=1}^l$ — обучающая выборка, $w$ — вектор весов линейной модели. Будем также рассматривать функционал $MSPE$ с L2-регуляризацией:\n",
    "\n",
    "$$MSPE(\\{x_i, y_i\\}_{i=1}^l, \\, w) = \\frac{1}{l}\\sum_{i=1}^l \\left( \\frac{y_i - \\langle w, x_i \\rangle }{y_i} \\right)^2 + ||w||_2^2.$$\n",
    "\n",
    "**19. (0 баллов)** Добавьте к объектам обеих выборок из п. 16 единичный признак."
   ]
  },
  {
   "cell_type": "code",
   "execution_count": 83,
   "metadata": {
    "collapsed": true
   },
   "outputs": [],
   "source": [
    "X_train['ones'] = np.ones(len(X_train))\n",
    "X_test['ones'] = np.ones(len(X_test))"
   ]
  },
  {
   "cell_type": "markdown",
   "metadata": {},
   "source": [
    "**20. (1 балл)** Реализуйте функции, которые вычисляют:\n",
    " * прогнозы линейной модели;\n",
    " * функционал $MSPE$ и его градиент;\n",
    " * регуляризованный $MSPE$ и его градиент."
   ]
  },
  {
   "cell_type": "code",
   "execution_count": 84,
   "metadata": {
    "collapsed": true
   },
   "outputs": [],
   "source": [
    "# возвращает вектор прогнозов линейной модели с вектором весов w для выборки X\n",
    "def make_pred(X, w):\n",
    "    n = len(X)\n",
    "    target = np.dot(X, w)\n",
    "    return target"
   ]
  },
  {
   "cell_type": "code",
   "execution_count": 85,
   "metadata": {
    "collapsed": false
   },
   "outputs": [
    {
     "name": "stdout",
     "output_type": "stream",
     "text": [
      "[  7.87207031  14.02416992  14.0390625  ...,  12.61376953  20.3614502\n",
      "  14.12072754]\n",
      "Wall time: 681 ms\n"
     ]
    }
   ],
   "source": [
    "%%time\n",
    "w = lr.coef_\n",
    "w = np.append(w, lr.intercept_)\n",
    "y = make_pred(X_train, w)\n",
    "print(y)"
   ]
  },
  {
   "cell_type": "code",
   "execution_count": 86,
   "metadata": {
    "collapsed": false
   },
   "outputs": [
    {
     "name": "stdout",
     "output_type": "stream",
     "text": [
      "28.41634710479635\n",
      "Wall time: 15.3 s\n"
     ]
    }
   ],
   "source": [
    "%%time\n",
    "# возвращает значение функционала MSPE для выборки (X, y) и вектора весов w\n",
    "def get_func(w, X, y):\n",
    "    wx = make_pred(X, w)\n",
    "    return np.mean(((y - wx) / y)**2)\n",
    "\n",
    "print(get_func(w, X_train, y_train))"
   ]
  },
  {
   "cell_type": "code",
   "execution_count": 87,
   "metadata": {
    "collapsed": false
   },
   "outputs": [
    {
     "name": "stdout",
     "output_type": "stream",
     "text": [
      "[ -2.90571356e-01   1.12188385e-02   5.70737302e-02  -1.58641910e-01\n",
      "   3.47485173e-01   3.90131865e-01   3.17290728e-01   3.82190998e-01\n",
      "  -7.23452544e-02   3.93230514e-01   3.73572493e-01   6.73899627e-01\n",
      "   6.83305569e-02   9.23167297e-01   5.49016146e-02   8.96513266e-02\n",
      "   3.39331038e-01  -9.56641268e-04   4.66941479e-02   7.67478357e-02\n",
      "   1.75283049e-01   2.02951601e-01   1.73565257e-01   2.70769059e-02\n",
      "   1.04712586e-01   3.09111821e-03   2.10197246e-01   8.67575065e-02\n",
      "   4.74333964e-02   1.49311889e-01   3.13350858e-01   1.33382813e-01\n",
      "   8.97185683e-01   1.60827501e-01   9.45888010e-02   1.16881462e-03\n",
      "   8.28789084e-04   2.03108817e-02   1.68009147e-04   8.69865059e-05\n",
      "   1.34411321e-03   1.16037805e-03   1.21410238e-08  -0.00000000e+00\n",
      "  -2.93064429e-04   1.93122225e-03   2.76795710e-03  -0.00000000e+00\n",
      "   5.58340493e-03  -1.46574040e-05   1.62254816e-03   7.54342224e-03\n",
      "   1.76906325e-03   2.27136883e-01   6.47126070e-04   2.77850815e-02\n",
      "   6.89431173e-04  -1.43901592e-03   9.21981136e-04   2.30099619e-02\n",
      "   1.31075496e-04  -2.25112758e-04   2.84223859e-04   3.54288999e-04\n",
      "   1.20694876e-02  -4.63437858e-04   2.56096897e-04  -0.00000000e+00\n",
      "   1.38555926e-03   2.60233395e-02   5.18552965e-03   5.04925485e-02\n",
      "   1.49899329e-07   4.70224266e-04   3.93998271e-06   2.64573651e-05\n",
      "  -9.18569035e-04   2.67247366e-03   2.19908055e-03   9.29245718e-03\n",
      "   1.54663539e-02   5.37359884e-02   7.26201025e-04   9.67197895e-03\n",
      "   6.45717783e-03   3.98339356e-05   2.78001868e-05   1.16106919e-04\n",
      "   4.93245164e-04   1.01333122e-03   3.61831539e-03   4.24665759e-04\n",
      "   2.85425060e-03   1.68905703e-04   2.35251805e-02  -1.08715767e-04\n",
      "   4.67124680e-02   8.91480059e-03   1.29235962e-03   2.95976913e-06\n",
      "  -3.09026652e-04   8.11366969e-04   1.18952577e-03  -1.76173210e-04\n",
      "   1.28762871e-03   1.20617665e-02   3.66036155e-02   5.89887800e-04\n",
      "   1.03976946e-03   3.52741671e-02   6.08923438e-03  -1.57067250e-05\n",
      "   2.52284460e-02   1.25384515e-01   1.67506449e-01   1.85769078e-04\n",
      "  -5.60259386e-05  -4.37551877e-04   3.04615163e-03   7.24425078e-02\n",
      "   1.92933203e-03   3.72555656e-04   1.21716116e-04   7.09796417e-03\n",
      "  -1.06639621e-04   1.02323559e-03   9.18769660e-05   2.47251365e-03\n",
      "   8.87823991e-02   2.97952481e-05   6.09818989e-04   1.32526353e-03\n",
      "   3.95378981e-03   4.74017499e-03   9.04158040e-05   7.10260770e-05\n",
      "   2.63204503e-02  -6.36040732e-09   1.81372696e-03   1.47943429e-03\n",
      "   7.49567939e-05   1.47465341e-03  -9.12621319e-05   6.98711813e-03\n",
      "   8.05960335e-05  -2.12258528e-05  -3.47383605e-04  -4.68480693e-05\n",
      "   6.92173111e-04   7.21463666e-04   1.62567300e-03   2.86163242e-03\n",
      "   5.74200816e-03   4.35231153e-03  -0.00000000e+00   1.95827311e-04\n",
      "   1.00774058e-06  -4.74929828e-05  -3.12440474e-04   1.47842115e-03\n",
      "   7.64447947e-05   3.97301051e-03   4.26936495e-02   1.85059606e-03\n",
      "   8.73995468e-04   4.25028796e-03   4.21735116e-08   5.50779052e-02\n",
      "   1.16403317e-01   7.42136184e-03   2.38134144e-04   2.28134833e-03\n",
      "   1.63006075e-02  -0.00000000e+00  -8.03118678e-04   4.76717916e-03\n",
      "   1.43481631e-04  -2.70263932e-04   4.23776417e-06   1.15415546e-03\n",
      "   8.37697771e-03   1.11536404e-02   4.54826542e-02   2.83524483e-03\n",
      "   1.61338409e-03   5.06204192e-05   2.65620727e-04   1.09965543e-01\n",
      "   3.71579066e-04   8.88344901e-02   8.06152653e-03   3.67814944e-03\n",
      "   5.38715918e-03   7.49659223e-04   3.35879545e-02   3.92585904e-03\n",
      "   4.06330556e-05   9.33007081e-03   4.95080354e-10   2.11581043e-03\n",
      "   1.15026526e-04  -4.10773065e-04  -1.98643352e-09  -6.61313217e-05\n",
      "  -6.52205473e-06   9.34380636e-04   6.43318643e-04   2.97840815e-02\n",
      "  -3.81871120e-05   9.15921613e-02  -7.17682920e-04   9.10787894e-02\n",
      "  -1.10390817e-05   2.72518735e-02   2.10866443e-04   2.10623160e-03\n",
      "   2.24995810e-03   7.64064164e-03   4.59103717e-02   1.22000290e-02\n",
      "  -2.89924556e-06  -3.63809659e-04   3.70100769e-03   4.88878161e-05\n",
      "   1.79097004e-03   3.51200068e-03  -6.33118057e-06   7.86283226e-04\n",
      "   1.47964093e-03   4.50584556e-03  -2.82178022e-04   5.64024396e-02\n",
      "   1.77781916e-02   1.99627478e-04   1.47234682e-03  -8.28047603e-05\n",
      "   3.30631970e-02   3.38883725e-03   5.38279517e-03   8.17871424e-03\n",
      "   5.87409067e-05   1.37651405e-02   2.37791366e-01   6.35539259e-03\n",
      "   3.09760834e-04   2.68210350e-04   1.28987730e-04   1.19031485e-02\n",
      "   3.02821412e-02   2.40145373e-03   7.75813554e-04   5.13763783e-02\n",
      "   9.10423230e-02   1.70831296e-04   5.54527038e-04   1.23118663e-02\n",
      "  -3.16301337e-08   5.28782726e-04   7.51891560e-03  -1.63173392e-04\n",
      "  -4.88381233e-05   9.97036823e-09   2.19557093e-03   1.23967559e-02\n",
      "   4.13249920e-03   1.22562911e-03   3.72136842e-04   2.43896739e-03\n",
      "   3.33001102e-02  -8.01814084e-05   9.04091223e-12   5.78622152e-03\n",
      "  -1.38054695e-04   1.32238436e-02   6.08661832e-04   3.27445859e-03\n",
      "  -4.64102939e-05   6.92832401e-04   6.22284719e-03   4.59050978e-02\n",
      "   1.95790901e-02   4.87151612e-03   1.11388193e-03   4.03811928e-03\n",
      "   1.63083917e-03   9.82202790e-05   2.63996655e-03   1.26172765e-02\n",
      "   4.96216038e-02   7.66570527e-02   4.18956351e-03   2.29837352e-03\n",
      "   4.69202970e-03   4.54710392e-03   2.35354275e-02   2.94903810e-06\n",
      "   6.53645769e-03   4.26546171e-02  -6.15518878e-05   1.97848125e-02\n",
      "   3.37314394e-05   1.78543524e-02   1.42626898e-03   2.70028517e-03\n",
      "   2.26435358e-03   2.86805378e-02   3.99519627e-04  -1.22219922e-06\n",
      "   1.20366362e-03   1.40055152e-04   1.95919668e-03   1.55463984e-03\n",
      "  -0.00000000e+00   2.45798331e-03   2.40477266e-03   4.66502702e-02\n",
      "   3.22597602e-04   7.14396699e-03   8.46764526e-03   9.29834388e-04\n",
      "   5.68261632e-04   2.30313666e-04   2.70216232e-06   4.38969384e-03\n",
      "   1.68082012e-04   4.08120820e-03   8.21480812e-04   6.70478238e-03\n",
      "   8.51521541e-07  -1.93423616e-05  -4.38453545e-04   2.96969780e-03\n",
      "   8.45912782e-04   2.45664561e-02   5.80659196e-04   8.59514503e-12\n",
      "   1.09090249e-03   2.23592770e-03  -0.00000000e+00   1.03141740e-09\n",
      "   4.16244125e-05   1.74978658e-03   5.40069774e-04   1.16129959e-08\n",
      "   5.61260987e-03   1.71091888e-03   5.44858707e-03   2.08512794e-03\n",
      "   1.95768917e-01   1.00987092e-03   2.95704004e-02   1.28026213e-03\n",
      "   4.28922244e-03   3.17072835e-04   2.32782129e-02   1.55610325e-03\n",
      "   2.57712139e-04   1.69394558e-04   9.76727709e-04   1.05140354e-02\n",
      "   5.26281176e-04   3.47217753e-04  -0.00000000e+00  -0.00000000e+00\n",
      "   2.89065776e-03   3.62184960e-02   5.01271628e-03   6.40875487e-02\n",
      "   2.24110448e-09   3.55915550e-04   3.75639374e-05   3.90027260e-03\n",
      "   1.33128008e-04  -3.49536391e-05   5.15288700e-03   3.66379182e-03\n",
      "   1.23241775e-02   2.08065494e-02   6.43383419e-02   3.37145616e-03\n",
      "   4.12036934e-03   3.45897900e-03  -4.51223813e-05   7.71072296e-05\n",
      "   3.03203145e-04   4.14887661e-03   1.46748129e-04   5.71984430e-03\n",
      "   3.67424024e-04   4.21947735e-03  -1.54206380e-04   2.65181360e-02\n",
      "   1.33452542e-04   3.52791510e-02   1.92455756e-02   2.91209282e-03\n",
      "   5.35794295e-06   1.48614495e-04   9.58251902e-03   8.53896016e-04\n",
      "   1.06446515e-03   5.16195757e-04   8.75708239e-04   2.34292946e-02\n",
      "   2.46343199e-03   5.44315164e-04   3.67257977e-02   6.92670824e-03\n",
      "   2.92685181e-07   2.73835925e-02   9.30839224e-02   9.81364652e-02\n",
      "   2.10848458e-04   6.81928862e-10   5.74421362e-04  -2.11602853e-04\n",
      "   7.79122650e-03   3.62937466e-02   2.30299430e-03   2.40904312e-04\n",
      "   1.23370872e-03   1.22530146e-02   1.65309355e-04   2.78571607e-03\n",
      "   1.93294516e-03   4.68119157e-04   1.12439903e-01   1.40656527e-04\n",
      "   2.63086001e-04   8.72810307e-04   3.97929559e-03   3.32995105e-03\n",
      "  -6.74618643e-04   2.72186860e-04   2.87053938e-02   1.74179715e-05\n",
      "   3.86001368e-03   8.99890705e-04   8.85679184e-04   1.09103083e-03\n",
      "  -1.17339486e-05   3.52468159e-03  -1.18819285e-08   5.90907622e-04\n",
      "   2.24315887e-03   2.97365844e-03   3.34564749e-03   3.79534419e-03\n",
      "   2.31791279e-03   8.30504104e-03   6.66286049e-03   4.21764448e-03\n",
      "   2.90956314e-09   9.28474590e-04   2.53730393e-05   1.13419369e-04\n",
      "   1.72829320e-04  -1.63500287e-07  -2.21978145e-05   1.41541022e-02\n",
      "   3.49232217e-02   5.56692573e-03   1.43025042e-03   3.73468536e-03\n",
      "   9.02146422e-09   3.95185627e-02   6.35884975e-02   5.32556776e-03\n",
      "   8.56816583e-04   7.18988958e-05   2.11155516e-02   2.20035713e-10\n",
      "  -4.17423027e-05   7.18198167e-03  -3.43805801e-10  -3.76438742e-04\n",
      "  -6.34790308e-05   2.64098745e-03   8.42718686e-03   2.05951941e-02\n",
      "   6.09388145e-02   3.96595367e-03  -3.33563743e-04   1.59822609e-03\n",
      "   1.69565199e-03   1.14685057e-01   5.11204865e-04   9.66046413e-02\n",
      "   8.75690037e-03   1.03265103e-03   4.28111294e-03   1.68710544e-03\n",
      "   6.66531846e-02   3.26196562e-03   3.56681927e-03   9.36112202e-03\n",
      "  -0.00000000e+00   1.05809593e-03   5.87990041e-04   3.72062728e-04\n",
      "  -1.12208027e-05   2.06283481e-08   1.04040394e-03   2.87689980e-03\n",
      "   1.35342307e-04   3.38428166e-02   1.75193903e-04   8.25976791e-02\n",
      "   2.39444059e-03   5.93396721e-02   5.54974784e-05   2.14782784e-02\n",
      "   1.08771275e-03   1.07286319e-03   3.53063126e-03   8.51067706e-03\n",
      "   4.13442293e-02   1.34390687e-02  -1.29801949e-06   3.29154839e-03\n",
      "   5.14080987e-03   2.31870977e-03   5.60143990e-03   9.50006162e-04\n",
      "  -3.66952994e-04   2.61112434e-05   2.68947278e-04   4.54996316e-03\n",
      "   1.80601545e-04   3.21564533e-02   2.16103739e-02   1.34127346e-04\n",
      "   8.37295748e-04   1.90700301e-04   3.67186047e-02   6.52367495e-03\n",
      "   1.60997013e-02   1.56698380e-02   3.69509002e-04   1.48073196e-02\n",
      "   1.97738862e-01   8.01297467e-03   1.49382562e-05   2.02010347e-05\n",
      "  -3.49486709e-04   1.69217492e-02   3.18608642e-02   5.23277309e-04\n",
      "   4.27997694e-03   4.53508258e-02   6.69598455e-02   1.50296228e-03\n",
      "  -2.97033268e-05   2.00782907e-02  -1.54024999e-09   2.03987676e-04\n",
      "   2.93198792e-03   9.21604074e-05   8.07955874e-05   1.22106315e-04\n",
      "   5.56447641e-03   9.73450348e-03   2.38287458e-03   1.54790766e-03\n",
      "   3.80997056e-04   3.98818195e-04   3.47827980e-02  -4.27847219e-09\n",
      "   5.95621272e-05   1.52923815e-02   1.43254060e-04   2.03306943e-02\n",
      "   8.83439132e-04   1.59365594e-03   1.64881913e-03   9.26348728e-04\n",
      "   1.66064317e-02   5.94185604e-02   2.99618087e-02   4.45014410e-03\n",
      "   4.02095067e-03   3.36087697e-03  -3.85817252e-05  -6.18653021e-06\n",
      "  -1.39419364e-04   1.85515586e-02   3.91751329e-02   8.94671242e-02\n",
      "   6.79925993e-03   4.52517587e-04   2.28631806e-03   2.71946788e-06\n",
      "   2.66926754e-02   3.11968471e-04   2.21065597e-02   4.79933536e-02\n",
      "  -3.66510566e-06   3.01840234e-02   3.61805830e-04   1.28282136e-02\n",
      "   5.16666312e-04   1.42597857e-03   5.16714781e-03   3.28604206e-02\n",
      "   4.16792883e-03   7.05417497e-04   8.40083029e-04  -1.00238491e-09\n",
      "   3.14243785e-03   1.12785796e-02   6.85165062e-04   4.09596127e-04\n",
      "   5.17454752e-02   3.86777079e-04   1.43566133e-02   1.17106796e-02\n",
      "   2.33857215e-03  -2.25039397e-04   7.59372888e-05  -7.85107468e-05\n",
      "   8.32122667e-03   1.47148610e-04   5.64287753e-03  -1.71861460e-05\n",
      "  -2.50646565e-05   8.67971570e-03  -2.87559627e-05   1.57705709e-05\n",
      "   8.76452893e-05   3.33118392e+00]\n"
     ]
    }
   ],
   "source": [
    "# возвращает градиент функционала MSPE для выборки (X, y) и вектора весов w\n",
    "def get_grad(w, X, y):\n",
    "    n = len(w)\n",
    "    m = len(X)\n",
    "    wx = make_pred(X, w)\n",
    "    grad = -2 * np.dot(np.transpose(X), (y - wx) / y**2) / m\n",
    "    return grad\n",
    "\n",
    "print(get_grad(w, X_train, y_train))"
   ]
  },
  {
   "cell_type": "code",
   "execution_count": 88,
   "metadata": {
    "collapsed": false
   },
   "outputs": [
    {
     "name": "stdout",
     "output_type": "stream",
     "text": [
      "1.11084076691e+26\n"
     ]
    }
   ],
   "source": [
    "# возвращает значение регуляризованного функционала MSPE для выборки (X, y) и вектора весов w\n",
    "def get_reg_func(w, X, y):\n",
    "    nonreg = get_func(w, X, y)\n",
    "    regularization = np.linalg.norm(w)\n",
    "    return nonreg + regularization**2\n",
    "\n",
    "print(get_reg_func(w, X_train, y_train))"
   ]
  },
  {
   "cell_type": "code",
   "execution_count": 89,
   "metadata": {
    "collapsed": false
   },
   "outputs": [
    {
     "name": "stdout",
     "output_type": "stream",
     "text": [
      "[ -2.85675402e+00   6.10608127e-01   5.13497788e-01   1.96584150e+00\n",
      "   3.20913133e+01   1.41687663e+01  -3.26589454e+01  -1.00740314e+01\n",
      "  -9.94899593e-01   2.19904811e+00   8.81625332e-01  -1.12844140e+01\n",
      "   1.65838433e-01   2.04766511e+01   9.33140219e-01   1.30013293e+11\n",
      "   1.30013293e+11   1.30013293e+11   1.30013293e+11   1.30013293e+11\n",
      "   1.30013293e+11   1.30013293e+11   1.30013293e+11   1.30013293e+11\n",
      "   1.30013293e+11   1.30013293e+11   1.30013293e+11   1.30013293e+11\n",
      "   1.30013293e+11   1.30013293e+11   1.30013293e+11   1.30013293e+11\n",
      "   1.30013293e+11   1.30013293e+11   1.30013293e+11   1.62475891e+11\n",
      "   1.62475891e+11   1.62475891e+11   1.62475891e+11   1.62475891e+11\n",
      "   1.62475891e+11   1.62475891e+11   1.62475891e+11   8.96317038e+12\n",
      "   1.62475891e+11   1.62475891e+11   1.62475891e+11   1.18588666e+13\n",
      "   1.62475891e+11   1.62475891e+11   1.62475891e+11   1.62475891e+11\n",
      "   1.62475891e+11   1.62475891e+11   1.62475891e+11   1.62475891e+11\n",
      "   1.62475891e+11   1.62475891e+11   1.62475891e+11   1.62475891e+11\n",
      "   1.62475891e+11   1.62475891e+11   1.62475891e+11   1.62475891e+11\n",
      "   1.62475891e+11   1.62475891e+11   1.62475891e+11  -1.21318880e+12\n",
      "   1.62475891e+11   1.62475891e+11   1.62475891e+11   1.62475891e+11\n",
      "   1.62475891e+11   1.62475891e+11   1.62475891e+11   1.62475891e+11\n",
      "   1.62475891e+11   1.62475891e+11   1.62475891e+11   1.62475891e+11\n",
      "   1.62475891e+11   1.62475891e+11   1.62475891e+11   1.62475891e+11\n",
      "   1.62475891e+11   1.62475891e+11   1.62475891e+11   1.62475891e+11\n",
      "   1.62475891e+11   1.62475891e+11   1.62475891e+11   1.62475891e+11\n",
      "   1.62475891e+11   1.62475891e+11   1.62475891e+11   1.62475891e+11\n",
      "   1.62475891e+11   1.62475891e+11   1.62475891e+11   1.62475891e+11\n",
      "   1.62475891e+11   1.62475891e+11   1.62475891e+11   1.62475891e+11\n",
      "   1.62475891e+11   1.62475891e+11   1.62475891e+11   1.62475891e+11\n",
      "   1.62475891e+11   1.62475891e+11   1.62475891e+11   1.62475891e+11\n",
      "   1.62475891e+11   1.62475891e+11   1.62475891e+11   1.62475891e+11\n",
      "   1.62475891e+11   1.62475891e+11   1.62475891e+11   1.62475891e+11\n",
      "   1.62475891e+11   1.62475891e+11   1.62475891e+11   1.62475891e+11\n",
      "   1.62475891e+11   1.62475891e+11   1.62475891e+11   1.62475891e+11\n",
      "   1.62475891e+11   1.62475891e+11   1.62475891e+11   1.62475891e+11\n",
      "   1.62475891e+11   1.62475891e+11   1.62475891e+11   1.62475891e+11\n",
      "   1.62475891e+11   1.62475891e+11   1.62475891e+11   1.62475891e+11\n",
      "   1.62475891e+11   1.62475891e+11   1.62475891e+11   1.62475891e+11\n",
      "   1.62475891e+11   1.62475891e+11   1.62475891e+11   1.62475891e+11\n",
      "   1.62475891e+11   1.62475891e+11   1.62475891e+11   1.62475891e+11\n",
      "   1.62475891e+11   1.62475891e+11   3.98697680e+12   1.62475891e+11\n",
      "   1.62475891e+11   1.62475891e+11   1.62475891e+11   1.62475891e+11\n",
      "   1.62475891e+11   1.62475891e+11   1.62475891e+11   1.62475891e+11\n",
      "   1.62475891e+11   1.62475891e+11   1.62475891e+11   1.62475891e+11\n",
      "   1.62475891e+11   1.62475891e+11   1.62475891e+11   1.62475891e+11\n",
      "   1.62475891e+11  -8.09439712e+10   1.62475891e+11   1.62475891e+11\n",
      "   1.62475891e+11   1.62475891e+11   1.62475891e+11   1.62475891e+11\n",
      "   1.62475891e+11   1.62475891e+11   1.62475891e+11   1.62475891e+11\n",
      "   1.62475891e+11   1.62475891e+11   1.62475891e+11   1.62475891e+11\n",
      "   1.62475891e+11   1.62475891e+11   1.62475891e+11   1.62475891e+11\n",
      "   1.62475891e+11   1.62475891e+11   1.62475891e+11   1.62475891e+11\n",
      "   1.62475891e+11   1.62475891e+11   1.62475891e+11   1.62475891e+11\n",
      "   1.62475891e+11   1.62475891e+11   1.62475891e+11   1.62475891e+11\n",
      "   1.62475891e+11   1.62475891e+11   1.62475891e+11   1.62475891e+11\n",
      "   1.62475891e+11   1.62475891e+11   1.62475891e+11   1.62475891e+11\n",
      "   1.62475891e+11   1.62475891e+11   1.62475891e+11   1.62475891e+11\n",
      "   1.62475891e+11   1.62475891e+11   1.62475891e+11   1.62475891e+11\n",
      "   1.62475891e+11   1.62475891e+11   1.62475891e+11   1.62475891e+11\n",
      "   1.62475891e+11   1.62475891e+11   1.62475891e+11   1.62475891e+11\n",
      "   1.62475891e+11   1.62475891e+11   1.62475891e+11   1.62475891e+11\n",
      "   1.62475891e+11   1.62475891e+11   1.62475891e+11   1.62475891e+11\n",
      "   1.62475891e+11   1.62475891e+11   1.62475891e+11   1.62475891e+11\n",
      "   1.62475891e+11   1.62475891e+11   1.62475891e+11   1.62475891e+11\n",
      "   1.62475891e+11   1.62475891e+11   1.62475891e+11   1.62475891e+11\n",
      "   1.62475891e+11   1.62475891e+11   1.62475891e+11   1.62475891e+11\n",
      "   1.62475891e+11   1.62475891e+11   1.62475891e+11   1.62475891e+11\n",
      "   1.62475891e+11   1.62475891e+11   1.62475891e+11   1.62475891e+11\n",
      "   1.62475891e+11   1.62475891e+11   1.62475891e+11   1.62475891e+11\n",
      "   1.62475891e+11   1.62475891e+11   1.62475891e+11   1.62475891e+11\n",
      "   1.62475891e+11   1.62475891e+11   1.62475891e+11   1.62475891e+11\n",
      "   1.62475891e+11   1.62475891e+11   1.62475891e+11   1.62475891e+11\n",
      "   1.62475891e+11   1.62475891e+11   1.62475891e+11   1.62475891e+11\n",
      "   1.62475891e+11   1.62475891e+11   1.62475891e+11   1.62475891e+11\n",
      "   1.62475891e+11   1.62475891e+11   1.62475891e+11   1.62475891e+11\n",
      "   1.62475891e+11   1.62475891e+11   1.62475891e+11   1.62475891e+11\n",
      "   1.62475891e+11   1.62475891e+11   1.62475891e+11   1.62475891e+11\n",
      "   1.62475891e+11   1.62475891e+11   1.62475891e+11   1.62475891e+11\n",
      "   1.62475891e+11   1.62475891e+11   1.62475891e+11   1.62475891e+11\n",
      "   1.62475891e+11   1.62475891e+11   1.62475891e+11   1.62475891e+11\n",
      "   1.62475891e+11   1.62475891e+11   1.62475891e+11   1.62475891e+11\n",
      "  -1.30617182e+12   1.62475891e+11   1.62475891e+11   1.62475891e+11\n",
      "   1.62475891e+11   1.62475891e+11   1.62475891e+11   1.62475891e+11\n",
      "   1.62475891e+11   1.62475891e+11   1.62475891e+11   1.62475891e+11\n",
      "   1.62475891e+11   1.62475891e+11   1.62475891e+11   1.62475891e+11\n",
      "   1.62475891e+11   1.62475891e+11   1.62475891e+11   8.09738057e+11\n",
      "   8.09738057e+11   8.09738057e+11   8.09738057e+11   8.09738057e+11\n",
      "   8.09738057e+11   8.09738057e+11  -7.93193393e+11   8.09738057e+11\n",
      "   8.09738057e+11   8.09738057e+11   8.09738057e+11   8.09738057e+11\n",
      "   8.09738057e+11   8.09738057e+11   8.09738057e+11   8.09738057e+11\n",
      "   8.09738057e+11   8.09738057e+11   8.09738057e+11   8.09738057e+11\n",
      "   8.09738057e+11   8.09738057e+11   8.09738057e+11   8.09738057e+11\n",
      "   8.09738057e+11   8.09738057e+11   8.09738057e+11   8.09738057e+11\n",
      "   8.09738057e+11   8.09738057e+11   6.84258858e+11  -7.44648205e+11\n",
      "   8.09738057e+11   8.09738057e+11   8.09738057e+11   8.09738057e+11\n",
      "   8.09738057e+11   8.09738057e+11   8.09738057e+11   8.09738057e+11\n",
      "   8.09738057e+11   8.09738057e+11   8.09738057e+11   8.09738057e+11\n",
      "   8.09738057e+11   8.09738057e+11   8.09738057e+11   8.09738057e+11\n",
      "   8.09738057e+11   8.09738057e+11   8.09738057e+11   8.09738057e+11\n",
      "   8.09738057e+11   8.09738057e+11   8.09738057e+11   8.09738057e+11\n",
      "   8.09738057e+11   8.09738057e+11   8.09738057e+11   8.09738057e+11\n",
      "   8.09738057e+11   8.09738057e+11   8.09738057e+11   8.09738057e+11\n",
      "   8.09738057e+11   8.09738057e+11   8.09738057e+11   8.09738057e+11\n",
      "   8.09738057e+11   8.09738057e+11   8.09738057e+11   8.09738057e+11\n",
      "   8.09738057e+11   8.09738057e+11   8.09738057e+11   8.09738057e+11\n",
      "   8.09738057e+11   8.09738057e+11   8.09738057e+11   8.09738057e+11\n",
      "   8.09738057e+11   8.09738057e+11   8.09738057e+11   8.09738057e+11\n",
      "   8.09738057e+11   8.09738057e+11   8.09738057e+11   8.09738057e+11\n",
      "   8.09738057e+11   8.09738057e+11   8.09738057e+11   8.09738057e+11\n",
      "   8.09738057e+11   8.09738057e+11   8.09738057e+11   8.09738057e+11\n",
      "   8.09738057e+11   8.09738057e+11   8.09738057e+11   8.09738057e+11\n",
      "   8.09738057e+11   8.09738057e+11   8.09738057e+11   8.09738057e+11\n",
      "   8.09738057e+11   8.09738057e+11   8.09738057e+11   8.09738057e+11\n",
      "   8.09738057e+11   8.09738057e+11   8.09738057e+11   8.09738057e+11\n",
      "   8.09738057e+11   8.09738057e+11   8.09738057e+11   8.09738057e+11\n",
      "   8.09738057e+11   8.09738057e+11   8.09738057e+11   8.09738057e+11\n",
      "   8.09738057e+11   8.09738057e+11   8.09738057e+11   8.09738057e+11\n",
      "   8.09738057e+11   8.09738057e+11   8.09738057e+11   8.09738057e+11\n",
      "   8.09738057e+11   8.09738057e+11   8.09738057e+11   8.09738057e+11\n",
      "   8.09738057e+11   8.09738057e+11   8.09738057e+11   8.09738057e+11\n",
      "   8.09738057e+11   8.09738057e+11   8.09738057e+11   8.09738057e+11\n",
      "   8.09738057e+11   8.09738057e+11   8.09738057e+11   8.09738057e+11\n",
      "   8.09738057e+11   8.09738057e+11   8.09738057e+11   8.09738057e+11\n",
      "   8.09738057e+11   8.09738057e+11   8.09738057e+11   8.09738057e+11\n",
      "   8.09738057e+11   8.09738057e+11   8.09738057e+11   8.09738057e+11\n",
      "   8.09738057e+11   8.09738057e+11   8.09738057e+11   8.09738057e+11\n",
      "   8.09738057e+11   8.09738057e+11   8.09738057e+11   8.09738057e+11\n",
      "   8.09738057e+11   8.09738057e+11   8.09738057e+11   8.09738057e+11\n",
      "   8.09738057e+11   8.09738057e+11   8.09738057e+11   8.09738057e+11\n",
      "   8.09738057e+11   8.09738057e+11   8.09738057e+11   8.09738057e+11\n",
      "   8.09738057e+11   8.09738057e+11   8.09738057e+11   8.09738057e+11\n",
      "   8.09738057e+11   8.09738057e+11   8.09738057e+11   8.09738057e+11\n",
      "   8.09738057e+11   8.09738057e+11   8.09738057e+11   8.09738057e+11\n",
      "   8.09738057e+11   8.09738057e+11   8.09738057e+11   8.09738057e+11\n",
      "   8.09738057e+11   8.09738057e+11   8.09738057e+11   8.09738057e+11\n",
      "   8.09738057e+11   8.09738057e+11   8.09738057e+11   8.09738057e+11\n",
      "   8.09738057e+11   8.09738057e+11   8.09738057e+11   8.09738057e+11\n",
      "   8.09738057e+11   8.09738057e+11   8.09738057e+11   8.09738057e+11\n",
      "   8.09738057e+11   8.09738057e+11   8.09738057e+11   8.09738057e+11\n",
      "   8.09738057e+11   8.09738057e+11   8.09738057e+11   8.09738057e+11\n",
      "   8.09738057e+11   8.09738057e+11   8.09738057e+11   8.09738057e+11\n",
      "   8.09738057e+11   8.09738057e+11   8.09738057e+11   8.09738057e+11\n",
      "   8.09738057e+11   8.09738057e+11   8.09738057e+11   8.09738057e+11\n",
      "   8.09738057e+11   8.09738057e+11   8.09738057e+11   8.09738057e+11\n",
      "   8.09738057e+11   8.09738057e+11   8.09738057e+11   8.09738057e+11\n",
      "   8.09738057e+11   8.09738057e+11   8.09738057e+11   8.09738057e+11\n",
      "   8.09738057e+11   8.09738057e+11   8.09738057e+11   8.09738057e+11\n",
      "   8.09738057e+11   8.09738057e+11   8.09738057e+11   8.09738057e+11\n",
      "   8.09738057e+11   8.09738057e+11   8.09738057e+11   8.09738057e+11\n",
      "   8.09738057e+11   8.09738057e+11   8.09738057e+11   8.09738057e+11\n",
      "   8.09738057e+11   8.09738057e+11   8.09738057e+11   8.09738057e+11\n",
      "   8.09738057e+11   8.09738057e+11   8.09738057e+11   8.09738057e+11\n",
      "   8.09738057e+11   8.09738057e+11   8.09738057e+11   8.09738057e+11\n",
      "   8.09738057e+11   8.09738057e+11   8.09738057e+11   8.09738057e+11\n",
      "   8.09738057e+11   8.09738057e+11   8.09738057e+11   8.09738057e+11\n",
      "   8.09738057e+11   8.09738057e+11   8.09738057e+11   8.09738057e+11\n",
      "   8.09738057e+11   8.09738057e+11   8.09738057e+11   8.09738057e+11\n",
      "   8.09738057e+11   8.09738057e+11   8.09738057e+11   8.09738057e+11\n",
      "   8.09738057e+11   8.09738057e+11   8.09738057e+11   8.09738057e+11\n",
      "   8.09738057e+11   8.09738057e+11   8.09738057e+11   8.09738057e+11\n",
      "   8.09738057e+11  -1.10222724e+12]\n"
     ]
    }
   ],
   "source": [
    "# возвращает градиент регуляризованного функционала MSPE для выборки (X, y) и вектора весов w\n",
    "def get_reg_grad(w, X, y):\n",
    "    nonreg = get_grad(w, X, y)\n",
    "    return nonreg + 2 * w\n",
    "\n",
    "print(get_reg_grad(w, X_train, y_train))"
   ]
  },
  {
   "cell_type": "markdown",
   "metadata": {},
   "source": [
    "**21. (1 балл)** Реализуйте метод градиентного спуска для описанных функционалов ($MSPE$ и его регуляризованный вариант). Функция должна принимать следующие параметры:\n",
    " - X — матрица \"объект-признак\";\n",
    " - y — вектор целевой переменной;\n",
    " - w0 — начальное значение вектора весов;\n",
    " - step_size — значение темпа обучения;\n",
    " - max_iter — максимальное число итераций;\n",
    " - eps — значение, используемое в критерии останова;\n",
    " - is_reg — бинарный параметр, принимает значение True в случае наличия регуляризации функционала, False — в противном случае.\n",
    " \n",
    "Процесс должен быть остановлен, если выполнено хотя бы одно из следующих условий:\n",
    " - было выполнено заданное количество итераций max_iter;\n",
    " - евклидова норма разности векторов $w$ на соседних итерациях стала меньше, чем eps.\n",
    "\n",
    "Функция должна возвращать полученный в результате оптимизации вектор $w$ и список значений функционала на каждой итерации."
   ]
  },
  {
   "cell_type": "code",
   "execution_count": 91,
   "metadata": {
    "collapsed": false
   },
   "outputs": [],
   "source": [
    "def grad_descent(X, y, w0, step_size, max_iter, eps, is_reg=False):\n",
    "    cost_list = []\n",
    "    if is_reg:\n",
    "        func = get_reg_func\n",
    "        gradient = get_reg_grad\n",
    "    else:\n",
    "        func = get_func\n",
    "        gradient = get_grad\n",
    "    #\n",
    "    for i in range(max_iter):\n",
    "        cost = func(w0, X, y)\n",
    "        cost_list.append(cost)\n",
    "        grad = gradient(w0, X, y)\n",
    "        w_prev = w0\n",
    "        w0 = w0 - step_size * grad\n",
    "        if np.linalg.norm(w_prev - w0) < eps:\n",
    "            break\n",
    "    return w0, cost_list"
   ]
  },
  {
   "cell_type": "code",
   "execution_count": 92,
   "metadata": {
    "collapsed": false
   },
   "outputs": [
    {
     "name": "stdout",
     "output_type": "stream",
     "text": [
      "Wall time: 14.4 s\n"
     ]
    }
   ],
   "source": [
    "%%time\n",
    "\n",
    "w0 = np.zeros(len(w))\n",
    "theta, cost = grad_descent(X_train, y_train, w0, 0.001, 200, 0.000001, True)"
   ]
  },
  {
   "cell_type": "markdown",
   "metadata": {},
   "source": [
    "Обучите линейную регрессию с функционалом $MSPE$ на обучающей выборке при помощи метода градиентного спуска и изобразите кривые зависимости значения функционала от номера итерации для различных:\n",
    " * значений размера шага из набора [0.001, 1, 10];\n",
    " * способов начальной инициализации вектора весов (нули, случайные веса).\n",
    "\n",
    "Проанализируйте полученные результаты — влияют ли данные параметры на скорость сходимости и итоговое качество? Если да, то как?"
   ]
  },
  {
   "cell_type": "code",
   "execution_count": 93,
   "metadata": {
    "collapsed": true
   },
   "outputs": [],
   "source": [
    "import matplotlib.pylab as plt\n",
    "\n",
    "%matplotlib inline"
   ]
  },
  {
   "cell_type": "code",
   "execution_count": 94,
   "metadata": {
    "collapsed": false
   },
   "outputs": [
    {
     "data": {
      "image/png": "[encoded data removed]",
      "text/plain": [
       "<matplotlib.figure.Figure at 0xd4809e0c88>"
      ]
     },
     "metadata": {},
     "output_type": "display_data"
    }
   ],
   "source": [
    "plt.figure(figsize=(10,5))\n",
    "alphas = [0.001, 1, 10]\n",
    "_, cost_0 = grad_descent(X_train, y_train, w0, 0.001, 200, 0.0001)\n",
    "_, cost_1 = grad_descent(X_train, y_train, w0, 1, 200, 0.0001)\n",
    "_, cost_2 = grad_descent(X_train, y_train, w0, 10, 200, 0.0001)\n",
    "\n",
    "n_iter_0, n_iter_1, n_iter_2 = len(cost_0), len(cost_1), len(cost_2)\n",
    "plt.plot(list(range(n_iter_0)), cost_0, label='Alpha=0.001')\n",
    "plt.plot(list(range(n_iter_1)), cost_1, label='Alpha=1')\n",
    "plt.plot(list(range(n_iter_2)), cost_2, label='Alpha=10')\n",
    "plt.ylim((0, 5))\n",
    "plt.legend()\n",
    "plt.show()"
   ]
  },
  {
   "cell_type": "markdown",
   "metadata": {},
   "source": [
    "При $\\alpha=10$ алгоритм расходится, что видно по графику. При $\\alpha=0.001$ ошибка наименьшая, это заметно с первых итераций."
   ]
  },
  {
   "cell_type": "code",
   "execution_count": 95,
   "metadata": {
    "collapsed": false
   },
   "outputs": [
    {
     "data": {
      "image/png": "[encoded data removed]",
      "text/plain": [
       "<matplotlib.figure.Figure at 0xd4809240f0>"
      ]
     },
     "metadata": {},
     "output_type": "display_data"
    }
   ],
   "source": [
    "plt.figure(figsize=(10,5))\n",
    "alpha = 0.1\n",
    "w1 = np.random.normal(size=len(w0))\n",
    "_, cost_0 = grad_descent(X_train, y_train, w0, alpha, 200, 0.0001)\n",
    "_, cost_1 = grad_descent(X_train, y_train, w1, alpha, 200, 0.0001)\n",
    "n_iter_0, n_iter_1 = len(cost_0), len(cost_1)\n",
    "plt.plot(list(range(n_iter_0)), cost_0, label='Zeros initialization')\n",
    "plt.plot(list(range(n_iter_1)), cost_1, label='Random initialization')\n",
    "plt.legend()\n",
    "plt.show()"
   ]
  },
  {
   "cell_type": "markdown",
   "metadata": {},
   "source": [
    "Инициализация параметров нулями показывает лучшую скорость сходимости."
   ]
  },
  {
   "cell_type": "markdown",
   "metadata": {},
   "source": [
    "**22. (0.5 балла)** Обучите линейную регрессию с функционалом MSPE и его регуляризованным вариантом на обучающей выборке при помощи метода градиентного спуска и изобразите кривые зависимости значения функционала от номера итерации. Исследуйте зависимость скорости сходимости от наличия регуляризации. Обоснуйте, почему так происходит."
   ]
  },
  {
   "cell_type": "code",
   "execution_count": 96,
   "metadata": {
    "collapsed": false
   },
   "outputs": [
    {
     "data": {
      "image/png": "[encoded data removed]",
      "text/plain": [
       "<matplotlib.figure.Figure at 0xd480924e10>"
      ]
     },
     "metadata": {},
     "output_type": "display_data"
    }
   ],
   "source": [
    "plt.figure(figsize=(10,5))\n",
    "alpha = 0.01\n",
    "_, cost_0 = grad_descent(X_train, y_train, w0, alpha, 200, 0.001)\n",
    "_, cost_1 = grad_descent(X_train, y_train, w0, alpha, 200, 0.001, True)\n",
    "n_iter_0, n_iter_1 = len(cost_0), len(cost_1)\n",
    "plt.plot(list(range(n_iter_0)), cost_0, label='Without reg.')\n",
    "plt.plot(list(range(n_iter_1)), cost_1, label='With regularization')\n",
    "plt.legend()\n",
    "plt.show()"
   ]
  },
  {
   "cell_type": "markdown",
   "metadata": {},
   "source": [
    "Использование регуляризации приводит к более быстрой скорости сходимости. На графике выше видно, что с регуляризацией метод сходится за менее 50 итераций, а методу без регуляризации не хватило и 200 итераций. Вероятно, что это связано со значениями коэффициентов (без регуляризации разброс коэффициентов очень большой: ~ от  $-10^{10}$ до $10^{10}$)"
   ]
  },
  {
   "cell_type": "markdown",
   "metadata": {},
   "source": [
    "Метод градиентного спуска может быть весьма трудозатратен в случае большого размера обучающей выборки. Поэтому часто используют метод стохастического градиентного спуска, где на каждой итерации выбирается случайный объект из обучающей выборки и обновление весов происходит только по этому объекту. \n",
    "\n",
    "**23. (1 доп. балл)**  Реализуйте метод стохастического градиентного спуска (SGD) для описанных функционалов ($MSPE$ и его регуляризованный вариант). Функция должна иметь параметры и возвращаемое значение, аналогичные оным функции grad\\_descent из п.21. Кроме того, должен использоваться аналогичный критерий останова."
   ]
  },
  {
   "cell_type": "code",
   "execution_count": 461,
   "metadata": {
    "collapsed": false
   },
   "outputs": [],
   "source": [
    "def sgd(X, y, step_size, max_iter, eps, tau, is_reg=False):\n",
    "    n, m = X.shape\n",
    "    w0 = np.zeros(m)\n",
    "    Y = np.array(y)\n",
    "    cost_list = []\n",
    "    func = get_func\n",
    "    if is_reg:\n",
    "        func = get_reg_func\n",
    "    Q = func(w0, X, y)\n",
    "    \n",
    "    for i in range(max_iter):\n",
    "        ind = np.random.randint(n)\n",
    "        if not is_reg:\n",
    "            cost_reg = 0\n",
    "            grad_reg = 0\n",
    "        else:\n",
    "            cost_reg = (np.linalg.norm(w0))**2\n",
    "            grad_reg = 2 * w0\n",
    "    \n",
    "        # Вычисление потери\n",
    "        #\n",
    "        cost = ((Y[ind] - np.dot(w0, X.iloc[ind])) / Y[ind])**2 + tau * cost_reg\n",
    "        Q = (1 - tau) * Q + tau * cost\n",
    "        cost_list.append(Q)\n",
    "        # Вычисление градиента\n",
    "        #\n",
    "        grad = -2 * X.iloc[ind] * (Y[ind] - np.dot(w0, X.iloc[ind])) / Y[ind]**2 + tau * grad_reg\n",
    "        # Корректировка весов\n",
    "        #\n",
    "        w_prev = w0\n",
    "        w0 = w0 - step_size * grad\n",
    "        # Критерий останова\n",
    "        #\n",
    "        if (np.linalg.norm(w_prev - w0) < eps):\n",
    "            break\n",
    "        \n",
    "    return w0, cost_list"
   ]
  },
  {
   "cell_type": "markdown",
   "metadata": {},
   "source": [
    "**24. (0.5 доп. балла)** Аналогично п.22 исследуйте зависимость скорости сходимости метода SGD от наличия регуляризации. Обоснуйте, почему так происходит."
   ]
  },
  {
   "cell_type": "code",
   "execution_count": 492,
   "metadata": {
    "collapsed": false
   },
   "outputs": [
    {
     "data": {
      "image/png": "[encoded data removed]",
      "text/plain": [
       "<matplotlib.figure.Figure at 0xd480fd70b8>"
      ]
     },
     "metadata": {},
     "output_type": "display_data"
    }
   ],
   "source": [
    "plt.figure(figsize=(10,5))\n",
    "alpha = 0.001\n",
    "eps = 0.00001\n",
    "tau = 0.000001\n",
    "_, cost_0 = sgd(X_train, y_train, alpha, 10000, eps, tau)\n",
    "_, cost_1 = sgd(X_train, y_train, alpha, 10000, eps, tau, True)\n",
    "n_iter_0, n_iter_1 = len(cost_0), len(cost_1)\n",
    "plt.plot(list(range(len(cost_0))), cost_0, label='Without reg.')\n",
    "plt.plot(list(range(len(cost_1))), cost_1, label='With regularization')\n",
    "plt.legend()\n",
    "plt.show()"
   ]
  },
  {
   "cell_type": "markdown",
   "metadata": {},
   "source": [
    "После небольшого числа экспериментов трудно сказать какой алгоритм сходится быстрее."
   ]
  },
  {
   "cell_type": "markdown",
   "metadata": {},
   "source": [
    "**25. (0.5 балла)** Обучите стандартную линейную регрессию с функционалом качества MSE на обучающей выборке и выведите значение MSPE полученного решения на контрольной выборке. Как оно соотносится с аналогичным результатом для решения, полученного в п.22? Почему?"
   ]
  },
  {
   "cell_type": "code",
   "execution_count": 504,
   "metadata": {
    "collapsed": false
   },
   "outputs": [
    {
     "data": {
      "text/plain": [
       "19022"
      ]
     },
     "execution_count": 504,
     "metadata": {},
     "output_type": "execute_result"
    }
   ],
   "source": [
    "len(np.array(y_test))"
   ]
  },
  {
   "cell_type": "code",
   "execution_count": 505,
   "metadata": {
    "collapsed": false
   },
   "outputs": [
    {
     "name": "stdout",
     "output_type": "stream",
     "text": [
      "MSPE на контроле: 70666410096134840320.000000\n",
      "Коэффициент дерминации: -6515249304633327616.000000\n",
      "Среднеквадратичная ошибка: 8765547251655355924480.000000\n"
     ]
    }
   ],
   "source": [
    "lr = LinearRegression()\n",
    "lr.fit(X_train, y_train)\n",
    "y_pred = lr.predict(X_test)\n",
    "print(\"MSPE на контроле: %f\" % np.mean(((y_test - y_pred) / y_test)**2))\n",
    "print(\"Коэффициент дерминации: %f\" %r2_score(y_test, y_pred))\n",
    "print(\"Среднеквадратичная ошибка: %f\" %mean_squared_error(y_test, y_pred))"
   ]
  },
  {
   "cell_type": "markdown",
   "metadata": {},
   "source": [
    "Здесь вы можете поделиться своими мыслями по поводу этого задания."
   ]
  },
  {
   "cell_type": "markdown",
   "metadata": {
    "collapsed": true
   },
   "source": [
    "Ошибки получаются космическими. Пока не знаю как это можно объяснить."
   ]
  },
  {
   "cell_type": "markdown",
   "metadata": {},
   "source": [
    "А здесь — вставить вашу любимую картинку."
   ]
  },
  {
   "cell_type": "markdown",
   "metadata": {
    "collapsed": true
   },
   "source": [
    "<img src = \"http://bluehillresearch.com/wp-content/uploads/2014/10/Data_Science_VD.png\">"
   ]
  },
  {
   "cell_type": "code",
   "execution_count": null,
   "metadata": {
    "collapsed": true
   },
   "outputs": [],
   "source": []
  }
 ],
 "metadata": {
  "anaconda-cloud": {},
  "kernelspec": {
   "display_name": "Python [Root]",
   "language": "python",
   "name": "Python [Root]"
  },
  "language_info": {
   "codemirror_mode": {
    "name": "ipython",
    "version": 3
   },
   "file_extension": ".py",
   "mimetype": "text/x-python",
   "name": "python",
   "nbconvert_exporter": "python",
   "pygments_lexer": "ipython3",
   "version": "3.5.2"
  }
 },
 "nbformat": 4,
 "nbformat_minor": 0
}
