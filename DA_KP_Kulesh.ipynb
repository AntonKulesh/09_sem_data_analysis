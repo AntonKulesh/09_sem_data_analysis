{
 "cells": [
  {
   "cell_type": "markdown",
   "metadata": {
    "collapsed": true
   },
   "source": [
    "# Контрольная работа. Kinopoisk\n",
    "\n",
    "\n",
    "### Сроки сдачи контрольной\n",
    "\n",
    "Дата выдачи: 14.12.2016\n",
    "\n",
    "Крайняя дата сдачи: 21.12.2016\n",
    "\n",
    "Выслать результат нужно на lapucki@tut.by. В высылаемом архиве должно быть два файла: result.csv и DA_KP_Surname.ipynb.\n",
    "\n",
    "\n",
    "### Основное задание (6 баллов)\n",
    "\n",
    "Дана база данных фильмов с kinopoisk.ru (train_data.csv). Требуется построить модель для прогнозирования рейтинга фильмов на Кинопоиске. Целевая переменная - kp_rating.\n",
    "\n",
    "В качестве ответа требуется выслать файл result.csv, содержащий полученные значения kp_rating для данных из test_data.csv, а также исходный код.\n",
    "\n",
    "В качестве метрики для проверки буду использовать Mean absolute error.\n",
    "\n",
    "### Доп. задания (по 2 балла)\n",
    "\n",
    "1. Постройте графики зависимости рейтинга фильма (kp_rating) от его популярности (kp_rating_count) и бюджета (budget). Объясните результат.\n",
    "2. Какие жанры фильмов чаще всего встречаются вместе? Постройте Heatmap диаграмму."
   ]
  },
  {
   "cell_type": "markdown",
   "metadata": {
    "collapsed": true
   },
   "source": [
    "---\n",
    "\n",
    "## Загрузка данных"
   ]
  },
  {
   "cell_type": "code",
   "execution_count": 1,
   "metadata": {
    "collapsed": false
   },
   "outputs": [
    {
     "name": "stdout",
     "output_type": "stream",
     "text": [
      "Using matplotlib backend: Qt4Agg\n"
     ]
    }
   ],
   "source": [
    "import pandas as pd\n",
    "import numpy as np\n",
    "import matplotlib.pyplot as plt\n",
    "plt.style.use('ggplot')\n",
    "%matplotlib "
   ]
  },
  {
   "cell_type": "code",
   "execution_count": null,
   "metadata": {
    "collapsed": false
   },
   "outputs": [],
   "source": [
    "train = pd.read_csv('train_data.csv', encoding = 'cp1251')\n",
    "test = pd.read_csv('test_data.csv', encoding = 'cp1251')"
   ]
  },
  {
   "cell_type": "code",
   "execution_count": null,
   "metadata": {
    "collapsed": false
   },
   "outputs": [],
   "source": [
    "train.head()"
   ]
  },
  {
   "cell_type": "markdown",
   "metadata": {},
   "source": [
    "## Первичный анализ"
   ]
  },
  {
   "cell_type": "code",
   "execution_count": 6,
   "metadata": {
    "collapsed": false
   },
   "outputs": [
    {
     "name": "stdout",
     "output_type": "stream",
     "text": [
      "<class 'pandas.core.frame.DataFrame'>\n",
      "RangeIndex: 25491 entries, 0 to 25490\n",
      "Data columns (total 13 columns):\n",
      "movie_id             25491 non-null int64\n",
      "name_rus             25491 non-null object\n",
      "kp_rating            25490 non-null float64\n",
      "movie_duration       25491 non-null object\n",
      "kp_rating_count      25490 non-null float64\n",
      "movie_year           25491 non-null int64\n",
      "imdb_rating          23163 non-null float64\n",
      "imdb_rating_count    23163 non-null float64\n",
      "genres               25411 non-null object\n",
      "countries            25491 non-null object\n",
      "budget               7677 non-null object\n",
      "critics_rating       8041 non-null float64\n",
      "name_eng             20282 non-null object\n",
      "dtypes: float64(5), int64(2), object(6)\n",
      "memory usage: 2.5+ MB\n"
     ]
    }
   ],
   "source": [
    "train.info()"
   ]
  },
  {
   "cell_type": "markdown",
   "metadata": {},
   "source": [
    "Очевидно, что рейтинг IMDB будет сильно коррелировать с рейтиногом кинопоиска (целевая переменная). Поэтому удалим из выборки значения со значением NaN в поле imdb_rating.  "
   ]
  },
  {
   "cell_type": "code",
   "execution_count": 11,
   "metadata": {
    "collapsed": false
   },
   "outputs": [],
   "source": [
    "X_train = train[~np.isnan(train.imdb_rating)]\n",
    "X_test = test[~np.isnan(test.imdb_rating)]"
   ]
  },
  {
   "cell_type": "code",
   "execution_count": 12,
   "metadata": {
    "collapsed": false
   },
   "outputs": [
    {
     "data": {
      "text/plain": [
       "array([[ 1.        ,  0.80859332],\n",
       "       [ 0.80859332,  1.        ]])"
      ]
     },
     "execution_count": 12,
     "metadata": {},
     "output_type": "execute_result"
    }
   ],
   "source": [
    "np.corrcoef(X_train.kp_rating, X_train.imdb_rating)"
   ]
  },
  {
   "cell_type": "markdown",
   "metadata": {},
   "source": [
    "Посмотрим различную статистику данных"
   ]
  },
  {
   "cell_type": "code",
   "execution_count": 14,
   "metadata": {
    "collapsed": false
   },
   "outputs": [
    {
     "name": "stderr",
     "output_type": "stream",
     "text": [
      "C:\\Anaconda3\\lib\\site-packages\\numpy\\lib\\function_base.py:3834: RuntimeWarning: Invalid value encountered in percentile\n",
      "  RuntimeWarning)\n"
     ]
    },
    {
     "data": {
      "text/html": [
       "<div>\n",
       "<table border=\"1\" class=\"dataframe\">\n",
       "  <thead>\n",
       "    <tr style=\"text-align: right;\">\n",
       "      <th></th>\n",
       "      <th>movie_id</th>\n",
       "      <th>kp_rating</th>\n",
       "      <th>kp_rating_count</th>\n",
       "      <th>movie_year</th>\n",
       "      <th>imdb_rating</th>\n",
       "      <th>imdb_rating_count</th>\n",
       "      <th>critics_rating</th>\n",
       "    </tr>\n",
       "  </thead>\n",
       "  <tbody>\n",
       "    <tr>\n",
       "      <th>count</th>\n",
       "      <td>23163.000000</td>\n",
       "      <td>23163.000000</td>\n",
       "      <td>23163.000000</td>\n",
       "      <td>23163.000000</td>\n",
       "      <td>23163.000000</td>\n",
       "      <td>2.316300e+04</td>\n",
       "      <td>8041.000000</td>\n",
       "    </tr>\n",
       "    <tr>\n",
       "      <th>mean</th>\n",
       "      <td>277170.389932</td>\n",
       "      <td>6.603837</td>\n",
       "      <td>5124.306048</td>\n",
       "      <td>1996.825239</td>\n",
       "      <td>6.391832</td>\n",
       "      <td>1.701415e+04</td>\n",
       "      <td>60.654894</td>\n",
       "    </tr>\n",
       "    <tr>\n",
       "      <th>std</th>\n",
       "      <td>266293.087694</td>\n",
       "      <td>1.150269</td>\n",
       "      <td>18471.136488</td>\n",
       "      <td>18.134132</td>\n",
       "      <td>1.294442</td>\n",
       "      <td>6.190485e+04</td>\n",
       "      <td>28.701733</td>\n",
       "    </tr>\n",
       "    <tr>\n",
       "      <th>min</th>\n",
       "      <td>299.000000</td>\n",
       "      <td>1.102000</td>\n",
       "      <td>100.000000</td>\n",
       "      <td>1911.000000</td>\n",
       "      <td>1.200000</td>\n",
       "      <td>5.000000e+00</td>\n",
       "      <td>0.000000</td>\n",
       "    </tr>\n",
       "    <tr>\n",
       "      <th>25%</th>\n",
       "      <td>35596.500000</td>\n",
       "      <td>6.065000</td>\n",
       "      <td>184.000000</td>\n",
       "      <td>1990.000000</td>\n",
       "      <td>5.700000</td>\n",
       "      <td>4.410000e+02</td>\n",
       "      <td>NaN</td>\n",
       "    </tr>\n",
       "    <tr>\n",
       "      <th>50%</th>\n",
       "      <td>220050.000000</td>\n",
       "      <td>6.818000</td>\n",
       "      <td>420.000000</td>\n",
       "      <td>2004.000000</td>\n",
       "      <td>6.600000</td>\n",
       "      <td>1.737000e+03</td>\n",
       "      <td>NaN</td>\n",
       "    </tr>\n",
       "    <tr>\n",
       "      <th>75%</th>\n",
       "      <td>477350.000000</td>\n",
       "      <td>7.415000</td>\n",
       "      <td>1800.000000</td>\n",
       "      <td>2010.000000</td>\n",
       "      <td>7.300000</td>\n",
       "      <td>7.178000e+03</td>\n",
       "      <td>NaN</td>\n",
       "    </tr>\n",
       "    <tr>\n",
       "      <th>max</th>\n",
       "      <td>965633.000000</td>\n",
       "      <td>9.120000</td>\n",
       "      <td>401542.000000</td>\n",
       "      <td>2016.000000</td>\n",
       "      <td>9.500000</td>\n",
       "      <td>1.572615e+06</td>\n",
       "      <td>100.000000</td>\n",
       "    </tr>\n",
       "  </tbody>\n",
       "</table>\n",
       "</div>"
      ],
      "text/plain": [
       "            movie_id     kp_rating  kp_rating_count    movie_year  \\\n",
       "count   23163.000000  23163.000000     23163.000000  23163.000000   \n",
       "mean   277170.389932      6.603837      5124.306048   1996.825239   \n",
       "std    266293.087694      1.150269     18471.136488     18.134132   \n",
       "min       299.000000      1.102000       100.000000   1911.000000   \n",
       "25%     35596.500000      6.065000       184.000000   1990.000000   \n",
       "50%    220050.000000      6.818000       420.000000   2004.000000   \n",
       "75%    477350.000000      7.415000      1800.000000   2010.000000   \n",
       "max    965633.000000      9.120000    401542.000000   2016.000000   \n",
       "\n",
       "        imdb_rating  imdb_rating_count  critics_rating  \n",
       "count  23163.000000       2.316300e+04     8041.000000  \n",
       "mean       6.391832       1.701415e+04       60.654894  \n",
       "std        1.294442       6.190485e+04       28.701733  \n",
       "min        1.200000       5.000000e+00        0.000000  \n",
       "25%        5.700000       4.410000e+02             NaN  \n",
       "50%        6.600000       1.737000e+03             NaN  \n",
       "75%        7.300000       7.178000e+03             NaN  \n",
       "max        9.500000       1.572615e+06      100.000000  "
      ]
     },
     "execution_count": 14,
     "metadata": {},
     "output_type": "execute_result"
    }
   ],
   "source": [
    "X_train.describe()"
   ]
  },
  {
   "cell_type": "markdown",
   "metadata": {},
   "source": [
    "Скорее всего с целевой переменной сильно связан признак \"Рейтинг Критиков\" (critics_rating). Но в данном поле много (~$75\\%$) пропущенных значений, поэтому этот признак придется исключить."
   ]
  },
  {
   "cell_type": "code",
   "execution_count": 18,
   "metadata": {
    "collapsed": true
   },
   "outputs": [],
   "source": [
    "del X_train['critics_rating']"
   ]
  },
  {
   "cell_type": "code",
   "execution_count": 20,
   "metadata": {
    "collapsed": true
   },
   "outputs": [],
   "source": [
    "del X_test['critics_rating']"
   ]
  },
  {
   "cell_type": "markdown",
   "metadata": {},
   "source": [
    "Посмотрим на корреляционную матрицу"
   ]
  },
  {
   "cell_type": "code",
   "execution_count": 23,
   "metadata": {
    "collapsed": false
   },
   "outputs": [
    {
     "data": {
      "text/html": [
       "<div>\n",
       "<table border=\"1\" class=\"dataframe\">\n",
       "  <thead>\n",
       "    <tr style=\"text-align: right;\">\n",
       "      <th></th>\n",
       "      <th>movie_id</th>\n",
       "      <th>kp_rating</th>\n",
       "      <th>kp_rating_count</th>\n",
       "      <th>movie_year</th>\n",
       "      <th>imdb_rating</th>\n",
       "      <th>imdb_rating_count</th>\n",
       "    </tr>\n",
       "  </thead>\n",
       "  <tbody>\n",
       "    <tr>\n",
       "      <th>movie_id</th>\n",
       "      <td>1.000000</td>\n",
       "      <td>-0.158913</td>\n",
       "      <td>-0.038852</td>\n",
       "      <td>0.616495</td>\n",
       "      <td>-0.030128</td>\n",
       "      <td>-0.075563</td>\n",
       "    </tr>\n",
       "    <tr>\n",
       "      <th>kp_rating</th>\n",
       "      <td>-0.158913</td>\n",
       "      <td>1.000000</td>\n",
       "      <td>0.168471</td>\n",
       "      <td>-0.239794</td>\n",
       "      <td>0.808593</td>\n",
       "      <td>0.169829</td>\n",
       "    </tr>\n",
       "    <tr>\n",
       "      <th>kp_rating_count</th>\n",
       "      <td>-0.038852</td>\n",
       "      <td>0.168471</td>\n",
       "      <td>1.000000</td>\n",
       "      <td>0.085195</td>\n",
       "      <td>0.136802</td>\n",
       "      <td>0.842318</td>\n",
       "    </tr>\n",
       "    <tr>\n",
       "      <th>movie_year</th>\n",
       "      <td>0.616495</td>\n",
       "      <td>-0.239794</td>\n",
       "      <td>0.085195</td>\n",
       "      <td>1.000000</td>\n",
       "      <td>-0.226636</td>\n",
       "      <td>0.053173</td>\n",
       "    </tr>\n",
       "    <tr>\n",
       "      <th>imdb_rating</th>\n",
       "      <td>-0.030128</td>\n",
       "      <td>0.808593</td>\n",
       "      <td>0.136802</td>\n",
       "      <td>-0.226636</td>\n",
       "      <td>1.000000</td>\n",
       "      <td>0.171200</td>\n",
       "    </tr>\n",
       "    <tr>\n",
       "      <th>imdb_rating_count</th>\n",
       "      <td>-0.075563</td>\n",
       "      <td>0.169829</td>\n",
       "      <td>0.842318</td>\n",
       "      <td>0.053173</td>\n",
       "      <td>0.171200</td>\n",
       "      <td>1.000000</td>\n",
       "    </tr>\n",
       "  </tbody>\n",
       "</table>\n",
       "</div>"
      ],
      "text/plain": [
       "                   movie_id  kp_rating  kp_rating_count  movie_year  \\\n",
       "movie_id           1.000000  -0.158913        -0.038852    0.616495   \n",
       "kp_rating         -0.158913   1.000000         0.168471   -0.239794   \n",
       "kp_rating_count   -0.038852   0.168471         1.000000    0.085195   \n",
       "movie_year         0.616495  -0.239794         0.085195    1.000000   \n",
       "imdb_rating       -0.030128   0.808593         0.136802   -0.226636   \n",
       "imdb_rating_count -0.075563   0.169829         0.842318    0.053173   \n",
       "\n",
       "                   imdb_rating  imdb_rating_count  \n",
       "movie_id             -0.030128          -0.075563  \n",
       "kp_rating             0.808593           0.169829  \n",
       "kp_rating_count       0.136802           0.842318  \n",
       "movie_year           -0.226636           0.053173  \n",
       "imdb_rating           1.000000           0.171200  \n",
       "imdb_rating_count     0.171200           1.000000  "
      ]
     },
     "execution_count": 23,
     "metadata": {},
     "output_type": "execute_result"
    }
   ],
   "source": [
    "X_train.corr()"
   ]
  },
  {
   "cell_type": "markdown",
   "metadata": {},
   "source": [
    "Видим, что действительно признак imdb_rating оказывает сильное влияние на kp_rating. Есть ещё небольшая корреляция целевой переменной с признаком imdb_rating_count. По этих двум признакам построим baseline-модель."
   ]
  },
  {
   "cell_type": "markdown",
   "metadata": {},
   "source": [
    "## Baseline\n",
    "\n",
    "Мы решаем задачу восстановления регрессии. В качестве базовой модели используем обычную Линейную Регрессию."
   ]
  },
  {
   "cell_type": "code",
   "execution_count": 25,
   "metadata": {
    "collapsed": true
   },
   "outputs": [],
   "source": [
    "from sklearn.linear_model import LinearRegression\n",
    "from sklearn.cross_validation import train_test_split\n",
    "from sklearn.metrics import mean_absolute_error"
   ]
  },
  {
   "cell_type": "code",
   "execution_count": 48,
   "metadata": {
    "collapsed": true
   },
   "outputs": [],
   "source": [
    "X_base = X_train[['kp_rating_count', 'imdb_rating']]\n",
    "y_base = X_train['kp_rating']"
   ]
  },
  {
   "cell_type": "markdown",
   "metadata": {},
   "source": [
    "Т.к. как модель линейная, то выполним нормировку данных"
   ]
  },
  {
   "cell_type": "code",
   "execution_count": 58,
   "metadata": {
    "collapsed": true
   },
   "outputs": [],
   "source": [
    "from sklearn.preprocessing import scale\n",
    "\n",
    "X_base = scale(X_base)"
   ]
  },
  {
   "cell_type": "code",
   "execution_count": 59,
   "metadata": {
    "collapsed": true
   },
   "outputs": [],
   "source": [
    "# Splitting data for model validation\n",
    "\n",
    "x_train, x_test, y_train, y_test = train_test_split(X_base, y_base, test_size=0.4, random_state=2016)"
   ]
  },
  {
   "cell_type": "code",
   "execution_count": 60,
   "metadata": {
    "collapsed": false
   },
   "outputs": [
    {
     "data": {
      "text/plain": [
       "LinearRegression(copy_X=True, fit_intercept=True, n_jobs=1, normalize=False)"
      ]
     },
     "execution_count": 60,
     "metadata": {},
     "output_type": "execute_result"
    }
   ],
   "source": [
    "# Our basic model\n",
    "\n",
    "lr = LinearRegression()\n",
    "lr.fit(x_train, y_train)"
   ]
  },
  {
   "cell_type": "code",
   "execution_count": 61,
   "metadata": {
    "collapsed": false
   },
   "outputs": [
    {
     "name": "stdout",
     "output_type": "stream",
     "text": [
      "Средняя абсолютная ошибка на контрольной выборке для базовой модели: 0.49769\n"
     ]
    }
   ],
   "source": [
    "# Scoring\n",
    "\n",
    "y_pred = lr.predict(x_test)\n",
    "score = mean_absolute_error(y_test, y_pred)\n",
    "print(\"Средняя абсолютная ошибка на контрольной выборке для базовой модели: %.5f\" %score)"
   ]
  },
  {
   "cell_type": "markdown",
   "metadata": {},
   "source": [
    "Ок, теперь есть с чем сравнивать. Приступим к самой интересной части -- feature engineering."
   ]
  },
  {
   "cell_type": "markdown",
   "metadata": {},
   "source": [
    "## Генерация признаков"
   ]
  },
  {
   "cell_type": "markdown",
   "metadata": {},
   "source": [
    "Сначала вынесем из датасета целевую переменную"
   ]
  },
  {
   "cell_type": "code",
   "execution_count": 64,
   "metadata": {
    "collapsed": true
   },
   "outputs": [],
   "source": [
    "rating = X_train['kp_rating']\n",
    "\n",
    "del X_train['kp_rating']\n",
    "del X_test['kp_rating']"
   ]
  },
  {
   "cell_type": "code",
   "execution_count": 65,
   "metadata": {
    "collapsed": false
   },
   "outputs": [
    {
     "data": {
      "text/html": [
       "<div>\n",
       "<table border=\"1\" class=\"dataframe\">\n",
       "  <thead>\n",
       "    <tr style=\"text-align: right;\">\n",
       "      <th></th>\n",
       "      <th>movie_id</th>\n",
       "      <th>name_rus</th>\n",
       "      <th>movie_duration</th>\n",
       "      <th>kp_rating_count</th>\n",
       "      <th>movie_year</th>\n",
       "      <th>imdb_rating</th>\n",
       "      <th>imdb_rating_count</th>\n",
       "      <th>genres</th>\n",
       "      <th>countries</th>\n",
       "      <th>budget</th>\n",
       "      <th>name_eng</th>\n",
       "    </tr>\n",
       "  </thead>\n",
       "  <tbody>\n",
       "    <tr>\n",
       "      <th>0</th>\n",
       "      <td>806348</td>\n",
       "      <td>Резня в Рэдвуде</td>\n",
       "      <td>82</td>\n",
       "      <td>136.0</td>\n",
       "      <td>2014</td>\n",
       "      <td>3.8</td>\n",
       "      <td>1536.0</td>\n",
       "      <td>[ужасы, триллер]</td>\n",
       "      <td>[Великобритания]</td>\n",
       "      <td>?50 000</td>\n",
       "      <td>The Redwood Massacre</td>\n",
       "    </tr>\n",
       "    <tr>\n",
       "      <th>2</th>\n",
       "      <td>575658</td>\n",
       "      <td>Парад</td>\n",
       "      <td>115</td>\n",
       "      <td>1019.0</td>\n",
       "      <td>2011</td>\n",
       "      <td>7.3</td>\n",
       "      <td>8443.0</td>\n",
       "      <td>[драма, комедия]</td>\n",
       "      <td>[Сербия, Словения, Хорватия, Франция, Македони...</td>\n",
       "      <td>€1 300 000</td>\n",
       "      <td>Parada</td>\n",
       "    </tr>\n",
       "    <tr>\n",
       "      <th>3</th>\n",
       "      <td>15921</td>\n",
       "      <td>Фантазм 2</td>\n",
       "      <td>93</td>\n",
       "      <td>1591.0</td>\n",
       "      <td>1988</td>\n",
       "      <td>6.5</td>\n",
       "      <td>9026.0</td>\n",
       "      <td>[ужасы, фантастика, фэнтези, боевик, триллер]</td>\n",
       "      <td>[США]</td>\n",
       "      <td>$3 000 000</td>\n",
       "      <td>Phantasm II</td>\n",
       "    </tr>\n",
       "    <tr>\n",
       "      <th>4</th>\n",
       "      <td>298288</td>\n",
       "      <td>Карточный домик (мини-сериал)</td>\n",
       "      <td>226</td>\n",
       "      <td>103.0</td>\n",
       "      <td>1990</td>\n",
       "      <td>8.7</td>\n",
       "      <td>7071.0</td>\n",
       "      <td>[драма]</td>\n",
       "      <td>[Великобритания]</td>\n",
       "      <td>NaN</td>\n",
       "      <td>House of Cards</td>\n",
       "    </tr>\n",
       "    <tr>\n",
       "      <th>6</th>\n",
       "      <td>44042</td>\n",
       "      <td>СВ. Спальный вагон</td>\n",
       "      <td>93</td>\n",
       "      <td>252.0</td>\n",
       "      <td>1989</td>\n",
       "      <td>6.3</td>\n",
       "      <td>36.0</td>\n",
       "      <td>[мелодрама]</td>\n",
       "      <td>[СССР]</td>\n",
       "      <td>NaN</td>\n",
       "      <td>NaN</td>\n",
       "    </tr>\n",
       "  </tbody>\n",
       "</table>\n",
       "</div>"
      ],
      "text/plain": [
       "   movie_id                       name_rus movie_duration  kp_rating_count  \\\n",
       "0    806348                Резня в Рэдвуде             82            136.0   \n",
       "2    575658                          Парад            115           1019.0   \n",
       "3     15921                      Фантазм 2             93           1591.0   \n",
       "4    298288  Карточный домик (мини-сериал)            226            103.0   \n",
       "6     44042             СВ. Спальный вагон             93            252.0   \n",
       "\n",
       "   movie_year  imdb_rating  imdb_rating_count  \\\n",
       "0        2014          3.8             1536.0   \n",
       "2        2011          7.3             8443.0   \n",
       "3        1988          6.5             9026.0   \n",
       "4        1990          8.7             7071.0   \n",
       "6        1989          6.3               36.0   \n",
       "\n",
       "                                          genres  \\\n",
       "0                               [ужасы, триллер]   \n",
       "2                               [драма, комедия]   \n",
       "3  [ужасы, фантастика, фэнтези, боевик, триллер]   \n",
       "4                                        [драма]   \n",
       "6                                    [мелодрама]   \n",
       "\n",
       "                                           countries      budget  \\\n",
       "0                                   [Великобритания]     ?50 000   \n",
       "2  [Сербия, Словения, Хорватия, Франция, Македони...  €1 300 000   \n",
       "3                                              [США]  $3 000 000   \n",
       "4                                   [Великобритания]         NaN   \n",
       "6                                             [СССР]         NaN   \n",
       "\n",
       "               name_eng  \n",
       "0  The Redwood Massacre  \n",
       "2                Parada  \n",
       "3           Phantasm II  \n",
       "4        House of Cards  \n",
       "6                   NaN  "
      ]
     },
     "execution_count": 65,
     "metadata": {},
     "output_type": "execute_result"
    }
   ],
   "source": [
    "X_train.head()"
   ]
  },
  {
   "cell_type": "markdown",
   "metadata": {},
   "source": [
    "### Числовые признаки"
   ]
  },
  {
   "cell_type": "markdown",
   "metadata": {},
   "source": [
    "Индексом будет поле movie_id"
   ]
  },
  {
   "cell_type": "code",
   "execution_count": 89,
   "metadata": {
    "collapsed": true
   },
   "outputs": [],
   "source": [
    "# For train \n",
    "X_train = X_train.set_index(X_train.movie_id)\n",
    "\n",
    "# For test\n",
    "X_test = X_test.set_index(X_test.movie_id)"
   ]
  },
  {
   "cell_type": "code",
   "execution_count": 91,
   "metadata": {
    "collapsed": false
   },
   "outputs": [],
   "source": [
    "del X_train['movie_id']\n",
    "del X_test['movie_id']"
   ]
  },
  {
   "cell_type": "code",
   "execution_count": 94,
   "metadata": {
    "collapsed": false
   },
   "outputs": [
    {
     "data": {
      "text/html": [
       "<div>\n",
       "<table border=\"1\" class=\"dataframe\">\n",
       "  <thead>\n",
       "    <tr style=\"text-align: right;\">\n",
       "      <th></th>\n",
       "      <th>name_rus</th>\n",
       "      <th>movie_duration</th>\n",
       "      <th>kp_rating_count</th>\n",
       "      <th>movie_year</th>\n",
       "      <th>imdb_rating</th>\n",
       "      <th>imdb_rating_count</th>\n",
       "      <th>genres</th>\n",
       "      <th>countries</th>\n",
       "      <th>budget</th>\n",
       "      <th>name_eng</th>\n",
       "    </tr>\n",
       "    <tr>\n",
       "      <th>movie_id</th>\n",
       "      <th></th>\n",
       "      <th></th>\n",
       "      <th></th>\n",
       "      <th></th>\n",
       "      <th></th>\n",
       "      <th></th>\n",
       "      <th></th>\n",
       "      <th></th>\n",
       "      <th></th>\n",
       "      <th></th>\n",
       "    </tr>\n",
       "  </thead>\n",
       "  <tbody>\n",
       "    <tr>\n",
       "      <th>806348</th>\n",
       "      <td>Резня в Рэдвуде</td>\n",
       "      <td>82</td>\n",
       "      <td>136.0</td>\n",
       "      <td>2014</td>\n",
       "      <td>3.8</td>\n",
       "      <td>1536.0</td>\n",
       "      <td>[ужасы, триллер]</td>\n",
       "      <td>[Великобритания]</td>\n",
       "      <td>?50 000</td>\n",
       "      <td>The Redwood Massacre</td>\n",
       "    </tr>\n",
       "    <tr>\n",
       "      <th>575658</th>\n",
       "      <td>Парад</td>\n",
       "      <td>115</td>\n",
       "      <td>1019.0</td>\n",
       "      <td>2011</td>\n",
       "      <td>7.3</td>\n",
       "      <td>8443.0</td>\n",
       "      <td>[драма, комедия]</td>\n",
       "      <td>[Сербия, Словения, Хорватия, Франция, Македони...</td>\n",
       "      <td>€1 300 000</td>\n",
       "      <td>Parada</td>\n",
       "    </tr>\n",
       "    <tr>\n",
       "      <th>15921</th>\n",
       "      <td>Фантазм 2</td>\n",
       "      <td>93</td>\n",
       "      <td>1591.0</td>\n",
       "      <td>1988</td>\n",
       "      <td>6.5</td>\n",
       "      <td>9026.0</td>\n",
       "      <td>[ужасы, фантастика, фэнтези, боевик, триллер]</td>\n",
       "      <td>[США]</td>\n",
       "      <td>$3 000 000</td>\n",
       "      <td>Phantasm II</td>\n",
       "    </tr>\n",
       "    <tr>\n",
       "      <th>298288</th>\n",
       "      <td>Карточный домик (мини-сериал)</td>\n",
       "      <td>226</td>\n",
       "      <td>103.0</td>\n",
       "      <td>1990</td>\n",
       "      <td>8.7</td>\n",
       "      <td>7071.0</td>\n",
       "      <td>[драма]</td>\n",
       "      <td>[Великобритания]</td>\n",
       "      <td>NaN</td>\n",
       "      <td>House of Cards</td>\n",
       "    </tr>\n",
       "    <tr>\n",
       "      <th>44042</th>\n",
       "      <td>СВ. Спальный вагон</td>\n",
       "      <td>93</td>\n",
       "      <td>252.0</td>\n",
       "      <td>1989</td>\n",
       "      <td>6.3</td>\n",
       "      <td>36.0</td>\n",
       "      <td>[мелодрама]</td>\n",
       "      <td>[СССР]</td>\n",
       "      <td>NaN</td>\n",
       "      <td>NaN</td>\n",
       "    </tr>\n",
       "  </tbody>\n",
       "</table>\n",
       "</div>"
      ],
      "text/plain": [
       "                               name_rus movie_duration  kp_rating_count  \\\n",
       "movie_id                                                                  \n",
       "806348                  Резня в Рэдвуде             82            136.0   \n",
       "575658                            Парад            115           1019.0   \n",
       "15921                         Фантазм 2             93           1591.0   \n",
       "298288    Карточный домик (мини-сериал)            226            103.0   \n",
       "44042                СВ. Спальный вагон             93            252.0   \n",
       "\n",
       "          movie_year  imdb_rating  imdb_rating_count  \\\n",
       "movie_id                                               \n",
       "806348          2014          3.8             1536.0   \n",
       "575658          2011          7.3             8443.0   \n",
       "15921           1988          6.5             9026.0   \n",
       "298288          1990          8.7             7071.0   \n",
       "44042           1989          6.3               36.0   \n",
       "\n",
       "                                                 genres  \\\n",
       "movie_id                                                  \n",
       "806348                                 [ужасы, триллер]   \n",
       "575658                                 [драма, комедия]   \n",
       "15921     [ужасы, фантастика, фэнтези, боевик, триллер]   \n",
       "298288                                          [драма]   \n",
       "44042                                       [мелодрама]   \n",
       "\n",
       "                                                  countries      budget  \\\n",
       "movie_id                                                                  \n",
       "806348                                     [Великобритания]     ?50 000   \n",
       "575658    [Сербия, Словения, Хорватия, Франция, Македони...  €1 300 000   \n",
       "15921                                                 [США]  $3 000 000   \n",
       "298288                                     [Великобритания]         NaN   \n",
       "44042                                                [СССР]         NaN   \n",
       "\n",
       "                      name_eng  \n",
       "movie_id                        \n",
       "806348    The Redwood Massacre  \n",
       "575658                  Parada  \n",
       "15921              Phantasm II  \n",
       "298288          House of Cards  \n",
       "44042                      NaN  "
      ]
     },
     "execution_count": 94,
     "metadata": {},
     "output_type": "execute_result"
    }
   ],
   "source": [
    "X_train.head()"
   ]
  },
  {
   "cell_type": "markdown",
   "metadata": {},
   "source": [
    "Среди значений признака budget $~>75 \\%$ являются NaN. Этот признак нам понадобиться для выполнения бонусного задания. Вынесем его из датасета."
   ]
  },
  {
   "cell_type": "code",
   "execution_count": 100,
   "metadata": {
    "collapsed": false
   },
   "outputs": [],
   "source": [
    "budget = X_train.budget"
   ]
  },
  {
   "cell_type": "code",
   "execution_count": 102,
   "metadata": {
    "collapsed": false
   },
   "outputs": [],
   "source": [
    "del X_train['budget']"
   ]
  },
  {
   "cell_type": "code",
   "execution_count": 131,
   "metadata": {
    "collapsed": true
   },
   "outputs": [],
   "source": [
    "del X_test['budget']"
   ]
  },
  {
   "cell_type": "markdown",
   "metadata": {},
   "source": [
    "Вряд ли длительность фильма как-то влияет на его рейтинг. Удалим этот столбец."
   ]
  },
  {
   "cell_type": "code",
   "execution_count": 128,
   "metadata": {
    "collapsed": true
   },
   "outputs": [],
   "source": [
    "del X_train['movie_duration']"
   ]
  },
  {
   "cell_type": "code",
   "execution_count": 132,
   "metadata": {
    "collapsed": true
   },
   "outputs": [],
   "source": [
    "del X_test['movie_duration']"
   ]
  },
  {
   "cell_type": "markdown",
   "metadata": {},
   "source": [
    "Из значений признака movie_year создадим бинарные признаки. Например, у столбца 2016 будут стоят единицы в тех, местах которые соответствуют фильмам 2016 года."
   ]
  },
  {
   "cell_type": "code",
   "execution_count": 134,
   "metadata": {
    "collapsed": false
   },
   "outputs": [],
   "source": [
    "year_data = pd.get_dummies(X_train['movie_year'])"
   ]
  },
  {
   "cell_type": "code",
   "execution_count": 135,
   "metadata": {
    "collapsed": true
   },
   "outputs": [],
   "source": [
    "year_data_test = pd.get_dummies(X_test['movie_year'])"
   ]
  },
  {
   "cell_type": "markdown",
   "metadata": {},
   "source": [
    "Добавим новые признаки к нашему датасету."
   ]
  },
  {
   "cell_type": "code",
   "execution_count": 136,
   "metadata": {
    "collapsed": true
   },
   "outputs": [],
   "source": [
    "X_train = pd.concat((X_train, year_data), axis=1)\n",
    "X_test = pd.concat((X_test, year_data_test), axis=1)"
   ]
  },
  {
   "cell_type": "markdown",
   "metadata": {},
   "source": [
    "Выполним нормировку числовых признаков. "
   ]
  },
  {
   "cell_type": "code",
   "execution_count": 144,
   "metadata": {
    "collapsed": true
   },
   "outputs": [],
   "source": [
    "numerical_columns = [c for c in X_test.columns if X_train[c].dtype.name != 'object']"
   ]
  },
  {
   "cell_type": "code",
   "execution_count": 219,
   "metadata": {
    "collapsed": false
   },
   "outputs": [],
   "source": [
    "X_train = scale(X_train[numerical_columns])\n",
    "X_test = scale(X_test[numerical_columns])"
   ]
  },
  {
   "cell_type": "markdown",
   "metadata": {},
   "source": [
    "Можно было бы поиграться с текстовыми признаками, но вряд ли из них удастся получить какой-либо profit."
   ]
  },
  {
   "cell_type": "markdown",
   "metadata": {},
   "source": [
    "## Построение модели регрессии\n",
    "\n",
    "### Линейная регрессия"
   ]
  },
  {
   "cell_type": "markdown",
   "metadata": {},
   "source": [
    "Прогоним полученные данные через простую модель Линейной Регрессии."
   ]
  },
  {
   "cell_type": "code",
   "execution_count": 221,
   "metadata": {
    "collapsed": false
   },
   "outputs": [],
   "source": [
    "# Splitting data for model validation\n",
    "\n",
    "x_train, x_test, y_train, y_test = train_test_split(X_train, rating, test_size=0.4, random_state=2016)"
   ]
  },
  {
   "cell_type": "code",
   "execution_count": 222,
   "metadata": {
    "collapsed": false
   },
   "outputs": [
    {
     "data": {
      "text/plain": [
       "LinearRegression(copy_X=True, fit_intercept=True, n_jobs=1, normalize=False)"
      ]
     },
     "execution_count": 222,
     "metadata": {},
     "output_type": "execute_result"
    }
   ],
   "source": [
    "# Our basic model\n",
    "\n",
    "lr = LinearRegression()\n",
    "lr.fit(x_train, y_train)"
   ]
  },
  {
   "cell_type": "code",
   "execution_count": 225,
   "metadata": {
    "collapsed": false
   },
   "outputs": [
    {
     "name": "stdout",
     "output_type": "stream",
     "text": [
      "Средняя абсолютная ошибка на контрольной выборке: 0.49865\n"
     ]
    }
   ],
   "source": [
    "# Scoring\n",
    "\n",
    "y_pred = lr.predict(x_test)\n",
    "score = mean_absolute_error(y_test, y_pred)\n",
    "print(\"Средняя абсолютная ошибка на контрольной выборке: %.5f\" %score)"
   ]
  },
  {
   "cell_type": "markdown",
   "metadata": {},
   "source": [
    "Как видим, для данной модели качество только понизилось. Т.е. для модели добавленные признаки являются скорее \"шумовыми\". Попробуем обучить на тех же данных нелинейную модель."
   ]
  },
  {
   "cell_type": "markdown",
   "metadata": {},
   "source": [
    "### Случайный лес"
   ]
  },
  {
   "cell_type": "code",
   "execution_count": 226,
   "metadata": {
    "collapsed": true
   },
   "outputs": [],
   "source": [
    "from sklearn.ensemble import RandomForestRegressor"
   ]
  },
  {
   "cell_type": "code",
   "execution_count": 236,
   "metadata": {
    "collapsed": false
   },
   "outputs": [
    {
     "data": {
      "text/plain": [
       "RandomForestRegressor(bootstrap=True, criterion='mse', max_depth=None,\n",
       "           max_features='auto', max_leaf_nodes=None, min_samples_leaf=1,\n",
       "           min_samples_split=2, min_weight_fraction_leaf=0.0,\n",
       "           n_estimators=150, n_jobs=-1, oob_score=False, random_state=None,\n",
       "           verbose=0, warm_start=False)"
      ]
     },
     "execution_count": 236,
     "metadata": {},
     "output_type": "execute_result"
    }
   ],
   "source": [
    "forest = RandomForestRegressor(n_estimators=150, n_jobs=-1)\n",
    "forest.fit(x_train, y_train)"
   ]
  },
  {
   "cell_type": "code",
   "execution_count": 238,
   "metadata": {
    "collapsed": false
   },
   "outputs": [
    {
     "name": "stdout",
     "output_type": "stream",
     "text": [
      "Средняя абсолютная ошибка на контрольной выборке для Леса: 0.44105\n"
     ]
    }
   ],
   "source": [
    "# Scoring\n",
    "\n",
    "y_pred = forest.predict(x_test)\n",
    "score = mean_absolute_error(y_test, y_pred)\n",
    "print(\"Средняя абсолютная ошибка на контрольной выборке для Леса: %.5f\" %score)"
   ]
  },
  {
   "cell_type": "markdown",
   "metadata": {},
   "source": [
    "Отметим, что качество предсказания улучшилоcь на $~>10 \\%$, поэтому можно считать, что с задачей мы справилсь. Осталось только обучить модель на всем множестве X_train и записать результат в файл."
   ]
  },
  {
   "cell_type": "markdown",
   "metadata": {},
   "source": [
    "## Запись прогноза"
   ]
  },
  {
   "cell_type": "code",
   "execution_count": 239,
   "metadata": {
    "collapsed": false
   },
   "outputs": [
    {
     "data": {
      "text/plain": [
       "RandomForestRegressor(bootstrap=True, criterion='mse', max_depth=None,\n",
       "           max_features='auto', max_leaf_nodes=None, min_samples_leaf=1,\n",
       "           min_samples_split=2, min_weight_fraction_leaf=0.0,\n",
       "           n_estimators=150, n_jobs=-1, oob_score=False, random_state=None,\n",
       "           verbose=0, warm_start=False)"
      ]
     },
     "execution_count": 239,
     "metadata": {},
     "output_type": "execute_result"
    }
   ],
   "source": [
    "forest.fit(X_train, rating)"
   ]
  },
  {
   "cell_type": "code",
   "execution_count": 240,
   "metadata": {
    "collapsed": true
   },
   "outputs": [],
   "source": [
    "prediction = forest.predict(X_test)"
   ]
  },
  {
   "cell_type": "code",
   "execution_count": 249,
   "metadata": {
    "collapsed": false
   },
   "outputs": [],
   "source": [
    "result = pd.DataFrame(prediction, columns=['prediction'])\n",
    "result.to_csv('result.csv', index=False)"
   ]
  },
  {
   "cell_type": "code",
   "execution_count": 251,
   "metadata": {
    "collapsed": false
   },
   "outputs": [
    {
     "data": {
      "text/html": [
       "<div>\n",
       "<table border=\"1\" class=\"dataframe\">\n",
       "  <thead>\n",
       "    <tr style=\"text-align: right;\">\n",
       "      <th></th>\n",
       "      <th>prediction</th>\n",
       "    </tr>\n",
       "  </thead>\n",
       "  <tbody>\n",
       "    <tr>\n",
       "      <th>0</th>\n",
       "      <td>6.383867</td>\n",
       "    </tr>\n",
       "    <tr>\n",
       "      <th>1</th>\n",
       "      <td>6.986113</td>\n",
       "    </tr>\n",
       "    <tr>\n",
       "      <th>2</th>\n",
       "      <td>7.421193</td>\n",
       "    </tr>\n",
       "    <tr>\n",
       "      <th>3</th>\n",
       "      <td>3.220433</td>\n",
       "    </tr>\n",
       "    <tr>\n",
       "      <th>4</th>\n",
       "      <td>6.193647</td>\n",
       "    </tr>\n",
       "  </tbody>\n",
       "</table>\n",
       "</div>"
      ],
      "text/plain": [
       "   prediction\n",
       "0    6.383867\n",
       "1    6.986113\n",
       "2    7.421193\n",
       "3    3.220433\n",
       "4    6.193647"
      ]
     },
     "execution_count": 251,
     "metadata": {},
     "output_type": "execute_result"
    }
   ],
   "source": [
    "pd.read_csv('result.csv').head()"
   ]
  },
  {
   "cell_type": "markdown",
   "metadata": {},
   "source": [
    "## Бонус**\n",
    "\n",
    "\n",
    "**1. Построим графики зависимости рейтинга фильма (kp_rating) от его популярности (kp_rating_count) и бюджета (budget)**"
   ]
  },
  {
   "cell_type": "code",
   "execution_count": 259,
   "metadata": {
    "collapsed": true
   },
   "outputs": [],
   "source": [
    "X = train[~np.isnan(train.imdb_rating)]"
   ]
  },
  {
   "cell_type": "code",
   "execution_count": 264,
   "metadata": {
    "collapsed": false
   },
   "outputs": [
    {
     "data": {
      "text/plain": [
       "<matplotlib.collections.PathCollection at 0x6001a24128>"
      ]
     },
     "execution_count": 264,
     "metadata": {},
     "output_type": "execute_result"
    },
    {
     "data": {
      "image/png": "[encoded data removed]",
      "text/plain": [
       "<matplotlib.figure.Figure at 0x60019ca3c8>"
      ]
     },
     "metadata": {},
     "output_type": "display_data"
    }
   ],
   "source": [
    "%matplotlib inline\n",
    "\n",
    "plt.figure(figsize=(10, 6))\n",
    "plt.scatter(rating, X.kp_rating_count, color='red')"
   ]
  },
  {
   "cell_type": "markdown",
   "metadata": {},
   "source": [
    "Видим, что рейтинг популярности имеет значительную зависимость с целевой переменной. Об этом может свидетельствовать характерное смещение на графике. Но это касается в большей степени фильмов рейтинг, которых $~> 6$."
   ]
  },
  {
   "cell_type": "code",
   "execution_count": 269,
   "metadata": {
    "collapsed": false
   },
   "outputs": [],
   "source": [
    "X = train.budget.dropna()"
   ]
  },
  {
   "cell_type": "code",
   "execution_count": 297,
   "metadata": {
    "collapsed": false
   },
   "outputs": [],
   "source": [
    "import re\n",
    "\n",
    "money = []\n",
    "for cash in X:\n",
    "    valid = re.sub('[^0-9]+', '', cash)\n",
    "    money.append(int(valid))"
   ]
  },
  {
   "cell_type": "code",
   "execution_count": 301,
   "metadata": {
    "collapsed": false
   },
   "outputs": [
    {
     "data": {
      "text/plain": [
       "<matplotlib.collections.PathCollection at 0x6001b3e3c8>"
      ]
     },
     "execution_count": 301,
     "metadata": {},
     "output_type": "execute_result"
    },
    {
     "data": {
      "image/png": "[encoded data removed]",
      "text/plain": [
       "<matplotlib.figure.Figure at 0x6001a4df60>"
      ]
     },
     "metadata": {},
     "output_type": "display_data"
    }
   ],
   "source": [
    "plt.figure(figsize=(10, 6))\n",
    "plt.scatter(rating[X.index], money, color='blue')"
   ]
  },
  {
   "cell_type": "markdown",
   "metadata": {},
   "source": [
    "А вот от бюджета мало что зависит. Здесь не видно никакой корреляции. Это и понятно -- зрителя же не обманешь."
   ]
  },
  {
   "cell_type": "markdown",
   "metadata": {},
   "source": [
    "**2. Посмотрим какие жанры фильмов чаще всего встречаются вместе. Построим Heatmap диаграмму.**"
   ]
  },
  {
   "cell_type": "code",
   "execution_count": 303,
   "metadata": {
    "collapsed": false
   },
   "outputs": [],
   "source": [
    "X = train.genres.dropna()"
   ]
  },
  {
   "cell_type": "code",
   "execution_count": 320,
   "metadata": {
    "collapsed": false
   },
   "outputs": [],
   "source": [
    "import nltk\n",
    "\n",
    "words = nltk.word_tokenize(str(list(X)))\n",
    "genres = list(set([word for word in words if len(word) > 3]))"
   ]
  },
  {
   "cell_type": "code",
   "execution_count": 321,
   "metadata": {
    "collapsed": false
   },
   "outputs": [
    {
     "data": {
      "text/plain": [
       "['семейный',\n",
       " 'ток-шоу',\n",
       " 'аниме',\n",
       " 'боевик',\n",
       " 'спорт',\n",
       " 'фэнтези',\n",
       " 'документальный',\n",
       " 'фильм-нуар',\n",
       " 'мультфильм',\n",
       " 'музыка',\n",
       " 'криминал',\n",
       " 'фантастика',\n",
       " 'короткометражка',\n",
       " 'история',\n",
       " 'триллер',\n",
       " 'мелодрама',\n",
       " 'приключения',\n",
       " 'игра',\n",
       " 'новости',\n",
       " 'взрослых',\n",
       " 'реальное',\n",
       " 'вестерн',\n",
       " 'мюзикл',\n",
       " 'ужасы',\n",
       " 'драма',\n",
       " 'концерт',\n",
       " 'детектив',\n",
       " 'биография',\n",
       " 'военный',\n",
       " 'детский',\n",
       " 'комедия',\n",
       " 'церемония']"
      ]
     },
     "execution_count": 321,
     "metadata": {},
     "output_type": "execute_result"
    }
   ],
   "source": [
    "genres"
   ]
  },
  {
   "cell_type": "markdown",
   "metadata": {},
   "source": [
    "Построим матрицу встречаемости жанров"
   ]
  },
  {
   "cell_type": "code",
   "execution_count": 327,
   "metadata": {
    "collapsed": true
   },
   "outputs": [],
   "source": [
    "m = len(genres)\n",
    "matrix = np.zeros((m, m))\n",
    "for s, genre in enumerate(genres):\n",
    "    for t, g in enumerate(genres):\n",
    "        for i in range(len(X)):\n",
    "            if g in X.iloc[i] and genre in X.iloc[i]:\n",
    "                matrix[s, t]+=1          "
   ]
  },
  {
   "cell_type": "markdown",
   "metadata": {},
   "source": [
    "Строим Heatmap диаграмму"
   ]
  },
  {
   "cell_type": "code",
   "execution_count": 368,
   "metadata": {
    "collapsed": true
   },
   "outputs": [],
   "source": [
    "# чтобы был русский шрифт\n",
    "from matplotlib import rc\n",
    " \n",
    "font = {'family': 'Verdana',\n",
    "        'weight': 'normal'}\n",
    "rc('font', **font)"
   ]
  },
  {
   "cell_type": "code",
   "execution_count": 378,
   "metadata": {
    "collapsed": false
   },
   "outputs": [
    {
     "data": {
      "image/png": "[encoded data removed]",
      "text/plain": [
       "<matplotlib.figure.Figure at 0x60ab953b38>"
      ]
     },
     "metadata": {},
     "output_type": "display_data"
    }
   ],
   "source": [
    "fig, ax = plt.subplots()\n",
    "plt.pcolor(matrix, cmap=plt.cm.Blues, alpha=0.8)\n",
    "\n",
    "ax.set_frame_on(False)\n",
    "ax.invert_yaxis()\n",
    "ax.xaxis.tick_top()\n",
    "ax.set_yticks(np.arange(32) + 0.5, minor=False)\n",
    "ax.set_xticks(np.arange(32) + 0.5, minor=False)\n",
    "\n",
    "fig = plt.gcf()\n",
    "fig.set_size_inches(10,10)\n",
    "\n",
    "plt.xticks(rotation=90)\n",
    "\n",
    "ax.set_xticklabels(genres, minor=False) \n",
    "ax.set_yticklabels(genres, minor=False)\n",
    "\n",
    "ax = plt.gca()\n",
    "for t in ax.xaxis.get_major_ticks(): \n",
    "    t.tick1On = False \n",
    "    t.tick2On = False \n",
    "for t in ax.yaxis.get_major_ticks(): \n",
    "    t.tick1On = False \n",
    "    t.tick2On = False  "
   ]
  },
  {
   "cell_type": "markdown",
   "metadata": {},
   "source": [
    "Похоже на правду. Заметим, что, например, тэг Драма часто встречается с тэгом Мелодрама, а Анимэ -- с Мультфильмами."
   ]
  },
  {
   "cell_type": "code",
   "execution_count": null,
   "metadata": {
    "collapsed": true
   },
   "outputs": [],
   "source": []
  }
 ],
 "metadata": {
  "anaconda-cloud": {},
  "kernelspec": {
   "display_name": "Python [Root]",
   "language": "python",
   "name": "Python [Root]"
  },
  "language_info": {
   "codemirror_mode": {
    "name": "ipython",
    "version": 3
   },
   "file_extension": ".py",
   "mimetype": "text/x-python",
   "name": "python",
   "nbconvert_exporter": "python",
   "pygments_lexer": "ipython3",
   "version": "3.5.2"
  }
 },
 "nbformat": 4,
 "nbformat_minor": 0
}
