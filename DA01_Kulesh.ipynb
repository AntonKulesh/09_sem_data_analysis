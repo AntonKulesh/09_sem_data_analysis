{
 "cells": [
  {
   "cell_type": "markdown",
   "metadata": {},
   "source": [
    "# Анализ Данных\n",
    "## Лабораторная работа №1. Нахождение похожих предложений в тексте\n",
    "\n",
    "Выполнил: *Кулеш Антон* <br />\n",
    "\n",
    "*Минск, осень 2016*"
   ]
  },
  {
   "cell_type": "markdown",
   "metadata": {},
   "source": [
    "----\n",
    "### Постановка задачи\n",
    "Для [данного текста](http://www.gutenberg.org/cache/epub/1661/pg1661.txt) построить векторное представление и исследовать связи между предложениями."
   ]
  },
  {
   "cell_type": "code",
   "execution_count": 1,
   "metadata": {
    "collapsed": false
   },
   "outputs": [],
   "source": [
    "import re\n",
    "import time\n",
    "from urllib.request import urlopen\n",
    "from collections import Counter\n",
    "\n",
    "from scipy import spatial\n",
    "import numpy as np"
   ]
  },
  {
   "cell_type": "markdown",
   "metadata": {},
   "source": [
    "### Загрузка и обработка данных"
   ]
  },
  {
   "cell_type": "code",
   "execution_count": 2,
   "metadata": {
    "collapsed": false
   },
   "outputs": [],
   "source": [
    "holmes_url = \"http://www.gutenberg.org/cache/epub/1661/pg1661.txt\"\n",
    "response = urlopen(holmes_url)\n",
    "text = response.read().decode('utf8')"
   ]
  },
  {
   "cell_type": "markdown",
   "metadata": {
    "collapsed": true
   },
   "source": [
    "### Токенизация\n",
    "Все слова приводим к нижнему регистру, далее разбиваем текст по всем небуквенным символам."
   ]
  },
  {
   "cell_type": "code",
   "execution_count": 3,
   "metadata": {
    "collapsed": false
   },
   "outputs": [],
   "source": [
    "text_lowercase = text.lower()"
   ]
  },
  {
   "cell_type": "code",
   "execution_count": 4,
   "metadata": {
    "collapsed": false
   },
   "outputs": [
    {
     "name": "stdout",
     "output_type": "stream",
     "text": [
      "147772\n"
     ]
    }
   ],
   "source": [
    "tokens = re.split('[^a-z]', text_lowercase)\n",
    "print(len(tokens))"
   ]
  },
  {
   "cell_type": "markdown",
   "metadata": {
    "collapsed": true
   },
   "source": [
    "### Фильтрация\n",
    "Удаляем слова нулевой длины (пустые строки)."
   ]
  },
  {
   "cell_type": "code",
   "execution_count": 5,
   "metadata": {
    "collapsed": false
   },
   "outputs": [
    {
     "name": "stdout",
     "output_type": "stream",
     "text": [
      "109000\n"
     ]
    }
   ],
   "source": [
    "filt_tokens = list(filter(lambda x: len(x) >= 1, tokens))\n",
    "print(len(filt_tokens))"
   ]
  },
  {
   "cell_type": "markdown",
   "metadata": {
    "collapsed": false
   },
   "source": [
    "### Словник\n",
    "Создадим словарь, в котором будем хранить все слова, которые встречаются в тексте и их частоты."
   ]
  },
  {
   "cell_type": "code",
   "execution_count": 6,
   "metadata": {
    "collapsed": false
   },
   "outputs": [
    {
     "data": {
      "text/plain": [
       "8068"
      ]
     },
     "execution_count": 6,
     "metadata": {},
     "output_type": "execute_result"
    }
   ],
   "source": [
    "vocabulary = Counter(filt_tokens)\n",
    "len(vocabulary)"
   ]
  },
  {
   "cell_type": "markdown",
   "metadata": {
    "collapsed": true
   },
   "source": [
    "### Разбиение текста\n",
    "Выполним разбиение данного текста на предложения по шаблону **[\\!\\?\\.!]**."
   ]
  },
  {
   "cell_type": "code",
   "execution_count": 34,
   "metadata": {
    "collapsed": false
   },
   "outputs": [],
   "source": [
    "def splitting(text):\n",
    "    p = re.compile(r'[\\?\\.\\!]')\n",
    "    sentences = re.split(p, text_lowercase)\n",
    "    '''\n",
    "    import nltk\n",
    "    sent_detector = nltk.data.load('tokenizers/punkt/english.pickle')\n",
    "    sentences = sent_detector.tokenize(text_lowercase.strip())\n",
    "    '''\n",
    "    sentences = [re.split('[^a-z]', sentence) for sentence in sentences]\n",
    "    sentences = [list(filter(lambda x: len(x) >= 1, sentence)) for sentence in sentences]\n",
    "    sentences = [sentence for sentence in sentences if len(sentence) > 1]\n",
    "    return sentences"
   ]
  },
  {
   "cell_type": "code",
   "execution_count": 35,
   "metadata": {
    "collapsed": false
   },
   "outputs": [
    {
     "name": "stdout",
     "output_type": "stream",
     "text": [
      "7061\n"
     ]
    }
   ],
   "source": [
    "sentences = splitting(text_lowercase)\n",
    "print(len(sentences))"
   ]
  },
  {
   "cell_type": "code",
   "execution_count": null,
   "metadata": {
    "collapsed": true
   },
   "outputs": [],
   "source": []
  },
  {
   "cell_type": "markdown",
   "metadata": {
    "collapsed": true
   },
   "source": [
    "### Векторное представление\n",
    "Напишем функцию, которая заданному предложению будет ставить в соответствие вектор частот, размерность которого соответствует размеру словника."
   ]
  },
  {
   "cell_type": "code",
   "execution_count": 11,
   "metadata": {
    "collapsed": false
   },
   "outputs": [],
   "source": [
    "def sent2vec(sentence, *, vocabulary):\n",
    "    \"Vector representing of sentence\"\n",
    "    n = len(vocabulary)\n",
    "    local_vocabulary = Counter(sentence)\n",
    "    vector = np.zeros(n)\n",
    "    for i, word in enumerate(vocabulary.keys()):\n",
    "        if word in local_vocabulary:\n",
    "            vector[i] = local_vocabulary[word]\n",
    "    return vector"
   ]
  },
  {
   "cell_type": "markdown",
   "metadata": {},
   "source": [
    "Таким образом исходный текст можно представить в виде [терм-документной матрицы](https://ru.wikipedia.org/wiki/Терм-документная_матрица)."
   ]
  },
  {
   "cell_type": "code",
   "execution_count": 12,
   "metadata": {
    "collapsed": false
   },
   "outputs": [],
   "source": [
    "term_matrix = np.asarray(list(map(lambda x: sent2vec(x, vocabulary=vocabulary), sentences)))"
   ]
  },
  {
   "cell_type": "code",
   "execution_count": 13,
   "metadata": {
    "collapsed": false
   },
   "outputs": [
    {
     "data": {
      "text/plain": [
       "(7061, 8068)"
      ]
     },
     "execution_count": 13,
     "metadata": {},
     "output_type": "execute_result"
    }
   ],
   "source": [
    "term_matrix.shape"
   ]
  },
  {
   "cell_type": "markdown",
   "metadata": {
    "collapsed": true
   },
   "source": [
    "### Вычисление сходства\n",
    "Так как предложение теперь -- вектра в пространстве $R^{8068}$, то между этими векторами можно вычислить расстояние, использую известные меры. В нашей задаче будем использовать [косинусную меру](https://en.wikipedia.org/wiki/Cosine_similarity)."
   ]
  },
  {
   "cell_type": "code",
   "execution_count": 14,
   "metadata": {
    "collapsed": true
   },
   "outputs": [],
   "source": [
    "def most_similar(n_sentence, *, term_matrix):\n",
    "    m, n = term_matrix.shape\n",
    "    dist = 1\n",
    "    neighbour = n_sentence\n",
    "    for i in range(m):\n",
    "        curr_dist = spatial.distance.cosine(term_matrix[n_sentence],term_matrix[i])\n",
    "        if curr_dist < dist and i != n_sentence:\n",
    "            dist = curr_dist\n",
    "            neighbour = i\n",
    "    return neighbour, dist"
   ]
  },
  {
   "cell_type": "code",
   "execution_count": 33,
   "metadata": {
    "collapsed": false
   },
   "outputs": [
    {
     "name": "stdout",
     "output_type": "stream",
     "text": [
      "Wall time: 2.77 s\n"
     ]
    },
    {
     "data": {
      "text/plain": [
       "(4736, 0.44966611633250775)"
      ]
     },
     "execution_count": 33,
     "metadata": {},
     "output_type": "execute_result"
    }
   ],
   "source": [
    "%%time\n",
    "most_similar(6000, term_matrix=term_matrix)"
   ]
  },
  {
   "cell_type": "code",
   "execution_count": 34,
   "metadata": {
    "collapsed": false
   },
   "outputs": [
    {
     "data": {
      "text/plain": [
       "Counter({'arthur': 1,\n",
       "         'cousin': 1,\n",
       "         'crime': 1,\n",
       "         'feel': 1,\n",
       "         'i': 2,\n",
       "         'in': 1,\n",
       "         'innocent': 1,\n",
       "         'is': 2,\n",
       "         'my': 1,\n",
       "         'of': 1,\n",
       "         'proving': 1,\n",
       "         'sir': 1,\n",
       "         'succeed': 1,\n",
       "         'sure': 1,\n",
       "         'that': 2,\n",
       "         'the': 1,\n",
       "         'this': 1,\n",
       "         'trust': 1,\n",
       "         'truth': 1,\n",
       "         'what': 1,\n",
       "         'will': 1,\n",
       "         'you': 1})"
      ]
     },
     "execution_count": 34,
     "metadata": {},
     "output_type": "execute_result"
    }
   ],
   "source": [
    "Counter(sentences[6000])"
   ]
  },
  {
   "cell_type": "code",
   "execution_count": 35,
   "metadata": {
    "collapsed": false
   },
   "outputs": [
    {
     "data": {
      "text/plain": [
       "Counter({'beg': 1,\n",
       "         'business': 1,\n",
       "         'i': 2,\n",
       "         'is': 1,\n",
       "         'my': 1,\n",
       "         'of': 1,\n",
       "         'said': 1,\n",
       "         'sir': 1,\n",
       "         'state': 1,\n",
       "         'that': 1,\n",
       "         'time': 1,\n",
       "         'value': 1,\n",
       "         'will': 1,\n",
       "         'you': 1,\n",
       "         'your': 1})"
      ]
     },
     "execution_count": 35,
     "metadata": {},
     "output_type": "execute_result"
    }
   ],
   "source": [
    "Counter(sentences[4736])"
   ]
  },
  {
   "cell_type": "markdown",
   "metadata": {},
   "source": [
    "Можно отметить, что на схожесть предложений сильно влияют [стоп-слова](https://en.wikipedia.org/wiki/Stop_words), поэтому часто при построении векторных представлений текстовых документов эти \"шумовые\" слова игнорируют."
   ]
  },
  {
   "cell_type": "code",
   "execution_count": null,
   "metadata": {
    "collapsed": true
   },
   "outputs": [],
   "source": []
  }
 ],
 "metadata": {
  "kernelspec": {
   "display_name": "Python [Root]",
   "language": "python",
   "name": "Python [Root]"
  },
  "language_info": {
   "codemirror_mode": {
    "name": "ipython",
    "version": 3
   },
   "file_extension": ".py",
   "mimetype": "text/x-python",
   "name": "python",
   "nbconvert_exporter": "python",
   "pygments_lexer": "ipython3",
   "version": "3.5.2"
  }
 },
 "nbformat": 4,
 "nbformat_minor": 0
}
