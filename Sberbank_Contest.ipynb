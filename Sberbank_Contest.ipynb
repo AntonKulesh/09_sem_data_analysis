{
 "cells": [
  {
   "cell_type": "markdown",
   "metadata": {},
   "source": [
    "# Data Science Олимпиада\n",
    "\n",
    "[Ссылка](https://contest.sdsj.ru/#/data?_k=nb68yz) на соревнование\n",
    "\n",
    "\n",
    "При выполнении данной работы были использованы следующие *источники*:\n",
    "    \n",
    "1) А. Дьяконов. [\"Анализ данных в задаче Сбербанк. Примеры визуализации\"](https://github.com/Dyakonov/case_sdsj/blob/master/dj_sdsj01_visual.ipynb)\n",
    "\n",
    "2) Базовые решения со [страницы](https://contest.sdsj.ru/#/data?_k=nb68yz) соревнования\n",
    "\n",
    "---\n",
    "\n",
    "\n",
    "# Задача А. Предсказание пола клиента"
   ]
  },
  {
   "cell_type": "markdown",
   "metadata": {},
   "source": [
    "## Описание\n",
    "Необходимо предсказать вероятность пола 1 для каждого *customer_id*, которого нет в обучающей выборке *customers_gender_train.csv*, но есть в *transactions.csv*."
   ]
  },
  {
   "cell_type": "code",
   "execution_count": 2,
   "metadata": {
    "collapsed": false
   },
   "outputs": [
    {
     "name": "stdout",
     "output_type": "stream",
     "text": [
      "Populating the interactive namespace from numpy and matplotlib\n"
     ]
    }
   ],
   "source": [
    "import pandas as pd\n",
    "import numpy as np\n",
    "\n",
    "%pylab inline\n",
    "pd.set_option('display.mpl_style', 'default')\n",
    "figsize(12, 9)\n",
    "\n",
    "import warnings\n",
    "warnings.filterwarnings(\"ignore\")\n",
    "\n",
    "import matplotlib.pyplot as plt"
   ]
  },
  {
   "cell_type": "markdown",
   "metadata": {},
   "source": [
    "## Загрузка данных"
   ]
  },
  {
   "cell_type": "code",
   "execution_count": 2,
   "metadata": {
    "collapsed": false
   },
   "outputs": [
    {
     "name": "stdout",
     "output_type": "stream",
     "text": [
      "(6849346, 6)\n"
     ]
    },
    {
     "data": {
      "text/html": [
       "<div>\n",
       "<table border=\"1\" class=\"dataframe\">\n",
       "  <thead>\n",
       "    <tr style=\"text-align: right;\">\n",
       "      <th></th>\n",
       "      <th>customer_id</th>\n",
       "      <th>tr_datetime</th>\n",
       "      <th>mcc_code</th>\n",
       "      <th>tr_type</th>\n",
       "      <th>amount</th>\n",
       "      <th>term_id</th>\n",
       "    </tr>\n",
       "  </thead>\n",
       "  <tbody>\n",
       "    <tr>\n",
       "      <th>0</th>\n",
       "      <td>39026145</td>\n",
       "      <td>0 10:23:26</td>\n",
       "      <td>4814</td>\n",
       "      <td>1030</td>\n",
       "      <td>-2245.92</td>\n",
       "      <td>NaN</td>\n",
       "    </tr>\n",
       "    <tr>\n",
       "      <th>1</th>\n",
       "      <td>39026145</td>\n",
       "      <td>1 10:19:29</td>\n",
       "      <td>6011</td>\n",
       "      <td>7010</td>\n",
       "      <td>56147.89</td>\n",
       "      <td>NaN</td>\n",
       "    </tr>\n",
       "    <tr>\n",
       "      <th>2</th>\n",
       "      <td>39026145</td>\n",
       "      <td>1 10:20:56</td>\n",
       "      <td>4829</td>\n",
       "      <td>2330</td>\n",
       "      <td>-56147.89</td>\n",
       "      <td>NaN</td>\n",
       "    </tr>\n",
       "    <tr>\n",
       "      <th>3</th>\n",
       "      <td>39026145</td>\n",
       "      <td>1 10:39:54</td>\n",
       "      <td>5499</td>\n",
       "      <td>1010</td>\n",
       "      <td>-1392.47</td>\n",
       "      <td>NaN</td>\n",
       "    </tr>\n",
       "    <tr>\n",
       "      <th>4</th>\n",
       "      <td>39026145</td>\n",
       "      <td>2 15:33:42</td>\n",
       "      <td>5499</td>\n",
       "      <td>1010</td>\n",
       "      <td>-920.83</td>\n",
       "      <td>NaN</td>\n",
       "    </tr>\n",
       "  </tbody>\n",
       "</table>\n",
       "</div>"
      ],
      "text/plain": [
       "   customer_id tr_datetime  mcc_code  tr_type    amount term_id\n",
       "0     39026145  0 10:23:26      4814     1030  -2245.92     NaN\n",
       "1     39026145  1 10:19:29      6011     7010  56147.89     NaN\n",
       "2     39026145  1 10:20:56      4829     2330 -56147.89     NaN\n",
       "3     39026145  1 10:39:54      5499     1010  -1392.47     NaN\n",
       "4     39026145  2 15:33:42      5499     1010   -920.83     NaN"
      ]
     },
     "execution_count": 2,
     "metadata": {},
     "output_type": "execute_result"
    }
   ],
   "source": [
    "transactions = pd.read_csv(\"transactions.csv\")\n",
    "print(transactions.shape)\n",
    "transactions.head()"
   ]
  },
  {
   "cell_type": "code",
   "execution_count": 3,
   "metadata": {
    "collapsed": false
   },
   "outputs": [
    {
     "name": "stdout",
     "output_type": "stream",
     "text": [
      "(12000, 2)\n"
     ]
    },
    {
     "data": {
      "text/html": [
       "<div>\n",
       "<table border=\"1\" class=\"dataframe\">\n",
       "  <thead>\n",
       "    <tr style=\"text-align: right;\">\n",
       "      <th></th>\n",
       "      <th>customer_id</th>\n",
       "      <th>gender</th>\n",
       "    </tr>\n",
       "  </thead>\n",
       "  <tbody>\n",
       "    <tr>\n",
       "      <th>0</th>\n",
       "      <td>75562265</td>\n",
       "      <td>0</td>\n",
       "    </tr>\n",
       "    <tr>\n",
       "      <th>1</th>\n",
       "      <td>10928546</td>\n",
       "      <td>1</td>\n",
       "    </tr>\n",
       "    <tr>\n",
       "      <th>2</th>\n",
       "      <td>69348468</td>\n",
       "      <td>1</td>\n",
       "    </tr>\n",
       "    <tr>\n",
       "      <th>3</th>\n",
       "      <td>84816985</td>\n",
       "      <td>1</td>\n",
       "    </tr>\n",
       "    <tr>\n",
       "      <th>4</th>\n",
       "      <td>61009479</td>\n",
       "      <td>0</td>\n",
       "    </tr>\n",
       "  </tbody>\n",
       "</table>\n",
       "</div>"
      ],
      "text/plain": [
       "   customer_id  gender\n",
       "0     75562265       0\n",
       "1     10928546       1\n",
       "2     69348468       1\n",
       "3     84816985       1\n",
       "4     61009479       0"
      ]
     },
     "execution_count": 3,
     "metadata": {},
     "output_type": "execute_result"
    }
   ],
   "source": [
    "customers_gender_train = pd.read_csv(\"customers_gender_train.csv\")\n",
    "print(customers_gender_train.shape)\n",
    "customers_gender_train.head()"
   ]
  },
  {
   "cell_type": "code",
   "execution_count": 4,
   "metadata": {
    "collapsed": false
   },
   "outputs": [
    {
     "name": "stdout",
     "output_type": "stream",
     "text": [
      "(155, 2) 77\n"
     ]
    },
    {
     "data": {
      "text/html": [
       "<div>\n",
       "<table border=\"1\" class=\"dataframe\">\n",
       "  <thead>\n",
       "    <tr style=\"text-align: right;\">\n",
       "      <th></th>\n",
       "      <th>tr_type</th>\n",
       "      <th>tr_description</th>\n",
       "    </tr>\n",
       "  </thead>\n",
       "  <tbody>\n",
       "    <tr>\n",
       "      <th>0</th>\n",
       "      <td>3200</td>\n",
       "      <td>Плата за предоставление услуг посредством моби...</td>\n",
       "    </tr>\n",
       "    <tr>\n",
       "      <th>1</th>\n",
       "      <td>3210</td>\n",
       "      <td>Плата за предоставление отчета по счету карты ...</td>\n",
       "    </tr>\n",
       "    <tr>\n",
       "      <th>2</th>\n",
       "      <td>3800</td>\n",
       "      <td>Плата за обслуживание банковской карты (за пер...</td>\n",
       "    </tr>\n",
       "    <tr>\n",
       "      <th>3</th>\n",
       "      <td>4000</td>\n",
       "      <td>Плата за получение наличных в Сбербанке</td>\n",
       "    </tr>\n",
       "    <tr>\n",
       "      <th>4</th>\n",
       "      <td>4001</td>\n",
       "      <td>Плата за получение наличных в Сбербанке (в дру...</td>\n",
       "    </tr>\n",
       "  </tbody>\n",
       "</table>\n",
       "</div>"
      ],
      "text/plain": [
       "   tr_type                                     tr_description\n",
       "0     3200  Плата за предоставление услуг посредством моби...\n",
       "1     3210  Плата за предоставление отчета по счету карты ...\n",
       "2     3800  Плата за обслуживание банковской карты (за пер...\n",
       "3     4000            Плата за получение наличных в Сбербанке\n",
       "4     4001  Плата за получение наличных в Сбербанке (в дру..."
      ]
     },
     "execution_count": 4,
     "metadata": {},
     "output_type": "execute_result"
    }
   ],
   "source": [
    "tr_types = pd.read_csv(\"tr_types.csv\", sep=';')\n",
    "print(tr_types.shape, transactions.tr_type.nunique())\n",
    "tr_types.head()"
   ]
  },
  {
   "cell_type": "code",
   "execution_count": 5,
   "metadata": {
    "collapsed": false
   },
   "outputs": [
    {
     "name": "stdout",
     "output_type": "stream",
     "text": [
      "(184, 2) 184\n"
     ]
    },
    {
     "data": {
      "text/html": [
       "<div>\n",
       "<table border=\"1\" class=\"dataframe\">\n",
       "  <thead>\n",
       "    <tr style=\"text-align: right;\">\n",
       "      <th></th>\n",
       "      <th>mcc_code</th>\n",
       "      <th>mcc_description</th>\n",
       "    </tr>\n",
       "  </thead>\n",
       "  <tbody>\n",
       "    <tr>\n",
       "      <th>0</th>\n",
       "      <td>742</td>\n",
       "      <td>Ветеринарные услуги</td>\n",
       "    </tr>\n",
       "    <tr>\n",
       "      <th>1</th>\n",
       "      <td>1711</td>\n",
       "      <td>Генеральные подрядчики по вентиляции, теплосна...</td>\n",
       "    </tr>\n",
       "    <tr>\n",
       "      <th>2</th>\n",
       "      <td>1731</td>\n",
       "      <td>Подрядчики по электричеству</td>\n",
       "    </tr>\n",
       "    <tr>\n",
       "      <th>3</th>\n",
       "      <td>1799</td>\n",
       "      <td>Подрядчики, специализированная торговля — нигд...</td>\n",
       "    </tr>\n",
       "    <tr>\n",
       "      <th>4</th>\n",
       "      <td>2741</td>\n",
       "      <td>Разнообразные издательства/печатное дело</td>\n",
       "    </tr>\n",
       "  </tbody>\n",
       "</table>\n",
       "</div>"
      ],
      "text/plain": [
       "   mcc_code                                    mcc_description\n",
       "0       742                                Ветеринарные услуги\n",
       "1      1711  Генеральные подрядчики по вентиляции, теплосна...\n",
       "2      1731                        Подрядчики по электричеству\n",
       "3      1799  Подрядчики, специализированная торговля — нигд...\n",
       "4      2741           Разнообразные издательства/печатное дело"
      ]
     },
     "execution_count": 5,
     "metadata": {},
     "output_type": "execute_result"
    }
   ],
   "source": [
    "tr_mcc_codes = pd.read_csv(\"tr_mcc_codes.csv\", sep=';')\n",
    "print(tr_mcc_codes.shape, transactions.mcc_code.nunique())\n",
    "tr_mcc_codes.head()"
   ]
  },
  {
   "cell_type": "markdown",
   "metadata": {},
   "source": [
    "## Формирование \"базовой\" матрицы признаков"
   ]
  },
  {
   "cell_type": "code",
   "execution_count": 6,
   "metadata": {
    "collapsed": false
   },
   "outputs": [
    {
     "name": "stdout",
     "output_type": "stream",
     "text": [
      "(6849346, 7)\n"
     ]
    },
    {
     "data": {
      "text/html": [
       "<div>\n",
       "<table border=\"1\" class=\"dataframe\">\n",
       "  <thead>\n",
       "    <tr style=\"text-align: right;\">\n",
       "      <th></th>\n",
       "      <th>customer_id</th>\n",
       "      <th>tr_datetime</th>\n",
       "      <th>mcc_code</th>\n",
       "      <th>tr_type</th>\n",
       "      <th>amount</th>\n",
       "      <th>term_id</th>\n",
       "      <th>gender</th>\n",
       "    </tr>\n",
       "  </thead>\n",
       "  <tbody>\n",
       "    <tr>\n",
       "      <th>0</th>\n",
       "      <td>39026145</td>\n",
       "      <td>0 10:23:26</td>\n",
       "      <td>4814</td>\n",
       "      <td>1030</td>\n",
       "      <td>-2245.92</td>\n",
       "      <td>NaN</td>\n",
       "      <td>1.0</td>\n",
       "    </tr>\n",
       "    <tr>\n",
       "      <th>1</th>\n",
       "      <td>39026145</td>\n",
       "      <td>1 10:19:29</td>\n",
       "      <td>6011</td>\n",
       "      <td>7010</td>\n",
       "      <td>56147.89</td>\n",
       "      <td>NaN</td>\n",
       "      <td>1.0</td>\n",
       "    </tr>\n",
       "    <tr>\n",
       "      <th>2</th>\n",
       "      <td>39026145</td>\n",
       "      <td>1 10:20:56</td>\n",
       "      <td>4829</td>\n",
       "      <td>2330</td>\n",
       "      <td>-56147.89</td>\n",
       "      <td>NaN</td>\n",
       "      <td>1.0</td>\n",
       "    </tr>\n",
       "    <tr>\n",
       "      <th>3</th>\n",
       "      <td>39026145</td>\n",
       "      <td>1 10:39:54</td>\n",
       "      <td>5499</td>\n",
       "      <td>1010</td>\n",
       "      <td>-1392.47</td>\n",
       "      <td>NaN</td>\n",
       "      <td>1.0</td>\n",
       "    </tr>\n",
       "    <tr>\n",
       "      <th>4</th>\n",
       "      <td>39026145</td>\n",
       "      <td>2 15:33:42</td>\n",
       "      <td>5499</td>\n",
       "      <td>1010</td>\n",
       "      <td>-920.83</td>\n",
       "      <td>NaN</td>\n",
       "      <td>1.0</td>\n",
       "    </tr>\n",
       "  </tbody>\n",
       "</table>\n",
       "</div>"
      ],
      "text/plain": [
       "   customer_id tr_datetime  mcc_code  tr_type    amount term_id  gender\n",
       "0     39026145  0 10:23:26      4814     1030  -2245.92     NaN     1.0\n",
       "1     39026145  1 10:19:29      6011     7010  56147.89     NaN     1.0\n",
       "2     39026145  1 10:20:56      4829     2330 -56147.89     NaN     1.0\n",
       "3     39026145  1 10:39:54      5499     1010  -1392.47     NaN     1.0\n",
       "4     39026145  2 15:33:42      5499     1010   -920.83     NaN     1.0"
      ]
     },
     "execution_count": 6,
     "metadata": {},
     "output_type": "execute_result"
    }
   ],
   "source": [
    "# присоедниение пола\n",
    "transactions = pd.merge(transactions, customers_gender_train, on='customer_id', how='outer')\n",
    "print (transactions.shape)\n",
    "transactions.head()"
   ]
  },
  {
   "cell_type": "markdown",
   "metadata": {
    "collapsed": true
   },
   "source": [
    "## Исследование датасета"
   ]
  },
  {
   "cell_type": "code",
   "execution_count": 9,
   "metadata": {
    "collapsed": true
   },
   "outputs": [],
   "source": [
    "# удаляем бесполезную \"айдишку терминала\"\n",
    "del transactions['term_id']"
   ]
  },
  {
   "cell_type": "code",
   "execution_count": 10,
   "metadata": {
    "collapsed": false
   },
   "outputs": [
    {
     "data": {
      "text/html": [
       "<div>\n",
       "<table border=\"1\" class=\"dataframe\">\n",
       "  <thead>\n",
       "    <tr style=\"text-align: right;\">\n",
       "      <th></th>\n",
       "      <th>amount</th>\n",
       "    </tr>\n",
       "    <tr>\n",
       "      <th>customer_id</th>\n",
       "      <th></th>\n",
       "    </tr>\n",
       "  </thead>\n",
       "  <tbody>\n",
       "    <tr>\n",
       "      <th>6815</th>\n",
       "      <td>-1249454.87</td>\n",
       "    </tr>\n",
       "    <tr>\n",
       "      <th>22899</th>\n",
       "      <td>-629796.59</td>\n",
       "    </tr>\n",
       "    <tr>\n",
       "      <th>27914</th>\n",
       "      <td>-2977026.82</td>\n",
       "    </tr>\n",
       "    <tr>\n",
       "      <th>28753</th>\n",
       "      <td>-26546282.86</td>\n",
       "    </tr>\n",
       "    <tr>\n",
       "      <th>31385</th>\n",
       "      <td>-2180003.58</td>\n",
       "    </tr>\n",
       "  </tbody>\n",
       "</table>\n",
       "</div>"
      ],
      "text/plain": [
       "                  amount\n",
       "customer_id             \n",
       "6815         -1249454.87\n",
       "22899         -629796.59\n",
       "27914        -2977026.82\n",
       "28753       -26546282.86\n",
       "31385        -2180003.58"
      ]
     },
     "execution_count": 10,
     "metadata": {},
     "output_type": "execute_result"
    }
   ],
   "source": [
    "# группируем юзеров и суммируем количество на(-от)числений\n",
    "X_amount = transactions[['customer_id','amount']].groupby('customer_id').sum()\n",
    "X_amount.head()"
   ]
  },
  {
   "cell_type": "code",
   "execution_count": 11,
   "metadata": {
    "collapsed": false
   },
   "outputs": [
    {
     "data": {
      "text/plain": [
       "customer_id    6849346\n",
       "mcc_code       6849346\n",
       "tr_type        6849346\n",
       "amount         6849346\n",
       "gender         5393337\n",
       "num_day        6849346\n",
       "hour           6849346\n",
       "minute         6849346\n",
       "second         6849346\n",
       "dayofweek      6849346\n",
       "dtype: int64"
      ]
     },
     "execution_count": 11,
     "metadata": {},
     "output_type": "execute_result"
    }
   ],
   "source": [
    "transactions.count(axis=0)"
   ]
  },
  {
   "cell_type": "markdown",
   "metadata": {},
   "source": [
    "Видим, что пропущенные значения присутствуют только в столбце gender."
   ]
  },
  {
   "cell_type": "markdown",
   "metadata": {
    "collapsed": true
   },
   "source": [
    "### Популярные типы транзакций"
   ]
  },
  {
   "cell_type": "code",
   "execution_count": 12,
   "metadata": {
    "collapsed": false
   },
   "outputs": [
    {
     "data": {
      "text/html": [
       "<div>\n",
       "<table border=\"1\" class=\"dataframe\">\n",
       "  <thead>\n",
       "    <tr style=\"text-align: right;\">\n",
       "      <th></th>\n",
       "      <th>tr_type</th>\n",
       "      <th>amount</th>\n",
       "      <th>tr_description</th>\n",
       "    </tr>\n",
       "  </thead>\n",
       "  <tbody>\n",
       "    <tr>\n",
       "      <th>0</th>\n",
       "      <td>1010</td>\n",
       "      <td>1589734</td>\n",
       "      <td>Покупка. POS ТУ СБ РФ</td>\n",
       "    </tr>\n",
       "    <tr>\n",
       "      <th>1</th>\n",
       "      <td>2010</td>\n",
       "      <td>1040713</td>\n",
       "      <td>Выдача наличных в АТМ Сбербанк России</td>\n",
       "    </tr>\n",
       "    <tr>\n",
       "      <th>2</th>\n",
       "      <td>1030</td>\n",
       "      <td>970994</td>\n",
       "      <td>Оплата услуги. Банкоматы СБ РФ</td>\n",
       "    </tr>\n",
       "    <tr>\n",
       "      <th>3</th>\n",
       "      <td>1110</td>\n",
       "      <td>928154</td>\n",
       "      <td>Покупка. POS ТУ Россия</td>\n",
       "    </tr>\n",
       "    <tr>\n",
       "      <th>4</th>\n",
       "      <td>7070</td>\n",
       "      <td>691896</td>\n",
       "      <td>Перевод на карту (с карты) через Мобильный бан...</td>\n",
       "    </tr>\n",
       "    <tr>\n",
       "      <th>5</th>\n",
       "      <td>2370</td>\n",
       "      <td>376521</td>\n",
       "      <td>Списание с карты на карту по операции &lt;перевод...</td>\n",
       "    </tr>\n",
       "    <tr>\n",
       "      <th>6</th>\n",
       "      <td>7010</td>\n",
       "      <td>258088</td>\n",
       "      <td>Взнос наличных через АТМ (в своем тер.банке)</td>\n",
       "    </tr>\n",
       "    <tr>\n",
       "      <th>7</th>\n",
       "      <td>7030</td>\n",
       "      <td>155200</td>\n",
       "      <td>Перевод на карту (с карты) через АТМ (в предел...</td>\n",
       "    </tr>\n",
       "    <tr>\n",
       "      <th>8</th>\n",
       "      <td>1100</td>\n",
       "      <td>117870</td>\n",
       "      <td>Покупка. ТУ  Россия</td>\n",
       "    </tr>\n",
       "    <tr>\n",
       "      <th>9</th>\n",
       "      <td>7071</td>\n",
       "      <td>96146</td>\n",
       "      <td>Перевод на карту (с карты) через Мобильный бан...</td>\n",
       "    </tr>\n",
       "    <tr>\n",
       "      <th>10</th>\n",
       "      <td>1200</td>\n",
       "      <td>90742</td>\n",
       "      <td>Покупка. Зарубеж. ТУ</td>\n",
       "    </tr>\n",
       "    <tr>\n",
       "      <th>11</th>\n",
       "      <td>2330</td>\n",
       "      <td>69633</td>\n",
       "      <td>Списание с карты по операции “перевода с карты...</td>\n",
       "    </tr>\n",
       "    <tr>\n",
       "      <th>12</th>\n",
       "      <td>2371</td>\n",
       "      <td>65809</td>\n",
       "      <td>Списание с карты на карту по операции &lt;перевод...</td>\n",
       "    </tr>\n",
       "    <tr>\n",
       "      <th>13</th>\n",
       "      <td>4071</td>\n",
       "      <td>65806</td>\n",
       "      <td>Плата за перевод на карту (с карты) через Моби...</td>\n",
       "    </tr>\n",
       "    <tr>\n",
       "      <th>14</th>\n",
       "      <td>2011</td>\n",
       "      <td>63127</td>\n",
       "      <td>Выдача наличных в АТМ Сбербанка (в других ТБ)</td>\n",
       "    </tr>\n",
       "  </tbody>\n",
       "</table>\n",
       "</div>"
      ],
      "text/plain": [
       "    tr_type   amount                                     tr_description\n",
       "0      1010  1589734                              Покупка. POS ТУ СБ РФ\n",
       "1      2010  1040713              Выдача наличных в АТМ Сбербанк России\n",
       "2      1030   970994                     Оплата услуги. Банкоматы СБ РФ\n",
       "3      1110   928154                             Покупка. POS ТУ Россия\n",
       "4      7070   691896  Перевод на карту (с карты) через Мобильный бан...\n",
       "5      2370   376521  Списание с карты на карту по операции <перевод...\n",
       "6      7010   258088       Взнос наличных через АТМ (в своем тер.банке)\n",
       "7      7030   155200  Перевод на карту (с карты) через АТМ (в предел...\n",
       "8      1100   117870                                Покупка. ТУ  Россия\n",
       "9      7071    96146  Перевод на карту (с карты) через Мобильный бан...\n",
       "10     1200    90742                               Покупка. Зарубеж. ТУ\n",
       "11     2330    69633  Списание с карты по операции “перевода с карты...\n",
       "12     2371    65809  Списание с карты на карту по операции <перевод...\n",
       "13     4071    65806  Плата за перевод на карту (с карты) через Моби...\n",
       "14     2011    63127      Выдача наличных в АТМ Сбербанка (в других ТБ)"
      ]
     },
     "execution_count": 12,
     "metadata": {},
     "output_type": "execute_result"
    },
    {
     "data": {
      "image/png": "[encoded data removed]",
      "text/plain": [
       "<matplotlib.figure.Figure at 0x4629d37d30>"
      ]
     },
     "metadata": {},
     "output_type": "display_data"
    }
   ],
   "source": [
    "# Самые популярные tr_types\n",
    "tmp = transactions.groupby('tr_type').amount.count()\n",
    "tmp.sort(ascending=False)\n",
    "figsize(12, 5)\n",
    "tmp.plot(kind='bar')\n",
    "plt.xlabel('tr_type')\n",
    "plt.ylabel('count')\n",
    "plt.title(u'Число транзакций с разными tr_type')\n",
    "pd.merge(tmp[:15].reset_index(), tr_types)"
   ]
  },
  {
   "cell_type": "code",
   "execution_count": 13,
   "metadata": {
    "collapsed": false
   },
   "outputs": [
    {
     "data": {
      "text/html": [
       "<div>\n",
       "<table border=\"1\" class=\"dataframe\">\n",
       "  <thead>\n",
       "    <tr style=\"text-align: right;\">\n",
       "      <th></th>\n",
       "      <th>ж</th>\n",
       "      <th>м</th>\n",
       "      <th>tr_type_description</th>\n",
       "      <th>k</th>\n",
       "    </tr>\n",
       "    <tr>\n",
       "      <th>tr_type</th>\n",
       "      <th></th>\n",
       "      <th></th>\n",
       "      <th></th>\n",
       "      <th></th>\n",
       "    </tr>\n",
       "  </thead>\n",
       "  <tbody>\n",
       "    <tr>\n",
       "      <th>6210</th>\n",
       "      <td>39</td>\n",
       "      <td>377</td>\n",
       "      <td>Возврат покупки.POS Зарубеж. ТУ</td>\n",
       "      <td>0.812500</td>\n",
       "    </tr>\n",
       "    <tr>\n",
       "      <th>8100</th>\n",
       "      <td>107</td>\n",
       "      <td>15</td>\n",
       "      <td>Списание после проведения претензионной работы</td>\n",
       "      <td>0.754098</td>\n",
       "    </tr>\n",
       "    <tr>\n",
       "      <th>1310</th>\n",
       "      <td>130</td>\n",
       "      <td>749</td>\n",
       "      <td>н/д</td>\n",
       "      <td>0.704209</td>\n",
       "    </tr>\n",
       "    <tr>\n",
       "      <th>7075</th>\n",
       "      <td>58</td>\n",
       "      <td>332</td>\n",
       "      <td>Перевод с карты на карту в овердрафте через Мо...</td>\n",
       "      <td>0.702564</td>\n",
       "    </tr>\n",
       "    <tr>\n",
       "      <th>7034</th>\n",
       "      <td>518</td>\n",
       "      <td>138</td>\n",
       "      <td>Перевод на карту/ с карты через АТМ (без взима...</td>\n",
       "      <td>0.579268</td>\n",
       "    </tr>\n",
       "    <tr>\n",
       "      <th>1410</th>\n",
       "      <td>240</td>\n",
       "      <td>854</td>\n",
       "      <td>н/д</td>\n",
       "      <td>0.561243</td>\n",
       "    </tr>\n",
       "    <tr>\n",
       "      <th>7035</th>\n",
       "      <td>52</td>\n",
       "      <td>119</td>\n",
       "      <td>Перевод на карту/ с карты через АТМ (со взиман...</td>\n",
       "      <td>0.391813</td>\n",
       "    </tr>\n",
       "    <tr>\n",
       "      <th>6200</th>\n",
       "      <td>2183</td>\n",
       "      <td>1150</td>\n",
       "      <td>Возврат  покупки. Зарубеж. ТУ</td>\n",
       "      <td>0.309931</td>\n",
       "    </tr>\n",
       "    <tr>\n",
       "      <th>4100</th>\n",
       "      <td>77</td>\n",
       "      <td>41</td>\n",
       "      <td>Плата за получение наличных. Россия</td>\n",
       "      <td>0.305085</td>\n",
       "    </tr>\n",
       "    <tr>\n",
       "      <th>2320</th>\n",
       "      <td>2539</td>\n",
       "      <td>1444</td>\n",
       "      <td>Безналичный перевод денежных средств через POS</td>\n",
       "      <td>0.274918</td>\n",
       "    </tr>\n",
       "    <tr>\n",
       "      <th>4210</th>\n",
       "      <td>999</td>\n",
       "      <td>1745</td>\n",
       "      <td>Плата за получение наличных в АТМ. Зарубеж.</td>\n",
       "      <td>0.271866</td>\n",
       "    </tr>\n",
       "    <tr>\n",
       "      <th>7030</th>\n",
       "      <td>71872</td>\n",
       "      <td>41817</td>\n",
       "      <td>Перевод на карту (с карты) через АТМ (в предел...</td>\n",
       "      <td>0.264362</td>\n",
       "    </tr>\n",
       "    <tr>\n",
       "      <th>2100</th>\n",
       "      <td>67</td>\n",
       "      <td>39</td>\n",
       "      <td>Наличные.  Россия</td>\n",
       "      <td>0.264151</td>\n",
       "    </tr>\n",
       "    <tr>\n",
       "      <th>6010</th>\n",
       "      <td>987</td>\n",
       "      <td>578</td>\n",
       "      <td>Возврат  покупки. POS ТУ СБ РФ</td>\n",
       "      <td>0.261342</td>\n",
       "    </tr>\n",
       "    <tr>\n",
       "      <th>7074</th>\n",
       "      <td>1268</td>\n",
       "      <td>767</td>\n",
       "      <td>Перевод с карты на карту в овердрафте через Мо...</td>\n",
       "      <td>0.246192</td>\n",
       "    </tr>\n",
       "  </tbody>\n",
       "</table>\n",
       "</div>"
      ],
      "text/plain": [
       "             ж      м                                tr_type_description  \\\n",
       "tr_type                                                                    \n",
       "6210        39    377                    Возврат покупки.POS Зарубеж. ТУ   \n",
       "8100       107     15     Списание после проведения претензионной работы   \n",
       "1310       130    749                                                н/д   \n",
       "7075        58    332  Перевод с карты на карту в овердрафте через Мо...   \n",
       "7034       518    138  Перевод на карту/ с карты через АТМ (без взима...   \n",
       "1410       240    854                                                н/д   \n",
       "7035        52    119  Перевод на карту/ с карты через АТМ (со взиман...   \n",
       "6200      2183   1150                      Возврат  покупки. Зарубеж. ТУ   \n",
       "4100        77     41                Плата за получение наличных. Россия   \n",
       "2320      2539   1444     Безналичный перевод денежных средств через POS   \n",
       "4210       999   1745        Плата за получение наличных в АТМ. Зарубеж.   \n",
       "7030     71872  41817  Перевод на карту (с карты) через АТМ (в предел...   \n",
       "2100        67     39                                  Наличные.  Россия   \n",
       "6010       987    578                     Возврат  покупки. POS ТУ СБ РФ   \n",
       "7074      1268    767  Перевод с карты на карту в овердрафте через Мо...   \n",
       "\n",
       "                k  \n",
       "tr_type            \n",
       "6210     0.812500  \n",
       "8100     0.754098  \n",
       "1310     0.704209  \n",
       "7075     0.702564  \n",
       "7034     0.579268  \n",
       "1410     0.561243  \n",
       "7035     0.391813  \n",
       "6200     0.309931  \n",
       "4100     0.305085  \n",
       "2320     0.274918  \n",
       "4210     0.271866  \n",
       "7030     0.264362  \n",
       "2100     0.264151  \n",
       "6010     0.261342  \n",
       "7074     0.246192  "
      ]
     },
     "execution_count": 13,
     "metadata": {},
     "output_type": "execute_result"
    }
   ],
   "source": [
    "# Гендерные tr_types\n",
    "\n",
    "tmp = pd.merge(pd.crosstab(transactions.tr_type, transactions.gender).reset_index(), tr_types)\n",
    "#tmp[:5]\n",
    "abs(tmp[0.0] - tmp[1.0])/(tmp[0.0] + tmp[1.0])\n",
    "tmp['k'] = (abs(tmp[0.0] - tmp[1.0])/(tmp[0.0] + tmp[1.0]))\n",
    "\n",
    "tmp = tmp[(tmp[0.0] + tmp[1.0]) > 50] # достаточно статистики\n",
    "\n",
    "\n",
    "tmp.sort('k',  ascending=False, inplace=True)\n",
    "tmp.columns = [u'tr_type', u'ж', u'м', u'tr_type_description', u'k']\n",
    "tmp.set_index(tmp.tr_type, inplace=True)\n",
    "del tmp['tr_type']\n",
    "tmp[:15]"
   ]
  },
  {
   "cell_type": "code",
   "execution_count": 14,
   "metadata": {
    "collapsed": false
   },
   "outputs": [
    {
     "data": {
      "text/plain": [
       "<matplotlib.text.Text at 0x4606a82cc0>"
      ]
     },
     "execution_count": 14,
     "metadata": {},
     "output_type": "execute_result"
    },
    {
     "data": {
      "image/png": "[encoded data removed]",
      "text/plain": [
       "<matplotlib.figure.Figure at 0x4606a30f98>"
      ]
     },
     "metadata": {},
     "output_type": "display_data"
    }
   ],
   "source": [
    "p = tmp[:50].k.plot(kind='bar')\n",
    "p.set_ylabel(u'коэффициент различаемости')\n",
    "p.set_title(u'tr_type мужчин и женщин')"
   ]
  },
  {
   "cell_type": "code",
   "execution_count": null,
   "metadata": {
    "collapsed": true
   },
   "outputs": [],
   "source": []
  },
  {
   "cell_type": "code",
   "execution_count": null,
   "metadata": {
    "collapsed": true
   },
   "outputs": [],
   "source": []
  },
  {
   "cell_type": "code",
   "execution_count": null,
   "metadata": {
    "collapsed": true
   },
   "outputs": [],
   "source": []
  },
  {
   "cell_type": "markdown",
   "metadata": {},
   "source": [
    "### Преобразование категориальных признаков"
   ]
  },
  {
   "cell_type": "markdown",
   "metadata": {},
   "source": [
    "#### Mcc_codes"
   ]
  },
  {
   "cell_type": "code",
   "execution_count": 15,
   "metadata": {
    "collapsed": true
   },
   "outputs": [],
   "source": [
    "X_mcc = transactions.groupby('customer_id').apply(lambda x: x[['mcc_code']].unstack().value_counts()).unstack().fillna(0)"
   ]
  },
  {
   "cell_type": "code",
   "execution_count": 16,
   "metadata": {
    "collapsed": false
   },
   "outputs": [
    {
     "data": {
      "text/html": [
       "<div>\n",
       "<table border=\"1\" class=\"dataframe\">\n",
       "  <thead>\n",
       "    <tr style=\"text-align: right;\">\n",
       "      <th></th>\n",
       "      <th>742</th>\n",
       "      <th>1711</th>\n",
       "      <th>1731</th>\n",
       "      <th>1799</th>\n",
       "      <th>2741</th>\n",
       "      <th>3000</th>\n",
       "      <th>3351</th>\n",
       "      <th>3501</th>\n",
       "      <th>4111</th>\n",
       "      <th>4112</th>\n",
       "      <th>...</th>\n",
       "      <th>8299</th>\n",
       "      <th>8398</th>\n",
       "      <th>8641</th>\n",
       "      <th>8699</th>\n",
       "      <th>8999</th>\n",
       "      <th>9211</th>\n",
       "      <th>9222</th>\n",
       "      <th>9311</th>\n",
       "      <th>9399</th>\n",
       "      <th>9402</th>\n",
       "    </tr>\n",
       "    <tr>\n",
       "      <th>customer_id</th>\n",
       "      <th></th>\n",
       "      <th></th>\n",
       "      <th></th>\n",
       "      <th></th>\n",
       "      <th></th>\n",
       "      <th></th>\n",
       "      <th></th>\n",
       "      <th></th>\n",
       "      <th></th>\n",
       "      <th></th>\n",
       "      <th></th>\n",
       "      <th></th>\n",
       "      <th></th>\n",
       "      <th></th>\n",
       "      <th></th>\n",
       "      <th></th>\n",
       "      <th></th>\n",
       "      <th></th>\n",
       "      <th></th>\n",
       "      <th></th>\n",
       "      <th></th>\n",
       "    </tr>\n",
       "  </thead>\n",
       "  <tbody>\n",
       "    <tr>\n",
       "      <th>6815</th>\n",
       "      <td>0.0</td>\n",
       "      <td>0.0</td>\n",
       "      <td>0.0</td>\n",
       "      <td>0.0</td>\n",
       "      <td>0.0</td>\n",
       "      <td>0.0</td>\n",
       "      <td>0.0</td>\n",
       "      <td>0.0</td>\n",
       "      <td>0.0</td>\n",
       "      <td>0.0</td>\n",
       "      <td>...</td>\n",
       "      <td>0.0</td>\n",
       "      <td>0.0</td>\n",
       "      <td>0.0</td>\n",
       "      <td>0.0</td>\n",
       "      <td>0.0</td>\n",
       "      <td>0.0</td>\n",
       "      <td>0.0</td>\n",
       "      <td>0.0</td>\n",
       "      <td>0.0</td>\n",
       "      <td>0.0</td>\n",
       "    </tr>\n",
       "    <tr>\n",
       "      <th>22899</th>\n",
       "      <td>0.0</td>\n",
       "      <td>0.0</td>\n",
       "      <td>0.0</td>\n",
       "      <td>0.0</td>\n",
       "      <td>0.0</td>\n",
       "      <td>0.0</td>\n",
       "      <td>0.0</td>\n",
       "      <td>0.0</td>\n",
       "      <td>0.0</td>\n",
       "      <td>0.0</td>\n",
       "      <td>...</td>\n",
       "      <td>0.0</td>\n",
       "      <td>0.0</td>\n",
       "      <td>0.0</td>\n",
       "      <td>0.0</td>\n",
       "      <td>0.0</td>\n",
       "      <td>0.0</td>\n",
       "      <td>0.0</td>\n",
       "      <td>0.0</td>\n",
       "      <td>0.0</td>\n",
       "      <td>0.0</td>\n",
       "    </tr>\n",
       "    <tr>\n",
       "      <th>27914</th>\n",
       "      <td>0.0</td>\n",
       "      <td>0.0</td>\n",
       "      <td>0.0</td>\n",
       "      <td>0.0</td>\n",
       "      <td>0.0</td>\n",
       "      <td>0.0</td>\n",
       "      <td>0.0</td>\n",
       "      <td>0.0</td>\n",
       "      <td>0.0</td>\n",
       "      <td>0.0</td>\n",
       "      <td>...</td>\n",
       "      <td>0.0</td>\n",
       "      <td>0.0</td>\n",
       "      <td>0.0</td>\n",
       "      <td>0.0</td>\n",
       "      <td>0.0</td>\n",
       "      <td>0.0</td>\n",
       "      <td>0.0</td>\n",
       "      <td>0.0</td>\n",
       "      <td>0.0</td>\n",
       "      <td>0.0</td>\n",
       "    </tr>\n",
       "    <tr>\n",
       "      <th>28753</th>\n",
       "      <td>0.0</td>\n",
       "      <td>0.0</td>\n",
       "      <td>0.0</td>\n",
       "      <td>0.0</td>\n",
       "      <td>0.0</td>\n",
       "      <td>0.0</td>\n",
       "      <td>0.0</td>\n",
       "      <td>0.0</td>\n",
       "      <td>0.0</td>\n",
       "      <td>0.0</td>\n",
       "      <td>...</td>\n",
       "      <td>0.0</td>\n",
       "      <td>0.0</td>\n",
       "      <td>0.0</td>\n",
       "      <td>0.0</td>\n",
       "      <td>2.0</td>\n",
       "      <td>0.0</td>\n",
       "      <td>0.0</td>\n",
       "      <td>0.0</td>\n",
       "      <td>0.0</td>\n",
       "      <td>0.0</td>\n",
       "    </tr>\n",
       "    <tr>\n",
       "      <th>31385</th>\n",
       "      <td>0.0</td>\n",
       "      <td>0.0</td>\n",
       "      <td>0.0</td>\n",
       "      <td>0.0</td>\n",
       "      <td>0.0</td>\n",
       "      <td>0.0</td>\n",
       "      <td>0.0</td>\n",
       "      <td>0.0</td>\n",
       "      <td>0.0</td>\n",
       "      <td>0.0</td>\n",
       "      <td>...</td>\n",
       "      <td>0.0</td>\n",
       "      <td>0.0</td>\n",
       "      <td>0.0</td>\n",
       "      <td>0.0</td>\n",
       "      <td>0.0</td>\n",
       "      <td>0.0</td>\n",
       "      <td>0.0</td>\n",
       "      <td>0.0</td>\n",
       "      <td>0.0</td>\n",
       "      <td>0.0</td>\n",
       "    </tr>\n",
       "  </tbody>\n",
       "</table>\n",
       "<p>5 rows × 184 columns</p>\n",
       "</div>"
      ],
      "text/plain": [
       "             742   1711  1731  1799  2741  3000  3351  3501  4111  4112  ...   \\\n",
       "customer_id                                                              ...    \n",
       "6815          0.0   0.0   0.0   0.0   0.0   0.0   0.0   0.0   0.0   0.0  ...    \n",
       "22899         0.0   0.0   0.0   0.0   0.0   0.0   0.0   0.0   0.0   0.0  ...    \n",
       "27914         0.0   0.0   0.0   0.0   0.0   0.0   0.0   0.0   0.0   0.0  ...    \n",
       "28753         0.0   0.0   0.0   0.0   0.0   0.0   0.0   0.0   0.0   0.0  ...    \n",
       "31385         0.0   0.0   0.0   0.0   0.0   0.0   0.0   0.0   0.0   0.0  ...    \n",
       "\n",
       "             8299  8398  8641  8699  8999  9211  9222  9311  9399  9402  \n",
       "customer_id                                                              \n",
       "6815          0.0   0.0   0.0   0.0   0.0   0.0   0.0   0.0   0.0   0.0  \n",
       "22899         0.0   0.0   0.0   0.0   0.0   0.0   0.0   0.0   0.0   0.0  \n",
       "27914         0.0   0.0   0.0   0.0   0.0   0.0   0.0   0.0   0.0   0.0  \n",
       "28753         0.0   0.0   0.0   0.0   2.0   0.0   0.0   0.0   0.0   0.0  \n",
       "31385         0.0   0.0   0.0   0.0   0.0   0.0   0.0   0.0   0.0   0.0  \n",
       "\n",
       "[5 rows x 184 columns]"
      ]
     },
     "execution_count": 16,
     "metadata": {},
     "output_type": "execute_result"
    }
   ],
   "source": [
    "X_mcc.head()"
   ]
  },
  {
   "cell_type": "markdown",
   "metadata": {},
   "source": [
    "#### Tr_type"
   ]
  },
  {
   "cell_type": "code",
   "execution_count": 17,
   "metadata": {
    "collapsed": false
   },
   "outputs": [
    {
     "data": {
      "text/html": [
       "<div>\n",
       "<table border=\"1\" class=\"dataframe\">\n",
       "  <thead>\n",
       "    <tr style=\"text-align: right;\">\n",
       "      <th></th>\n",
       "      <th>1000</th>\n",
       "      <th>1010</th>\n",
       "      <th>1030</th>\n",
       "      <th>1100</th>\n",
       "      <th>1110</th>\n",
       "      <th>1200</th>\n",
       "      <th>1210</th>\n",
       "      <th>1310</th>\n",
       "      <th>1410</th>\n",
       "      <th>1510</th>\n",
       "      <th>...</th>\n",
       "      <th>7040</th>\n",
       "      <th>7041</th>\n",
       "      <th>7044</th>\n",
       "      <th>7070</th>\n",
       "      <th>7071</th>\n",
       "      <th>7074</th>\n",
       "      <th>7075</th>\n",
       "      <th>8100</th>\n",
       "      <th>8145</th>\n",
       "      <th>8146</th>\n",
       "    </tr>\n",
       "    <tr>\n",
       "      <th>customer_id</th>\n",
       "      <th></th>\n",
       "      <th></th>\n",
       "      <th></th>\n",
       "      <th></th>\n",
       "      <th></th>\n",
       "      <th></th>\n",
       "      <th></th>\n",
       "      <th></th>\n",
       "      <th></th>\n",
       "      <th></th>\n",
       "      <th></th>\n",
       "      <th></th>\n",
       "      <th></th>\n",
       "      <th></th>\n",
       "      <th></th>\n",
       "      <th></th>\n",
       "      <th></th>\n",
       "      <th></th>\n",
       "      <th></th>\n",
       "      <th></th>\n",
       "      <th></th>\n",
       "    </tr>\n",
       "  </thead>\n",
       "  <tbody>\n",
       "    <tr>\n",
       "      <th>6815</th>\n",
       "      <td>0.0</td>\n",
       "      <td>42.0</td>\n",
       "      <td>90.0</td>\n",
       "      <td>0.0</td>\n",
       "      <td>18.0</td>\n",
       "      <td>0.0</td>\n",
       "      <td>0.0</td>\n",
       "      <td>0.0</td>\n",
       "      <td>0.0</td>\n",
       "      <td>0.0</td>\n",
       "      <td>...</td>\n",
       "      <td>0.0</td>\n",
       "      <td>0.0</td>\n",
       "      <td>0.0</td>\n",
       "      <td>0.0</td>\n",
       "      <td>0.0</td>\n",
       "      <td>0.0</td>\n",
       "      <td>0.0</td>\n",
       "      <td>0.0</td>\n",
       "      <td>0.0</td>\n",
       "      <td>0.0</td>\n",
       "    </tr>\n",
       "    <tr>\n",
       "      <th>22899</th>\n",
       "      <td>0.0</td>\n",
       "      <td>6.0</td>\n",
       "      <td>47.0</td>\n",
       "      <td>0.0</td>\n",
       "      <td>27.0</td>\n",
       "      <td>1.0</td>\n",
       "      <td>0.0</td>\n",
       "      <td>0.0</td>\n",
       "      <td>0.0</td>\n",
       "      <td>0.0</td>\n",
       "      <td>...</td>\n",
       "      <td>0.0</td>\n",
       "      <td>0.0</td>\n",
       "      <td>0.0</td>\n",
       "      <td>9.0</td>\n",
       "      <td>3.0</td>\n",
       "      <td>0.0</td>\n",
       "      <td>1.0</td>\n",
       "      <td>0.0</td>\n",
       "      <td>0.0</td>\n",
       "      <td>0.0</td>\n",
       "    </tr>\n",
       "    <tr>\n",
       "      <th>27914</th>\n",
       "      <td>0.0</td>\n",
       "      <td>0.0</td>\n",
       "      <td>58.0</td>\n",
       "      <td>0.0</td>\n",
       "      <td>1.0</td>\n",
       "      <td>2.0</td>\n",
       "      <td>0.0</td>\n",
       "      <td>0.0</td>\n",
       "      <td>0.0</td>\n",
       "      <td>0.0</td>\n",
       "      <td>...</td>\n",
       "      <td>0.0</td>\n",
       "      <td>0.0</td>\n",
       "      <td>0.0</td>\n",
       "      <td>0.0</td>\n",
       "      <td>0.0</td>\n",
       "      <td>0.0</td>\n",
       "      <td>0.0</td>\n",
       "      <td>0.0</td>\n",
       "      <td>0.0</td>\n",
       "      <td>0.0</td>\n",
       "    </tr>\n",
       "    <tr>\n",
       "      <th>28753</th>\n",
       "      <td>0.0</td>\n",
       "      <td>89.0</td>\n",
       "      <td>25.0</td>\n",
       "      <td>3.0</td>\n",
       "      <td>65.0</td>\n",
       "      <td>0.0</td>\n",
       "      <td>0.0</td>\n",
       "      <td>0.0</td>\n",
       "      <td>0.0</td>\n",
       "      <td>0.0</td>\n",
       "      <td>...</td>\n",
       "      <td>1.0</td>\n",
       "      <td>0.0</td>\n",
       "      <td>0.0</td>\n",
       "      <td>14.0</td>\n",
       "      <td>0.0</td>\n",
       "      <td>0.0</td>\n",
       "      <td>0.0</td>\n",
       "      <td>0.0</td>\n",
       "      <td>0.0</td>\n",
       "      <td>0.0</td>\n",
       "    </tr>\n",
       "    <tr>\n",
       "      <th>31385</th>\n",
       "      <td>0.0</td>\n",
       "      <td>75.0</td>\n",
       "      <td>125.0</td>\n",
       "      <td>0.0</td>\n",
       "      <td>75.0</td>\n",
       "      <td>0.0</td>\n",
       "      <td>0.0</td>\n",
       "      <td>0.0</td>\n",
       "      <td>0.0</td>\n",
       "      <td>0.0</td>\n",
       "      <td>...</td>\n",
       "      <td>0.0</td>\n",
       "      <td>0.0</td>\n",
       "      <td>0.0</td>\n",
       "      <td>1.0</td>\n",
       "      <td>0.0</td>\n",
       "      <td>0.0</td>\n",
       "      <td>0.0</td>\n",
       "      <td>0.0</td>\n",
       "      <td>0.0</td>\n",
       "      <td>0.0</td>\n",
       "    </tr>\n",
       "  </tbody>\n",
       "</table>\n",
       "<p>5 rows × 77 columns</p>\n",
       "</div>"
      ],
      "text/plain": [
       "             1000  1010   1030  1100  1110  1200  1210  1310  1410  1510  \\\n",
       "customer_id                                                                \n",
       "6815          0.0  42.0   90.0   0.0  18.0   0.0   0.0   0.0   0.0   0.0   \n",
       "22899         0.0   6.0   47.0   0.0  27.0   1.0   0.0   0.0   0.0   0.0   \n",
       "27914         0.0   0.0   58.0   0.0   1.0   2.0   0.0   0.0   0.0   0.0   \n",
       "28753         0.0  89.0   25.0   3.0  65.0   0.0   0.0   0.0   0.0   0.0   \n",
       "31385         0.0  75.0  125.0   0.0  75.0   0.0   0.0   0.0   0.0   0.0   \n",
       "\n",
       "             ...   7040  7041  7044  7070  7071  7074  7075  8100  8145  8146  \n",
       "customer_id  ...                                                               \n",
       "6815         ...    0.0   0.0   0.0   0.0   0.0   0.0   0.0   0.0   0.0   0.0  \n",
       "22899        ...    0.0   0.0   0.0   9.0   3.0   0.0   1.0   0.0   0.0   0.0  \n",
       "27914        ...    0.0   0.0   0.0   0.0   0.0   0.0   0.0   0.0   0.0   0.0  \n",
       "28753        ...    1.0   0.0   0.0  14.0   0.0   0.0   0.0   0.0   0.0   0.0  \n",
       "31385        ...    0.0   0.0   0.0   1.0   0.0   0.0   0.0   0.0   0.0   0.0  \n",
       "\n",
       "[5 rows x 77 columns]"
      ]
     },
     "execution_count": 17,
     "metadata": {},
     "output_type": "execute_result"
    }
   ],
   "source": [
    "X_tr = transactions.groupby('customer_id').apply(lambda x: x[['tr_type']].unstack().value_counts()).unstack().fillna(0)\n",
    "X_tr.head()"
   ]
  },
  {
   "cell_type": "markdown",
   "metadata": {},
   "source": [
    "Объединяем признаки в одну таблицу"
   ]
  },
  {
   "cell_type": "code",
   "execution_count": 18,
   "metadata": {
    "collapsed": true
   },
   "outputs": [],
   "source": [
    "X = pd.concat((X_amount, X_tr, X_mcc), axis=1)"
   ]
  },
  {
   "cell_type": "code",
   "execution_count": 19,
   "metadata": {
    "collapsed": true
   },
   "outputs": [],
   "source": [
    "X = (X - X.mean()) / X.std() # Нормировка"
   ]
  },
  {
   "cell_type": "code",
   "execution_count": 20,
   "metadata": {
    "collapsed": false
   },
   "outputs": [
    {
     "data": {
      "text/html": [
       "<div>\n",
       "<table border=\"1\" class=\"dataframe\">\n",
       "  <thead>\n",
       "    <tr style=\"text-align: right;\">\n",
       "      <th></th>\n",
       "      <th>amount</th>\n",
       "      <th>1000</th>\n",
       "      <th>1010</th>\n",
       "      <th>1030</th>\n",
       "      <th>1100</th>\n",
       "      <th>1110</th>\n",
       "      <th>1200</th>\n",
       "      <th>1210</th>\n",
       "      <th>1310</th>\n",
       "      <th>1410</th>\n",
       "      <th>...</th>\n",
       "      <th>8299</th>\n",
       "      <th>8398</th>\n",
       "      <th>8641</th>\n",
       "      <th>8699</th>\n",
       "      <th>8999</th>\n",
       "      <th>9211</th>\n",
       "      <th>9222</th>\n",
       "      <th>9311</th>\n",
       "      <th>9399</th>\n",
       "      <th>9402</th>\n",
       "    </tr>\n",
       "    <tr>\n",
       "      <th>customer_id</th>\n",
       "      <th></th>\n",
       "      <th></th>\n",
       "      <th></th>\n",
       "      <th></th>\n",
       "      <th></th>\n",
       "      <th></th>\n",
       "      <th></th>\n",
       "      <th></th>\n",
       "      <th></th>\n",
       "      <th></th>\n",
       "      <th></th>\n",
       "      <th></th>\n",
       "      <th></th>\n",
       "      <th></th>\n",
       "      <th></th>\n",
       "      <th></th>\n",
       "      <th></th>\n",
       "      <th></th>\n",
       "      <th></th>\n",
       "      <th></th>\n",
       "      <th></th>\n",
       "    </tr>\n",
       "  </thead>\n",
       "  <tbody>\n",
       "    <tr>\n",
       "      <th>6815</th>\n",
       "      <td>0.245514</td>\n",
       "      <td>-0.0322</td>\n",
       "      <td>-0.460164</td>\n",
       "      <td>0.252261</td>\n",
       "      <td>-0.292061</td>\n",
       "      <td>-0.515492</td>\n",
       "      <td>-0.177320</td>\n",
       "      <td>-0.120484</td>\n",
       "      <td>-0.032707</td>\n",
       "      <td>-0.035128</td>\n",
       "      <td>...</td>\n",
       "      <td>-0.0733</td>\n",
       "      <td>-0.053779</td>\n",
       "      <td>-0.089966</td>\n",
       "      <td>-0.0221</td>\n",
       "      <td>-0.219527</td>\n",
       "      <td>-0.018977</td>\n",
       "      <td>-0.077383</td>\n",
       "      <td>-0.059304</td>\n",
       "      <td>-0.112485</td>\n",
       "      <td>-0.036332</td>\n",
       "    </tr>\n",
       "    <tr>\n",
       "      <th>22899</th>\n",
       "      <td>0.264225</td>\n",
       "      <td>-0.0322</td>\n",
       "      <td>-0.719078</td>\n",
       "      <td>-0.177042</td>\n",
       "      <td>-0.292061</td>\n",
       "      <td>-0.409754</td>\n",
       "      <td>-0.148008</td>\n",
       "      <td>-0.120484</td>\n",
       "      <td>-0.032707</td>\n",
       "      <td>-0.035128</td>\n",
       "      <td>...</td>\n",
       "      <td>-0.0733</td>\n",
       "      <td>-0.053779</td>\n",
       "      <td>-0.089966</td>\n",
       "      <td>-0.0221</td>\n",
       "      <td>-0.219527</td>\n",
       "      <td>-0.018977</td>\n",
       "      <td>-0.077383</td>\n",
       "      <td>-0.059304</td>\n",
       "      <td>-0.112485</td>\n",
       "      <td>-0.036332</td>\n",
       "    </tr>\n",
       "    <tr>\n",
       "      <th>27914</th>\n",
       "      <td>0.193349</td>\n",
       "      <td>-0.0322</td>\n",
       "      <td>-0.762230</td>\n",
       "      <td>-0.067220</td>\n",
       "      <td>-0.292061</td>\n",
       "      <td>-0.715218</td>\n",
       "      <td>-0.118697</td>\n",
       "      <td>-0.120484</td>\n",
       "      <td>-0.032707</td>\n",
       "      <td>-0.035128</td>\n",
       "      <td>...</td>\n",
       "      <td>-0.0733</td>\n",
       "      <td>-0.053779</td>\n",
       "      <td>-0.089966</td>\n",
       "      <td>-0.0221</td>\n",
       "      <td>-0.219527</td>\n",
       "      <td>-0.018977</td>\n",
       "      <td>-0.077383</td>\n",
       "      <td>-0.059304</td>\n",
       "      <td>-0.112485</td>\n",
       "      <td>-0.036332</td>\n",
       "    </tr>\n",
       "    <tr>\n",
       "      <th>28753</th>\n",
       "      <td>-0.518329</td>\n",
       "      <td>-0.0322</td>\n",
       "      <td>-0.122137</td>\n",
       "      <td>-0.396686</td>\n",
       "      <td>-0.180559</td>\n",
       "      <td>0.036692</td>\n",
       "      <td>-0.177320</td>\n",
       "      <td>-0.120484</td>\n",
       "      <td>-0.032707</td>\n",
       "      <td>-0.035128</td>\n",
       "      <td>...</td>\n",
       "      <td>-0.0733</td>\n",
       "      <td>-0.053779</td>\n",
       "      <td>-0.089966</td>\n",
       "      <td>-0.0221</td>\n",
       "      <td>0.056365</td>\n",
       "      <td>-0.018977</td>\n",
       "      <td>-0.077383</td>\n",
       "      <td>-0.059304</td>\n",
       "      <td>-0.112485</td>\n",
       "      <td>-0.036332</td>\n",
       "    </tr>\n",
       "    <tr>\n",
       "      <th>31385</th>\n",
       "      <td>0.217416</td>\n",
       "      <td>-0.0322</td>\n",
       "      <td>-0.222826</td>\n",
       "      <td>0.601695</td>\n",
       "      <td>-0.292061</td>\n",
       "      <td>0.154177</td>\n",
       "      <td>-0.177320</td>\n",
       "      <td>-0.120484</td>\n",
       "      <td>-0.032707</td>\n",
       "      <td>-0.035128</td>\n",
       "      <td>...</td>\n",
       "      <td>-0.0733</td>\n",
       "      <td>-0.053779</td>\n",
       "      <td>-0.089966</td>\n",
       "      <td>-0.0221</td>\n",
       "      <td>-0.219527</td>\n",
       "      <td>-0.018977</td>\n",
       "      <td>-0.077383</td>\n",
       "      <td>-0.059304</td>\n",
       "      <td>-0.112485</td>\n",
       "      <td>-0.036332</td>\n",
       "    </tr>\n",
       "  </tbody>\n",
       "</table>\n",
       "<p>5 rows × 262 columns</p>\n",
       "</div>"
      ],
      "text/plain": [
       "               amount    1000      1010      1030      1100      1110  \\\n",
       "customer_id                                                             \n",
       "6815         0.245514 -0.0322 -0.460164  0.252261 -0.292061 -0.515492   \n",
       "22899        0.264225 -0.0322 -0.719078 -0.177042 -0.292061 -0.409754   \n",
       "27914        0.193349 -0.0322 -0.762230 -0.067220 -0.292061 -0.715218   \n",
       "28753       -0.518329 -0.0322 -0.122137 -0.396686 -0.180559  0.036692   \n",
       "31385        0.217416 -0.0322 -0.222826  0.601695 -0.292061  0.154177   \n",
       "\n",
       "                 1200      1210      1310      1410    ...       8299  \\\n",
       "customer_id                                            ...              \n",
       "6815        -0.177320 -0.120484 -0.032707 -0.035128    ...    -0.0733   \n",
       "22899       -0.148008 -0.120484 -0.032707 -0.035128    ...    -0.0733   \n",
       "27914       -0.118697 -0.120484 -0.032707 -0.035128    ...    -0.0733   \n",
       "28753       -0.177320 -0.120484 -0.032707 -0.035128    ...    -0.0733   \n",
       "31385       -0.177320 -0.120484 -0.032707 -0.035128    ...    -0.0733   \n",
       "\n",
       "                 8398      8641    8699      8999      9211      9222  \\\n",
       "customer_id                                                             \n",
       "6815        -0.053779 -0.089966 -0.0221 -0.219527 -0.018977 -0.077383   \n",
       "22899       -0.053779 -0.089966 -0.0221 -0.219527 -0.018977 -0.077383   \n",
       "27914       -0.053779 -0.089966 -0.0221 -0.219527 -0.018977 -0.077383   \n",
       "28753       -0.053779 -0.089966 -0.0221  0.056365 -0.018977 -0.077383   \n",
       "31385       -0.053779 -0.089966 -0.0221 -0.219527 -0.018977 -0.077383   \n",
       "\n",
       "                 9311      9399      9402  \n",
       "customer_id                                \n",
       "6815        -0.059304 -0.112485 -0.036332  \n",
       "22899       -0.059304 -0.112485 -0.036332  \n",
       "27914       -0.059304 -0.112485 -0.036332  \n",
       "28753       -0.059304 -0.112485 -0.036332  \n",
       "31385       -0.059304 -0.112485 -0.036332  \n",
       "\n",
       "[5 rows x 262 columns]"
      ]
     },
     "execution_count": 20,
     "metadata": {},
     "output_type": "execute_result"
    }
   ],
   "source": [
    "X.head()"
   ]
  },
  {
   "cell_type": "code",
   "execution_count": null,
   "metadata": {
    "collapsed": true
   },
   "outputs": [],
   "source": []
  },
  {
   "cell_type": "code",
   "execution_count": null,
   "metadata": {
    "collapsed": true
   },
   "outputs": [],
   "source": []
  },
  {
   "cell_type": "markdown",
   "metadata": {},
   "source": [
    "### Формирование обучаещей и тестовой выборки"
   ]
  },
  {
   "cell_type": "markdown",
   "metadata": {},
   "source": [
    "Выносим целевую переменную $-$ пол клиента"
   ]
  },
  {
   "cell_type": "code",
   "execution_count": 54,
   "metadata": {
    "collapsed": false
   },
   "outputs": [
    {
     "data": {
      "text/html": [
       "<div>\n",
       "<table border=\"1\" class=\"dataframe\">\n",
       "  <thead>\n",
       "    <tr style=\"text-align: right;\">\n",
       "      <th></th>\n",
       "      <th>gender</th>\n",
       "    </tr>\n",
       "  </thead>\n",
       "  <tbody>\n",
       "    <tr>\n",
       "      <th>0</th>\n",
       "      <td>0.0</td>\n",
       "    </tr>\n",
       "    <tr>\n",
       "      <th>1</th>\n",
       "      <td>1.0</td>\n",
       "    </tr>\n",
       "    <tr>\n",
       "      <th>2</th>\n",
       "      <td>1.0</td>\n",
       "    </tr>\n",
       "    <tr>\n",
       "      <th>3</th>\n",
       "      <td>0.0</td>\n",
       "    </tr>\n",
       "    <tr>\n",
       "      <th>4</th>\n",
       "      <td>0.0</td>\n",
       "    </tr>\n",
       "  </tbody>\n",
       "</table>\n",
       "</div>"
      ],
      "text/plain": [
       "   gender\n",
       "0     0.0\n",
       "1     1.0\n",
       "2     1.0\n",
       "3     0.0\n",
       "4     0.0"
      ]
     },
     "execution_count": 54,
     "metadata": {},
     "output_type": "execute_result"
    }
   ],
   "source": [
    "customers_gender = customers_gender_train.set_index('customer_id')\n",
    "Y_train = customers_gender.loc[X.index].gender\n",
    "Y_train = Y_train.reset_index()\n",
    "del Y_train['customer_id']\n",
    "Y_train = Y_train.dropna(0)\n",
    "Y_train.head()"
   ]
  },
  {
   "cell_type": "markdown",
   "metadata": {},
   "source": [
    "Обучающее множество"
   ]
  },
  {
   "cell_type": "code",
   "execution_count": 58,
   "metadata": {
    "collapsed": false
   },
   "outputs": [
    {
     "data": {
      "text/html": [
       "<div>\n",
       "<table border=\"1\" class=\"dataframe\">\n",
       "  <thead>\n",
       "    <tr style=\"text-align: right;\">\n",
       "      <th></th>\n",
       "      <th>amount</th>\n",
       "      <th>1000</th>\n",
       "      <th>1010</th>\n",
       "      <th>1030</th>\n",
       "      <th>1100</th>\n",
       "      <th>1110</th>\n",
       "      <th>1200</th>\n",
       "      <th>1210</th>\n",
       "      <th>1310</th>\n",
       "      <th>1410</th>\n",
       "      <th>...</th>\n",
       "      <th>8299</th>\n",
       "      <th>8398</th>\n",
       "      <th>8641</th>\n",
       "      <th>8699</th>\n",
       "      <th>8999</th>\n",
       "      <th>9211</th>\n",
       "      <th>9222</th>\n",
       "      <th>9311</th>\n",
       "      <th>9399</th>\n",
       "      <th>9402</th>\n",
       "    </tr>\n",
       "    <tr>\n",
       "      <th>customer_id</th>\n",
       "      <th></th>\n",
       "      <th></th>\n",
       "      <th></th>\n",
       "      <th></th>\n",
       "      <th></th>\n",
       "      <th></th>\n",
       "      <th></th>\n",
       "      <th></th>\n",
       "      <th></th>\n",
       "      <th></th>\n",
       "      <th></th>\n",
       "      <th></th>\n",
       "      <th></th>\n",
       "      <th></th>\n",
       "      <th></th>\n",
       "      <th></th>\n",
       "      <th></th>\n",
       "      <th></th>\n",
       "      <th></th>\n",
       "      <th></th>\n",
       "      <th></th>\n",
       "    </tr>\n",
       "  </thead>\n",
       "  <tbody>\n",
       "    <tr>\n",
       "      <th>6815</th>\n",
       "      <td>0.245514</td>\n",
       "      <td>-0.0322</td>\n",
       "      <td>-0.460164</td>\n",
       "      <td>0.252261</td>\n",
       "      <td>-0.292061</td>\n",
       "      <td>-0.515492</td>\n",
       "      <td>-0.177320</td>\n",
       "      <td>-0.120484</td>\n",
       "      <td>-0.032707</td>\n",
       "      <td>-0.035128</td>\n",
       "      <td>...</td>\n",
       "      <td>-0.0733</td>\n",
       "      <td>-0.053779</td>\n",
       "      <td>-0.089966</td>\n",
       "      <td>-0.0221</td>\n",
       "      <td>-0.219527</td>\n",
       "      <td>-0.018977</td>\n",
       "      <td>-0.077383</td>\n",
       "      <td>-0.059304</td>\n",
       "      <td>-0.112485</td>\n",
       "      <td>-0.036332</td>\n",
       "    </tr>\n",
       "    <tr>\n",
       "      <th>22899</th>\n",
       "      <td>0.264225</td>\n",
       "      <td>-0.0322</td>\n",
       "      <td>-0.719078</td>\n",
       "      <td>-0.177042</td>\n",
       "      <td>-0.292061</td>\n",
       "      <td>-0.409754</td>\n",
       "      <td>-0.148008</td>\n",
       "      <td>-0.120484</td>\n",
       "      <td>-0.032707</td>\n",
       "      <td>-0.035128</td>\n",
       "      <td>...</td>\n",
       "      <td>-0.0733</td>\n",
       "      <td>-0.053779</td>\n",
       "      <td>-0.089966</td>\n",
       "      <td>-0.0221</td>\n",
       "      <td>-0.219527</td>\n",
       "      <td>-0.018977</td>\n",
       "      <td>-0.077383</td>\n",
       "      <td>-0.059304</td>\n",
       "      <td>-0.112485</td>\n",
       "      <td>-0.036332</td>\n",
       "    </tr>\n",
       "    <tr>\n",
       "      <th>27914</th>\n",
       "      <td>0.193349</td>\n",
       "      <td>-0.0322</td>\n",
       "      <td>-0.762230</td>\n",
       "      <td>-0.067220</td>\n",
       "      <td>-0.292061</td>\n",
       "      <td>-0.715218</td>\n",
       "      <td>-0.118697</td>\n",
       "      <td>-0.120484</td>\n",
       "      <td>-0.032707</td>\n",
       "      <td>-0.035128</td>\n",
       "      <td>...</td>\n",
       "      <td>-0.0733</td>\n",
       "      <td>-0.053779</td>\n",
       "      <td>-0.089966</td>\n",
       "      <td>-0.0221</td>\n",
       "      <td>-0.219527</td>\n",
       "      <td>-0.018977</td>\n",
       "      <td>-0.077383</td>\n",
       "      <td>-0.059304</td>\n",
       "      <td>-0.112485</td>\n",
       "      <td>-0.036332</td>\n",
       "    </tr>\n",
       "    <tr>\n",
       "      <th>28753</th>\n",
       "      <td>-0.518329</td>\n",
       "      <td>-0.0322</td>\n",
       "      <td>-0.122137</td>\n",
       "      <td>-0.396686</td>\n",
       "      <td>-0.180559</td>\n",
       "      <td>0.036692</td>\n",
       "      <td>-0.177320</td>\n",
       "      <td>-0.120484</td>\n",
       "      <td>-0.032707</td>\n",
       "      <td>-0.035128</td>\n",
       "      <td>...</td>\n",
       "      <td>-0.0733</td>\n",
       "      <td>-0.053779</td>\n",
       "      <td>-0.089966</td>\n",
       "      <td>-0.0221</td>\n",
       "      <td>0.056365</td>\n",
       "      <td>-0.018977</td>\n",
       "      <td>-0.077383</td>\n",
       "      <td>-0.059304</td>\n",
       "      <td>-0.112485</td>\n",
       "      <td>-0.036332</td>\n",
       "    </tr>\n",
       "    <tr>\n",
       "      <th>31385</th>\n",
       "      <td>0.217416</td>\n",
       "      <td>-0.0322</td>\n",
       "      <td>-0.222826</td>\n",
       "      <td>0.601695</td>\n",
       "      <td>-0.292061</td>\n",
       "      <td>0.154177</td>\n",
       "      <td>-0.177320</td>\n",
       "      <td>-0.120484</td>\n",
       "      <td>-0.032707</td>\n",
       "      <td>-0.035128</td>\n",
       "      <td>...</td>\n",
       "      <td>-0.0733</td>\n",
       "      <td>-0.053779</td>\n",
       "      <td>-0.089966</td>\n",
       "      <td>-0.0221</td>\n",
       "      <td>-0.219527</td>\n",
       "      <td>-0.018977</td>\n",
       "      <td>-0.077383</td>\n",
       "      <td>-0.059304</td>\n",
       "      <td>-0.112485</td>\n",
       "      <td>-0.036332</td>\n",
       "    </tr>\n",
       "  </tbody>\n",
       "</table>\n",
       "<p>5 rows × 262 columns</p>\n",
       "</div>"
      ],
      "text/plain": [
       "               amount    1000      1010      1030      1100      1110  \\\n",
       "customer_id                                                             \n",
       "6815         0.245514 -0.0322 -0.460164  0.252261 -0.292061 -0.515492   \n",
       "22899        0.264225 -0.0322 -0.719078 -0.177042 -0.292061 -0.409754   \n",
       "27914        0.193349 -0.0322 -0.762230 -0.067220 -0.292061 -0.715218   \n",
       "28753       -0.518329 -0.0322 -0.122137 -0.396686 -0.180559  0.036692   \n",
       "31385        0.217416 -0.0322 -0.222826  0.601695 -0.292061  0.154177   \n",
       "\n",
       "                 1200      1210      1310      1410    ...       8299  \\\n",
       "customer_id                                            ...              \n",
       "6815        -0.177320 -0.120484 -0.032707 -0.035128    ...    -0.0733   \n",
       "22899       -0.148008 -0.120484 -0.032707 -0.035128    ...    -0.0733   \n",
       "27914       -0.118697 -0.120484 -0.032707 -0.035128    ...    -0.0733   \n",
       "28753       -0.177320 -0.120484 -0.032707 -0.035128    ...    -0.0733   \n",
       "31385       -0.177320 -0.120484 -0.032707 -0.035128    ...    -0.0733   \n",
       "\n",
       "                 8398      8641    8699      8999      9211      9222  \\\n",
       "customer_id                                                             \n",
       "6815        -0.053779 -0.089966 -0.0221 -0.219527 -0.018977 -0.077383   \n",
       "22899       -0.053779 -0.089966 -0.0221 -0.219527 -0.018977 -0.077383   \n",
       "27914       -0.053779 -0.089966 -0.0221 -0.219527 -0.018977 -0.077383   \n",
       "28753       -0.053779 -0.089966 -0.0221  0.056365 -0.018977 -0.077383   \n",
       "31385       -0.053779 -0.089966 -0.0221 -0.219527 -0.018977 -0.077383   \n",
       "\n",
       "                 9311      9399      9402  \n",
       "customer_id                                \n",
       "6815        -0.059304 -0.112485 -0.036332  \n",
       "22899       -0.059304 -0.112485 -0.036332  \n",
       "27914       -0.059304 -0.112485 -0.036332  \n",
       "28753       -0.059304 -0.112485 -0.036332  \n",
       "31385       -0.059304 -0.112485 -0.036332  \n",
       "\n",
       "[5 rows x 262 columns]"
      ]
     },
     "execution_count": 58,
     "metadata": {},
     "output_type": "execute_result"
    }
   ],
   "source": [
    "X_train = X.reset_index()\n",
    "X_train = X_train.loc[Y_train.index].set_index('customer_id')\n",
    "X_train.head()"
   ]
  },
  {
   "cell_type": "markdown",
   "metadata": {},
   "source": [
    "Тестовое множество"
   ]
  },
  {
   "cell_type": "code",
   "execution_count": 69,
   "metadata": {
    "collapsed": false
   },
   "outputs": [
    {
     "data": {
      "text/html": [
       "<div>\n",
       "<table border=\"1\" class=\"dataframe\">\n",
       "  <thead>\n",
       "    <tr style=\"text-align: right;\">\n",
       "      <th></th>\n",
       "      <th>amount</th>\n",
       "      <th>1000</th>\n",
       "      <th>1010</th>\n",
       "      <th>1030</th>\n",
       "      <th>1100</th>\n",
       "      <th>1110</th>\n",
       "      <th>1200</th>\n",
       "      <th>1210</th>\n",
       "      <th>1310</th>\n",
       "      <th>1410</th>\n",
       "      <th>...</th>\n",
       "      <th>8299</th>\n",
       "      <th>8398</th>\n",
       "      <th>8641</th>\n",
       "      <th>8699</th>\n",
       "      <th>8999</th>\n",
       "      <th>9211</th>\n",
       "      <th>9222</th>\n",
       "      <th>9311</th>\n",
       "      <th>9399</th>\n",
       "      <th>9402</th>\n",
       "    </tr>\n",
       "    <tr>\n",
       "      <th>customer_id</th>\n",
       "      <th></th>\n",
       "      <th></th>\n",
       "      <th></th>\n",
       "      <th></th>\n",
       "      <th></th>\n",
       "      <th></th>\n",
       "      <th></th>\n",
       "      <th></th>\n",
       "      <th></th>\n",
       "      <th></th>\n",
       "      <th></th>\n",
       "      <th></th>\n",
       "      <th></th>\n",
       "      <th></th>\n",
       "      <th></th>\n",
       "      <th></th>\n",
       "      <th></th>\n",
       "      <th></th>\n",
       "      <th></th>\n",
       "      <th></th>\n",
       "      <th></th>\n",
       "    </tr>\n",
       "  </thead>\n",
       "  <tbody>\n",
       "    <tr>\n",
       "      <th>49101</th>\n",
       "      <td>0.222356</td>\n",
       "      <td>-0.0322</td>\n",
       "      <td>-0.683117</td>\n",
       "      <td>-0.606346</td>\n",
       "      <td>-0.292061</td>\n",
       "      <td>-0.679972</td>\n",
       "      <td>-0.17732</td>\n",
       "      <td>-0.120484</td>\n",
       "      <td>-0.032707</td>\n",
       "      <td>-0.035128</td>\n",
       "      <td>...</td>\n",
       "      <td>-0.0733</td>\n",
       "      <td>-0.053779</td>\n",
       "      <td>-0.089966</td>\n",
       "      <td>-0.0221</td>\n",
       "      <td>-0.219527</td>\n",
       "      <td>-0.018977</td>\n",
       "      <td>-0.077383</td>\n",
       "      <td>-0.059304</td>\n",
       "      <td>-0.112485</td>\n",
       "      <td>-0.036332</td>\n",
       "    </tr>\n",
       "    <tr>\n",
       "      <th>114348</th>\n",
       "      <td>0.054500</td>\n",
       "      <td>-0.0322</td>\n",
       "      <td>1.639916</td>\n",
       "      <td>-0.496524</td>\n",
       "      <td>-0.292061</td>\n",
       "      <td>0.024943</td>\n",
       "      <td>-0.17732</td>\n",
       "      <td>-0.120484</td>\n",
       "      <td>-0.032707</td>\n",
       "      <td>-0.035128</td>\n",
       "      <td>...</td>\n",
       "      <td>-0.0733</td>\n",
       "      <td>-0.053779</td>\n",
       "      <td>-0.089966</td>\n",
       "      <td>-0.0221</td>\n",
       "      <td>1.021988</td>\n",
       "      <td>-0.018977</td>\n",
       "      <td>-0.077383</td>\n",
       "      <td>-0.059304</td>\n",
       "      <td>-0.112485</td>\n",
       "      <td>-0.036332</td>\n",
       "    </tr>\n",
       "    <tr>\n",
       "      <th>127946</th>\n",
       "      <td>0.214843</td>\n",
       "      <td>-0.0322</td>\n",
       "      <td>-0.604005</td>\n",
       "      <td>-0.646281</td>\n",
       "      <td>-0.292061</td>\n",
       "      <td>-0.609480</td>\n",
       "      <td>-0.17732</td>\n",
       "      <td>-0.120484</td>\n",
       "      <td>-0.032707</td>\n",
       "      <td>-0.035128</td>\n",
       "      <td>...</td>\n",
       "      <td>-0.0733</td>\n",
       "      <td>-0.053779</td>\n",
       "      <td>-0.089966</td>\n",
       "      <td>-0.0221</td>\n",
       "      <td>-0.219527</td>\n",
       "      <td>-0.018977</td>\n",
       "      <td>-0.077383</td>\n",
       "      <td>-0.059304</td>\n",
       "      <td>-0.112485</td>\n",
       "      <td>-0.036332</td>\n",
       "    </tr>\n",
       "    <tr>\n",
       "      <th>137367</th>\n",
       "      <td>-0.130148</td>\n",
       "      <td>-0.0322</td>\n",
       "      <td>-0.747846</td>\n",
       "      <td>0.202342</td>\n",
       "      <td>-0.292061</td>\n",
       "      <td>-0.715218</td>\n",
       "      <td>-0.17732</td>\n",
       "      <td>-0.120484</td>\n",
       "      <td>-0.032707</td>\n",
       "      <td>-0.035128</td>\n",
       "      <td>...</td>\n",
       "      <td>-0.0733</td>\n",
       "      <td>-0.053779</td>\n",
       "      <td>-0.089966</td>\n",
       "      <td>-0.0221</td>\n",
       "      <td>-0.219527</td>\n",
       "      <td>-0.018977</td>\n",
       "      <td>-0.077383</td>\n",
       "      <td>-0.059304</td>\n",
       "      <td>-0.112485</td>\n",
       "      <td>-0.036332</td>\n",
       "    </tr>\n",
       "    <tr>\n",
       "      <th>174467</th>\n",
       "      <td>0.183996</td>\n",
       "      <td>-0.0322</td>\n",
       "      <td>-0.337899</td>\n",
       "      <td>-0.007317</td>\n",
       "      <td>-0.292061</td>\n",
       "      <td>-0.092543</td>\n",
       "      <td>-0.17732</td>\n",
       "      <td>-0.120484</td>\n",
       "      <td>-0.032707</td>\n",
       "      <td>-0.035128</td>\n",
       "      <td>...</td>\n",
       "      <td>-0.0733</td>\n",
       "      <td>-0.053779</td>\n",
       "      <td>-0.089966</td>\n",
       "      <td>-0.0221</td>\n",
       "      <td>0.608149</td>\n",
       "      <td>-0.018977</td>\n",
       "      <td>-0.077383</td>\n",
       "      <td>-0.059304</td>\n",
       "      <td>-0.112485</td>\n",
       "      <td>-0.036332</td>\n",
       "    </tr>\n",
       "  </tbody>\n",
       "</table>\n",
       "<p>5 rows × 262 columns</p>\n",
       "</div>"
      ],
      "text/plain": [
       "               amount    1000      1010      1030      1100      1110  \\\n",
       "customer_id                                                             \n",
       "49101        0.222356 -0.0322 -0.683117 -0.606346 -0.292061 -0.679972   \n",
       "114348       0.054500 -0.0322  1.639916 -0.496524 -0.292061  0.024943   \n",
       "127946       0.214843 -0.0322 -0.604005 -0.646281 -0.292061 -0.609480   \n",
       "137367      -0.130148 -0.0322 -0.747846  0.202342 -0.292061 -0.715218   \n",
       "174467       0.183996 -0.0322 -0.337899 -0.007317 -0.292061 -0.092543   \n",
       "\n",
       "                1200      1210      1310      1410    ...       8299  \\\n",
       "customer_id                                           ...              \n",
       "49101       -0.17732 -0.120484 -0.032707 -0.035128    ...    -0.0733   \n",
       "114348      -0.17732 -0.120484 -0.032707 -0.035128    ...    -0.0733   \n",
       "127946      -0.17732 -0.120484 -0.032707 -0.035128    ...    -0.0733   \n",
       "137367      -0.17732 -0.120484 -0.032707 -0.035128    ...    -0.0733   \n",
       "174467      -0.17732 -0.120484 -0.032707 -0.035128    ...    -0.0733   \n",
       "\n",
       "                 8398      8641    8699      8999      9211      9222  \\\n",
       "customer_id                                                             \n",
       "49101       -0.053779 -0.089966 -0.0221 -0.219527 -0.018977 -0.077383   \n",
       "114348      -0.053779 -0.089966 -0.0221  1.021988 -0.018977 -0.077383   \n",
       "127946      -0.053779 -0.089966 -0.0221 -0.219527 -0.018977 -0.077383   \n",
       "137367      -0.053779 -0.089966 -0.0221 -0.219527 -0.018977 -0.077383   \n",
       "174467      -0.053779 -0.089966 -0.0221  0.608149 -0.018977 -0.077383   \n",
       "\n",
       "                 9311      9399      9402  \n",
       "customer_id                                \n",
       "49101       -0.059304 -0.112485 -0.036332  \n",
       "114348      -0.059304 -0.112485 -0.036332  \n",
       "127946      -0.059304 -0.112485 -0.036332  \n",
       "137367      -0.059304 -0.112485 -0.036332  \n",
       "174467      -0.059304 -0.112485 -0.036332  \n",
       "\n",
       "[5 rows x 262 columns]"
      ]
     },
     "execution_count": 69,
     "metadata": {},
     "output_type": "execute_result"
    }
   ],
   "source": [
    "X_test = X.drop(customers_gender.index)\n",
    "X_test.head()"
   ]
  },
  {
   "cell_type": "markdown",
   "metadata": {
    "collapsed": true
   },
   "source": [
    "## Построение моделей. Валидация"
   ]
  },
  {
   "cell_type": "code",
   "execution_count": 128,
   "metadata": {
    "collapsed": false
   },
   "outputs": [],
   "source": [
    "from sklearn.ensemble import GradientBoostingClassifier, RandomForestClassifier\n",
    "from sklearn.linear_model import LogisticRegression\n",
    "from sklearn.cross_validation import train_test_split\n",
    "from sklearn.grid_search import GridSearchCV"
   ]
  },
  {
   "cell_type": "markdown",
   "metadata": {},
   "source": [
    "Построим две модели: RandomForestClassifier и GradientBoostingClassifier. Результаты предсказания усредним. Чтобы избежать переобучения моделей, проведем перекрестную проверку."
   ]
  },
  {
   "cell_type": "code",
   "execution_count": 97,
   "metadata": {
    "collapsed": true
   },
   "outputs": [],
   "source": [
    "X_1, X_2, y_1, y_2 = train_test_split(X_train, Y_train, test_size=0.4) # Разбиваем трэйн для валидации"
   ]
  },
  {
   "cell_type": "code",
   "execution_count": 121,
   "metadata": {
    "collapsed": false
   },
   "outputs": [
    {
     "name": "stderr",
     "output_type": "stream",
     "text": [
      "C:\\Anaconda3\\lib\\site-packages\\ipykernel\\__main__.py:3: DataConversionWarning: A column-vector y was passed when a 1d array was expected. Please change the shape of y to (n_samples,), for example using ravel().\n",
      "  app.launch_new_instance()\n"
     ]
    },
    {
     "data": {
      "text/plain": [
       "0.78312499999999996"
      ]
     },
     "execution_count": 121,
     "metadata": {},
     "output_type": "execute_result"
    }
   ],
   "source": [
    "clf_1 = RandomForestClassifier(n_estimators=1000)\n",
    "clf_1.fit(X_1, y_1)\n",
    "clf_1.score(X_2, y_2)"
   ]
  },
  {
   "cell_type": "code",
   "execution_count": 154,
   "metadata": {
    "collapsed": false
   },
   "outputs": [
    {
     "name": "stderr",
     "output_type": "stream",
     "text": [
      "C:\\Anaconda3\\lib\\site-packages\\sklearn\\utils\\validation.py:515: DataConversionWarning: A column-vector y was passed when a 1d array was expected. Please change the shape of y to (n_samples, ), for example using ravel().\n",
      "  y = column_or_1d(y, warn=True)\n"
     ]
    },
    {
     "data": {
      "text/plain": [
       "0.7845833333333333"
      ]
     },
     "execution_count": 154,
     "metadata": {},
     "output_type": "execute_result"
    }
   ],
   "source": [
    "clf_2 = GradientBoostingClassifier(n_estimators=1000)\n",
    "clf_2.fit(X_1, y_1)\n",
    "clf_2.score(X_2, y_2)"
   ]
  },
  {
   "cell_type": "code",
   "execution_count": 134,
   "metadata": {
    "collapsed": false
   },
   "outputs": [],
   "source": [
    "\"\"\"parameters = {'n_estimators':[50, 150, 300, 1000], 'max_depth':[2, 3, 5]}\n",
    "gbm = GradientBoostingClassifier()\n",
    "grid = GridSearchCV(gbm, parameters, verbose=1)\"\"\""
   ]
  },
  {
   "cell_type": "markdown",
   "metadata": {},
   "source": [
    "## Обучение моделей. Предсказание результата"
   ]
  },
  {
   "cell_type": "code",
   "execution_count": 155,
   "metadata": {
    "collapsed": false
   },
   "outputs": [
    {
     "name": "stderr",
     "output_type": "stream",
     "text": [
      "C:\\Anaconda3\\lib\\site-packages\\ipykernel\\__main__.py:1: DataConversionWarning: A column-vector y was passed when a 1d array was expected. Please change the shape of y to (n_samples,), for example using ravel().\n",
      "  if __name__ == '__main__':\n",
      "C:\\Anaconda3\\lib\\site-packages\\sklearn\\utils\\validation.py:515: DataConversionWarning: A column-vector y was passed when a 1d array was expected. Please change the shape of y to (n_samples, ), for example using ravel().\n",
      "  y = column_or_1d(y, warn=True)\n"
     ]
    }
   ],
   "source": [
    "clf_1.fit(X_train, Y_train)\n",
    "clf_2.fit(X_train, Y_train)\n",
    "result = pd.DataFrame(X_test.index, columns=['customer_id'])\n",
    "pred_1 = clf_1.predict_proba(X_test)[:, 1]\n",
    "pred_2 = clf_2.predict_proba(X_test)[:, 1]\n",
    "result['gender'] = (pred_1 + pred_2) / 2\n",
    "result.to_csv('solution_a.csv', index=False)"
   ]
  },
  {
   "cell_type": "code",
   "execution_count": 156,
   "metadata": {
    "collapsed": false
   },
   "outputs": [
    {
     "data": {
      "text/html": [
       "<div>\n",
       "<table border=\"1\" class=\"dataframe\">\n",
       "  <thead>\n",
       "    <tr style=\"text-align: right;\">\n",
       "      <th></th>\n",
       "      <th>customer_id</th>\n",
       "      <th>gender</th>\n",
       "    </tr>\n",
       "  </thead>\n",
       "  <tbody>\n",
       "    <tr>\n",
       "      <th>0</th>\n",
       "      <td>49101</td>\n",
       "      <td>0.673994</td>\n",
       "    </tr>\n",
       "    <tr>\n",
       "      <th>1</th>\n",
       "      <td>114348</td>\n",
       "      <td>0.690714</td>\n",
       "    </tr>\n",
       "    <tr>\n",
       "      <th>2</th>\n",
       "      <td>127946</td>\n",
       "      <td>0.845780</td>\n",
       "    </tr>\n",
       "    <tr>\n",
       "      <th>3</th>\n",
       "      <td>137367</td>\n",
       "      <td>0.514909</td>\n",
       "    </tr>\n",
       "    <tr>\n",
       "      <th>4</th>\n",
       "      <td>174467</td>\n",
       "      <td>0.779287</td>\n",
       "    </tr>\n",
       "  </tbody>\n",
       "</table>\n",
       "</div>"
      ],
      "text/plain": [
       "   customer_id    gender\n",
       "0        49101  0.673994\n",
       "1       114348  0.690714\n",
       "2       127946  0.845780\n",
       "3       137367  0.514909\n",
       "4       174467  0.779287"
      ]
     },
     "execution_count": 156,
     "metadata": {},
     "output_type": "execute_result"
    }
   ],
   "source": [
    "result.head()"
   ]
  },
  {
   "cell_type": "markdown",
   "metadata": {},
   "source": [
    "# Задача B. Предсказание объема трат по категориям"
   ]
  },
  {
   "cell_type": "markdown",
   "metadata": {},
   "source": [
    "## Описание\n",
    "Необходимо предсказать объем трат по каждой из $184$ категорий на каждый день следующего месяца. Итоговый файл должен содержать предсказания по $184 * 30 = 5520$ объектам. Объем трат в конкретной категории считается как сумма всех расходных транзакций в текущей категории по всем пользователям."
   ]
  },
  {
   "cell_type": "markdown",
   "metadata": {},
   "source": [
    "## Подготовка данных"
   ]
  },
  {
   "cell_type": "markdown",
   "metadata": {},
   "source": [
    "### Обучающее и тестововое множество"
   ]
  },
  {
   "cell_type": "markdown",
   "metadata": {},
   "source": [
    "Будем работать с транзакциями, по которым amount<0 (расходы клиента)."
   ]
  },
  {
   "cell_type": "code",
   "execution_count": 3,
   "metadata": {
    "collapsed": true
   },
   "outputs": [],
   "source": [
    "transactions = pd.read_csv('transactions.csv')\n",
    "train_transactions = transactions[transactions.amount < 0].copy()\n",
    "train_transactions['day'] = train_transactions.tr_datetime.apply(lambda dt: dt.split()[0]).astype(int)"
   ]
  },
  {
   "cell_type": "code",
   "execution_count": 4,
   "metadata": {
    "collapsed": false
   },
   "outputs": [
    {
     "data": {
      "text/html": [
       "<div>\n",
       "<table border=\"1\" class=\"dataframe\">\n",
       "  <thead>\n",
       "    <tr style=\"text-align: right;\">\n",
       "      <th></th>\n",
       "      <th>customer_id</th>\n",
       "      <th>tr_datetime</th>\n",
       "      <th>mcc_code</th>\n",
       "      <th>tr_type</th>\n",
       "      <th>amount</th>\n",
       "      <th>term_id</th>\n",
       "      <th>day</th>\n",
       "    </tr>\n",
       "  </thead>\n",
       "  <tbody>\n",
       "    <tr>\n",
       "      <th>0</th>\n",
       "      <td>39026145</td>\n",
       "      <td>0 10:23:26</td>\n",
       "      <td>4814</td>\n",
       "      <td>1030</td>\n",
       "      <td>-2245.92</td>\n",
       "      <td>NaN</td>\n",
       "      <td>0</td>\n",
       "    </tr>\n",
       "    <tr>\n",
       "      <th>2</th>\n",
       "      <td>39026145</td>\n",
       "      <td>1 10:20:56</td>\n",
       "      <td>4829</td>\n",
       "      <td>2330</td>\n",
       "      <td>-56147.89</td>\n",
       "      <td>NaN</td>\n",
       "      <td>1</td>\n",
       "    </tr>\n",
       "    <tr>\n",
       "      <th>3</th>\n",
       "      <td>39026145</td>\n",
       "      <td>1 10:39:54</td>\n",
       "      <td>5499</td>\n",
       "      <td>1010</td>\n",
       "      <td>-1392.47</td>\n",
       "      <td>NaN</td>\n",
       "      <td>1</td>\n",
       "    </tr>\n",
       "    <tr>\n",
       "      <th>4</th>\n",
       "      <td>39026145</td>\n",
       "      <td>2 15:33:42</td>\n",
       "      <td>5499</td>\n",
       "      <td>1010</td>\n",
       "      <td>-920.83</td>\n",
       "      <td>NaN</td>\n",
       "      <td>2</td>\n",
       "    </tr>\n",
       "    <tr>\n",
       "      <th>5</th>\n",
       "      <td>39026145</td>\n",
       "      <td>2 15:53:49</td>\n",
       "      <td>5541</td>\n",
       "      <td>1010</td>\n",
       "      <td>-14643.37</td>\n",
       "      <td>NaN</td>\n",
       "      <td>2</td>\n",
       "    </tr>\n",
       "  </tbody>\n",
       "</table>\n",
       "</div>"
      ],
      "text/plain": [
       "   customer_id tr_datetime  mcc_code  tr_type    amount term_id  day\n",
       "0     39026145  0 10:23:26      4814     1030  -2245.92     NaN    0\n",
       "2     39026145  1 10:20:56      4829     2330 -56147.89     NaN    1\n",
       "3     39026145  1 10:39:54      5499     1010  -1392.47     NaN    1\n",
       "4     39026145  2 15:33:42      5499     1010   -920.83     NaN    2\n",
       "5     39026145  2 15:53:49      5541     1010 -14643.37     NaN    2"
      ]
     },
     "execution_count": 4,
     "metadata": {},
     "output_type": "execute_result"
    }
   ],
   "source": [
    "train_transactions.head()"
   ]
  },
  {
   "cell_type": "code",
   "execution_count": 5,
   "metadata": {
    "collapsed": false
   },
   "outputs": [
    {
     "data": {
      "text/html": [
       "<div>\n",
       "<table border=\"1\" class=\"dataframe\">\n",
       "  <thead>\n",
       "    <tr style=\"text-align: right;\">\n",
       "      <th></th>\n",
       "      <th>mcc_code</th>\n",
       "      <th>day</th>\n",
       "    </tr>\n",
       "  </thead>\n",
       "  <tbody>\n",
       "    <tr>\n",
       "      <th>0</th>\n",
       "      <td>4814</td>\n",
       "      <td>0</td>\n",
       "    </tr>\n",
       "    <tr>\n",
       "      <th>1</th>\n",
       "      <td>4814</td>\n",
       "      <td>1</td>\n",
       "    </tr>\n",
       "    <tr>\n",
       "      <th>2</th>\n",
       "      <td>4814</td>\n",
       "      <td>2</td>\n",
       "    </tr>\n",
       "    <tr>\n",
       "      <th>3</th>\n",
       "      <td>4814</td>\n",
       "      <td>3</td>\n",
       "    </tr>\n",
       "    <tr>\n",
       "      <th>4</th>\n",
       "      <td>4814</td>\n",
       "      <td>4</td>\n",
       "    </tr>\n",
       "  </tbody>\n",
       "</table>\n",
       "</div>"
      ],
      "text/plain": [
       "   mcc_code  day\n",
       "0      4814    0\n",
       "1      4814    1\n",
       "2      4814    2\n",
       "3      4814    3\n",
       "4      4814    4"
      ]
     },
     "execution_count": 5,
     "metadata": {},
     "output_type": "execute_result"
    }
   ],
   "source": [
    "train_grid = pd.DataFrame(columns=train_transactions.mcc_code.unique(), \n",
    "                          index=train_transactions.day.unique())\n",
    "train_grid = train_grid.unstack().reset_index().dropna(axis=1)\n",
    "train_grid.columns = ['mcc_code', 'day']\n",
    "\n",
    "train_grid.head()"
   ]
  },
  {
   "cell_type": "code",
   "execution_count": 6,
   "metadata": {
    "collapsed": false
   },
   "outputs": [
    {
     "data": {
      "text/plain": [
       "(84088, 2)"
      ]
     },
     "execution_count": 6,
     "metadata": {},
     "output_type": "execute_result"
    }
   ],
   "source": [
    "train_grid.shape"
   ]
  },
  {
   "cell_type": "code",
   "execution_count": 7,
   "metadata": {
    "collapsed": false
   },
   "outputs": [
    {
     "data": {
      "text/html": [
       "<div>\n",
       "<table border=\"1\" class=\"dataframe\">\n",
       "  <thead>\n",
       "    <tr style=\"text-align: right;\">\n",
       "      <th></th>\n",
       "      <th>mcc_code</th>\n",
       "      <th>day</th>\n",
       "    </tr>\n",
       "  </thead>\n",
       "  <tbody>\n",
       "    <tr>\n",
       "      <th>0</th>\n",
       "      <td>4814</td>\n",
       "      <td>457</td>\n",
       "    </tr>\n",
       "    <tr>\n",
       "      <th>1</th>\n",
       "      <td>4814</td>\n",
       "      <td>458</td>\n",
       "    </tr>\n",
       "    <tr>\n",
       "      <th>2</th>\n",
       "      <td>4814</td>\n",
       "      <td>459</td>\n",
       "    </tr>\n",
       "    <tr>\n",
       "      <th>3</th>\n",
       "      <td>4814</td>\n",
       "      <td>460</td>\n",
       "    </tr>\n",
       "    <tr>\n",
       "      <th>4</th>\n",
       "      <td>4814</td>\n",
       "      <td>461</td>\n",
       "    </tr>\n",
       "  </tbody>\n",
       "</table>\n",
       "</div>"
      ],
      "text/plain": [
       "   mcc_code  day\n",
       "0      4814  457\n",
       "1      4814  458\n",
       "2      4814  459\n",
       "3      4814  460\n",
       "4      4814  461"
      ]
     },
     "execution_count": 7,
     "metadata": {},
     "output_type": "execute_result"
    }
   ],
   "source": [
    "test_transactions = pd.DataFrame(columns=train_transactions.mcc_code.unique(), \n",
    "                                 index=np.arange(1, 31) + train_transactions.day.max())\n",
    "test_transactions = test_transactions.unstack().reset_index().dropna(axis=1)\n",
    "test_transactions.columns = ['mcc_code', 'day']\n",
    "\n",
    "test_transactions.head()"
   ]
  },
  {
   "cell_type": "code",
   "execution_count": 8,
   "metadata": {
    "collapsed": false
   },
   "outputs": [
    {
     "data": {
      "text/plain": [
       "(5520, 2)"
      ]
     },
     "execution_count": 8,
     "metadata": {},
     "output_type": "execute_result"
    }
   ],
   "source": [
    "test_transactions.shape"
   ]
  },
  {
   "cell_type": "code",
   "execution_count": 9,
   "metadata": {
    "collapsed": false
   },
   "outputs": [
    {
     "data": {
      "text/html": [
       "<div>\n",
       "<table border=\"1\" class=\"dataframe\">\n",
       "  <thead>\n",
       "    <tr style=\"text-align: right;\">\n",
       "      <th></th>\n",
       "      <th>customer_id</th>\n",
       "      <th>tr_datetime</th>\n",
       "      <th>mcc_code</th>\n",
       "      <th>tr_type</th>\n",
       "      <th>amount</th>\n",
       "      <th>term_id</th>\n",
       "      <th>day</th>\n",
       "    </tr>\n",
       "  </thead>\n",
       "  <tbody>\n",
       "    <tr>\n",
       "      <th>0</th>\n",
       "      <td>39026145</td>\n",
       "      <td>0 10:23:26</td>\n",
       "      <td>4814</td>\n",
       "      <td>1030</td>\n",
       "      <td>-2245.92</td>\n",
       "      <td>NaN</td>\n",
       "      <td>0</td>\n",
       "    </tr>\n",
       "    <tr>\n",
       "      <th>2</th>\n",
       "      <td>39026145</td>\n",
       "      <td>1 10:20:56</td>\n",
       "      <td>4829</td>\n",
       "      <td>2330</td>\n",
       "      <td>-56147.89</td>\n",
       "      <td>NaN</td>\n",
       "      <td>1</td>\n",
       "    </tr>\n",
       "    <tr>\n",
       "      <th>3</th>\n",
       "      <td>39026145</td>\n",
       "      <td>1 10:39:54</td>\n",
       "      <td>5499</td>\n",
       "      <td>1010</td>\n",
       "      <td>-1392.47</td>\n",
       "      <td>NaN</td>\n",
       "      <td>1</td>\n",
       "    </tr>\n",
       "    <tr>\n",
       "      <th>4</th>\n",
       "      <td>39026145</td>\n",
       "      <td>2 15:33:42</td>\n",
       "      <td>5499</td>\n",
       "      <td>1010</td>\n",
       "      <td>-920.83</td>\n",
       "      <td>NaN</td>\n",
       "      <td>2</td>\n",
       "    </tr>\n",
       "    <tr>\n",
       "      <th>5</th>\n",
       "      <td>39026145</td>\n",
       "      <td>2 15:53:49</td>\n",
       "      <td>5541</td>\n",
       "      <td>1010</td>\n",
       "      <td>-14643.37</td>\n",
       "      <td>NaN</td>\n",
       "      <td>2</td>\n",
       "    </tr>\n",
       "  </tbody>\n",
       "</table>\n",
       "</div>"
      ],
      "text/plain": [
       "   customer_id tr_datetime  mcc_code  tr_type    amount term_id  day\n",
       "0     39026145  0 10:23:26      4814     1030  -2245.92     NaN    0\n",
       "2     39026145  1 10:20:56      4829     2330 -56147.89     NaN    1\n",
       "3     39026145  1 10:39:54      5499     1010  -1392.47     NaN    1\n",
       "4     39026145  2 15:33:42      5499     1010   -920.83     NaN    2\n",
       "5     39026145  2 15:53:49      5541     1010 -14643.37     NaN    2"
      ]
     },
     "execution_count": 9,
     "metadata": {},
     "output_type": "execute_result"
    }
   ],
   "source": [
    "train_transactions.head()"
   ]
  },
  {
   "cell_type": "markdown",
   "metadata": {},
   "source": [
    "#### Временн*ы*е признаки"
   ]
  },
  {
   "cell_type": "code",
   "execution_count": 10,
   "metadata": {
    "collapsed": false
   },
   "outputs": [
    {
     "data": {
      "text/html": [
       "<div>\n",
       "<table border=\"1\" class=\"dataframe\">\n",
       "  <thead>\n",
       "    <tr style=\"text-align: right;\">\n",
       "      <th></th>\n",
       "      <th>customer_id</th>\n",
       "      <th>tr_datetime</th>\n",
       "      <th>mcc_code</th>\n",
       "      <th>tr_type</th>\n",
       "      <th>amount</th>\n",
       "      <th>term_id</th>\n",
       "      <th>day</th>\n",
       "      <th>week_num</th>\n",
       "      <th>week_day</th>\n",
       "      <th>month_num</th>\n",
       "      <th>month_day</th>\n",
       "    </tr>\n",
       "  </thead>\n",
       "  <tbody>\n",
       "    <tr>\n",
       "      <th>0</th>\n",
       "      <td>39026145</td>\n",
       "      <td>0 10:23:26</td>\n",
       "      <td>4814</td>\n",
       "      <td>1030</td>\n",
       "      <td>-2245.92</td>\n",
       "      <td>NaN</td>\n",
       "      <td>0</td>\n",
       "      <td>0</td>\n",
       "      <td>0</td>\n",
       "      <td>0</td>\n",
       "      <td>0</td>\n",
       "    </tr>\n",
       "    <tr>\n",
       "      <th>2</th>\n",
       "      <td>39026145</td>\n",
       "      <td>1 10:20:56</td>\n",
       "      <td>4829</td>\n",
       "      <td>2330</td>\n",
       "      <td>-56147.89</td>\n",
       "      <td>NaN</td>\n",
       "      <td>1</td>\n",
       "      <td>0</td>\n",
       "      <td>1</td>\n",
       "      <td>0</td>\n",
       "      <td>1</td>\n",
       "    </tr>\n",
       "    <tr>\n",
       "      <th>3</th>\n",
       "      <td>39026145</td>\n",
       "      <td>1 10:39:54</td>\n",
       "      <td>5499</td>\n",
       "      <td>1010</td>\n",
       "      <td>-1392.47</td>\n",
       "      <td>NaN</td>\n",
       "      <td>1</td>\n",
       "      <td>0</td>\n",
       "      <td>1</td>\n",
       "      <td>0</td>\n",
       "      <td>1</td>\n",
       "    </tr>\n",
       "    <tr>\n",
       "      <th>4</th>\n",
       "      <td>39026145</td>\n",
       "      <td>2 15:33:42</td>\n",
       "      <td>5499</td>\n",
       "      <td>1010</td>\n",
       "      <td>-920.83</td>\n",
       "      <td>NaN</td>\n",
       "      <td>2</td>\n",
       "      <td>0</td>\n",
       "      <td>2</td>\n",
       "      <td>0</td>\n",
       "      <td>2</td>\n",
       "    </tr>\n",
       "    <tr>\n",
       "      <th>5</th>\n",
       "      <td>39026145</td>\n",
       "      <td>2 15:53:49</td>\n",
       "      <td>5541</td>\n",
       "      <td>1010</td>\n",
       "      <td>-14643.37</td>\n",
       "      <td>NaN</td>\n",
       "      <td>2</td>\n",
       "      <td>0</td>\n",
       "      <td>2</td>\n",
       "      <td>0</td>\n",
       "      <td>2</td>\n",
       "    </tr>\n",
       "  </tbody>\n",
       "</table>\n",
       "</div>"
      ],
      "text/plain": [
       "   customer_id tr_datetime  mcc_code  tr_type    amount term_id  day  \\\n",
       "0     39026145  0 10:23:26      4814     1030  -2245.92     NaN    0   \n",
       "2     39026145  1 10:20:56      4829     2330 -56147.89     NaN    1   \n",
       "3     39026145  1 10:39:54      5499     1010  -1392.47     NaN    1   \n",
       "4     39026145  2 15:33:42      5499     1010   -920.83     NaN    2   \n",
       "5     39026145  2 15:53:49      5541     1010 -14643.37     NaN    2   \n",
       "\n",
       "   week_num  week_day  month_num  month_day  \n",
       "0         0         0          0          0  \n",
       "2         0         1          0          1  \n",
       "3         0         1          0          1  \n",
       "4         0         2          0          2  \n",
       "5         0         2          0          2  "
      ]
     },
     "execution_count": 10,
     "metadata": {},
     "output_type": "execute_result"
    }
   ],
   "source": [
    "for tr_table in [train_transactions, test_transactions, train_grid]:\n",
    "    tr_table['week_num'] = tr_table['day'] // 7\n",
    "    tr_table['week_day'] = tr_table['day'] % 7\n",
    "    tr_table['month_num'] = tr_table['day'] // 30\n",
    "    tr_table['month_day'] = tr_table['day'] % 30\n",
    "\n",
    "train_transactions.head()"
   ]
  },
  {
   "cell_type": "code",
   "execution_count": 11,
   "metadata": {
    "collapsed": false
   },
   "outputs": [
    {
     "data": {
      "text/html": [
       "<div>\n",
       "<table border=\"1\" class=\"dataframe\">\n",
       "  <thead>\n",
       "    <tr style=\"text-align: right;\">\n",
       "      <th></th>\n",
       "      <th>mcc_code</th>\n",
       "      <th>day</th>\n",
       "      <th>week_num</th>\n",
       "      <th>week_day</th>\n",
       "      <th>month_num</th>\n",
       "      <th>month_day</th>\n",
       "      <th>amount</th>\n",
       "    </tr>\n",
       "  </thead>\n",
       "  <tbody>\n",
       "    <tr>\n",
       "      <th>0</th>\n",
       "      <td>4814</td>\n",
       "      <td>0</td>\n",
       "      <td>0</td>\n",
       "      <td>0</td>\n",
       "      <td>0</td>\n",
       "      <td>0</td>\n",
       "      <td>-11098744.26</td>\n",
       "    </tr>\n",
       "    <tr>\n",
       "      <th>1</th>\n",
       "      <td>4814</td>\n",
       "      <td>1</td>\n",
       "      <td>0</td>\n",
       "      <td>1</td>\n",
       "      <td>0</td>\n",
       "      <td>1</td>\n",
       "      <td>-7881825.53</td>\n",
       "    </tr>\n",
       "    <tr>\n",
       "      <th>2</th>\n",
       "      <td>4814</td>\n",
       "      <td>2</td>\n",
       "      <td>0</td>\n",
       "      <td>2</td>\n",
       "      <td>0</td>\n",
       "      <td>2</td>\n",
       "      <td>-6777480.45</td>\n",
       "    </tr>\n",
       "    <tr>\n",
       "      <th>3</th>\n",
       "      <td>4814</td>\n",
       "      <td>3</td>\n",
       "      <td>0</td>\n",
       "      <td>3</td>\n",
       "      <td>0</td>\n",
       "      <td>3</td>\n",
       "      <td>-9277943.73</td>\n",
       "    </tr>\n",
       "    <tr>\n",
       "      <th>4</th>\n",
       "      <td>4814</td>\n",
       "      <td>4</td>\n",
       "      <td>0</td>\n",
       "      <td>4</td>\n",
       "      <td>0</td>\n",
       "      <td>4</td>\n",
       "      <td>-9999757.21</td>\n",
       "    </tr>\n",
       "  </tbody>\n",
       "</table>\n",
       "</div>"
      ],
      "text/plain": [
       "   mcc_code  day  week_num  week_day  month_num  month_day       amount\n",
       "0      4814    0         0         0          0          0 -11098744.26\n",
       "1      4814    1         0         1          0          1  -7881825.53\n",
       "2      4814    2         0         2          0          2  -6777480.45\n",
       "3      4814    3         0         3          0          3  -9277943.73\n",
       "4      4814    4         0         4          0          4  -9999757.21"
      ]
     },
     "execution_count": 11,
     "metadata": {},
     "output_type": "execute_result"
    }
   ],
   "source": [
    "train_transactions = \\\n",
    "    pd.merge(train_grid,\n",
    "             train_transactions.groupby(['day', 'week_num', 'week_day', 'month_num', 'month_day', 'mcc_code'])['amount']\\\n",
    "                 .sum().reset_index(),\n",
    "             how='left').fillna(0)\n",
    "\n",
    "train_transactions.head()"
   ]
  },
  {
   "cell_type": "code",
   "execution_count": 12,
   "metadata": {
    "collapsed": false
   },
   "outputs": [
    {
     "data": {
      "text/plain": [
       "array([ 0,  1,  2,  3,  4,  5,  6,  7,  8,  9, 10, 11, 12, 13, 14, 15], dtype=int64)"
      ]
     },
     "execution_count": 12,
     "metadata": {},
     "output_type": "execute_result"
    }
   ],
   "source": [
    "train_transactions.month_num.unique()"
   ]
  },
  {
   "cell_type": "code",
   "execution_count": 13,
   "metadata": {
    "collapsed": false
   },
   "outputs": [
    {
     "data": {
      "text/plain": [
       "(84088, 7)"
      ]
     },
     "execution_count": 13,
     "metadata": {},
     "output_type": "execute_result"
    }
   ],
   "source": [
    "train_transactions.shape"
   ]
  },
  {
   "cell_type": "markdown",
   "metadata": {},
   "source": [
    "Для каждого mcc_code получим данные о сумме транзакий за каждый день. "
   ]
  },
  {
   "cell_type": "code",
   "execution_count": 14,
   "metadata": {
    "collapsed": true
   },
   "outputs": [],
   "source": [
    "for day_shift in np.arange(-5,5):\n",
    "    for month_shift in train_transactions.month_num.unique()[1:]:\n",
    "        train_shift = train_transactions.copy()\n",
    "        train_shift['month_num'] += month_shift\n",
    "        train_shift['month_day'] += day_shift\n",
    "        train_shift['amount_day_{}_{}'.format(day_shift, month_shift)] = np.log(-train_shift['amount'] + 1)\n",
    "        train_shift = train_shift[['month_num', 'month_day', 'mcc_code', 'amount_day_{}_{}'.format(day_shift, month_shift)]]\n",
    "\n",
    "        train_transactions = pd.merge(train_transactions, train_shift, \n",
    "                                      on=['month_num', 'month_day', 'mcc_code'], how='left').fillna(0)\n",
    "        test_transactions = pd.merge(test_transactions, train_shift, \n",
    "                                     on=['month_num', 'month_day', 'mcc_code'], how='left').fillna(0)"
   ]
  },
  {
   "cell_type": "code",
   "execution_count": 15,
   "metadata": {
    "collapsed": false
   },
   "outputs": [
    {
     "data": {
      "text/html": [
       "<div>\n",
       "<table border=\"1\" class=\"dataframe\">\n",
       "  <thead>\n",
       "    <tr style=\"text-align: right;\">\n",
       "      <th></th>\n",
       "      <th>mcc_code</th>\n",
       "      <th>day</th>\n",
       "      <th>week_num</th>\n",
       "      <th>week_day</th>\n",
       "      <th>month_num</th>\n",
       "      <th>month_day</th>\n",
       "      <th>amount</th>\n",
       "      <th>amount_day_-10_1</th>\n",
       "      <th>amount_day_-10_2</th>\n",
       "      <th>amount_day_-10_3</th>\n",
       "      <th>...</th>\n",
       "      <th>amount_day_10_6</th>\n",
       "      <th>amount_day_10_7</th>\n",
       "      <th>amount_day_10_8</th>\n",
       "      <th>amount_day_10_9</th>\n",
       "      <th>amount_day_10_10</th>\n",
       "      <th>amount_day_10_11</th>\n",
       "      <th>amount_day_10_12</th>\n",
       "      <th>amount_day_10_13</th>\n",
       "      <th>amount_day_10_14</th>\n",
       "      <th>amount_day_10_15</th>\n",
       "    </tr>\n",
       "  </thead>\n",
       "  <tbody>\n",
       "    <tr>\n",
       "      <th>0</th>\n",
       "      <td>4814</td>\n",
       "      <td>0</td>\n",
       "      <td>0</td>\n",
       "      <td>0</td>\n",
       "      <td>0</td>\n",
       "      <td>0</td>\n",
       "      <td>-11098744.26</td>\n",
       "      <td>0.0</td>\n",
       "      <td>0.0</td>\n",
       "      <td>0.0</td>\n",
       "      <td>...</td>\n",
       "      <td>0.0</td>\n",
       "      <td>0.0</td>\n",
       "      <td>0.0</td>\n",
       "      <td>0.0</td>\n",
       "      <td>0.0</td>\n",
       "      <td>0.0</td>\n",
       "      <td>0.0</td>\n",
       "      <td>0.0</td>\n",
       "      <td>0.0</td>\n",
       "      <td>0.0</td>\n",
       "    </tr>\n",
       "    <tr>\n",
       "      <th>1</th>\n",
       "      <td>4814</td>\n",
       "      <td>1</td>\n",
       "      <td>0</td>\n",
       "      <td>1</td>\n",
       "      <td>0</td>\n",
       "      <td>1</td>\n",
       "      <td>-7881825.53</td>\n",
       "      <td>0.0</td>\n",
       "      <td>0.0</td>\n",
       "      <td>0.0</td>\n",
       "      <td>...</td>\n",
       "      <td>0.0</td>\n",
       "      <td>0.0</td>\n",
       "      <td>0.0</td>\n",
       "      <td>0.0</td>\n",
       "      <td>0.0</td>\n",
       "      <td>0.0</td>\n",
       "      <td>0.0</td>\n",
       "      <td>0.0</td>\n",
       "      <td>0.0</td>\n",
       "      <td>0.0</td>\n",
       "    </tr>\n",
       "    <tr>\n",
       "      <th>2</th>\n",
       "      <td>4814</td>\n",
       "      <td>2</td>\n",
       "      <td>0</td>\n",
       "      <td>2</td>\n",
       "      <td>0</td>\n",
       "      <td>2</td>\n",
       "      <td>-6777480.45</td>\n",
       "      <td>0.0</td>\n",
       "      <td>0.0</td>\n",
       "      <td>0.0</td>\n",
       "      <td>...</td>\n",
       "      <td>0.0</td>\n",
       "      <td>0.0</td>\n",
       "      <td>0.0</td>\n",
       "      <td>0.0</td>\n",
       "      <td>0.0</td>\n",
       "      <td>0.0</td>\n",
       "      <td>0.0</td>\n",
       "      <td>0.0</td>\n",
       "      <td>0.0</td>\n",
       "      <td>0.0</td>\n",
       "    </tr>\n",
       "    <tr>\n",
       "      <th>3</th>\n",
       "      <td>4814</td>\n",
       "      <td>3</td>\n",
       "      <td>0</td>\n",
       "      <td>3</td>\n",
       "      <td>0</td>\n",
       "      <td>3</td>\n",
       "      <td>-9277943.73</td>\n",
       "      <td>0.0</td>\n",
       "      <td>0.0</td>\n",
       "      <td>0.0</td>\n",
       "      <td>...</td>\n",
       "      <td>0.0</td>\n",
       "      <td>0.0</td>\n",
       "      <td>0.0</td>\n",
       "      <td>0.0</td>\n",
       "      <td>0.0</td>\n",
       "      <td>0.0</td>\n",
       "      <td>0.0</td>\n",
       "      <td>0.0</td>\n",
       "      <td>0.0</td>\n",
       "      <td>0.0</td>\n",
       "    </tr>\n",
       "    <tr>\n",
       "      <th>4</th>\n",
       "      <td>4814</td>\n",
       "      <td>4</td>\n",
       "      <td>0</td>\n",
       "      <td>4</td>\n",
       "      <td>0</td>\n",
       "      <td>4</td>\n",
       "      <td>-9999757.21</td>\n",
       "      <td>0.0</td>\n",
       "      <td>0.0</td>\n",
       "      <td>0.0</td>\n",
       "      <td>...</td>\n",
       "      <td>0.0</td>\n",
       "      <td>0.0</td>\n",
       "      <td>0.0</td>\n",
       "      <td>0.0</td>\n",
       "      <td>0.0</td>\n",
       "      <td>0.0</td>\n",
       "      <td>0.0</td>\n",
       "      <td>0.0</td>\n",
       "      <td>0.0</td>\n",
       "      <td>0.0</td>\n",
       "    </tr>\n",
       "  </tbody>\n",
       "</table>\n",
       "<p>5 rows × 322 columns</p>\n",
       "</div>"
      ],
      "text/plain": [
       "   mcc_code  day  week_num  week_day  month_num  month_day       amount  \\\n",
       "0      4814    0         0         0          0          0 -11098744.26   \n",
       "1      4814    1         0         1          0          1  -7881825.53   \n",
       "2      4814    2         0         2          0          2  -6777480.45   \n",
       "3      4814    3         0         3          0          3  -9277943.73   \n",
       "4      4814    4         0         4          0          4  -9999757.21   \n",
       "\n",
       "   amount_day_-10_1  amount_day_-10_2  amount_day_-10_3        ...         \\\n",
       "0               0.0               0.0               0.0        ...          \n",
       "1               0.0               0.0               0.0        ...          \n",
       "2               0.0               0.0               0.0        ...          \n",
       "3               0.0               0.0               0.0        ...          \n",
       "4               0.0               0.0               0.0        ...          \n",
       "\n",
       "   amount_day_10_6  amount_day_10_7  amount_day_10_8  amount_day_10_9  \\\n",
       "0              0.0              0.0              0.0              0.0   \n",
       "1              0.0              0.0              0.0              0.0   \n",
       "2              0.0              0.0              0.0              0.0   \n",
       "3              0.0              0.0              0.0              0.0   \n",
       "4              0.0              0.0              0.0              0.0   \n",
       "\n",
       "   amount_day_10_10  amount_day_10_11  amount_day_10_12  amount_day_10_13  \\\n",
       "0               0.0               0.0               0.0               0.0   \n",
       "1               0.0               0.0               0.0               0.0   \n",
       "2               0.0               0.0               0.0               0.0   \n",
       "3               0.0               0.0               0.0               0.0   \n",
       "4               0.0               0.0               0.0               0.0   \n",
       "\n",
       "   amount_day_10_14  amount_day_10_15  \n",
       "0               0.0               0.0  \n",
       "1               0.0               0.0  \n",
       "2               0.0               0.0  \n",
       "3               0.0               0.0  \n",
       "4               0.0               0.0  \n",
       "\n",
       "[5 rows x 322 columns]"
      ]
     },
     "execution_count": 15,
     "metadata": {},
     "output_type": "execute_result"
    }
   ],
   "source": [
    "train_transactions.head()"
   ]
  },
  {
   "cell_type": "code",
   "execution_count": null,
   "metadata": {
    "collapsed": true
   },
   "outputs": [],
   "source": []
  },
  {
   "cell_type": "code",
   "execution_count": 16,
   "metadata": {
    "collapsed": false
   },
   "outputs": [],
   "source": [
    "shift = 500\n",
    "train = pd.get_dummies(train_transactions, columns=['mcc_code'])\n",
    "test = pd.get_dummies(test_transactions, columns=['mcc_code'])\n",
    "c = train.columns.difference(['amount'])"
   ]
  },
  {
   "cell_type": "code",
   "execution_count": 17,
   "metadata": {
    "collapsed": false
   },
   "outputs": [
    {
     "data": {
      "text/html": [
       "<div>\n",
       "<table border=\"1\" class=\"dataframe\">\n",
       "  <thead>\n",
       "    <tr style=\"text-align: right;\">\n",
       "      <th></th>\n",
       "      <th>day</th>\n",
       "      <th>week_num</th>\n",
       "      <th>week_day</th>\n",
       "      <th>month_num</th>\n",
       "      <th>month_day</th>\n",
       "      <th>amount</th>\n",
       "      <th>amount_day_-10_1</th>\n",
       "      <th>amount_day_-10_2</th>\n",
       "      <th>amount_day_-10_3</th>\n",
       "      <th>amount_day_-10_4</th>\n",
       "      <th>...</th>\n",
       "      <th>mcc_code_8299</th>\n",
       "      <th>mcc_code_8398</th>\n",
       "      <th>mcc_code_8641</th>\n",
       "      <th>mcc_code_8699</th>\n",
       "      <th>mcc_code_8999</th>\n",
       "      <th>mcc_code_9211</th>\n",
       "      <th>mcc_code_9222</th>\n",
       "      <th>mcc_code_9311</th>\n",
       "      <th>mcc_code_9399</th>\n",
       "      <th>mcc_code_9402</th>\n",
       "    </tr>\n",
       "  </thead>\n",
       "  <tbody>\n",
       "    <tr>\n",
       "      <th>0</th>\n",
       "      <td>0</td>\n",
       "      <td>0</td>\n",
       "      <td>0</td>\n",
       "      <td>0</td>\n",
       "      <td>0</td>\n",
       "      <td>-11098744.26</td>\n",
       "      <td>0.0</td>\n",
       "      <td>0.0</td>\n",
       "      <td>0.0</td>\n",
       "      <td>0.0</td>\n",
       "      <td>...</td>\n",
       "      <td>0.0</td>\n",
       "      <td>0.0</td>\n",
       "      <td>0.0</td>\n",
       "      <td>0.0</td>\n",
       "      <td>0.0</td>\n",
       "      <td>0.0</td>\n",
       "      <td>0.0</td>\n",
       "      <td>0.0</td>\n",
       "      <td>0.0</td>\n",
       "      <td>0.0</td>\n",
       "    </tr>\n",
       "    <tr>\n",
       "      <th>1</th>\n",
       "      <td>1</td>\n",
       "      <td>0</td>\n",
       "      <td>1</td>\n",
       "      <td>0</td>\n",
       "      <td>1</td>\n",
       "      <td>-7881825.53</td>\n",
       "      <td>0.0</td>\n",
       "      <td>0.0</td>\n",
       "      <td>0.0</td>\n",
       "      <td>0.0</td>\n",
       "      <td>...</td>\n",
       "      <td>0.0</td>\n",
       "      <td>0.0</td>\n",
       "      <td>0.0</td>\n",
       "      <td>0.0</td>\n",
       "      <td>0.0</td>\n",
       "      <td>0.0</td>\n",
       "      <td>0.0</td>\n",
       "      <td>0.0</td>\n",
       "      <td>0.0</td>\n",
       "      <td>0.0</td>\n",
       "    </tr>\n",
       "    <tr>\n",
       "      <th>2</th>\n",
       "      <td>2</td>\n",
       "      <td>0</td>\n",
       "      <td>2</td>\n",
       "      <td>0</td>\n",
       "      <td>2</td>\n",
       "      <td>-6777480.45</td>\n",
       "      <td>0.0</td>\n",
       "      <td>0.0</td>\n",
       "      <td>0.0</td>\n",
       "      <td>0.0</td>\n",
       "      <td>...</td>\n",
       "      <td>0.0</td>\n",
       "      <td>0.0</td>\n",
       "      <td>0.0</td>\n",
       "      <td>0.0</td>\n",
       "      <td>0.0</td>\n",
       "      <td>0.0</td>\n",
       "      <td>0.0</td>\n",
       "      <td>0.0</td>\n",
       "      <td>0.0</td>\n",
       "      <td>0.0</td>\n",
       "    </tr>\n",
       "    <tr>\n",
       "      <th>3</th>\n",
       "      <td>3</td>\n",
       "      <td>0</td>\n",
       "      <td>3</td>\n",
       "      <td>0</td>\n",
       "      <td>3</td>\n",
       "      <td>-9277943.73</td>\n",
       "      <td>0.0</td>\n",
       "      <td>0.0</td>\n",
       "      <td>0.0</td>\n",
       "      <td>0.0</td>\n",
       "      <td>...</td>\n",
       "      <td>0.0</td>\n",
       "      <td>0.0</td>\n",
       "      <td>0.0</td>\n",
       "      <td>0.0</td>\n",
       "      <td>0.0</td>\n",
       "      <td>0.0</td>\n",
       "      <td>0.0</td>\n",
       "      <td>0.0</td>\n",
       "      <td>0.0</td>\n",
       "      <td>0.0</td>\n",
       "    </tr>\n",
       "    <tr>\n",
       "      <th>4</th>\n",
       "      <td>4</td>\n",
       "      <td>0</td>\n",
       "      <td>4</td>\n",
       "      <td>0</td>\n",
       "      <td>4</td>\n",
       "      <td>-9999757.21</td>\n",
       "      <td>0.0</td>\n",
       "      <td>0.0</td>\n",
       "      <td>0.0</td>\n",
       "      <td>0.0</td>\n",
       "      <td>...</td>\n",
       "      <td>0.0</td>\n",
       "      <td>0.0</td>\n",
       "      <td>0.0</td>\n",
       "      <td>0.0</td>\n",
       "      <td>0.0</td>\n",
       "      <td>0.0</td>\n",
       "      <td>0.0</td>\n",
       "      <td>0.0</td>\n",
       "      <td>0.0</td>\n",
       "      <td>0.0</td>\n",
       "    </tr>\n",
       "  </tbody>\n",
       "</table>\n",
       "<p>5 rows × 505 columns</p>\n",
       "</div>"
      ],
      "text/plain": [
       "   day  week_num  week_day  month_num  month_day       amount  \\\n",
       "0    0         0         0          0          0 -11098744.26   \n",
       "1    1         0         1          0          1  -7881825.53   \n",
       "2    2         0         2          0          2  -6777480.45   \n",
       "3    3         0         3          0          3  -9277943.73   \n",
       "4    4         0         4          0          4  -9999757.21   \n",
       "\n",
       "   amount_day_-10_1  amount_day_-10_2  amount_day_-10_3  amount_day_-10_4  \\\n",
       "0               0.0               0.0               0.0               0.0   \n",
       "1               0.0               0.0               0.0               0.0   \n",
       "2               0.0               0.0               0.0               0.0   \n",
       "3               0.0               0.0               0.0               0.0   \n",
       "4               0.0               0.0               0.0               0.0   \n",
       "\n",
       "       ...        mcc_code_8299  mcc_code_8398  mcc_code_8641  mcc_code_8699  \\\n",
       "0      ...                  0.0            0.0            0.0            0.0   \n",
       "1      ...                  0.0            0.0            0.0            0.0   \n",
       "2      ...                  0.0            0.0            0.0            0.0   \n",
       "3      ...                  0.0            0.0            0.0            0.0   \n",
       "4      ...                  0.0            0.0            0.0            0.0   \n",
       "\n",
       "   mcc_code_8999  mcc_code_9211  mcc_code_9222  mcc_code_9311  mcc_code_9399  \\\n",
       "0            0.0            0.0            0.0            0.0            0.0   \n",
       "1            0.0            0.0            0.0            0.0            0.0   \n",
       "2            0.0            0.0            0.0            0.0            0.0   \n",
       "3            0.0            0.0            0.0            0.0            0.0   \n",
       "4            0.0            0.0            0.0            0.0            0.0   \n",
       "\n",
       "   mcc_code_9402  \n",
       "0            0.0  \n",
       "1            0.0  \n",
       "2            0.0  \n",
       "3            0.0  \n",
       "4            0.0  \n",
       "\n",
       "[5 rows x 505 columns]"
      ]
     },
     "execution_count": 17,
     "metadata": {},
     "output_type": "execute_result"
    }
   ],
   "source": [
    "train.head()"
   ]
  },
  {
   "cell_type": "code",
   "execution_count": 18,
   "metadata": {
    "collapsed": false
   },
   "outputs": [
    {
     "data": {
      "text/plain": [
       "(84088, 505)"
      ]
     },
     "execution_count": 18,
     "metadata": {},
     "output_type": "execute_result"
    }
   ],
   "source": [
    "train.shape"
   ]
  },
  {
   "cell_type": "code",
   "execution_count": 19,
   "metadata": {
    "collapsed": false
   },
   "outputs": [
    {
     "data": {
      "text/plain": [
       "(5520, 504)"
      ]
     },
     "execution_count": 19,
     "metadata": {},
     "output_type": "execute_result"
    }
   ],
   "source": [
    "test.shape"
   ]
  },
  {
   "cell_type": "markdown",
   "metadata": {},
   "source": [
    "## Построение моделей"
   ]
  },
  {
   "cell_type": "markdown",
   "metadata": {},
   "source": [
    "### Метрика"
   ]
  },
  {
   "cell_type": "code",
   "execution_count": 20,
   "metadata": {
    "collapsed": true
   },
   "outputs": [],
   "source": [
    "# from sklearn.metrics import make_scorer"
   ]
  },
  {
   "cell_type": "code",
   "execution_count": 21,
   "metadata": {
    "collapsed": true
   },
   "outputs": [],
   "source": [
    "def rmsle500(y, pred):\n",
    "    n = len(y)\n",
    "    score = np.sqrt(1/n * sum((np.log(y + 500) - np.log(abs(pred) + 500)) ** 2))\n",
    "    return score\n",
    "    \n",
    "# scorer = make_scorer(rmsle500, greater_is_better=False)"
   ]
  },
  {
   "cell_type": "markdown",
   "metadata": {},
   "source": [
    "### CV"
   ]
  },
  {
   "cell_type": "code",
   "execution_count": 22,
   "metadata": {
    "collapsed": false
   },
   "outputs": [],
   "source": [
    "from sklearn.cross_validation import train_test_split\n",
    "from sklearn.linear_model import LinearRegression\n",
    "from sklearn.ensemble import GradientBoostingRegressor, RandomForestRegressor, ExtraTreesRegressor\n",
    "from sklearn.grid_search import GridSearchCV"
   ]
  },
  {
   "cell_type": "code",
   "execution_count": 23,
   "metadata": {
    "collapsed": true
   },
   "outputs": [],
   "source": [
    "X_1, X_2, y_1, y_2 = train_test_split(train[c], np.log(-train['amount'] + shift), test_size=0.4) "
   ]
  },
  {
   "cell_type": "markdown",
   "metadata": {},
   "source": [
    "#### Линейная регрессия"
   ]
  },
  {
   "cell_type": "code",
   "execution_count": 33,
   "metadata": {
    "collapsed": false
   },
   "outputs": [
    {
     "name": "stdout",
     "output_type": "stream",
     "text": [
      "LinearResgression score: 1.592032.02\n"
     ]
    }
   ],
   "source": [
    "lin = LinearRegression()\n",
    "lin.fit(X_1, y_1)\n",
    "pred = np.e ** lin.predict(X_2) - shift\n",
    "score = rmsle500(np.e ** y_2 - shift, pred)\n",
    "print('LinearResgression score: %f.02' % score)"
   ]
  },
  {
   "cell_type": "markdown",
   "metadata": {},
   "source": [
    "#### Ансамбли"
   ]
  },
  {
   "cell_type": "markdown",
   "metadata": {},
   "source": [
    "ExtraTreesRegressor"
   ]
  },
  {
   "cell_type": "code",
   "execution_count": 23,
   "metadata": {
    "collapsed": true
   },
   "outputs": [],
   "source": [
    "etr = ExtraTreesRegressor(n_estimators=200, max_features='sqrt')"
   ]
  },
  {
   "cell_type": "code",
   "execution_count": 31,
   "metadata": {
    "collapsed": false
   },
   "outputs": [],
   "source": [
    "etr.fit(X_1, y_1)\n",
    "pred = np.e ** etr.predict(X_2) - shift"
   ]
  },
  {
   "cell_type": "code",
   "execution_count": 32,
   "metadata": {
    "collapsed": false
   },
   "outputs": [
    {
     "data": {
      "text/plain": [
       "1.6149468722487319"
      ]
     },
     "execution_count": 32,
     "metadata": {},
     "output_type": "execute_result"
    }
   ],
   "source": [
    "rmsle500(np.e ** y_2 - shift, pred)"
   ]
  },
  {
   "cell_type": "markdown",
   "metadata": {},
   "source": [
    "RandomForestRegressor"
   ]
  },
  {
   "cell_type": "code",
   "execution_count": 24,
   "metadata": {
    "collapsed": true
   },
   "outputs": [],
   "source": [
    "forest = RandomForestRegressor(n_estimators=200, max_features='sqrt')"
   ]
  },
  {
   "cell_type": "code",
   "execution_count": null,
   "metadata": {
    "collapsed": true
   },
   "outputs": [],
   "source": [
    "forest.fit(X_1, y_1)\n",
    "pred = np.e ** forest.predict(X_2) - shift"
   ]
  },
  {
   "cell_type": "markdown",
   "metadata": {},
   "source": [
    "GradientBoostingRegressor"
   ]
  },
  {
   "cell_type": "code",
   "execution_count": 47,
   "metadata": {
    "collapsed": true
   },
   "outputs": [],
   "source": [
    "gbr = GradientBoostingRegressor(n_estimators=200, max_features='sqrt')"
   ]
  },
  {
   "cell_type": "code",
   "execution_count": 50,
   "metadata": {
    "collapsed": true
   },
   "outputs": [],
   "source": [
    "gbr.fit(X_1, y_1)\n",
    "pred = np.e ** gbr.predict(X_2) - shift"
   ]
  },
  {
   "cell_type": "code",
   "execution_count": 51,
   "metadata": {
    "collapsed": false
   },
   "outputs": [
    {
     "data": {
      "text/plain": [
       "1.7777163821485511"
      ]
     },
     "execution_count": 51,
     "metadata": {},
     "output_type": "execute_result"
    }
   ],
   "source": [
    "rmsle500(np.e ** y_2 - shift, pred)"
   ]
  },
  {
   "cell_type": "code",
   "execution_count": 125,
   "metadata": {
    "collapsed": false
   },
   "outputs": [
    {
     "data": {
      "text/plain": [
       "\"parameters = {'n_neighbors':[10, 50], 'weights':['uniform', 'distance'], 'leaf_size':[20, 30, 50]}\\ngrid = GridSearchCV(model, parameters, verbose=1, scoring = scorer)\\ngrid.fit(train[c], np.log(-train['amount'] + shift))\""
      ]
     },
     "execution_count": 125,
     "metadata": {},
     "output_type": "execute_result"
    }
   ],
   "source": [
    "'''parameters = {'n_neighbors':[10, 50], 'weights':['uniform', 'distance'], 'leaf_size':[20, 30, 50]}\n",
    "grid = GridSearchCV(model, parameters, verbose=1, scoring = scorer)\n",
    "grid.fit(train[c], np.log(-train['amount'] + shift))'''"
   ]
  },
  {
   "cell_type": "markdown",
   "metadata": {},
   "source": [
    "### Итоговое предсказание"
   ]
  },
  {
   "cell_type": "code",
   "execution_count": 35,
   "metadata": {
    "collapsed": true
   },
   "outputs": [],
   "source": [
    "lin.fit(train[c], np.log(-train['amount'] + shift))\n",
    "pred_1 = np.e ** lin.predict(test[c]) - shift"
   ]
  },
  {
   "cell_type": "code",
   "execution_count": 25,
   "metadata": {
    "collapsed": true
   },
   "outputs": [],
   "source": [
    "etr.fit(train[c], np.log(-train['amount'] + shift))\n",
    "pred_2 = np.e ** etr.predict(test[c]) - shift"
   ]
  },
  {
   "cell_type": "code",
   "execution_count": 42,
   "metadata": {
    "collapsed": true
   },
   "outputs": [],
   "source": [
    "forest.fit(train[c], np.log(-train['amount'] + shift))\n",
    "pred_3 = np.e ** forest.predict(test[c]) - shift"
   ]
  },
  {
   "cell_type": "markdown",
   "metadata": {},
   "source": [
    "Усредним предсказания ETR и RF. "
   ]
  },
  {
   "cell_type": "code",
   "execution_count": 44,
   "metadata": {
    "collapsed": true
   },
   "outputs": [],
   "source": [
    "pred = (pred_3 + pred_2) / 2"
   ]
  },
  {
   "cell_type": "code",
   "execution_count": 26,
   "metadata": {
    "collapsed": true
   },
   "outputs": [],
   "source": [
    "test_transactions['volume'] = pred_2\n",
    "test_transactions[['mcc_code', 'day', 'volume']].to_csv('solution_b.csv', index=False)"
   ]
  },
  {
   "cell_type": "markdown",
   "metadata": {
    "collapsed": true
   },
   "source": [
    "Предсказания линейной регрессии не учитывали, потому что это ухудшало финальный результат."
   ]
  },
  {
   "cell_type": "markdown",
   "metadata": {},
   "source": [
    "Улучшить результат можно было увеличив диапозон в shift. Также нужно было попробовать подобрать более удачный набор параметров для моделей с помощью GridSearchCV. Но времени не осталось на то чтобы с этим поэкспериметировать."
   ]
  },
  {
   "cell_type": "code",
   "execution_count": null,
   "metadata": {
    "collapsed": true
   },
   "outputs": [],
   "source": []
  }
 ],
 "metadata": {
  "anaconda-cloud": {},
  "kernelspec": {
   "display_name": "Python [Root]",
   "language": "python",
   "name": "Python [Root]"
  },
  "language_info": {
   "codemirror_mode": {
    "name": "ipython",
    "version": 3
   },
   "file_extension": ".py",
   "mimetype": "text/x-python",
   "name": "python",
   "nbconvert_exporter": "python",
   "pygments_lexer": "ipython3",
   "version": "3.5.2"
  }
 },
 "nbformat": 4,
 "nbformat_minor": 0
}
